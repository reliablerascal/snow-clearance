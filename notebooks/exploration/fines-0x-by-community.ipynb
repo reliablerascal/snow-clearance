{
 "cells": [
  {
   "cell_type": "markdown",
   "id": "638444be",
   "metadata": {},
   "source": [
    "<h1>Snow Clearance Fines by Community, 2019-2023</h1>\n",
    "13 February 2024\n",
    "placeholder for some community-level analysis"
   ]
  },
  {
   "cell_type": "markdown",
   "id": "eb3c733c",
   "metadata": {},
   "source": [
    "<a name=\"community\"></a>\n",
    "# X. Summarize by Community"
   ]
  },
  {
   "cell_type": "markdown",
   "id": "c0e93ea9",
   "metadata": {},
   "source": [
    "### by community"
   ]
  },
  {
   "cell_type": "code",
   "execution_count": null,
   "id": "39691875",
   "metadata": {},
   "outputs": [],
   "source": [
    "df_community = df.groupby('community').agg(\n",
    "    sum_fine_amt=('Imposed Fine Detailed', 'sum'),\n",
    "    n_dockets=('Docket Number','nunique'),\n",
    "    n_records=('Docket Number','count')\n",
    ").reset_index()\n",
    "df_community.head()"
   ]
  },
  {
   "cell_type": "code",
   "execution_count": null,
   "id": "2f3e8c13",
   "metadata": {},
   "outputs": [],
   "source": [
    "df_community.dtypes"
   ]
  },
  {
   "cell_type": "markdown",
   "id": "f4941624",
   "metadata": {},
   "source": [
    "### read community population"
   ]
  },
  {
   "cell_type": "code",
   "execution_count": null,
   "id": "bc063688",
   "metadata": {},
   "outputs": [],
   "source": [
    "# retrieved on 1/11/24, but 2020 Census Population figures should be static\n",
    "df_population = pd.read_csv(\"../data/population_cmap_2022.csv\")"
   ]
  },
  {
   "cell_type": "code",
   "execution_count": null,
   "id": "6d626325",
   "metadata": {},
   "outputs": [],
   "source": [
    "# simplify dataframe to get only essentials\n",
    "df_population = df_population[['GEOID','GEOG','2020_POP']]\n",
    "df_population = df_population.rename(columns={'GEOG':'COMMUNITY_NAME'})\n",
    "df_population['COMMUNITY_CAPS']=df_population['COMMUNITY_NAME'].str.upper()\n",
    "df_population.head()"
   ]
  },
  {
   "cell_type": "code",
   "execution_count": null,
   "id": "f52e7fab",
   "metadata": {},
   "outputs": [],
   "source": [
    "df_population.dtypes"
   ]
  },
  {
   "cell_type": "markdown",
   "id": "67f770af",
   "metadata": {},
   "source": [
    "### merge in community population data"
   ]
  },
  {
   "cell_type": "code",
   "execution_count": null,
   "id": "2247d985",
   "metadata": {},
   "outputs": [],
   "source": [
    "df_community_summary = pd.merge(df_community,df_population,left_on='community',right_on='COMMUNITY_CAPS')\n",
    "df_community_summary.head()"
   ]
  },
  {
   "cell_type": "code",
   "execution_count": null,
   "id": "71359313",
   "metadata": {},
   "outputs": [],
   "source": [
    "# per 10,000 capita, per year over 4 years\n",
    "df_community_summary['dockets per 10k'] = \\\n",
    "(10000/4)*df_community_summary['n_dockets']/df_community_summary['2020_POP']"
   ]
  },
  {
   "cell_type": "code",
   "execution_count": null,
   "id": "c4d667bd",
   "metadata": {},
   "outputs": [],
   "source": [
    "df_community_summary"
   ]
  },
  {
   "cell_type": "code",
   "execution_count": null,
   "id": "36c6ba69",
   "metadata": {},
   "outputs": [],
   "source": [
    "df_community_summary.sort_values('dockets per 10k',ascending=False).head(10)"
   ]
  },
  {
   "cell_type": "code",
   "execution_count": null,
   "id": "4eb78241",
   "metadata": {},
   "outputs": [],
   "source": [
    "df_community_summary.to_csv(\"../results/admin-hearings-by-community.csv\")"
   ]
  },
  {
   "cell_type": "markdown",
   "id": "0a893c29",
   "metadata": {},
   "source": [
    "# Y. Police-Issued Fines"
   ]
  },
  {
   "cell_type": "code",
   "execution_count": null,
   "id": "1475bc4c",
   "metadata": {},
   "outputs": [],
   "source": [
    "df_police = df[df['Issuing Department Code']=='POLICE']\n",
    "df_police"
   ]
  },
  {
   "cell_type": "code",
   "execution_count": null,
   "id": "9bb015a9",
   "metadata": {},
   "outputs": [],
   "source": [
    "df_police.to_csv(\"../results/police-fines.csv\")"
   ]
  },
  {
   "cell_type": "code",
   "execution_count": null,
   "id": "0f47f6b4",
   "metadata": {},
   "outputs": [],
   "source": [
    "df_police_by_community = df_police.groupby('community').agg(\n",
    "    sum_fine_amt=('Imposed Fine Detailed', 'sum'),\n",
    "    n_dockets=('Docket Number','nunique'),\n",
    "    n_records=('Docket Number','count')\n",
    ").reset_index()\n",
    "df_police_by_community.sort_values(by=\"n_dockets\",ascending=False).reset_index()"
   ]
  },
  {
   "cell_type": "markdown",
   "id": "bd11395b",
   "metadata": {},
   "source": [
    "# Z. Englewood Deep Dive (then Garfield Ridge, then West Englewood)"
   ]
  },
  {
   "cell_type": "code",
   "execution_count": null,
   "id": "d68d1ce1",
   "metadata": {},
   "outputs": [],
   "source": [
    "df_englewood = df_by_address[df_by_address['community']=='ENGLEWOOD']\n",
    "df_englewood[df_englewood['n_dockets']>=2].sort_values(\"n_dockets\",ascending=False)"
   ]
  },
  {
   "cell_type": "code",
   "execution_count": null,
   "id": "34ad67d9",
   "metadata": {},
   "outputs": [],
   "source": []
  }
 ],
 "metadata": {
  "kernelspec": {
   "display_name": "Python 3 (ipykernel)",
   "language": "python",
   "name": "python3"
  },
  "language_info": {
   "codemirror_mode": {
    "name": "ipython",
    "version": 3
   },
   "file_extension": ".py",
   "mimetype": "text/x-python",
   "name": "python",
   "nbconvert_exporter": "python",
   "pygments_lexer": "ipython3",
   "version": "3.10.12"
  }
 },
 "nbformat": 4,
 "nbformat_minor": 5
}
