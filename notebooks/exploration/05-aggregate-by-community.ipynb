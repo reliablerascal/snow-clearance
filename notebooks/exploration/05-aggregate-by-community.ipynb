{
 "cells": [
  {
   "cell_type": "markdown",
   "id": "638444be",
   "metadata": {},
   "source": [
    "<h1>Aggregate Dockets</h1>\n",
    "15 February - 2 March 2024"
   ]
  },
  {
   "cell_type": "markdown",
   "id": "488cdc75",
   "metadata": {},
   "source": [
    "<a name=\"read\"></a>\n",
    "# 1. Read and Prepare Geocoded Fines Data"
   ]
  },
  {
   "cell_type": "code",
   "execution_count": 1,
   "id": "109b46e0",
   "metadata": {},
   "outputs": [],
   "source": [
    "import pandas as pd\n",
    "\n",
    "# need this for get_department function, which identifies multiple departments targeting a single address\n",
    "import numpy as np"
   ]
  },
  {
   "cell_type": "code",
   "execution_count": 2,
   "id": "9c1c3a47",
   "metadata": {},
   "outputs": [],
   "source": [
    "df = pd.read_csv(\"../../data/04-standardized/dockets-to-details-gis.csv\")"
   ]
  },
  {
   "cell_type": "code",
   "execution_count": 3,
   "id": "e44124bf",
   "metadata": {},
   "outputs": [
    {
     "data": {
      "text/html": [
       "<div>\n",
       "<style scoped>\n",
       "    .dataframe tbody tr th:only-of-type {\n",
       "        vertical-align: middle;\n",
       "    }\n",
       "\n",
       "    .dataframe tbody tr th {\n",
       "        vertical-align: top;\n",
       "    }\n",
       "\n",
       "    .dataframe thead th {\n",
       "        text-align: right;\n",
       "    }\n",
       "</style>\n",
       "<table border=\"1\" class=\"dataframe\">\n",
       "  <thead>\n",
       "    <tr style=\"text-align: right;\">\n",
       "      <th></th>\n",
       "      <th>respondent</th>\n",
       "      <th>docket</th>\n",
       "      <th>violation_num</th>\n",
       "      <th>violation_date</th>\n",
       "      <th>hearing_date</th>\n",
       "      <th>violation_address</th>\n",
       "      <th>violation_desc</th>\n",
       "      <th>case_disposition</th>\n",
       "      <th>fine_amt</th>\n",
       "      <th>dept</th>\n",
       "      <th>cleaned_address</th>\n",
       "      <th>latlong</th>\n",
       "      <th>community</th>\n",
       "      <th>ward_1523</th>\n",
       "      <th>lat</th>\n",
       "      <th>long</th>\n",
       "    </tr>\n",
       "  </thead>\n",
       "  <tbody>\n",
       "    <tr>\n",
       "      <th>0</th>\n",
       "      <td>1010 W MADISON LLC</td>\n",
       "      <td>23DT000582</td>\n",
       "      <td>T000215159</td>\n",
       "      <td>2023-01-31</td>\n",
       "      <td>7/10/2023</td>\n",
       "      <td>1010 W MADISON</td>\n",
       "      <td>10-8-180    Snow and ice removal.</td>\n",
       "      <td>Non-Suit</td>\n",
       "      <td>0.0</td>\n",
       "      <td>TRANPORT</td>\n",
       "      <td>1010 W MADISON</td>\n",
       "      <td>41.88196975,-87.6524227995416</td>\n",
       "      <td>NEAR WEST SIDE</td>\n",
       "      <td>25.0</td>\n",
       "      <td>41.881970</td>\n",
       "      <td>-87.652423</td>\n",
       "    </tr>\n",
       "    <tr>\n",
       "      <th>1</th>\n",
       "      <td>1100 E 47TH STREET LLC, C/O PETER CASSEL</td>\n",
       "      <td>22DT001042</td>\n",
       "      <td>T000207342</td>\n",
       "      <td>2022-01-04</td>\n",
       "      <td>5/23/2022</td>\n",
       "      <td>1100 E 47TH ST</td>\n",
       "      <td>10-8-180    Snow and ice removal.</td>\n",
       "      <td>Non-Suit</td>\n",
       "      <td>0.0</td>\n",
       "      <td>TRANPORT</td>\n",
       "      <td>1100 E 47TH ST</td>\n",
       "      <td>41.809698,-87.599101</td>\n",
       "      <td>KENWOOD</td>\n",
       "      <td>4.0</td>\n",
       "      <td>41.809698</td>\n",
       "      <td>-87.599101</td>\n",
       "    </tr>\n",
       "    <tr>\n",
       "      <th>2</th>\n",
       "      <td>1101 BERWYN LLC, C/O JOHN BARRETT</td>\n",
       "      <td>23DT000559</td>\n",
       "      <td>T000220112</td>\n",
       "      <td>2023-02-02</td>\n",
       "      <td>3/20/2023</td>\n",
       "      <td>1101 W BERWYN</td>\n",
       "      <td>10-8-180    Snow and ice removal.</td>\n",
       "      <td>Non-Suit</td>\n",
       "      <td>0.0</td>\n",
       "      <td>TRANPORT</td>\n",
       "      <td>1101 W BERWYN</td>\n",
       "      <td>41.978248,-87.65863472496416</td>\n",
       "      <td>EDGEWATER</td>\n",
       "      <td>48.0</td>\n",
       "      <td>41.978248</td>\n",
       "      <td>-87.658635</td>\n",
       "    </tr>\n",
       "    <tr>\n",
       "      <th>3</th>\n",
       "      <td>1157 W ERIE</td>\n",
       "      <td>22DT001387</td>\n",
       "      <td>T000207431</td>\n",
       "      <td>2022-02-08</td>\n",
       "      <td>4/11/2022</td>\n",
       "      <td>100  UNKNOWN</td>\n",
       "      <td>10-8-180    Snow and ice removal.</td>\n",
       "      <td>Not Liable</td>\n",
       "      <td>0.0</td>\n",
       "      <td>TRANPORT</td>\n",
       "      <td>NaN</td>\n",
       "      <td>NaN</td>\n",
       "      <td>NaN</td>\n",
       "      <td>NaN</td>\n",
       "      <td>NaN</td>\n",
       "      <td>NaN</td>\n",
       "    </tr>\n",
       "    <tr>\n",
       "      <th>4</th>\n",
       "      <td>1200B INC C/O THOMAS GEORGE</td>\n",
       "      <td>21DS20339M</td>\n",
       "      <td>QTUF62L</td>\n",
       "      <td>2021-02-05</td>\n",
       "      <td>7/14/2021</td>\n",
       "      <td>1200 W BELMONT AVE</td>\n",
       "      <td>10-8-180    Snow and ice removal.</td>\n",
       "      <td>Not Liable</td>\n",
       "      <td>0.0</td>\n",
       "      <td>STRTSAN</td>\n",
       "      <td>1200 W BELMONT AVE</td>\n",
       "      <td>41.9401529,-87.659326</td>\n",
       "      <td>LAKE VIEW</td>\n",
       "      <td>44.0</td>\n",
       "      <td>41.940153</td>\n",
       "      <td>-87.659326</td>\n",
       "    </tr>\n",
       "  </tbody>\n",
       "</table>\n",
       "</div>"
      ],
      "text/plain": [
       "                                  respondent      docket violation_num  \\\n",
       "0                        1010 W MADISON LLC   23DT000582    T000215159   \n",
       "1  1100 E 47TH STREET LLC, C/O PETER CASSEL   22DT001042    T000207342   \n",
       "2         1101 BERWYN LLC, C/O JOHN BARRETT   23DT000559    T000220112   \n",
       "3                               1157 W ERIE   22DT001387    T000207431   \n",
       "4               1200B INC C/O THOMAS GEORGE   21DS20339M       QTUF62L   \n",
       "\n",
       "  violation_date hearing_date   violation_address  \\\n",
       "0     2023-01-31    7/10/2023     1010 W MADISON    \n",
       "1     2022-01-04    5/23/2022      1100 E 47TH ST   \n",
       "2     2023-02-02    3/20/2023      1101 W BERWYN    \n",
       "3     2022-02-08    4/11/2022       100  UNKNOWN    \n",
       "4     2021-02-05    7/14/2021  1200 W BELMONT AVE   \n",
       "\n",
       "                      violation_desc case_disposition  fine_amt      dept  \\\n",
       "0  10-8-180    Snow and ice removal.         Non-Suit       0.0  TRANPORT   \n",
       "1  10-8-180    Snow and ice removal.         Non-Suit       0.0  TRANPORT   \n",
       "2  10-8-180    Snow and ice removal.         Non-Suit       0.0  TRANPORT   \n",
       "3  10-8-180    Snow and ice removal.       Not Liable       0.0  TRANPORT   \n",
       "4  10-8-180    Snow and ice removal.       Not Liable       0.0   STRTSAN   \n",
       "\n",
       "      cleaned_address                        latlong       community  \\\n",
       "0      1010 W MADISON  41.88196975,-87.6524227995416  NEAR WEST SIDE   \n",
       "1      1100 E 47TH ST           41.809698,-87.599101         KENWOOD   \n",
       "2       1101 W BERWYN   41.978248,-87.65863472496416       EDGEWATER   \n",
       "3                 NaN                            NaN             NaN   \n",
       "4  1200 W BELMONT AVE          41.9401529,-87.659326       LAKE VIEW   \n",
       "\n",
       "   ward_1523        lat       long  \n",
       "0       25.0  41.881970 -87.652423  \n",
       "1        4.0  41.809698 -87.599101  \n",
       "2       48.0  41.978248 -87.658635  \n",
       "3        NaN        NaN        NaN  \n",
       "4       44.0  41.940153 -87.659326  "
      ]
     },
     "execution_count": 3,
     "metadata": {},
     "output_type": "execute_result"
    }
   ],
   "source": [
    "df.head()"
   ]
  },
  {
   "cell_type": "markdown",
   "id": "3fa090ba",
   "metadata": {},
   "source": [
    "# Aggregate by Docket"
   ]
  },
  {
   "cell_type": "code",
   "execution_count": 4,
   "id": "c2e66993",
   "metadata": {},
   "outputs": [],
   "source": [
    "# by docket\n",
    "df_dockets=df.groupby(['docket','dept','violation_address','lat','long','community','ward_1523','violation_date']).agg(\n",
    "    n_records=('docket','count'),\n",
    ").reset_index()"
   ]
  },
  {
   "cell_type": "code",
   "execution_count": 5,
   "id": "ef218a4b",
   "metadata": {},
   "outputs": [
    {
     "data": {
      "text/html": [
       "<div>\n",
       "<style scoped>\n",
       "    .dataframe tbody tr th:only-of-type {\n",
       "        vertical-align: middle;\n",
       "    }\n",
       "\n",
       "    .dataframe tbody tr th {\n",
       "        vertical-align: top;\n",
       "    }\n",
       "\n",
       "    .dataframe thead th {\n",
       "        text-align: right;\n",
       "    }\n",
       "</style>\n",
       "<table border=\"1\" class=\"dataframe\">\n",
       "  <thead>\n",
       "    <tr style=\"text-align: right;\">\n",
       "      <th></th>\n",
       "      <th>docket</th>\n",
       "      <th>dept</th>\n",
       "      <th>violation_address</th>\n",
       "      <th>lat</th>\n",
       "      <th>long</th>\n",
       "      <th>community</th>\n",
       "      <th>ward_1523</th>\n",
       "      <th>violation_date</th>\n",
       "      <th>n_records</th>\n",
       "    </tr>\n",
       "  </thead>\n",
       "  <tbody>\n",
       "    <tr>\n",
       "      <th>0</th>\n",
       "      <td>19DS68300L</td>\n",
       "      <td>STRTSAN</td>\n",
       "      <td>4710 S WESTERN AVE</td>\n",
       "      <td>41.807859</td>\n",
       "      <td>-87.684797</td>\n",
       "      <td>BRIGHTON PARK</td>\n",
       "      <td>15.0</td>\n",
       "      <td>2019-11-13</td>\n",
       "      <td>2</td>\n",
       "    </tr>\n",
       "    <tr>\n",
       "      <th>1</th>\n",
       "      <td>19DS69216L</td>\n",
       "      <td>STRTSAN</td>\n",
       "      <td>1425 W MORSE AVE</td>\n",
       "      <td>42.007451</td>\n",
       "      <td>-87.666828</td>\n",
       "      <td>ROGERS PARK</td>\n",
       "      <td>49.0</td>\n",
       "      <td>2019-11-13</td>\n",
       "      <td>1</td>\n",
       "    </tr>\n",
       "    <tr>\n",
       "      <th>2</th>\n",
       "      <td>19DS70010L</td>\n",
       "      <td>STRTSAN</td>\n",
       "      <td>715 E 47TH ST</td>\n",
       "      <td>41.809338</td>\n",
       "      <td>-87.608013</td>\n",
       "      <td>GRAND BOULEVARD</td>\n",
       "      <td>4.0</td>\n",
       "      <td>2019-11-13</td>\n",
       "      <td>1</td>\n",
       "    </tr>\n",
       "    <tr>\n",
       "      <th>3</th>\n",
       "      <td>19DS72153L</td>\n",
       "      <td>STRTSAN</td>\n",
       "      <td>300 W WASHINGTON ST</td>\n",
       "      <td>41.881869</td>\n",
       "      <td>-87.740143</td>\n",
       "      <td>WEST GARFIELD PARK</td>\n",
       "      <td>28.0</td>\n",
       "      <td>2019-11-12</td>\n",
       "      <td>5</td>\n",
       "    </tr>\n",
       "    <tr>\n",
       "      <th>4</th>\n",
       "      <td>19DS72160L</td>\n",
       "      <td>STRTSAN</td>\n",
       "      <td>6929 N SHERIDAN RD</td>\n",
       "      <td>41.959813</td>\n",
       "      <td>-87.654693</td>\n",
       "      <td>UPTOWN</td>\n",
       "      <td>46.0</td>\n",
       "      <td>2019-11-14</td>\n",
       "      <td>1</td>\n",
       "    </tr>\n",
       "  </tbody>\n",
       "</table>\n",
       "</div>"
      ],
      "text/plain": [
       "       docket     dept    violation_address        lat       long  \\\n",
       "0  19DS68300L  STRTSAN   4710 S WESTERN AVE  41.807859 -87.684797   \n",
       "1  19DS69216L  STRTSAN     1425 W MORSE AVE  42.007451 -87.666828   \n",
       "2  19DS70010L  STRTSAN        715 E 47TH ST  41.809338 -87.608013   \n",
       "3  19DS72153L  STRTSAN  300 W WASHINGTON ST  41.881869 -87.740143   \n",
       "4  19DS72160L  STRTSAN   6929 N SHERIDAN RD  41.959813 -87.654693   \n",
       "\n",
       "            community  ward_1523 violation_date  n_records  \n",
       "0       BRIGHTON PARK       15.0     2019-11-13          2  \n",
       "1         ROGERS PARK       49.0     2019-11-13          1  \n",
       "2     GRAND BOULEVARD        4.0     2019-11-13          1  \n",
       "3  WEST GARFIELD PARK       28.0     2019-11-12          5  \n",
       "4              UPTOWN       46.0     2019-11-14          1  "
      ]
     },
     "execution_count": 5,
     "metadata": {},
     "output_type": "execute_result"
    }
   ],
   "source": [
    "df_dockets.head()"
   ]
  },
  {
   "cell_type": "code",
   "execution_count": 6,
   "id": "14b95bb3",
   "metadata": {},
   "outputs": [
    {
     "data": {
      "text/plain": [
       "1912"
      ]
     },
     "execution_count": 6,
     "metadata": {},
     "output_type": "execute_result"
    }
   ],
   "source": [
    "len(df_dockets)"
   ]
  },
  {
   "cell_type": "markdown",
   "id": "6f95ec90",
   "metadata": {},
   "source": [
    "# Aggregate by Address"
   ]
  },
  {
   "cell_type": "code",
   "execution_count": 7,
   "id": "899c9437",
   "metadata": {},
   "outputs": [],
   "source": [
    "# create pivot table\n",
    "df_addresses = df_dockets.pivot_table(index=['violation_address', 'lat','long','community'],\n",
    "                             columns='dept',\n",
    "                             values='docket',\n",
    "                             aggfunc=['count'],\n",
    "                             fill_value=0)\n",
    "\n",
    "# Rename columns for clarity\n",
    "df_addresses.columns = ['_'.join(col).strip() for col in df_addresses.columns.values]\n",
    "df_addresses.rename(columns=lambda x: x.replace('count_','n_'), inplace=True)\n",
    "#df_addresses_dates = df_dockets.groupby('violation_address')['violation_date'].agg(['min', 'max']).reset_index()\n",
    "\n",
    "# Add total columns for each row\n",
    "df_addresses['n_dockets'] = df_addresses.filter(like='n_').sum(axis=1)\n",
    "#df_addresses['total_fines'] = df_addresses.filter(like='sum_').sum(axis=1)\n",
    "\n",
    "df_addresses.reset_index(inplace=True)"
   ]
  },
  {
   "cell_type": "code",
   "execution_count": 8,
   "id": "5751361d",
   "metadata": {},
   "outputs": [],
   "source": [
    "def get_department(BAFCONP, POLICE, STRTSAN, TRANPORT):\n",
    "    conditions = [\n",
    "        (TRANPORT >= 1) & (STRTSAN >= 1),\n",
    "        (TRANPORT >= 1),\n",
    "        (STRTSAN >= 1),\n",
    "        (POLICE >= 1),\n",
    "        (BAFCONP >= 1)\n",
    "    ]\n",
    "    choices = ['cdot_and_streets', 'cdot', 'streets', 'police', 'bafconp']\n",
    "    return np.select(conditions, choices, default='unknown')"
   ]
  },
  {
   "cell_type": "code",
   "execution_count": 9,
   "id": "38124df9",
   "metadata": {},
   "outputs": [],
   "source": [
    "df_addresses['depts']= get_department(df_addresses['n_BAFCONP'],\n",
    "                                      df_addresses['n_POLICE'],\n",
    "                                      df_addresses['n_STRTSAN'],\n",
    "                                      df_addresses['n_TRANPORT'])"
   ]
  },
  {
   "cell_type": "code",
   "execution_count": 10,
   "id": "999f48e2",
   "metadata": {},
   "outputs": [
    {
     "data": {
      "text/html": [
       "<div>\n",
       "<style scoped>\n",
       "    .dataframe tbody tr th:only-of-type {\n",
       "        vertical-align: middle;\n",
       "    }\n",
       "\n",
       "    .dataframe tbody tr th {\n",
       "        vertical-align: top;\n",
       "    }\n",
       "\n",
       "    .dataframe thead th {\n",
       "        text-align: right;\n",
       "    }\n",
       "</style>\n",
       "<table border=\"1\" class=\"dataframe\">\n",
       "  <thead>\n",
       "    <tr style=\"text-align: right;\">\n",
       "      <th></th>\n",
       "      <th>violation_address</th>\n",
       "      <th>lat</th>\n",
       "      <th>long</th>\n",
       "      <th>community</th>\n",
       "      <th>n_BAFCONP</th>\n",
       "      <th>n_POLICE</th>\n",
       "      <th>n_STRTSAN</th>\n",
       "      <th>n_TRANPORT</th>\n",
       "      <th>n_dockets</th>\n",
       "      <th>depts</th>\n",
       "    </tr>\n",
       "  </thead>\n",
       "  <tbody>\n",
       "    <tr>\n",
       "      <th>0</th>\n",
       "      <td>10 N KILBOURN AVE</td>\n",
       "      <td>41.880962</td>\n",
       "      <td>-87.738356</td>\n",
       "      <td>WEST GARFIELD PARK</td>\n",
       "      <td>0</td>\n",
       "      <td>0</td>\n",
       "      <td>1</td>\n",
       "      <td>0</td>\n",
       "      <td>1</td>\n",
       "      <td>streets</td>\n",
       "    </tr>\n",
       "    <tr>\n",
       "      <th>1</th>\n",
       "      <td>100 E CHESTNUT ST</td>\n",
       "      <td>41.898588</td>\n",
       "      <td>-87.625892</td>\n",
       "      <td>NEAR NORTH SIDE</td>\n",
       "      <td>0</td>\n",
       "      <td>0</td>\n",
       "      <td>0</td>\n",
       "      <td>1</td>\n",
       "      <td>1</td>\n",
       "      <td>cdot</td>\n",
       "    </tr>\n",
       "    <tr>\n",
       "      <th>2</th>\n",
       "      <td>100 N KEDZIE</td>\n",
       "      <td>41.946722</td>\n",
       "      <td>-87.707835</td>\n",
       "      <td>IRVING PARK</td>\n",
       "      <td>0</td>\n",
       "      <td>0</td>\n",
       "      <td>0</td>\n",
       "      <td>1</td>\n",
       "      <td>1</td>\n",
       "      <td>cdot</td>\n",
       "    </tr>\n",
       "    <tr>\n",
       "      <th>3</th>\n",
       "      <td>100 N KEDZIE AVE</td>\n",
       "      <td>41.883159</td>\n",
       "      <td>-87.706529</td>\n",
       "      <td>EAST GARFIELD PARK</td>\n",
       "      <td>0</td>\n",
       "      <td>0</td>\n",
       "      <td>3</td>\n",
       "      <td>0</td>\n",
       "      <td>3</td>\n",
       "      <td>streets</td>\n",
       "    </tr>\n",
       "    <tr>\n",
       "      <th>4</th>\n",
       "      <td>100 W GRAND</td>\n",
       "      <td>41.765581</td>\n",
       "      <td>-87.621695</td>\n",
       "      <td>GREATER GRAND CROSSING</td>\n",
       "      <td>0</td>\n",
       "      <td>0</td>\n",
       "      <td>0</td>\n",
       "      <td>1</td>\n",
       "      <td>1</td>\n",
       "      <td>cdot</td>\n",
       "    </tr>\n",
       "  </tbody>\n",
       "</table>\n",
       "</div>"
      ],
      "text/plain": [
       "   violation_address        lat       long               community  n_BAFCONP  \\\n",
       "0  10 N KILBOURN AVE  41.880962 -87.738356      WEST GARFIELD PARK          0   \n",
       "1  100 E CHESTNUT ST  41.898588 -87.625892         NEAR NORTH SIDE          0   \n",
       "2      100 N KEDZIE   41.946722 -87.707835             IRVING PARK          0   \n",
       "3   100 N KEDZIE AVE  41.883159 -87.706529      EAST GARFIELD PARK          0   \n",
       "4       100 W GRAND   41.765581 -87.621695  GREATER GRAND CROSSING          0   \n",
       "\n",
       "   n_POLICE  n_STRTSAN  n_TRANPORT  n_dockets    depts  \n",
       "0         0          1           0          1  streets  \n",
       "1         0          0           1          1     cdot  \n",
       "2         0          0           1          1     cdot  \n",
       "3         0          3           0          3  streets  \n",
       "4         0          0           1          1     cdot  "
      ]
     },
     "execution_count": 10,
     "metadata": {},
     "output_type": "execute_result"
    }
   ],
   "source": [
    "df_addresses.head()"
   ]
  },
  {
   "cell_type": "code",
   "execution_count": 11,
   "id": "0d012c65",
   "metadata": {},
   "outputs": [
    {
     "data": {
      "text/plain": [
       "1737"
      ]
     },
     "execution_count": 11,
     "metadata": {},
     "output_type": "execute_result"
    }
   ],
   "source": [
    "len(df_addresses)"
   ]
  },
  {
   "cell_type": "markdown",
   "id": "6b477dc1",
   "metadata": {},
   "source": [
    "<a name=\"community\"></a>\n",
    "# Aggregate by Community\n",
    "Note that 7 communities have no dockets"
   ]
  },
  {
   "cell_type": "code",
   "execution_count": 12,
   "id": "c4496c81",
   "metadata": {},
   "outputs": [
    {
     "data": {
      "text/html": [
       "<div>\n",
       "<style scoped>\n",
       "    .dataframe tbody tr th:only-of-type {\n",
       "        vertical-align: middle;\n",
       "    }\n",
       "\n",
       "    .dataframe tbody tr th {\n",
       "        vertical-align: top;\n",
       "    }\n",
       "\n",
       "    .dataframe thead th {\n",
       "        text-align: right;\n",
       "    }\n",
       "</style>\n",
       "<table border=\"1\" class=\"dataframe\">\n",
       "  <thead>\n",
       "    <tr style=\"text-align: right;\">\n",
       "      <th></th>\n",
       "      <th>community</th>\n",
       "      <th>n_BAFCONP</th>\n",
       "      <th>n_POLICE</th>\n",
       "      <th>n_STRTSAN</th>\n",
       "      <th>n_TRANPORT</th>\n",
       "      <th>n_dockets</th>\n",
       "    </tr>\n",
       "  </thead>\n",
       "  <tbody>\n",
       "    <tr>\n",
       "      <th>0</th>\n",
       "      <td>ALBANY PARK</td>\n",
       "      <td>0</td>\n",
       "      <td>0</td>\n",
       "      <td>0</td>\n",
       "      <td>15</td>\n",
       "      <td>15</td>\n",
       "    </tr>\n",
       "    <tr>\n",
       "      <th>1</th>\n",
       "      <td>ARCHER HEIGHTS</td>\n",
       "      <td>0</td>\n",
       "      <td>0</td>\n",
       "      <td>0</td>\n",
       "      <td>14</td>\n",
       "      <td>14</td>\n",
       "    </tr>\n",
       "    <tr>\n",
       "      <th>2</th>\n",
       "      <td>ARMOUR SQUARE</td>\n",
       "      <td>0</td>\n",
       "      <td>0</td>\n",
       "      <td>0</td>\n",
       "      <td>26</td>\n",
       "      <td>26</td>\n",
       "    </tr>\n",
       "    <tr>\n",
       "      <th>3</th>\n",
       "      <td>ASHBURN</td>\n",
       "      <td>0</td>\n",
       "      <td>0</td>\n",
       "      <td>0</td>\n",
       "      <td>2</td>\n",
       "      <td>2</td>\n",
       "    </tr>\n",
       "    <tr>\n",
       "      <th>4</th>\n",
       "      <td>AUBURN GRESHAM</td>\n",
       "      <td>0</td>\n",
       "      <td>0</td>\n",
       "      <td>3</td>\n",
       "      <td>16</td>\n",
       "      <td>19</td>\n",
       "    </tr>\n",
       "  </tbody>\n",
       "</table>\n",
       "</div>"
      ],
      "text/plain": [
       "        community  n_BAFCONP  n_POLICE  n_STRTSAN  n_TRANPORT  n_dockets\n",
       "0     ALBANY PARK          0         0          0          15         15\n",
       "1  ARCHER HEIGHTS          0         0          0          14         14\n",
       "2   ARMOUR SQUARE          0         0          0          26         26\n",
       "3         ASHBURN          0         0          0           2          2\n",
       "4  AUBURN GRESHAM          0         0          3          16         19"
      ]
     },
     "execution_count": 12,
     "metadata": {},
     "output_type": "execute_result"
    }
   ],
   "source": [
    "df_communities = df_dockets.pivot_table(index='community',\n",
    "                             columns='dept',\n",
    "                             values='docket',\n",
    "                             aggfunc=['count'],\n",
    "                             fill_value=0).reset_index()\n",
    "# Flatten the MultiIndex in columns\n",
    "df_communities.columns = ['_'.join(col).strip() for col in df_communities.columns.values]\n",
    "\n",
    "df_communities = df_communities.rename(columns={'community_':'community'})\n",
    "df_communities.rename(columns=lambda x: x.replace('count_','n_'), inplace=True)\n",
    "\n",
    "# Reset the index to flatten it\n",
    "df_communities.reset_index(drop=True, inplace=True)\n",
    "\n",
    "df_communities['n_dockets'] = df_communities.filter(like='n_').sum(axis=1)\n",
    "\n",
    "df_communities.head()"
   ]
  },
  {
   "cell_type": "code",
   "execution_count": 13,
   "id": "aaf32f82",
   "metadata": {},
   "outputs": [
    {
     "data": {
      "text/html": [
       "<div>\n",
       "<style scoped>\n",
       "    .dataframe tbody tr th:only-of-type {\n",
       "        vertical-align: middle;\n",
       "    }\n",
       "\n",
       "    .dataframe tbody tr th {\n",
       "        vertical-align: top;\n",
       "    }\n",
       "\n",
       "    .dataframe thead th {\n",
       "        text-align: right;\n",
       "    }\n",
       "</style>\n",
       "<table border=\"1\" class=\"dataframe\">\n",
       "  <thead>\n",
       "    <tr style=\"text-align: right;\">\n",
       "      <th></th>\n",
       "      <th>community</th>\n",
       "      <th>n_BAFCONP</th>\n",
       "      <th>n_POLICE</th>\n",
       "      <th>n_STRTSAN</th>\n",
       "      <th>n_TRANPORT</th>\n",
       "      <th>n_dockets</th>\n",
       "    </tr>\n",
       "  </thead>\n",
       "  <tbody>\n",
       "    <tr>\n",
       "      <th>38</th>\n",
       "      <td>LOOP</td>\n",
       "      <td>0</td>\n",
       "      <td>0</td>\n",
       "      <td>2</td>\n",
       "      <td>29</td>\n",
       "      <td>31</td>\n",
       "    </tr>\n",
       "  </tbody>\n",
       "</table>\n",
       "</div>"
      ],
      "text/plain": [
       "   community  n_BAFCONP  n_POLICE  n_STRTSAN  n_TRANPORT  n_dockets\n",
       "38      LOOP          0         0          2          29         31"
      ]
     },
     "execution_count": 13,
     "metadata": {},
     "output_type": "execute_result"
    }
   ],
   "source": [
    "df_communities[df_communities['community']=='LOOP']"
   ]
  },
  {
   "cell_type": "markdown",
   "id": "31cdea2d",
   "metadata": {},
   "source": [
    "# Aggregate by Ward"
   ]
  },
  {
   "cell_type": "code",
   "execution_count": 14,
   "id": "cc7ee33f",
   "metadata": {},
   "outputs": [
    {
     "data": {
      "text/html": [
       "<div>\n",
       "<style scoped>\n",
       "    .dataframe tbody tr th:only-of-type {\n",
       "        vertical-align: middle;\n",
       "    }\n",
       "\n",
       "    .dataframe tbody tr th {\n",
       "        vertical-align: top;\n",
       "    }\n",
       "\n",
       "    .dataframe thead th {\n",
       "        text-align: right;\n",
       "    }\n",
       "</style>\n",
       "<table border=\"1\" class=\"dataframe\">\n",
       "  <thead>\n",
       "    <tr style=\"text-align: right;\">\n",
       "      <th></th>\n",
       "      <th>ward</th>\n",
       "      <th>n_BAFCONP</th>\n",
       "      <th>n_POLICE</th>\n",
       "      <th>n_STRTSAN</th>\n",
       "      <th>n_TRANPORT</th>\n",
       "      <th>n_dockets</th>\n",
       "    </tr>\n",
       "  </thead>\n",
       "  <tbody>\n",
       "    <tr>\n",
       "      <th>0</th>\n",
       "      <td>1</td>\n",
       "      <td>0</td>\n",
       "      <td>0</td>\n",
       "      <td>1</td>\n",
       "      <td>61</td>\n",
       "      <td>62</td>\n",
       "    </tr>\n",
       "    <tr>\n",
       "      <th>1</th>\n",
       "      <td>2</td>\n",
       "      <td>0</td>\n",
       "      <td>0</td>\n",
       "      <td>0</td>\n",
       "      <td>64</td>\n",
       "      <td>64</td>\n",
       "    </tr>\n",
       "    <tr>\n",
       "      <th>2</th>\n",
       "      <td>3</td>\n",
       "      <td>0</td>\n",
       "      <td>0</td>\n",
       "      <td>0</td>\n",
       "      <td>91</td>\n",
       "      <td>91</td>\n",
       "    </tr>\n",
       "    <tr>\n",
       "      <th>3</th>\n",
       "      <td>4</td>\n",
       "      <td>0</td>\n",
       "      <td>0</td>\n",
       "      <td>21</td>\n",
       "      <td>75</td>\n",
       "      <td>96</td>\n",
       "    </tr>\n",
       "    <tr>\n",
       "      <th>4</th>\n",
       "      <td>5</td>\n",
       "      <td>0</td>\n",
       "      <td>0</td>\n",
       "      <td>1</td>\n",
       "      <td>7</td>\n",
       "      <td>8</td>\n",
       "    </tr>\n",
       "  </tbody>\n",
       "</table>\n",
       "</div>"
      ],
      "text/plain": [
       "   ward  n_BAFCONP  n_POLICE  n_STRTSAN  n_TRANPORT  n_dockets\n",
       "0     1          0         0          1          61         62\n",
       "1     2          0         0          0          64         64\n",
       "2     3          0         0          0          91         91\n",
       "3     4          0         0         21          75         96\n",
       "4     5          0         0          1           7          8"
      ]
     },
     "execution_count": 14,
     "metadata": {},
     "output_type": "execute_result"
    }
   ],
   "source": [
    "df_wards = df_dockets.pivot_table(index='ward_1523',\n",
    "                             columns='dept',\n",
    "                             values='docket',\n",
    "                             aggfunc=['count'],\n",
    "                             fill_value=0).reset_index()\n",
    "\n",
    "# Flatten the MultiIndex in columns\n",
    "df_wards.columns = ['_'.join(col).strip() for col in df_wards.columns.values]\n",
    "\n",
    "df_wards = df_wards.rename(columns={'ward_1523_':'ward'})\n",
    "df_wards.rename(columns=lambda x: x.replace('count_','n_'), inplace=True)\n",
    "\n",
    "# Reset the index to flatten it\n",
    "df_wards.reset_index(drop=True, inplace=True)\n",
    "\n",
    "df_wards['n_dockets'] = df_wards.filter(like='n_').sum(axis=1)\n",
    "\n",
    "df_wards = df_wards.astype(int)\n",
    "df_wards.head()"
   ]
  },
  {
   "cell_type": "markdown",
   "id": "b3f95bf1",
   "metadata": {},
   "source": [
    "# Validate all totals"
   ]
  },
  {
   "cell_type": "code",
   "execution_count": 15,
   "id": "089fca36",
   "metadata": {},
   "outputs": [
    {
     "data": {
      "text/plain": [
       "1912"
      ]
     },
     "execution_count": 15,
     "metadata": {},
     "output_type": "execute_result"
    }
   ],
   "source": [
    "len(df_dockets)"
   ]
  },
  {
   "cell_type": "code",
   "execution_count": 16,
   "id": "c219394e",
   "metadata": {},
   "outputs": [
    {
     "data": {
      "text/plain": [
       "1912"
      ]
     },
     "execution_count": 16,
     "metadata": {},
     "output_type": "execute_result"
    }
   ],
   "source": [
    "df_addresses['n_dockets'].sum()"
   ]
  },
  {
   "cell_type": "code",
   "execution_count": 17,
   "id": "f920fb57",
   "metadata": {},
   "outputs": [
    {
     "data": {
      "text/plain": [
       "1912"
      ]
     },
     "execution_count": 17,
     "metadata": {},
     "output_type": "execute_result"
    }
   ],
   "source": [
    "df_communities['n_dockets'].sum()"
   ]
  },
  {
   "cell_type": "code",
   "execution_count": 18,
   "id": "268d50fe",
   "metadata": {},
   "outputs": [
    {
     "data": {
      "text/plain": [
       "1912"
      ]
     },
     "execution_count": 18,
     "metadata": {},
     "output_type": "execute_result"
    }
   ],
   "source": [
    "df_wards['n_dockets'].sum()"
   ]
  },
  {
   "cell_type": "markdown",
   "id": "669a8f16",
   "metadata": {},
   "source": [
    "# Export"
   ]
  },
  {
   "cell_type": "code",
   "execution_count": 19,
   "id": "672d4178",
   "metadata": {},
   "outputs": [],
   "source": [
    "df_dockets.to_csv(\"../../data/05-aggregated/dockets-summary.csv\", index= False)\n",
    "df_addresses.to_csv(\"../../data/05-aggregated/dockets-by-address.csv\", index= False)\n",
    "df_communities.to_csv(\"../../data/05-aggregated/dockets-by-community.csv\", index= False)\n",
    "df_wards.to_csv(\"../../data/05-aggregated/dockets-by-ward.csv\", index= False)\n",
    "#df_respondents.to_csv(\"../../data/05-aggregate/dockets-by-respondent.csv\", index= False)"
   ]
  },
  {
   "cell_type": "code",
   "execution_count": null,
   "id": "34888c7f",
   "metadata": {},
   "outputs": [],
   "source": []
  }
 ],
 "metadata": {
  "kernelspec": {
   "display_name": "Python 3 (ipykernel)",
   "language": "python",
   "name": "python3"
  },
  "language_info": {
   "codemirror_mode": {
    "name": "ipython",
    "version": 3
   },
   "file_extension": ".py",
   "mimetype": "text/x-python",
   "name": "python",
   "nbconvert_exporter": "python",
   "pygments_lexer": "ipython3",
   "version": "3.10.12"
  }
 },
 "nbformat": 4,
 "nbformat_minor": 5
}
