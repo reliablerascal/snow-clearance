{
 "cells": [
  {
   "cell_type": "markdown",
   "id": "638444be",
   "metadata": {},
   "source": [
    "<h1>Snow-Related 311 Complaints in Chicago, 2019-2023</h1>\n",
    "11 January 2024\n",
    "\n",
    "This analysis looks at all four types of snow-related 311 complaints:\n",
    "<table>\n",
    "    <tr><td><strong>SR_SHORT_CODE</strong></td><td><strong>Complaint Description</strong></td><td><strong>Responsible Department</strong></td></tr>\n",
    "    <tr><td>SWSNOREM</td><td>Snow – Uncleared Sidewalk Complaint</td><td>Streets and Sanitation</td></tr>\n",
    "    <tr><td>SDO</td><td>Ice and Snow Removal Request</td><td>Streets and Sanitation</td></tr>\n",
    "    <tr><td>SDW</td><td>Object/Dibs Removal Request</td><td>CDOT</td></tr>\n",
    "    <tr><td>SNPBLBS</td><td>Snow Removal - Protected Bike Lane or Bridge Sidewalk</td><td>CDOT</td></tr> \n",
    "</table>\n",
    "\n",
    "My analysis steps:\n",
    "<ol>\n",
    "<li><a href=\"#read\">Read Data</a>\n",
    "<li><a href=\"#tabulate\">Tabulate by Community Area</a>\n",
    "<li><a href=\"#summarize\">Summarize Results</a>\n",
    "</ol>\n",
    "\n",
    "<br>\n",
    "Reminder that snow \"seasons\" run from July 1 to June 30 of the following year. For example, in my processed data set the season '2020-2021' refers to July 1, 2020 to June 30, 2021. "
   ]
  },
  {
   "cell_type": "markdown",
   "id": "8be207b6",
   "metadata": {},
   "source": [
    "<h3>Preliminary Findings</h3>\n",
    "<ul>\n",
    "    <li>The five neighborhoods with the most 311 complaints per capita are (in order) Lincoln Square, Logan Square, Uptown, West Town, Lincoln Park\n",
    "        <li>The five neighborhoods with the least 311 complaints per capita are (in order) West Pullman, Riverdale, Mount Greenwood, Pullman, Hegewisch. These all seem to be car-centric neighborhoods.\n",
    "</ul>"
   ]
  },
  {
   "cell_type": "markdown",
   "id": "2aa78ef7",
   "metadata": {},
   "source": [
    "<a name=\"read\"></a>\n",
    "# 1. Read Data"
   ]
  },
  {
   "cell_type": "code",
   "execution_count": 1,
   "id": "109b46e0",
   "metadata": {},
   "outputs": [],
   "source": [
    "import pandas as pd\n",
    "import requests\n",
    "#import datetime as dt #would only need this if I manipulated dates post-API data retrieval"
   ]
  },
  {
   "cell_type": "markdown",
   "id": "f5b8b3ad",
   "metadata": {},
   "source": [
    "### Read snow violations"
   ]
  },
  {
   "cell_type": "code",
   "execution_count": 2,
   "id": "38124df9",
   "metadata": {},
   "outputs": [],
   "source": [
    "df = pd.read_csv(\"../data/02-prepped/311-complaints-snow.csv\")\n",
    "df.head()"
   ]
  },
  {
   "cell_type": "code",
   "execution_count": 3,
   "id": "0d012c65",
   "metadata": {},
   "outputs": [],
   "source": [
    "len(df)"
   ]
  },
  {
   "cell_type": "markdown",
   "id": "b07f0da0",
   "metadata": {},
   "source": [
    "#### filter for just full snow seasons, from July 2019 to June 2023"
   ]
  },
  {
   "cell_type": "code",
   "execution_count": 4,
   "id": "4f85d240",
   "metadata": {},
   "outputs": [],
   "source": [
    "df = df[(df['season'].isin(['2019-2020','2020-2021','2021-2022','2022-2023']))]\n",
    "len(df)"
   ]
  },
  {
   "cell_type": "markdown",
   "id": "f4941624",
   "metadata": {},
   "source": [
    "### read community population"
   ]
  },
  {
   "cell_type": "code",
   "execution_count": 5,
   "id": "bc063688",
   "metadata": {},
   "outputs": [],
   "source": [
    "# retrieved on 1/11/24, but 2020 Census Population figures should be static\n",
    "\n",
    "df_population = pd.read_csv(\"../data/01-raw/population_cmap_2022.csv\")"
   ]
  },
  {
   "cell_type": "code",
   "execution_count": 6,
   "id": "6d626325",
   "metadata": {},
   "outputs": [],
   "source": [
    "# simplify dataframe to get only essentials. COMMUNITY_CAPS is useful for linking with community areas boundary shapefiles \n",
    "df_population = df_population[['GEOG','2020_POP']]\n",
    "df_population = df_population.rename(columns={'GEOG':'COMMUNITY_NAME'})\n",
    "df_population['COMMUNITY_CAPS']=df_population['COMMUNITY_NAME'].str.upper()\n",
    "df_population.head()"
   ]
  },
  {
   "cell_type": "markdown",
   "id": "c35f82a0",
   "metadata": {},
   "source": [
    "<a name=\"tabulate\"></a>\n",
    "# 2. Tabulate 311 Complaints by Community Area, 2019-2023"
   ]
  },
  {
   "cell_type": "code",
   "execution_count": 7,
   "id": "9a251603",
   "metadata": {},
   "outputs": [],
   "source": [
    "df_community_by_type = df.pivot_table(index='COMMUNITY_NAME', columns='SR_TYPE', values='SR_NUMBER', aggfunc='size', fill_value=0)\n",
    "df_community_by_type.head()"
   ]
  },
  {
   "cell_type": "markdown",
   "id": "67f770af",
   "metadata": {},
   "source": [
    "### merge 311 complaints data with community data"
   ]
  },
  {
   "cell_type": "code",
   "execution_count": 8,
   "id": "2247d985",
   "metadata": {
    "scrolled": true
   },
   "outputs": [],
   "source": [
    "df_community_summary = pd.merge(left=df_community_by_type,right=df_population,on='COMMUNITY_NAME')\n",
    "df_community_summary.head()"
   ]
  },
  {
   "cell_type": "markdown",
   "id": "3b6332de",
   "metadata": {},
   "source": [
    "### calculate per capita rates of 311 complaints by community"
   ]
  },
  {
   "cell_type": "code",
   "execution_count": 9,
   "id": "71359313",
   "metadata": {},
   "outputs": [],
   "source": [
    "# per 10,000 capita, per year over 4 years\n",
    "df_community_summary['Streets Per 10k'] = \\\n",
    "(10000/4)*df_community_summary['Ice and Snow Removal Request']/df_community_summary['2020_POP']\n",
    "\n",
    "df_community_summary['Dibs Per 10k'] = \\\n",
    "(10000/4)*df_community_summary['Snow - Object/Dibs Removal Request']/df_community_summary['2020_POP']\n",
    "\n",
    "df_community_summary['Sidewalks Per 10k'] = \\\n",
    "(10000/4)*df_community_summary['Snow – Uncleared Sidewalk Complaint']/df_community_summary['2020_POP']\n",
    "\n",
    "df_community_summary['Bike-Bridge Per 10k'] = \\\n",
    "(10000/4)*df_community_summary['Snow Removal - Protected Bike Lane or Bridge Sidewalk']/df_community_summary['2020_POP']"
   ]
  },
  {
   "cell_type": "code",
   "execution_count": 10,
   "id": "bcff5366",
   "metadata": {},
   "outputs": [],
   "source": [
    "df_community_summary.head()"
   ]
  },
  {
   "cell_type": "markdown",
   "id": "cf28c695",
   "metadata": {},
   "source": [
    "<a name=\"#summarize\"></a>\n",
    "# 3. Summarize Stats for 311 Uncleared Sidewalk Complaints"
   ]
  },
  {
   "cell_type": "code",
   "execution_count": 11,
   "id": "5d22b934",
   "metadata": {},
   "outputs": [],
   "source": [
    "# filter to look at only uncleared sidewalk complaints\n",
    "df_uncleared = df[(df['SR_SHORT_CODE']=='SWSNOREM')]\n",
    "len(df_uncleared)"
   ]
  },
  {
   "cell_type": "markdown",
   "id": "d1431b55",
   "metadata": {},
   "source": [
    "### uncleared complaints by season"
   ]
  },
  {
   "cell_type": "code",
   "execution_count": 12,
   "id": "904dce4a",
   "metadata": {},
   "outputs": [],
   "source": [
    "df_by_season = df_uncleared.groupby('season').agg(complaints=('SR_NUMBER','count')).reset_index()\n",
    "df_by_season"
   ]
  },
  {
   "cell_type": "markdown",
   "id": "39d64698",
   "metadata": {},
   "source": [
    "### uncleared complaints by complaint origin"
   ]
  },
  {
   "cell_type": "code",
   "execution_count": 13,
   "id": "53fa1f4f",
   "metadata": {},
   "outputs": [],
   "source": [
    "df_by_type = df_uncleared.groupby('ORIGIN').agg(complaints=('SR_NUMBER','count')).reset_index()\n",
    "df_by_type"
   ]
  },
  {
   "cell_type": "code",
   "execution_count": 14,
   "id": "75d158b5",
   "metadata": {},
   "outputs": [],
   "source": [
    "# consolidate other\n",
    "df_uncleared['ORIGIN_binned'] = df_uncleared['ORIGIN'].replace(['E-Mail', 'Generated In House', 'Open311 Interface','Salesforce Mobile App','spot-open311-Chicago+Works','spot-open311-SeeClickFix'], 'Other')"
   ]
  },
  {
   "cell_type": "code",
   "execution_count": 15,
   "id": "860b4823",
   "metadata": {},
   "outputs": [],
   "source": [
    "df_by_type = df_uncleared.groupby('ORIGIN_binned').agg(complaints=('SR_NUMBER','count')).reset_index()\n",
    "df_by_type"
   ]
  },
  {
   "cell_type": "markdown",
   "id": "5ff3ca89",
   "metadata": {},
   "source": [
    "### uncleared complaints by status"
   ]
  },
  {
   "cell_type": "code",
   "execution_count": 16,
   "id": "f5393911",
   "metadata": {},
   "outputs": [],
   "source": [
    "df_by_status = df_uncleared.groupby('STATUS')['SR_NUMBER'].agg('count').reset_index()\n",
    "df_by_status"
   ]
  },
  {
   "cell_type": "markdown",
   "id": "65477eed",
   "metadata": {},
   "source": [
    "### uncleared complaints per capita by community"
   ]
  },
  {
   "cell_type": "code",
   "execution_count": 17,
   "id": "81975462",
   "metadata": {},
   "outputs": [],
   "source": [
    "df_uncleared_by_community = df_community_summary[['COMMUNITY_NAME','Sidewalks Per 10k','Snow – Uncleared Sidewalk Complaint','2020_POP','COMMUNITY_CAPS']].sort_values(by='Sidewalks Per 10k', ascending=False)\n",
    "df_uncleared_by_community.head(10)"
   ]
  },
  {
   "cell_type": "code",
   "execution_count": 18,
   "id": "d7db74a6",
   "metadata": {},
   "outputs": [],
   "source": [
    "df_uncleared_by_community.to_csv(\"../results/311_uncleared_by_community.csv\", index=False)"
   ]
  }
 ],
 "metadata": {
  "kernelspec": {
   "display_name": "Python 3 (ipykernel)",
   "language": "python",
   "name": "python3"
  },
  "language_info": {
   "codemirror_mode": {
    "name": "ipython",
    "version": 3
   },
   "file_extension": ".py",
   "mimetype": "text/x-python",
   "name": "python",
   "nbconvert_exporter": "python",
   "pygments_lexer": "ipython3",
   "version": "3.10.12"
  }
 },
 "nbformat": 4,
 "nbformat_minor": 5
}
