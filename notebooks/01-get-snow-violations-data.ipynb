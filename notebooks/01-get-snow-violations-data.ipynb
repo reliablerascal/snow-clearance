{
 "cells": [
  {
   "cell_type": "markdown",
   "id": "638444be",
   "metadata": {},
   "source": [
    "<h1>Get Snow Violations Data</h1>\n",
    "10 January 2024\n",
    "\n",
    "This analysis looks at 311 complaints filed as \"Snow – Uncleared Sidewalk Complaint,\" or SWSNOREM.<br>\n",
    "<br>\n",
    "My analysis steps:\n",
    "<ol>\n",
    "<li><a href=\"#configure\">Import Libraries</a>\n",
    "<li><a href=\"#get\">Get Data</a>\n",
    "    <li><a href=\"#prepare\">Prepare Data</a>\n",
    "        <li><a href=\"#save\">Save Data</a>\n",
    "</ol>"
   ]
  },
  {
   "cell_type": "markdown",
   "id": "3e8fc57e",
   "metadata": {},
   "source": [
    "<a name = \"configure\"></a>\n",
    "<h1>1. Import Libraries</h1>"
   ]
  },
  {
   "cell_type": "code",
   "execution_count": 1,
   "id": "109b46e0",
   "metadata": {},
   "outputs": [],
   "source": [
    "import pandas as pd\n",
    "import requests\n",
    "#import datetime as dt #would only need this if I manipulated dates post-API data retrieval"
   ]
  },
  {
   "cell_type": "markdown",
   "id": "2add0dd1",
   "metadata": {},
   "source": [
    "<a name = \"get\"></a>\n",
    "    <h1>2. Get Data</h1>"
   ]
  },
  {
   "cell_type": "code",
   "execution_count": 2,
   "id": "1087fac8",
   "metadata": {},
   "outputs": [
    {
     "name": "stdout",
     "output_type": "stream",
     "text": [
      "https://data.cityofchicago.org/resource/v6vf-nfxy.json?$SELECT=SR_NUMBER, CREATED_DATE, STREET_ADDRESS, COMMUNITY_AREA, WARD, STATUS, ORIGIN, CLOSED_DATE&$WHERE=SR_SHORT_CODE='SWSNOREM'&$LIMIT=99999\n"
     ]
    }
   ],
   "source": [
    "base_url = \"https://data.cityofchicago.org/resource/v6vf-nfxy.json\"\n",
    "select = \"SR_NUMBER, CREATED_DATE, STREET_ADDRESS, COMMUNITY_AREA, WARD, STATUS, ORIGIN, CLOSED_DATE\"\n",
    "where = \"SR_SHORT_CODE='SWSNOREM'\"\n",
    "limit = 99999\n",
    "\n",
    "url = f\"{base_url}?$SELECT={select}&$WHERE={where}&$LIMIT={limit}\"\n",
    "print (url)"
   ]
  },
  {
   "cell_type": "code",
   "execution_count": 3,
   "id": "3e0e0cc4",
   "metadata": {},
   "outputs": [
    {
     "name": "stdout",
     "output_type": "stream",
     "text": [
      "<Response [200]>\n"
     ]
    }
   ],
   "source": [
    "response = requests.get(url)\n",
    "data = response.json()\n",
    "print (response)"
   ]
  },
  {
   "cell_type": "markdown",
   "id": "1da32343",
   "metadata": {},
   "source": [
    "### verify dataset looks okay. should see about 21.5k records as of early January 2024"
   ]
  },
  {
   "cell_type": "code",
   "execution_count": 4,
   "id": "67d95ad4",
   "metadata": {},
   "outputs": [
    {
     "data": {
      "text/html": [
       "<div>\n",
       "<style scoped>\n",
       "    .dataframe tbody tr th:only-of-type {\n",
       "        vertical-align: middle;\n",
       "    }\n",
       "\n",
       "    .dataframe tbody tr th {\n",
       "        vertical-align: top;\n",
       "    }\n",
       "\n",
       "    .dataframe thead th {\n",
       "        text-align: right;\n",
       "    }\n",
       "</style>\n",
       "<table border=\"1\" class=\"dataframe\">\n",
       "  <thead>\n",
       "    <tr style=\"text-align: right;\">\n",
       "      <th></th>\n",
       "      <th>SR_NUMBER</th>\n",
       "      <th>CREATED_DATE</th>\n",
       "      <th>STATUS</th>\n",
       "      <th>ORIGIN</th>\n",
       "      <th>CLOSED_DATE</th>\n",
       "      <th>STREET_ADDRESS</th>\n",
       "      <th>COMMUNITY_AREA</th>\n",
       "      <th>WARD</th>\n",
       "    </tr>\n",
       "  </thead>\n",
       "  <tbody>\n",
       "    <tr>\n",
       "      <th>0</th>\n",
       "      <td>SR19-02929866</td>\n",
       "      <td>2019-11-12T09:31:20.000</td>\n",
       "      <td>Completed</td>\n",
       "      <td>Internet</td>\n",
       "      <td>2019-11-21T09:15:03.000</td>\n",
       "      <td>NaN</td>\n",
       "      <td>NaN</td>\n",
       "      <td>NaN</td>\n",
       "    </tr>\n",
       "    <tr>\n",
       "      <th>1</th>\n",
       "      <td>SR20-05649092</td>\n",
       "      <td>2020-12-17T13:24:37.000</td>\n",
       "      <td>Completed</td>\n",
       "      <td>Phone Call</td>\n",
       "      <td>2020-12-18T15:12:51.000</td>\n",
       "      <td>5200 S BLACKSTONE AVE</td>\n",
       "      <td>41</td>\n",
       "      <td>4</td>\n",
       "    </tr>\n",
       "    <tr>\n",
       "      <th>2</th>\n",
       "      <td>SR21-00001364</td>\n",
       "      <td>2021-01-01T11:40:33.000</td>\n",
       "      <td>Completed</td>\n",
       "      <td>Mobile Device</td>\n",
       "      <td>2021-01-04T14:33:44.000</td>\n",
       "      <td>66 E CHESTNUT ST</td>\n",
       "      <td>8</td>\n",
       "      <td>42</td>\n",
       "    </tr>\n",
       "    <tr>\n",
       "      <th>3</th>\n",
       "      <td>SR21-00000774</td>\n",
       "      <td>2021-01-01T09:11:15.000</td>\n",
       "      <td>Completed</td>\n",
       "      <td>Internet</td>\n",
       "      <td>2021-01-06T13:37:58.000</td>\n",
       "      <td>2648 N WHIPPLE ST</td>\n",
       "      <td>22</td>\n",
       "      <td>32</td>\n",
       "    </tr>\n",
       "    <tr>\n",
       "      <th>4</th>\n",
       "      <td>SR20-05723378</td>\n",
       "      <td>2020-12-31T07:19:37.000</td>\n",
       "      <td>Completed</td>\n",
       "      <td>Mobile Device</td>\n",
       "      <td>2021-01-08T15:30:57.000</td>\n",
       "      <td>5015 N SPRINGFIELD AVE</td>\n",
       "      <td>14</td>\n",
       "      <td>39</td>\n",
       "    </tr>\n",
       "  </tbody>\n",
       "</table>\n",
       "</div>"
      ],
      "text/plain": [
       "       SR_NUMBER             CREATED_DATE     STATUS         ORIGIN  \\\n",
       "0  SR19-02929866  2019-11-12T09:31:20.000  Completed       Internet   \n",
       "1  SR20-05649092  2020-12-17T13:24:37.000  Completed     Phone Call   \n",
       "2  SR21-00001364  2021-01-01T11:40:33.000  Completed  Mobile Device   \n",
       "3  SR21-00000774  2021-01-01T09:11:15.000  Completed       Internet   \n",
       "4  SR20-05723378  2020-12-31T07:19:37.000  Completed  Mobile Device   \n",
       "\n",
       "               CLOSED_DATE          STREET_ADDRESS COMMUNITY_AREA WARD  \n",
       "0  2019-11-21T09:15:03.000                     NaN            NaN  NaN  \n",
       "1  2020-12-18T15:12:51.000   5200 S BLACKSTONE AVE             41    4  \n",
       "2  2021-01-04T14:33:44.000        66 E CHESTNUT ST              8   42  \n",
       "3  2021-01-06T13:37:58.000       2648 N WHIPPLE ST             22   32  \n",
       "4  2021-01-08T15:30:57.000  5015 N SPRINGFIELD AVE             14   39  "
      ]
     },
     "execution_count": 4,
     "metadata": {},
     "output_type": "execute_result"
    }
   ],
   "source": [
    "df=pd.DataFrame(data)\n",
    "df.head()"
   ]
  },
  {
   "cell_type": "code",
   "execution_count": 5,
   "id": "d78adc8a",
   "metadata": {},
   "outputs": [
    {
     "data": {
      "text/plain": [
       "21547"
      ]
     },
     "execution_count": 5,
     "metadata": {},
     "output_type": "execute_result"
    }
   ],
   "source": [
    "len(df)"
   ]
  },
  {
   "cell_type": "markdown",
   "id": "8fb6720f",
   "metadata": {},
   "source": [
    "<a name = \"prepare\"></a>\n",
    "# 3. prepare data"
   ]
  },
  {
   "cell_type": "code",
   "execution_count": 6,
   "id": "5dd56f66",
   "metadata": {},
   "outputs": [],
   "source": [
    "def get_season(month, year):\n",
    "# Input:\n",
    "#   month: numeric month of the year (1-12)\n",
    "#   year (int): 4 digit year\n",
    "# Returns:\n",
    "#   season in yy-yy format. E.g. 22-23 means winter 2022-2023, or July 2022 to June 2023.\n",
    "\n",
    "    if month >= 7:\n",
    "        return f\"{str(year)[-2:]}-{str(year + 1)[-2:]}\"\n",
    "    else:\n",
    "        return f\"{str(year - 1)[-2:]}-{str(year)[-2:]}\""
   ]
  },
  {
   "cell_type": "code",
   "execution_count": 7,
   "id": "1d15bccd",
   "metadata": {},
   "outputs": [
    {
     "data": {
      "text/html": [
       "<div>\n",
       "<style scoped>\n",
       "    .dataframe tbody tr th:only-of-type {\n",
       "        vertical-align: middle;\n",
       "    }\n",
       "\n",
       "    .dataframe tbody tr th {\n",
       "        vertical-align: top;\n",
       "    }\n",
       "\n",
       "    .dataframe thead th {\n",
       "        text-align: right;\n",
       "    }\n",
       "</style>\n",
       "<table border=\"1\" class=\"dataframe\">\n",
       "  <thead>\n",
       "    <tr style=\"text-align: right;\">\n",
       "      <th></th>\n",
       "      <th>SR_NUMBER</th>\n",
       "      <th>CREATED_DATE</th>\n",
       "      <th>STATUS</th>\n",
       "      <th>ORIGIN</th>\n",
       "      <th>CLOSED_DATE</th>\n",
       "      <th>STREET_ADDRESS</th>\n",
       "      <th>COMMUNITY_AREA</th>\n",
       "      <th>WARD</th>\n",
       "      <th>year</th>\n",
       "      <th>month</th>\n",
       "      <th>date</th>\n",
       "      <th>season</th>\n",
       "    </tr>\n",
       "  </thead>\n",
       "  <tbody>\n",
       "    <tr>\n",
       "      <th>0</th>\n",
       "      <td>SR19-02929866</td>\n",
       "      <td>2019-11-12 09:31:20</td>\n",
       "      <td>Completed</td>\n",
       "      <td>Internet</td>\n",
       "      <td>2019-11-21 09:15:03</td>\n",
       "      <td>NaN</td>\n",
       "      <td>NaN</td>\n",
       "      <td>NaN</td>\n",
       "      <td>2019</td>\n",
       "      <td>11</td>\n",
       "      <td>2019-11-12</td>\n",
       "      <td>19-20</td>\n",
       "    </tr>\n",
       "    <tr>\n",
       "      <th>1</th>\n",
       "      <td>SR20-05649092</td>\n",
       "      <td>2020-12-17 13:24:37</td>\n",
       "      <td>Completed</td>\n",
       "      <td>Phone Call</td>\n",
       "      <td>2020-12-18 15:12:51</td>\n",
       "      <td>5200 S BLACKSTONE AVE</td>\n",
       "      <td>41</td>\n",
       "      <td>4</td>\n",
       "      <td>2020</td>\n",
       "      <td>12</td>\n",
       "      <td>2020-12-17</td>\n",
       "      <td>20-21</td>\n",
       "    </tr>\n",
       "    <tr>\n",
       "      <th>2</th>\n",
       "      <td>SR21-00001364</td>\n",
       "      <td>2021-01-01 11:40:33</td>\n",
       "      <td>Completed</td>\n",
       "      <td>Mobile Device</td>\n",
       "      <td>2021-01-04 14:33:44</td>\n",
       "      <td>66 E CHESTNUT ST</td>\n",
       "      <td>8</td>\n",
       "      <td>42</td>\n",
       "      <td>2021</td>\n",
       "      <td>1</td>\n",
       "      <td>2021-01-01</td>\n",
       "      <td>20-21</td>\n",
       "    </tr>\n",
       "    <tr>\n",
       "      <th>3</th>\n",
       "      <td>SR21-00000774</td>\n",
       "      <td>2021-01-01 09:11:15</td>\n",
       "      <td>Completed</td>\n",
       "      <td>Internet</td>\n",
       "      <td>2021-01-06 13:37:58</td>\n",
       "      <td>2648 N WHIPPLE ST</td>\n",
       "      <td>22</td>\n",
       "      <td>32</td>\n",
       "      <td>2021</td>\n",
       "      <td>1</td>\n",
       "      <td>2021-01-01</td>\n",
       "      <td>20-21</td>\n",
       "    </tr>\n",
       "    <tr>\n",
       "      <th>4</th>\n",
       "      <td>SR20-05723378</td>\n",
       "      <td>2020-12-31 07:19:37</td>\n",
       "      <td>Completed</td>\n",
       "      <td>Mobile Device</td>\n",
       "      <td>2021-01-08 15:30:57</td>\n",
       "      <td>5015 N SPRINGFIELD AVE</td>\n",
       "      <td>14</td>\n",
       "      <td>39</td>\n",
       "      <td>2020</td>\n",
       "      <td>12</td>\n",
       "      <td>2020-12-31</td>\n",
       "      <td>20-21</td>\n",
       "    </tr>\n",
       "  </tbody>\n",
       "</table>\n",
       "</div>"
      ],
      "text/plain": [
       "       SR_NUMBER        CREATED_DATE     STATUS         ORIGIN  \\\n",
       "0  SR19-02929866 2019-11-12 09:31:20  Completed       Internet   \n",
       "1  SR20-05649092 2020-12-17 13:24:37  Completed     Phone Call   \n",
       "2  SR21-00001364 2021-01-01 11:40:33  Completed  Mobile Device   \n",
       "3  SR21-00000774 2021-01-01 09:11:15  Completed       Internet   \n",
       "4  SR20-05723378 2020-12-31 07:19:37  Completed  Mobile Device   \n",
       "\n",
       "          CLOSED_DATE          STREET_ADDRESS COMMUNITY_AREA WARD  year  \\\n",
       "0 2019-11-21 09:15:03                     NaN            NaN  NaN  2019   \n",
       "1 2020-12-18 15:12:51   5200 S BLACKSTONE AVE             41    4  2020   \n",
       "2 2021-01-04 14:33:44        66 E CHESTNUT ST              8   42  2021   \n",
       "3 2021-01-06 13:37:58       2648 N WHIPPLE ST             22   32  2021   \n",
       "4 2021-01-08 15:30:57  5015 N SPRINGFIELD AVE             14   39  2020   \n",
       "\n",
       "   month        date season  \n",
       "0     11  2019-11-12  19-20  \n",
       "1     12  2020-12-17  20-21  \n",
       "2      1  2021-01-01  20-21  \n",
       "3      1  2021-01-01  20-21  \n",
       "4     12  2020-12-31  20-21  "
      ]
     },
     "execution_count": 7,
     "metadata": {},
     "output_type": "execute_result"
    }
   ],
   "source": [
    "# format and parse dates\n",
    "df['CREATED_DATE'] = pd.to_datetime(df['CREATED_DATE'])\n",
    "df['CLOSED_DATE'] = pd.to_datetime(df['CLOSED_DATE'])\n",
    "df['year'] = df['CREATED_DATE'].dt.year\n",
    "df['month'] = df['CREATED_DATE'].dt.month\n",
    "df['date'] = df['CREATED_DATE'].dt.date\n",
    "df['season'] = df.apply(lambda row: get_season(row['month'], row['year']), axis=1)\n",
    "df.head()"
   ]
  },
  {
   "cell_type": "code",
   "execution_count": 8,
   "id": "2676fda9",
   "metadata": {},
   "outputs": [
    {
     "data": {
      "text/plain": [
       "season\n",
       "18-19     378\n",
       "19-20    6543\n",
       "20-21    6533\n",
       "21-22    6426\n",
       "22-23    1628\n",
       "23-24      39\n",
       "dtype: int64"
      ]
     },
     "execution_count": 8,
     "metadata": {},
     "output_type": "execute_result"
    }
   ],
   "source": [
    "# review season assignment\n",
    "df.groupby('season').size()"
   ]
  },
  {
   "cell_type": "markdown",
   "id": "033ae06b",
   "metadata": {},
   "source": [
    "### remove records with missing address"
   ]
  },
  {
   "cell_type": "code",
   "execution_count": 24,
   "id": "762a25cd",
   "metadata": {},
   "outputs": [
    {
     "data": {
      "text/plain": [
       "25"
      ]
     },
     "execution_count": 24,
     "metadata": {},
     "output_type": "execute_result"
    }
   ],
   "source": [
    "# find records with missing address\n",
    "len(df[df['STREET_ADDRESS'].isna()==True])"
   ]
  },
  {
   "cell_type": "code",
   "execution_count": 27,
   "id": "9b00eca4",
   "metadata": {},
   "outputs": [
    {
     "data": {
      "text/plain": [
       "21522"
      ]
     },
     "execution_count": 27,
     "metadata": {},
     "output_type": "execute_result"
    }
   ],
   "source": [
    "df_valid_address = df[df['STREET_ADDRESS'].isna()==False]\n",
    "len(df_valid_address)"
   ]
  },
  {
   "cell_type": "markdown",
   "id": "9d751c48",
   "metadata": {},
   "source": [
    "<a name = \"save\"></a>\n",
    "# 4. Save Data"
   ]
  },
  {
   "cell_type": "code",
   "execution_count": 28,
   "id": "d927d06f",
   "metadata": {},
   "outputs": [],
   "source": [
    "df_valid_address.to_csv(\"../data/311-snow-violations.csv\", index=False)"
   ]
  },
  {
   "cell_type": "code",
   "execution_count": null,
   "id": "baedc063",
   "metadata": {},
   "outputs": [],
   "source": []
  }
 ],
 "metadata": {
  "kernelspec": {
   "display_name": "Python 3 (ipykernel)",
   "language": "python",
   "name": "python3"
  },
  "language_info": {
   "codemirror_mode": {
    "name": "ipython",
    "version": 3
   },
   "file_extension": ".py",
   "mimetype": "text/x-python",
   "name": "python",
   "nbconvert_exporter": "python",
   "pygments_lexer": "ipython3",
   "version": "3.10.12"
  }
 },
 "nbformat": 4,
 "nbformat_minor": 5
}
