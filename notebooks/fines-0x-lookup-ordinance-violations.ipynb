{
 "cells": [
  {
   "cell_type": "code",
   "execution_count": 1,
   "id": "0c1af796",
   "metadata": {},
   "outputs": [],
   "source": [
    "import pandas as pd"
   ]
  },
  {
   "cell_type": "code",
   "execution_count": 3,
   "id": "909008f8",
   "metadata": {},
   "outputs": [
    {
     "name": "stderr",
     "output_type": "stream",
     "text": [
      "/tmp/ipykernel_1009/2241751053.py:1: DtypeWarning: Columns (16) have mixed types. Specify dtype option on import or set low_memory=False.\n",
      "  df=pd.read_csv(\"../data/Ordinance_Violations_20240212.csv\")\n"
     ]
    }
   ],
   "source": [
    "df_violations=pd.read_csv(\"../data/Ordinance_Violations_20240212.csv\")"
   ]
  },
  {
   "cell_type": "code",
   "execution_count": 5,
   "id": "5c217044",
   "metadata": {},
   "outputs": [
    {
     "data": {
      "text/plain": [
       "ID                             object\n",
       "DOCKET NUMBER                  object\n",
       "NOV NUMBER                     object\n",
       "ADDRESS                        object\n",
       "STREET NUMBER                   int64\n",
       "STREET DIRECTION               object\n",
       "STREET NAME                    object\n",
       "STREET TYPE                    object\n",
       "WARD                          float64\n",
       "ISSUING DEPARTMENT             object\n",
       "HEARING DATE                   object\n",
       "CASE DISPOSITION               object\n",
       "IMPOSED FINE                  float64\n",
       "ADMIN COSTS                     int64\n",
       "LAST MODIFIED DATE             object\n",
       "VIOLATION DATE                 object\n",
       "VIOLATION CODE                 object\n",
       "VIOLATION DESCRIPTION          object\n",
       "RESPONDENTS                    object\n",
       "LATITUDE                      float64\n",
       "LONGITUDE                     float64\n",
       "LOCATION                       object\n",
       "Historical Wards 2003-2015    float64\n",
       "Zip Codes                     float64\n",
       "Community Areas               float64\n",
       "Census Tracts                 float64\n",
       "Wards                         float64\n",
       "dtype: object"
      ]
     },
     "execution_count": 5,
     "metadata": {},
     "output_type": "execute_result"
    }
   ],
   "source": [
    "df_violations.dtypes"
   ]
  },
  {
   "cell_type": "code",
   "execution_count": 8,
   "id": "ff4c256b",
   "metadata": {},
   "outputs": [],
   "source": [
    "df_violations['HEARING DATE'] = pd.to_datetime(df_violations['HEARING DATE'])"
   ]
  },
  {
   "cell_type": "code",
   "execution_count": 10,
   "id": "63fff9c0",
   "metadata": {},
   "outputs": [
    {
     "data": {
      "text/html": [
       "<div>\n",
       "<style scoped>\n",
       "    .dataframe tbody tr th:only-of-type {\n",
       "        vertical-align: middle;\n",
       "    }\n",
       "\n",
       "    .dataframe tbody tr th {\n",
       "        vertical-align: top;\n",
       "    }\n",
       "\n",
       "    .dataframe thead th {\n",
       "        text-align: right;\n",
       "    }\n",
       "</style>\n",
       "<table border=\"1\" class=\"dataframe\">\n",
       "  <thead>\n",
       "    <tr style=\"text-align: right;\">\n",
       "      <th></th>\n",
       "      <th>HEARING DATE</th>\n",
       "    </tr>\n",
       "  </thead>\n",
       "  <tbody>\n",
       "    <tr>\n",
       "      <th>max_hearing</th>\n",
       "      <td>2008-01-10</td>\n",
       "    </tr>\n",
       "  </tbody>\n",
       "</table>\n",
       "</div>"
      ],
      "text/plain": [
       "            HEARING DATE\n",
       "max_hearing   2008-01-10"
      ]
     },
     "execution_count": 10,
     "metadata": {},
     "output_type": "execute_result"
    }
   ],
   "source": [
    "df_violations.agg(\n",
    "    max_hearing=('HEARING DATE','min')\n",
    ")"
   ]
  },
  {
   "cell_type": "code",
   "execution_count": 14,
   "id": "5fba0bd9",
   "metadata": {},
   "outputs": [],
   "source": [
    "df_violations=df_violations[df_violations['HEARING DATE']>='2019-01-01']"
   ]
  },
  {
   "cell_type": "code",
   "execution_count": 13,
   "id": "8c71fc5e",
   "metadata": {},
   "outputs": [],
   "source": [
    "#df.to_csv(\"../data/building_violations.csv\")"
   ]
  },
  {
   "cell_type": "code",
   "execution_count": 18,
   "id": "95dceac4",
   "metadata": {},
   "outputs": [],
   "source": [
    "df_fines = pd.read_csv(\"../data/fines-geocoded-w-communities.csv\")"
   ]
  },
  {
   "cell_type": "code",
   "execution_count": 19,
   "id": "ba4bddb4",
   "metadata": {},
   "outputs": [],
   "source": [
    "df_dockets = pd.merge(df_fines,df_violations,left_on=\"Docket Number\",right_on=\"DOCKET NUMBER\")"
   ]
  },
  {
   "cell_type": "code",
   "execution_count": 20,
   "id": "6e21c47d",
   "metadata": {},
   "outputs": [
    {
     "data": {
      "text/html": [
       "<div>\n",
       "<style scoped>\n",
       "    .dataframe tbody tr th:only-of-type {\n",
       "        vertical-align: middle;\n",
       "    }\n",
       "\n",
       "    .dataframe tbody tr th {\n",
       "        vertical-align: top;\n",
       "    }\n",
       "\n",
       "    .dataframe thead th {\n",
       "        text-align: right;\n",
       "    }\n",
       "</style>\n",
       "<table border=\"1\" class=\"dataframe\">\n",
       "  <thead>\n",
       "    <tr style=\"text-align: right;\">\n",
       "      <th></th>\n",
       "      <th>field_1</th>\n",
       "      <th>Docket Number</th>\n",
       "      <th>Violation Date</th>\n",
       "      <th>Violation Address</th>\n",
       "      <th>Issuing Department Code</th>\n",
       "      <th>Imposed Fine Detailed</th>\n",
       "      <th>year</th>\n",
       "      <th>month</th>\n",
       "      <th>date</th>\n",
       "      <th>season</th>\n",
       "      <th>...</th>\n",
       "      <th>VIOLATION DESCRIPTION</th>\n",
       "      <th>RESPONDENTS</th>\n",
       "      <th>LATITUDE</th>\n",
       "      <th>LONGITUDE</th>\n",
       "      <th>LOCATION</th>\n",
       "      <th>Historical Wards 2003-2015</th>\n",
       "      <th>Zip Codes</th>\n",
       "      <th>Community Areas</th>\n",
       "      <th>Census Tracts</th>\n",
       "      <th>Wards</th>\n",
       "    </tr>\n",
       "  </thead>\n",
       "  <tbody>\n",
       "  </tbody>\n",
       "</table>\n",
       "<p>0 rows × 56 columns</p>\n",
       "</div>"
      ],
      "text/plain": [
       "Empty DataFrame\n",
       "Columns: [field_1, Docket Number, Violation Date, Violation Address, Issuing Department Code, Imposed Fine Detailed, year, month, date, season, City, State, Cleaned Address, Corrected, result_num, osm_id, display_name, category, type, latlong, community, area, shape_area, perimeter, area_num_1, area_numbe, comarea_id, comarea, shape_len, ID, DOCKET NUMBER, NOV NUMBER, ADDRESS, STREET NUMBER, STREET DIRECTION, STREET NAME, STREET TYPE, WARD, ISSUING DEPARTMENT, HEARING DATE, CASE DISPOSITION, IMPOSED FINE, ADMIN COSTS, LAST MODIFIED DATE, VIOLATION DATE, VIOLATION CODE, VIOLATION DESCRIPTION, RESPONDENTS, LATITUDE, LONGITUDE, LOCATION, Historical Wards 2003-2015, Zip Codes, Community Areas, Census Tracts, Wards]\n",
       "Index: []\n",
       "\n",
       "[0 rows x 56 columns]"
      ]
     },
     "execution_count": 20,
     "metadata": {},
     "output_type": "execute_result"
    }
   ],
   "source": [
    "df_dockets"
   ]
  },
  {
   "cell_type": "code",
   "execution_count": null,
   "id": "2de0da96",
   "metadata": {},
   "outputs": [],
   "source": []
  }
 ],
 "metadata": {
  "kernelspec": {
   "display_name": "Python 3 (ipykernel)",
   "language": "python",
   "name": "python3"
  },
  "language_info": {
   "codemirror_mode": {
    "name": "ipython",
    "version": 3
   },
   "file_extension": ".py",
   "mimetype": "text/x-python",
   "name": "python",
   "nbconvert_exporter": "python",
   "pygments_lexer": "ipython3",
   "version": "3.10.12"
  }
 },
 "nbformat": 4,
 "nbformat_minor": 5
}
