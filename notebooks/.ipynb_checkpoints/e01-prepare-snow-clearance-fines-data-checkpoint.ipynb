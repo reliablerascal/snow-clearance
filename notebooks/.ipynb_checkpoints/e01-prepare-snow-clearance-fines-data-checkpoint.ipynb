{
 "cells": [
  {
   "cell_type": "markdown",
   "id": "638444be",
   "metadata": {},
   "source": [
    "<h1>Snow Clearance Fines, 2019-2023</h1>\n",
    "23 January 2024\n",
    "\n",
    "This notebook cleans up FOIA-requested data provided by the Department of Administrative Hearings. Though a full year of data is provided for the 2018-2019 season, I chose to look only at 2019-2023 to align with data available for 311 complaints.<br>\n",
    "<br>\n",
    "My analysis steps:\n",
    "<ol>\n",
    "<li><a href=\"#read\">Read Data</a>\n",
    "  <li><a href=\"#prep\">Prepare Data for Analysis</a> \n",
    "   <li><a href=\"#correct\">Correct Bad Addresses</a>   \n",
    "<li><a href=\"#prep\">Geocode Data</a>\n",
    "</ol>"
   ]
  },
  {
   "cell_type": "markdown",
   "id": "12248e1b",
   "metadata": {},
   "source": [
    "### Summary of Data Preparation"
   ]
  },
  {
   "cell_type": "markdown",
   "id": "8be207b6",
   "metadata": {},
   "source": [
    "Dataset provided by Chicago's Department of Administrative Hearings (H064920-011124.xlsx) contained 3058 records dating from 1/1/2001 to 9/12/2023.\n",
    "\n",
    "<strong>Removed 498 records out of date range</strong>\n",
    "From this dataset I removed:\n",
    "<ul>\n",
    "    <li>2 records with missing dates\n",
    "        <li>19 records between 1/1/2001 from 2/13/2018\n",
    "<li>2 records after 6/30/2023\n",
    "<li>475 records from winter 2018-2019\n",
    "</ul>\n",
    "    \n",
    "That left 2560 records.\n",
    "\n",
    "<strong>Corrected 117 addresses to enable geocoding</strong>\n",
    "Of the 2560 remaining records:\n",
    "    <ul>\n",
    "<li>117 could not initially be geocoded due to typos or ambiguities in addresses (e.g. Belmlont, Lawerence, North instead of North Ave)\n",
    "<li>4 could not be geocoded because address was listed as \"UNKNOWN\"\n",
    "    </ul>\n",
    "    \n",
    "<strong>other data preparation</strong>\n",
    "    <ul>\n",
    "    <li>parsed dates to month and year\n",
    "    <li>calculated season for all dates (e.g. 2019-2020 is for July 1 2019 to June 30 2020)\n",
    "    </ul>\n",
    "    \n",
    "<strong>geocoding</strong><br>\n",
    "In QGIS outside of this notebook, I geocoded addresses to first identify latitude and longitude corresponding to each address, and then mapping those coordinates to Chicago community areas using a spatial join"
   ]
  },
  {
   "cell_type": "markdown",
   "id": "488cdc75",
   "metadata": {},
   "source": [
    "<a name=\"read\"></a>\n",
    "# 1. Read Data"
   ]
  },
  {
   "cell_type": "code",
   "execution_count": 19,
   "id": "109b46e0",
   "metadata": {},
   "outputs": [],
   "source": [
    "import pandas as pd\n",
    "import requests\n",
    "#import datetime as dt #would only need this if I manipulated dates post-API data retrieval"
   ]
  },
  {
   "cell_type": "code",
   "execution_count": 20,
   "id": "38124df9",
   "metadata": {},
   "outputs": [
    {
     "data": {
      "text/html": [
       "<div>\n",
       "<style scoped>\n",
       "    .dataframe tbody tr th:only-of-type {\n",
       "        vertical-align: middle;\n",
       "    }\n",
       "\n",
       "    .dataframe tbody tr th {\n",
       "        vertical-align: top;\n",
       "    }\n",
       "\n",
       "    .dataframe thead th {\n",
       "        text-align: right;\n",
       "    }\n",
       "</style>\n",
       "<table border=\"1\" class=\"dataframe\">\n",
       "  <thead>\n",
       "    <tr style=\"text-align: right;\">\n",
       "      <th></th>\n",
       "      <th>Docket Number</th>\n",
       "      <th>Violation Date</th>\n",
       "      <th>Violation Address</th>\n",
       "      <th>Issuing Department Code</th>\n",
       "      <th>Imposed Fine Detailed</th>\n",
       "    </tr>\n",
       "  </thead>\n",
       "  <tbody>\n",
       "    <tr>\n",
       "      <th>0</th>\n",
       "      <td>18CP093079</td>\n",
       "      <td>11/27/2018</td>\n",
       "      <td>5045 N TRIPP</td>\n",
       "      <td>POLICE</td>\n",
       "      <td>$0.00</td>\n",
       "    </tr>\n",
       "    <tr>\n",
       "      <th>1</th>\n",
       "      <td>18DS11011L</td>\n",
       "      <td>01/05/2018</td>\n",
       "      <td>741 W 123RD ST</td>\n",
       "      <td>STRTSAN</td>\n",
       "      <td>$0.00</td>\n",
       "    </tr>\n",
       "    <tr>\n",
       "      <th>2</th>\n",
       "      <td>18DS16572L</td>\n",
       "      <td>02/08/2018</td>\n",
       "      <td>5033 S CICERO AVE</td>\n",
       "      <td>STRTSAN</td>\n",
       "      <td>$50.00</td>\n",
       "    </tr>\n",
       "    <tr>\n",
       "      <th>3</th>\n",
       "      <td>18DS23469L</td>\n",
       "      <td>02/13/2018</td>\n",
       "      <td>4100 W MADISON ST</td>\n",
       "      <td>STRTSAN</td>\n",
       "      <td>$50.00</td>\n",
       "    </tr>\n",
       "    <tr>\n",
       "      <th>4</th>\n",
       "      <td>18DT002526</td>\n",
       "      <td>11/30/2018</td>\n",
       "      <td>3401 W DIVERSEY</td>\n",
       "      <td>TRANPORT</td>\n",
       "      <td>$110.00</td>\n",
       "    </tr>\n",
       "  </tbody>\n",
       "</table>\n",
       "</div>"
      ],
      "text/plain": [
       "  Docket Number Violation Date  Violation Address Issuing Department Code  \\\n",
       "0    18CP093079     11/27/2018      5045 N TRIPP                   POLICE   \n",
       "1    18DS11011L     01/05/2018     741 W 123RD ST                 STRTSAN   \n",
       "2    18DS16572L     02/08/2018  5033 S CICERO AVE                 STRTSAN   \n",
       "3    18DS23469L     02/13/2018  4100 W MADISON ST                 STRTSAN   \n",
       "4    18DT002526     11/30/2018   3401 W DIVERSEY                 TRANPORT   \n",
       "\n",
       "  Imposed Fine Detailed  \n",
       "0                 $0.00  \n",
       "1                 $0.00  \n",
       "2                $50.00  \n",
       "3                $50.00  \n",
       "4               $110.00  "
      ]
     },
     "execution_count": 20,
     "metadata": {},
     "output_type": "execute_result"
    }
   ],
   "source": [
    "df = pd.read_csv(\"../data/fines-2001-2023.csv\")\n",
    "df.head()"
   ]
  },
  {
   "cell_type": "code",
   "execution_count": 21,
   "id": "0d012c65",
   "metadata": {},
   "outputs": [
    {
     "data": {
      "text/plain": [
       "3058"
      ]
     },
     "execution_count": 21,
     "metadata": {},
     "output_type": "execute_result"
    }
   ],
   "source": [
    "len(df)"
   ]
  },
  {
   "cell_type": "markdown",
   "id": "19baf53a",
   "metadata": {},
   "source": [
    "<a name=\"prepare\"></a>\n",
    "# 2. Prepare Data\n",
    "Dataset provided by Chicago's Department of Administrative Hearings (H064920-011124.xlsx) contained 3058 records dating from 1/1/2001 to 9/12/2023.\n",
    "\n",
    "From this dataset I removed:\n",
    "<ul>\n",
    "    <li>2 records with missing dates\n",
    "        <li>19 records between 1/1/2001 from 2/13/2018\n",
    "<li>2 records after 6/30/2023\n",
    "<il>475 records from winter 2018-2019\n",
    "    </ul>\n",
    "    \n",
    "This leaves 2560 records."
   ]
  },
  {
   "cell_type": "markdown",
   "id": "023396d0",
   "metadata": {},
   "source": [
    "### remove records with missing violation dates"
   ]
  },
  {
   "cell_type": "code",
   "execution_count": 22,
   "id": "fe448c47",
   "metadata": {},
   "outputs": [
    {
     "data": {
      "text/html": [
       "<div>\n",
       "<style scoped>\n",
       "    .dataframe tbody tr th:only-of-type {\n",
       "        vertical-align: middle;\n",
       "    }\n",
       "\n",
       "    .dataframe tbody tr th {\n",
       "        vertical-align: top;\n",
       "    }\n",
       "\n",
       "    .dataframe thead th {\n",
       "        text-align: right;\n",
       "    }\n",
       "</style>\n",
       "<table border=\"1\" class=\"dataframe\">\n",
       "  <thead>\n",
       "    <tr style=\"text-align: right;\">\n",
       "      <th></th>\n",
       "      <th>Docket Number</th>\n",
       "      <th>Violation Date</th>\n",
       "      <th>Violation Address</th>\n",
       "      <th>Issuing Department Code</th>\n",
       "      <th>Imposed Fine Detailed</th>\n",
       "    </tr>\n",
       "  </thead>\n",
       "  <tbody>\n",
       "    <tr>\n",
       "      <th>1143</th>\n",
       "      <td>21DT00019A</td>\n",
       "      <td>NaN</td>\n",
       "      <td>1601 E 95TH ST</td>\n",
       "      <td>TRANPORT</td>\n",
       "      <td>$0.00</td>\n",
       "    </tr>\n",
       "    <tr>\n",
       "      <th>1144</th>\n",
       "      <td>21DT00019A</td>\n",
       "      <td>NaN</td>\n",
       "      <td>1601 E 95TH ST</td>\n",
       "      <td>TRANPORT</td>\n",
       "      <td>$150.00</td>\n",
       "    </tr>\n",
       "  </tbody>\n",
       "</table>\n",
       "</div>"
      ],
      "text/plain": [
       "     Docket Number Violation Date Violation Address Issuing Department Code  \\\n",
       "1143    21DT00019A            NaN    1601 E 95TH ST                TRANPORT   \n",
       "1144    21DT00019A            NaN    1601 E 95TH ST                TRANPORT   \n",
       "\n",
       "     Imposed Fine Detailed  \n",
       "1143                 $0.00  \n",
       "1144               $150.00  "
      ]
     },
     "execution_count": 22,
     "metadata": {},
     "output_type": "execute_result"
    }
   ],
   "source": [
    "# find records with missing Violation Date. NaT means \"Not a Time\"\n",
    "df[df['Violation Date'].isna()]"
   ]
  },
  {
   "cell_type": "code",
   "execution_count": 23,
   "id": "7f8616aa",
   "metadata": {},
   "outputs": [
    {
     "data": {
      "text/plain": [
       "3056"
      ]
     },
     "execution_count": 23,
     "metadata": {},
     "output_type": "execute_result"
    }
   ],
   "source": [
    "df = df[df['Violation Date'].notna()]\n",
    "len(df)"
   ]
  },
  {
   "cell_type": "markdown",
   "id": "5b9a2446",
   "metadata": {},
   "source": [
    "### parse dates"
   ]
  },
  {
   "cell_type": "code",
   "execution_count": 24,
   "id": "c5881370",
   "metadata": {},
   "outputs": [],
   "source": [
    "def get_season(month, year):\n",
    "# Input:\n",
    "#   month: numeric month of the year (1-12)\n",
    "#   year (int): 4 digit year\n",
    "# Returns:\n",
    "#   season in yyyy-yyyy format. E.g. 2022-2023 means winter 2022-2023, or July 2022 to June 2023.\n",
    "\n",
    "    if month >= 7:\n",
    "        return f\"{str(year)[-4:]}-{str(year + 1)[-4:]}\"\n",
    "    else:\n",
    "        return f\"{str(year - 1)[-4:]}-{str(year)[-4:]}\""
   ]
  },
  {
   "cell_type": "code",
   "execution_count": 25,
   "id": "1a683b69",
   "metadata": {},
   "outputs": [
    {
     "data": {
      "text/html": [
       "<div>\n",
       "<style scoped>\n",
       "    .dataframe tbody tr th:only-of-type {\n",
       "        vertical-align: middle;\n",
       "    }\n",
       "\n",
       "    .dataframe tbody tr th {\n",
       "        vertical-align: top;\n",
       "    }\n",
       "\n",
       "    .dataframe thead th {\n",
       "        text-align: right;\n",
       "    }\n",
       "</style>\n",
       "<table border=\"1\" class=\"dataframe\">\n",
       "  <thead>\n",
       "    <tr style=\"text-align: right;\">\n",
       "      <th></th>\n",
       "      <th>Docket Number</th>\n",
       "      <th>Violation Date</th>\n",
       "      <th>Violation Address</th>\n",
       "      <th>Issuing Department Code</th>\n",
       "      <th>Imposed Fine Detailed</th>\n",
       "      <th>year</th>\n",
       "      <th>month</th>\n",
       "      <th>date</th>\n",
       "      <th>season</th>\n",
       "    </tr>\n",
       "  </thead>\n",
       "  <tbody>\n",
       "    <tr>\n",
       "      <th>0</th>\n",
       "      <td>18CP093079</td>\n",
       "      <td>2018-11-27</td>\n",
       "      <td>5045 N TRIPP</td>\n",
       "      <td>POLICE</td>\n",
       "      <td>0.0</td>\n",
       "      <td>2018</td>\n",
       "      <td>11</td>\n",
       "      <td>2018-11-27</td>\n",
       "      <td>2018-2019</td>\n",
       "    </tr>\n",
       "    <tr>\n",
       "      <th>1</th>\n",
       "      <td>18DS11011L</td>\n",
       "      <td>2018-01-05</td>\n",
       "      <td>741 W 123RD ST</td>\n",
       "      <td>STRTSAN</td>\n",
       "      <td>0.0</td>\n",
       "      <td>2018</td>\n",
       "      <td>1</td>\n",
       "      <td>2018-01-05</td>\n",
       "      <td>2017-2018</td>\n",
       "    </tr>\n",
       "    <tr>\n",
       "      <th>2</th>\n",
       "      <td>18DS16572L</td>\n",
       "      <td>2018-02-08</td>\n",
       "      <td>5033 S CICERO AVE</td>\n",
       "      <td>STRTSAN</td>\n",
       "      <td>50.0</td>\n",
       "      <td>2018</td>\n",
       "      <td>2</td>\n",
       "      <td>2018-02-08</td>\n",
       "      <td>2017-2018</td>\n",
       "    </tr>\n",
       "    <tr>\n",
       "      <th>3</th>\n",
       "      <td>18DS23469L</td>\n",
       "      <td>2018-02-13</td>\n",
       "      <td>4100 W MADISON ST</td>\n",
       "      <td>STRTSAN</td>\n",
       "      <td>50.0</td>\n",
       "      <td>2018</td>\n",
       "      <td>2</td>\n",
       "      <td>2018-02-13</td>\n",
       "      <td>2017-2018</td>\n",
       "    </tr>\n",
       "    <tr>\n",
       "      <th>4</th>\n",
       "      <td>18DT002526</td>\n",
       "      <td>2018-11-30</td>\n",
       "      <td>3401 W DIVERSEY</td>\n",
       "      <td>TRANPORT</td>\n",
       "      <td>110.0</td>\n",
       "      <td>2018</td>\n",
       "      <td>11</td>\n",
       "      <td>2018-11-30</td>\n",
       "      <td>2018-2019</td>\n",
       "    </tr>\n",
       "  </tbody>\n",
       "</table>\n",
       "</div>"
      ],
      "text/plain": [
       "  Docket Number Violation Date  Violation Address Issuing Department Code  \\\n",
       "0    18CP093079     2018-11-27      5045 N TRIPP                   POLICE   \n",
       "1    18DS11011L     2018-01-05     741 W 123RD ST                 STRTSAN   \n",
       "2    18DS16572L     2018-02-08  5033 S CICERO AVE                 STRTSAN   \n",
       "3    18DS23469L     2018-02-13  4100 W MADISON ST                 STRTSAN   \n",
       "4    18DT002526     2018-11-30   3401 W DIVERSEY                 TRANPORT   \n",
       "\n",
       "   Imposed Fine Detailed  year  month        date     season  \n",
       "0                    0.0  2018     11  2018-11-27  2018-2019  \n",
       "1                    0.0  2018      1  2018-01-05  2017-2018  \n",
       "2                   50.0  2018      2  2018-02-08  2017-2018  \n",
       "3                   50.0  2018      2  2018-02-13  2017-2018  \n",
       "4                  110.0  2018     11  2018-11-30  2018-2019  "
      ]
     },
     "execution_count": 25,
     "metadata": {},
     "output_type": "execute_result"
    }
   ],
   "source": [
    "# format and parse dates\n",
    "df['Violation Date'] = pd.to_datetime(df['Violation Date'])\n",
    "df['year'] = df['Violation Date'].dt.year\n",
    "df['month'] = df['Violation Date'].dt.month\n",
    "df['date'] = df['Violation Date'].dt.date\n",
    "df['season'] = df.apply(lambda row: get_season(row['month'], row['year']), axis=1)\n",
    "df['Imposed Fine Detailed'] = pd.to_numeric(df['Imposed Fine Detailed'].replace('[\\$,]', '', regex=True), errors='coerce')\n",
    "df.head()"
   ]
  },
  {
   "cell_type": "markdown",
   "id": "739d85db",
   "metadata": {},
   "source": [
    "### summarize by season"
   ]
  },
  {
   "cell_type": "code",
   "execution_count": 26,
   "id": "6ad2aa8f",
   "metadata": {},
   "outputs": [
    {
     "data": {
      "text/plain": [
       "season\n",
       "2000-2001     15\n",
       "2011-2012      1\n",
       "2017-2018      3\n",
       "2018-2019    475\n",
       "2019-2020    525\n",
       "2020-2021    996\n",
       "2021-2022    915\n",
       "2022-2023    124\n",
       "2023-2024      2\n",
       "dtype: int64"
      ]
     },
     "execution_count": 26,
     "metadata": {},
     "output_type": "execute_result"
    }
   ],
   "source": [
    "df.groupby('season').size()"
   ]
  },
  {
   "cell_type": "code",
   "execution_count": 27,
   "id": "8ab48fae",
   "metadata": {},
   "outputs": [
    {
     "data": {
      "text/plain": [
       "3056"
      ]
     },
     "execution_count": 27,
     "metadata": {},
     "output_type": "execute_result"
    }
   ],
   "source": [
    "len(df)"
   ]
  },
  {
   "cell_type": "markdown",
   "id": "1477fbfe",
   "metadata": {},
   "source": [
    "### filter for 2019 to 2023 only"
   ]
  },
  {
   "cell_type": "code",
   "execution_count": 28,
   "id": "b054be10",
   "metadata": {},
   "outputs": [
    {
     "data": {
      "text/plain": [
       "2560"
      ]
     },
     "execution_count": 28,
     "metadata": {},
     "output_type": "execute_result"
    }
   ],
   "source": [
    "df = df[(df['season'].isin(['2019-2020','2020-2021','2021-2022','2022-2023']))]\n",
    "len(df)"
   ]
  },
  {
   "cell_type": "markdown",
   "id": "fcc66fb1",
   "metadata": {},
   "source": [
    "### add city and state, for geocoding"
   ]
  },
  {
   "cell_type": "code",
   "execution_count": 29,
   "id": "9b30ebb7",
   "metadata": {},
   "outputs": [
    {
     "data": {
      "text/html": [
       "<div>\n",
       "<style scoped>\n",
       "    .dataframe tbody tr th:only-of-type {\n",
       "        vertical-align: middle;\n",
       "    }\n",
       "\n",
       "    .dataframe tbody tr th {\n",
       "        vertical-align: top;\n",
       "    }\n",
       "\n",
       "    .dataframe thead th {\n",
       "        text-align: right;\n",
       "    }\n",
       "</style>\n",
       "<table border=\"1\" class=\"dataframe\">\n",
       "  <thead>\n",
       "    <tr style=\"text-align: right;\">\n",
       "      <th></th>\n",
       "      <th>Docket Number</th>\n",
       "      <th>Violation Date</th>\n",
       "      <th>Violation Address</th>\n",
       "      <th>Issuing Department Code</th>\n",
       "      <th>Imposed Fine Detailed</th>\n",
       "      <th>year</th>\n",
       "      <th>month</th>\n",
       "      <th>date</th>\n",
       "      <th>season</th>\n",
       "      <th>City</th>\n",
       "      <th>State</th>\n",
       "    </tr>\n",
       "  </thead>\n",
       "  <tbody>\n",
       "    <tr>\n",
       "      <th>243</th>\n",
       "      <td>19DS68300L</td>\n",
       "      <td>2019-11-13</td>\n",
       "      <td>4710 S WESTERN AVE</td>\n",
       "      <td>STRTSAN</td>\n",
       "      <td>150.0</td>\n",
       "      <td>2019</td>\n",
       "      <td>11</td>\n",
       "      <td>2019-11-13</td>\n",
       "      <td>2019-2020</td>\n",
       "      <td>Chicago</td>\n",
       "      <td>Illinois</td>\n",
       "    </tr>\n",
       "    <tr>\n",
       "      <th>244</th>\n",
       "      <td>19DS69216L</td>\n",
       "      <td>2019-11-13</td>\n",
       "      <td>1425 W MORSE AVE</td>\n",
       "      <td>STRTSAN</td>\n",
       "      <td>50.0</td>\n",
       "      <td>2019</td>\n",
       "      <td>11</td>\n",
       "      <td>2019-11-13</td>\n",
       "      <td>2019-2020</td>\n",
       "      <td>Chicago</td>\n",
       "      <td>Illinois</td>\n",
       "    </tr>\n",
       "    <tr>\n",
       "      <th>245</th>\n",
       "      <td>19DS70010L</td>\n",
       "      <td>2019-11-13</td>\n",
       "      <td>715 E 47TH ST</td>\n",
       "      <td>STRTSAN</td>\n",
       "      <td>150.0</td>\n",
       "      <td>2019</td>\n",
       "      <td>11</td>\n",
       "      <td>2019-11-13</td>\n",
       "      <td>2019-2020</td>\n",
       "      <td>Chicago</td>\n",
       "      <td>Illinois</td>\n",
       "    </tr>\n",
       "    <tr>\n",
       "      <th>246</th>\n",
       "      <td>19DS72153L</td>\n",
       "      <td>2019-11-12</td>\n",
       "      <td>300 W WASHINGTON ST</td>\n",
       "      <td>STRTSAN</td>\n",
       "      <td>0.0</td>\n",
       "      <td>2019</td>\n",
       "      <td>11</td>\n",
       "      <td>2019-11-12</td>\n",
       "      <td>2019-2020</td>\n",
       "      <td>Chicago</td>\n",
       "      <td>Illinois</td>\n",
       "    </tr>\n",
       "    <tr>\n",
       "      <th>247</th>\n",
       "      <td>19DS72153L</td>\n",
       "      <td>2019-11-12</td>\n",
       "      <td>300 W WASHINGTON ST</td>\n",
       "      <td>STRTSAN</td>\n",
       "      <td>150.0</td>\n",
       "      <td>2019</td>\n",
       "      <td>11</td>\n",
       "      <td>2019-11-12</td>\n",
       "      <td>2019-2020</td>\n",
       "      <td>Chicago</td>\n",
       "      <td>Illinois</td>\n",
       "    </tr>\n",
       "  </tbody>\n",
       "</table>\n",
       "</div>"
      ],
      "text/plain": [
       "    Docket Number Violation Date    Violation Address Issuing Department Code  \\\n",
       "243    19DS68300L     2019-11-13   4710 S WESTERN AVE                 STRTSAN   \n",
       "244    19DS69216L     2019-11-13     1425 W MORSE AVE                 STRTSAN   \n",
       "245    19DS70010L     2019-11-13        715 E 47TH ST                 STRTSAN   \n",
       "246    19DS72153L     2019-11-12  300 W WASHINGTON ST                 STRTSAN   \n",
       "247    19DS72153L     2019-11-12  300 W WASHINGTON ST                 STRTSAN   \n",
       "\n",
       "     Imposed Fine Detailed  year  month        date     season     City  \\\n",
       "243                  150.0  2019     11  2019-11-13  2019-2020  Chicago   \n",
       "244                   50.0  2019     11  2019-11-13  2019-2020  Chicago   \n",
       "245                  150.0  2019     11  2019-11-13  2019-2020  Chicago   \n",
       "246                    0.0  2019     11  2019-11-12  2019-2020  Chicago   \n",
       "247                  150.0  2019     11  2019-11-12  2019-2020  Chicago   \n",
       "\n",
       "        State  \n",
       "243  Illinois  \n",
       "244  Illinois  \n",
       "245  Illinois  \n",
       "246  Illinois  \n",
       "247  Illinois  "
      ]
     },
     "execution_count": 29,
     "metadata": {},
     "output_type": "execute_result"
    }
   ],
   "source": [
    "df['City']='Chicago'\n",
    "df['State']='Illinois'\n",
    "df.head()"
   ]
  },
  {
   "cell_type": "markdown",
   "id": "2f9b3f22",
   "metadata": {},
   "source": [
    "<a name =\"correct\"></a>\n",
    "# 3. Correct Bad Addresses"
   ]
  },
  {
   "cell_type": "code",
   "execution_count": 30,
   "id": "0db61ce5",
   "metadata": {},
   "outputs": [],
   "source": [
    "# strip out trailing whitespace to get address merge to function. otherwise about 75% don't link correctly\n",
    "df['Violation Address'] = df['Violation Address'].str.strip()"
   ]
  },
  {
   "cell_type": "code",
   "execution_count": 31,
   "id": "bd76722b",
   "metadata": {},
   "outputs": [
    {
     "data": {
      "text/html": [
       "<div>\n",
       "<style scoped>\n",
       "    .dataframe tbody tr th:only-of-type {\n",
       "        vertical-align: middle;\n",
       "    }\n",
       "\n",
       "    .dataframe tbody tr th {\n",
       "        vertical-align: top;\n",
       "    }\n",
       "\n",
       "    .dataframe thead th {\n",
       "        text-align: right;\n",
       "    }\n",
       "</style>\n",
       "<table border=\"1\" class=\"dataframe\">\n",
       "  <thead>\n",
       "    <tr style=\"text-align: right;\">\n",
       "      <th></th>\n",
       "      <th>Violation Address</th>\n",
       "      <th>Cleaned Address</th>\n",
       "      <th>Corrected</th>\n",
       "    </tr>\n",
       "  </thead>\n",
       "  <tbody>\n",
       "    <tr>\n",
       "      <th>0</th>\n",
       "      <td>10320 S CHURCH</td>\n",
       "      <td>10320 S CHURCH ST</td>\n",
       "      <td>True</td>\n",
       "    </tr>\n",
       "    <tr>\n",
       "      <th>1</th>\n",
       "      <td>1108 W GRAND</td>\n",
       "      <td>1108 W GRAND AVE</td>\n",
       "      <td>True</td>\n",
       "    </tr>\n",
       "    <tr>\n",
       "      <th>2</th>\n",
       "      <td>1111 W MARSHFIELD</td>\n",
       "      <td>1111 N MARSHFIELD</td>\n",
       "      <td>True</td>\n",
       "    </tr>\n",
       "    <tr>\n",
       "      <th>3</th>\n",
       "      <td>1146 W GRAND</td>\n",
       "      <td>1146 W GRAND AVE</td>\n",
       "      <td>True</td>\n",
       "    </tr>\n",
       "    <tr>\n",
       "      <th>4</th>\n",
       "      <td>115 W LAWERENCE</td>\n",
       "      <td>115 W LAWRENCE</td>\n",
       "      <td>True</td>\n",
       "    </tr>\n",
       "  </tbody>\n",
       "</table>\n",
       "</div>"
      ],
      "text/plain": [
       "   Violation Address    Cleaned Address  Corrected\n",
       "0     10320 S CHURCH  10320 S CHURCH ST       True\n",
       "1       1108 W GRAND   1108 W GRAND AVE       True\n",
       "2  1111 W MARSHFIELD  1111 N MARSHFIELD       True\n",
       "3       1146 W GRAND   1146 W GRAND AVE       True\n",
       "4    115 W LAWERENCE     115 W LAWRENCE       True"
      ]
     },
     "execution_count": 31,
     "metadata": {},
     "output_type": "execute_result"
    }
   ],
   "source": [
    "df_corrections = pd.read_csv(\"../data/address-corrections.csv\")\n",
    "df_corrections['Violation Address'] = df_corrections['Violation Address'].str.strip()\n",
    "df_corrections.head()"
   ]
  },
  {
   "cell_type": "code",
   "execution_count": 32,
   "id": "3f6001f1",
   "metadata": {},
   "outputs": [],
   "source": [
    "df_cleaned = pd.merge(df,df_corrections, on='Violation Address', how='left')"
   ]
  },
  {
   "cell_type": "code",
   "execution_count": 33,
   "id": "1c6503ef",
   "metadata": {},
   "outputs": [
    {
     "data": {
      "text/html": [
       "<div>\n",
       "<style scoped>\n",
       "    .dataframe tbody tr th:only-of-type {\n",
       "        vertical-align: middle;\n",
       "    }\n",
       "\n",
       "    .dataframe tbody tr th {\n",
       "        vertical-align: top;\n",
       "    }\n",
       "\n",
       "    .dataframe thead th {\n",
       "        text-align: right;\n",
       "    }\n",
       "</style>\n",
       "<table border=\"1\" class=\"dataframe\">\n",
       "  <thead>\n",
       "    <tr style=\"text-align: right;\">\n",
       "      <th></th>\n",
       "      <th>Docket Number</th>\n",
       "      <th>Violation Date</th>\n",
       "      <th>Violation Address</th>\n",
       "      <th>Issuing Department Code</th>\n",
       "      <th>Imposed Fine Detailed</th>\n",
       "      <th>year</th>\n",
       "      <th>month</th>\n",
       "      <th>date</th>\n",
       "      <th>season</th>\n",
       "      <th>City</th>\n",
       "      <th>State</th>\n",
       "      <th>Cleaned Address</th>\n",
       "      <th>Corrected</th>\n",
       "    </tr>\n",
       "  </thead>\n",
       "  <tbody>\n",
       "    <tr>\n",
       "      <th>0</th>\n",
       "      <td>19DS68300L</td>\n",
       "      <td>2019-11-13</td>\n",
       "      <td>4710 S WESTERN AVE</td>\n",
       "      <td>STRTSAN</td>\n",
       "      <td>150.0</td>\n",
       "      <td>2019</td>\n",
       "      <td>11</td>\n",
       "      <td>2019-11-13</td>\n",
       "      <td>2019-2020</td>\n",
       "      <td>Chicago</td>\n",
       "      <td>Illinois</td>\n",
       "      <td>4710 S WESTERN AVE</td>\n",
       "      <td>NaN</td>\n",
       "    </tr>\n",
       "    <tr>\n",
       "      <th>1</th>\n",
       "      <td>19DS69216L</td>\n",
       "      <td>2019-11-13</td>\n",
       "      <td>1425 W MORSE AVE</td>\n",
       "      <td>STRTSAN</td>\n",
       "      <td>50.0</td>\n",
       "      <td>2019</td>\n",
       "      <td>11</td>\n",
       "      <td>2019-11-13</td>\n",
       "      <td>2019-2020</td>\n",
       "      <td>Chicago</td>\n",
       "      <td>Illinois</td>\n",
       "      <td>1425 W MORSE AVE</td>\n",
       "      <td>NaN</td>\n",
       "    </tr>\n",
       "    <tr>\n",
       "      <th>2</th>\n",
       "      <td>19DS70010L</td>\n",
       "      <td>2019-11-13</td>\n",
       "      <td>715 E 47TH ST</td>\n",
       "      <td>STRTSAN</td>\n",
       "      <td>150.0</td>\n",
       "      <td>2019</td>\n",
       "      <td>11</td>\n",
       "      <td>2019-11-13</td>\n",
       "      <td>2019-2020</td>\n",
       "      <td>Chicago</td>\n",
       "      <td>Illinois</td>\n",
       "      <td>715 E 47TH ST</td>\n",
       "      <td>NaN</td>\n",
       "    </tr>\n",
       "    <tr>\n",
       "      <th>3</th>\n",
       "      <td>19DS72153L</td>\n",
       "      <td>2019-11-12</td>\n",
       "      <td>300 W WASHINGTON ST</td>\n",
       "      <td>STRTSAN</td>\n",
       "      <td>0.0</td>\n",
       "      <td>2019</td>\n",
       "      <td>11</td>\n",
       "      <td>2019-11-12</td>\n",
       "      <td>2019-2020</td>\n",
       "      <td>Chicago</td>\n",
       "      <td>Illinois</td>\n",
       "      <td>300 W WASHINGTON ST</td>\n",
       "      <td>NaN</td>\n",
       "    </tr>\n",
       "    <tr>\n",
       "      <th>4</th>\n",
       "      <td>19DS72153L</td>\n",
       "      <td>2019-11-12</td>\n",
       "      <td>300 W WASHINGTON ST</td>\n",
       "      <td>STRTSAN</td>\n",
       "      <td>150.0</td>\n",
       "      <td>2019</td>\n",
       "      <td>11</td>\n",
       "      <td>2019-11-12</td>\n",
       "      <td>2019-2020</td>\n",
       "      <td>Chicago</td>\n",
       "      <td>Illinois</td>\n",
       "      <td>300 W WASHINGTON ST</td>\n",
       "      <td>NaN</td>\n",
       "    </tr>\n",
       "  </tbody>\n",
       "</table>\n",
       "</div>"
      ],
      "text/plain": [
       "  Docket Number Violation Date    Violation Address Issuing Department Code  \\\n",
       "0    19DS68300L     2019-11-13   4710 S WESTERN AVE                 STRTSAN   \n",
       "1    19DS69216L     2019-11-13     1425 W MORSE AVE                 STRTSAN   \n",
       "2    19DS70010L     2019-11-13        715 E 47TH ST                 STRTSAN   \n",
       "3    19DS72153L     2019-11-12  300 W WASHINGTON ST                 STRTSAN   \n",
       "4    19DS72153L     2019-11-12  300 W WASHINGTON ST                 STRTSAN   \n",
       "\n",
       "   Imposed Fine Detailed  year  month        date     season     City  \\\n",
       "0                  150.0  2019     11  2019-11-13  2019-2020  Chicago   \n",
       "1                   50.0  2019     11  2019-11-13  2019-2020  Chicago   \n",
       "2                  150.0  2019     11  2019-11-13  2019-2020  Chicago   \n",
       "3                    0.0  2019     11  2019-11-12  2019-2020  Chicago   \n",
       "4                  150.0  2019     11  2019-11-12  2019-2020  Chicago   \n",
       "\n",
       "      State      Cleaned Address Corrected  \n",
       "0  Illinois   4710 S WESTERN AVE       NaN  \n",
       "1  Illinois     1425 W MORSE AVE       NaN  \n",
       "2  Illinois        715 E 47TH ST       NaN  \n",
       "3  Illinois  300 W WASHINGTON ST       NaN  \n",
       "4  Illinois  300 W WASHINGTON ST       NaN  "
      ]
     },
     "execution_count": 33,
     "metadata": {},
     "output_type": "execute_result"
    }
   ],
   "source": [
    "# for correct records, copy existing address to cleaned address \n",
    "df_cleaned.loc[df_cleaned['Corrected'].isna(), 'Cleaned Address'] = df_cleaned['Violation Address']\n",
    "df_cleaned.head()"
   ]
  },
  {
   "cell_type": "code",
   "execution_count": 34,
   "id": "3a33b078",
   "metadata": {},
   "outputs": [
    {
     "data": {
      "text/plain": [
       "2561"
      ]
     },
     "execution_count": 34,
     "metadata": {},
     "output_type": "execute_result"
    }
   ],
   "source": [
    "len(df_cleaned)"
   ]
  },
  {
   "cell_type": "code",
   "execution_count": 35,
   "id": "2e3461c1",
   "metadata": {},
   "outputs": [
    {
     "data": {
      "text/plain": [
       "Corrected\n",
       "True    117\n",
       "dtype: int64"
      ]
     },
     "execution_count": 35,
     "metadata": {},
     "output_type": "execute_result"
    }
   ],
   "source": [
    "df_cleaned.groupby('Corrected').size()"
   ]
  },
  {
   "cell_type": "markdown",
   "id": "2aa78ef7",
   "metadata": {},
   "source": [
    "<a name=\"geocode\"></a>\n",
    "# 4. Export and Geocode Data"
   ]
  },
  {
   "cell_type": "code",
   "execution_count": 36,
   "id": "887d9c1b",
   "metadata": {},
   "outputs": [],
   "source": [
    "df_cleaned.to_csv(\"../data/fines-2019-2023.csv\")"
   ]
  },
  {
   "cell_type": "markdown",
   "id": "cca3667a",
   "metadata": {},
   "source": [
    "### Geocoding Data\n",
    "I did the following in QGIS to assign community areas to each fine:\n",
    "<ol>\n",
    "    <li>gathered files- points (CSV of snow clearance fines and addresses) and shapes (Chicago community areas GeoJSON)\n",
    "                <li>imported fines/addresses as Delimited Text Layer\n",
    "                    <li>geocoded addresses using MMQGIS\n",
    "            <li>imported regions GeoJSON\n",
    "               <li>performed a point-in-polygon spatial join\n",
    "                   <li>exported geocoded data as fines-geocoded-communities.csv\n",
    "    </ol>"
   ]
  },
  {
   "cell_type": "code",
   "execution_count": null,
   "id": "fe5a93e4",
   "metadata": {},
   "outputs": [],
   "source": []
  }
 ],
 "metadata": {
  "kernelspec": {
   "display_name": "Python 3 (ipykernel)",
   "language": "python",
   "name": "python3"
  },
  "language_info": {
   "codemirror_mode": {
    "name": "ipython",
    "version": 3
   },
   "file_extension": ".py",
   "mimetype": "text/x-python",
   "name": "python",
   "nbconvert_exporter": "python",
   "pygments_lexer": "ipython3",
   "version": "3.10.12"
  }
 },
 "nbformat": 4,
 "nbformat_minor": 5
}
