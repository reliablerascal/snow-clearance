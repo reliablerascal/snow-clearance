{
 "cells": [
  {
   "cell_type": "markdown",
   "id": "638444be",
   "metadata": {},
   "source": [
    "<h1>Get Snow Violations Data</h1>\n",
    "10 January 2024\n",
    "\n",
    "This analysis looks at 311 complaints filed as \"Snow – Uncleared Sidewalk Complaint,\" or SWSNOREM.<br>\n",
    "<br>\n",
    "My analysis steps:\n",
    "<ol>\n",
    "<li><a href=\"#configure\">Import Libraries</a>\n",
    "<li><a href=\"#get\">Get Data</a>\n",
    "    <li><a href=\"#prepare\">Prepare Data</a>\n",
    "        <li><a href=\"#save\">Save Data</a>\n",
    "</ol>"
   ]
  },
  {
   "cell_type": "markdown",
   "id": "3e8fc57e",
   "metadata": {},
   "source": [
    "<a name = \"configure\"></a>\n",
    "<h1>1. Import Libraries</h1>"
   ]
  },
  {
   "cell_type": "code",
   "execution_count": 94,
   "id": "109b46e0",
   "metadata": {},
   "outputs": [],
   "source": [
    "import pandas as pd\n",
    "import requests\n",
    "#import datetime as dt #would only need this if I manipulated dates post-API data retrieval"
   ]
  },
  {
   "cell_type": "markdown",
   "id": "2add0dd1",
   "metadata": {},
   "source": [
    "<a name = \"get\"></a>\n",
    "    <h1>2. Get Data</h1>"
   ]
  },
  {
   "cell_type": "code",
   "execution_count": 111,
   "id": "1087fac8",
   "metadata": {},
   "outputs": [
    {
     "name": "stdout",
     "output_type": "stream",
     "text": [
      "https://data.cityofchicago.org/resource/v6vf-nfxy.json?$SELECT=SR_NUMBER, SR_SHORT_CODE, CREATED_DATE, STREET_ADDRESS, COMMUNITY_AREA, WARD, STATUS, ORIGIN, CLOSED_DATE, LATITUDE, LONGITUDE, SR_TYPE&$WHERE=SR_TYPE like '%25Snow%25'&$LIMIT=99999\n"
     ]
    }
   ],
   "source": [
    "base_url = \"https://data.cityofchicago.org/resource/v6vf-nfxy.json\"\n",
    "select = \"SR_NUMBER, SR_SHORT_CODE, CREATED_DATE, STREET_ADDRESS, COMMUNITY_AREA, WARD, STATUS, ORIGIN, CLOSED_DATE, LATITUDE, LONGITUDE, SR_TYPE\"\n",
    "where = \"SR_TYPE like '%25Snow%25'\"\n",
    "limit = 99999\n",
    "\n",
    "url = f\"{base_url}?$SELECT={select}&$WHERE={where}&$LIMIT={limit}\"\n",
    "print (url)"
   ]
  },
  {
   "cell_type": "code",
   "execution_count": 112,
   "id": "3e0e0cc4",
   "metadata": {},
   "outputs": [
    {
     "name": "stdout",
     "output_type": "stream",
     "text": [
      "<Response [200]>\n"
     ]
    }
   ],
   "source": [
    "response = requests.get(url)\n",
    "data = response.json()\n",
    "print (response)"
   ]
  },
  {
   "cell_type": "markdown",
   "id": "1da32343",
   "metadata": {},
   "source": [
    "### verify dataset looks okay. should see about 68.5k records across 4x snow types as of early January 2024"
   ]
  },
  {
   "cell_type": "code",
   "execution_count": 113,
   "id": "67d95ad4",
   "metadata": {},
   "outputs": [
    {
     "data": {
      "text/html": [
       "<div>\n",
       "<style scoped>\n",
       "    .dataframe tbody tr th:only-of-type {\n",
       "        vertical-align: middle;\n",
       "    }\n",
       "\n",
       "    .dataframe tbody tr th {\n",
       "        vertical-align: top;\n",
       "    }\n",
       "\n",
       "    .dataframe thead th {\n",
       "        text-align: right;\n",
       "    }\n",
       "</style>\n",
       "<table border=\"1\" class=\"dataframe\">\n",
       "  <thead>\n",
       "    <tr style=\"text-align: right;\">\n",
       "      <th></th>\n",
       "      <th>SR_NUMBER</th>\n",
       "      <th>SR_SHORT_CODE</th>\n",
       "      <th>CREATED_DATE</th>\n",
       "      <th>STREET_ADDRESS</th>\n",
       "      <th>STATUS</th>\n",
       "      <th>ORIGIN</th>\n",
       "      <th>CLOSED_DATE</th>\n",
       "      <th>SR_TYPE</th>\n",
       "      <th>COMMUNITY_AREA</th>\n",
       "      <th>WARD</th>\n",
       "      <th>LATITUDE</th>\n",
       "      <th>LONGITUDE</th>\n",
       "    </tr>\n",
       "  </thead>\n",
       "  <tbody>\n",
       "    <tr>\n",
       "      <th>0</th>\n",
       "      <td>SR19-00102142</td>\n",
       "      <td>SDW</td>\n",
       "      <td>2019-01-22T17:47:53.000</td>\n",
       "      <td>23 S Drake AVE</td>\n",
       "      <td>Completed</td>\n",
       "      <td>Internet</td>\n",
       "      <td>2019-03-15T07:25:34.000</td>\n",
       "      <td>Snow - Object/Dibs Removal Request</td>\n",
       "      <td>NaN</td>\n",
       "      <td>NaN</td>\n",
       "      <td>NaN</td>\n",
       "      <td>NaN</td>\n",
       "    </tr>\n",
       "    <tr>\n",
       "      <th>1</th>\n",
       "      <td>SR22-00050149</td>\n",
       "      <td>SDO</td>\n",
       "      <td>2022-01-10T11:05:32.000</td>\n",
       "      <td>4151 W WASHINGTON BLVD</td>\n",
       "      <td>Completed</td>\n",
       "      <td>Mobile Device</td>\n",
       "      <td>2022-01-10T11:06:41.000</td>\n",
       "      <td>Ice and Snow Removal Request</td>\n",
       "      <td>26</td>\n",
       "      <td>28</td>\n",
       "      <td>41.881691809</td>\n",
       "      <td>-87.730165409</td>\n",
       "    </tr>\n",
       "    <tr>\n",
       "      <th>2</th>\n",
       "      <td>SR19-00123488</td>\n",
       "      <td>SDW</td>\n",
       "      <td>2019-01-27T16:13:36.000</td>\n",
       "      <td>2320 N Luna AVE</td>\n",
       "      <td>Completed</td>\n",
       "      <td>Internet</td>\n",
       "      <td>2019-03-15T07:22:15.000</td>\n",
       "      <td>Snow - Object/Dibs Removal Request</td>\n",
       "      <td>NaN</td>\n",
       "      <td>NaN</td>\n",
       "      <td>NaN</td>\n",
       "      <td>NaN</td>\n",
       "    </tr>\n",
       "    <tr>\n",
       "      <th>3</th>\n",
       "      <td>SR23-01930406</td>\n",
       "      <td>SDO</td>\n",
       "      <td>2023-11-06T21:46:58.000</td>\n",
       "      <td>1410 E 62ND ST</td>\n",
       "      <td>Completed</td>\n",
       "      <td>Internet</td>\n",
       "      <td>2023-11-09T18:25:10.000</td>\n",
       "      <td>Ice and Snow Removal Request</td>\n",
       "      <td>42</td>\n",
       "      <td>20</td>\n",
       "      <td>41.782635001</td>\n",
       "      <td>-87.5906235</td>\n",
       "    </tr>\n",
       "    <tr>\n",
       "      <th>4</th>\n",
       "      <td>SR23-01979807</td>\n",
       "      <td>SDW</td>\n",
       "      <td>2023-11-14T14:38:50.000</td>\n",
       "      <td>1421 N MENARD AVE</td>\n",
       "      <td>Completed</td>\n",
       "      <td>Mobile Device</td>\n",
       "      <td>2023-11-27T11:56:32.000</td>\n",
       "      <td>Snow - Object/Dibs Removal Request</td>\n",
       "      <td>25</td>\n",
       "      <td>29</td>\n",
       "      <td>41.906376001</td>\n",
       "      <td>-87.770403</td>\n",
       "    </tr>\n",
       "  </tbody>\n",
       "</table>\n",
       "</div>"
      ],
      "text/plain": [
       "       SR_NUMBER SR_SHORT_CODE             CREATED_DATE  \\\n",
       "0  SR19-00102142           SDW  2019-01-22T17:47:53.000   \n",
       "1  SR22-00050149           SDO  2022-01-10T11:05:32.000   \n",
       "2  SR19-00123488           SDW  2019-01-27T16:13:36.000   \n",
       "3  SR23-01930406           SDO  2023-11-06T21:46:58.000   \n",
       "4  SR23-01979807           SDW  2023-11-14T14:38:50.000   \n",
       "\n",
       "           STREET_ADDRESS     STATUS         ORIGIN              CLOSED_DATE  \\\n",
       "0          23 S Drake AVE  Completed       Internet  2019-03-15T07:25:34.000   \n",
       "1  4151 W WASHINGTON BLVD  Completed  Mobile Device  2022-01-10T11:06:41.000   \n",
       "2         2320 N Luna AVE  Completed       Internet  2019-03-15T07:22:15.000   \n",
       "3          1410 E 62ND ST  Completed       Internet  2023-11-09T18:25:10.000   \n",
       "4       1421 N MENARD AVE  Completed  Mobile Device  2023-11-27T11:56:32.000   \n",
       "\n",
       "                              SR_TYPE COMMUNITY_AREA WARD      LATITUDE  \\\n",
       "0  Snow - Object/Dibs Removal Request            NaN  NaN           NaN   \n",
       "1        Ice and Snow Removal Request             26   28  41.881691809   \n",
       "2  Snow - Object/Dibs Removal Request            NaN  NaN           NaN   \n",
       "3        Ice and Snow Removal Request             42   20  41.782635001   \n",
       "4  Snow - Object/Dibs Removal Request             25   29  41.906376001   \n",
       "\n",
       "       LONGITUDE  \n",
       "0            NaN  \n",
       "1  -87.730165409  \n",
       "2            NaN  \n",
       "3    -87.5906235  \n",
       "4     -87.770403  "
      ]
     },
     "execution_count": 113,
     "metadata": {},
     "output_type": "execute_result"
    }
   ],
   "source": [
    "df=pd.DataFrame(data)\n",
    "df.head()"
   ]
  },
  {
   "cell_type": "code",
   "execution_count": 114,
   "id": "d78adc8a",
   "metadata": {},
   "outputs": [
    {
     "data": {
      "text/plain": [
       "68554"
      ]
     },
     "execution_count": 114,
     "metadata": {},
     "output_type": "execute_result"
    }
   ],
   "source": [
    "len(df)"
   ]
  },
  {
   "cell_type": "markdown",
   "id": "8fb6720f",
   "metadata": {},
   "source": [
    "<a name = \"prepare\"></a>\n",
    "# 3. Prepare Data"
   ]
  },
  {
   "cell_type": "markdown",
   "id": "ac2423c0",
   "metadata": {},
   "source": [
    "### parse dates"
   ]
  },
  {
   "cell_type": "code",
   "execution_count": 115,
   "id": "5dd56f66",
   "metadata": {},
   "outputs": [],
   "source": [
    "def get_season(month, year):\n",
    "# Input:\n",
    "#   month: numeric month of the year (1-12)\n",
    "#   year (int): 4 digit year\n",
    "# Returns:\n",
    "#   season in yy-yy format. E.g. 22-23 means winter 2022-2023, or July 2022 to June 2023.\n",
    "\n",
    "    if month >= 7:\n",
    "        return f\"{str(year)[-2:]}-{str(year + 1)[-2:]}\"\n",
    "    else:\n",
    "        return f\"{str(year - 1)[-2:]}-{str(year)[-2:]}\""
   ]
  },
  {
   "cell_type": "code",
   "execution_count": 116,
   "id": "1d15bccd",
   "metadata": {},
   "outputs": [
    {
     "data": {
      "text/html": [
       "<div>\n",
       "<style scoped>\n",
       "    .dataframe tbody tr th:only-of-type {\n",
       "        vertical-align: middle;\n",
       "    }\n",
       "\n",
       "    .dataframe tbody tr th {\n",
       "        vertical-align: top;\n",
       "    }\n",
       "\n",
       "    .dataframe thead th {\n",
       "        text-align: right;\n",
       "    }\n",
       "</style>\n",
       "<table border=\"1\" class=\"dataframe\">\n",
       "  <thead>\n",
       "    <tr style=\"text-align: right;\">\n",
       "      <th></th>\n",
       "      <th>SR_NUMBER</th>\n",
       "      <th>SR_SHORT_CODE</th>\n",
       "      <th>CREATED_DATE</th>\n",
       "      <th>STREET_ADDRESS</th>\n",
       "      <th>STATUS</th>\n",
       "      <th>ORIGIN</th>\n",
       "      <th>CLOSED_DATE</th>\n",
       "      <th>SR_TYPE</th>\n",
       "      <th>COMMUNITY_AREA</th>\n",
       "      <th>WARD</th>\n",
       "      <th>LATITUDE</th>\n",
       "      <th>LONGITUDE</th>\n",
       "      <th>year</th>\n",
       "      <th>month</th>\n",
       "      <th>date</th>\n",
       "      <th>season</th>\n",
       "    </tr>\n",
       "  </thead>\n",
       "  <tbody>\n",
       "    <tr>\n",
       "      <th>0</th>\n",
       "      <td>SR19-00102142</td>\n",
       "      <td>SDW</td>\n",
       "      <td>2019-01-22 17:47:53</td>\n",
       "      <td>23 S Drake AVE</td>\n",
       "      <td>Completed</td>\n",
       "      <td>Internet</td>\n",
       "      <td>2019-03-15 07:25:34</td>\n",
       "      <td>Snow - Object/Dibs Removal Request</td>\n",
       "      <td>NaN</td>\n",
       "      <td>NaN</td>\n",
       "      <td>NaN</td>\n",
       "      <td>NaN</td>\n",
       "      <td>2019</td>\n",
       "      <td>1</td>\n",
       "      <td>2019-01-22</td>\n",
       "      <td>18-19</td>\n",
       "    </tr>\n",
       "    <tr>\n",
       "      <th>1</th>\n",
       "      <td>SR22-00050149</td>\n",
       "      <td>SDO</td>\n",
       "      <td>2022-01-10 11:05:32</td>\n",
       "      <td>4151 W WASHINGTON BLVD</td>\n",
       "      <td>Completed</td>\n",
       "      <td>Mobile Device</td>\n",
       "      <td>2022-01-10 11:06:41</td>\n",
       "      <td>Ice and Snow Removal Request</td>\n",
       "      <td>26</td>\n",
       "      <td>28</td>\n",
       "      <td>41.881691809</td>\n",
       "      <td>-87.730165409</td>\n",
       "      <td>2022</td>\n",
       "      <td>1</td>\n",
       "      <td>2022-01-10</td>\n",
       "      <td>21-22</td>\n",
       "    </tr>\n",
       "    <tr>\n",
       "      <th>2</th>\n",
       "      <td>SR19-00123488</td>\n",
       "      <td>SDW</td>\n",
       "      <td>2019-01-27 16:13:36</td>\n",
       "      <td>2320 N Luna AVE</td>\n",
       "      <td>Completed</td>\n",
       "      <td>Internet</td>\n",
       "      <td>2019-03-15 07:22:15</td>\n",
       "      <td>Snow - Object/Dibs Removal Request</td>\n",
       "      <td>NaN</td>\n",
       "      <td>NaN</td>\n",
       "      <td>NaN</td>\n",
       "      <td>NaN</td>\n",
       "      <td>2019</td>\n",
       "      <td>1</td>\n",
       "      <td>2019-01-27</td>\n",
       "      <td>18-19</td>\n",
       "    </tr>\n",
       "    <tr>\n",
       "      <th>3</th>\n",
       "      <td>SR23-01930406</td>\n",
       "      <td>SDO</td>\n",
       "      <td>2023-11-06 21:46:58</td>\n",
       "      <td>1410 E 62ND ST</td>\n",
       "      <td>Completed</td>\n",
       "      <td>Internet</td>\n",
       "      <td>2023-11-09 18:25:10</td>\n",
       "      <td>Ice and Snow Removal Request</td>\n",
       "      <td>42</td>\n",
       "      <td>20</td>\n",
       "      <td>41.782635001</td>\n",
       "      <td>-87.5906235</td>\n",
       "      <td>2023</td>\n",
       "      <td>11</td>\n",
       "      <td>2023-11-06</td>\n",
       "      <td>23-24</td>\n",
       "    </tr>\n",
       "    <tr>\n",
       "      <th>4</th>\n",
       "      <td>SR23-01979807</td>\n",
       "      <td>SDW</td>\n",
       "      <td>2023-11-14 14:38:50</td>\n",
       "      <td>1421 N MENARD AVE</td>\n",
       "      <td>Completed</td>\n",
       "      <td>Mobile Device</td>\n",
       "      <td>2023-11-27 11:56:32</td>\n",
       "      <td>Snow - Object/Dibs Removal Request</td>\n",
       "      <td>25</td>\n",
       "      <td>29</td>\n",
       "      <td>41.906376001</td>\n",
       "      <td>-87.770403</td>\n",
       "      <td>2023</td>\n",
       "      <td>11</td>\n",
       "      <td>2023-11-14</td>\n",
       "      <td>23-24</td>\n",
       "    </tr>\n",
       "  </tbody>\n",
       "</table>\n",
       "</div>"
      ],
      "text/plain": [
       "       SR_NUMBER SR_SHORT_CODE        CREATED_DATE          STREET_ADDRESS  \\\n",
       "0  SR19-00102142           SDW 2019-01-22 17:47:53          23 S Drake AVE   \n",
       "1  SR22-00050149           SDO 2022-01-10 11:05:32  4151 W WASHINGTON BLVD   \n",
       "2  SR19-00123488           SDW 2019-01-27 16:13:36         2320 N Luna AVE   \n",
       "3  SR23-01930406           SDO 2023-11-06 21:46:58          1410 E 62ND ST   \n",
       "4  SR23-01979807           SDW 2023-11-14 14:38:50       1421 N MENARD AVE   \n",
       "\n",
       "      STATUS         ORIGIN         CLOSED_DATE  \\\n",
       "0  Completed       Internet 2019-03-15 07:25:34   \n",
       "1  Completed  Mobile Device 2022-01-10 11:06:41   \n",
       "2  Completed       Internet 2019-03-15 07:22:15   \n",
       "3  Completed       Internet 2023-11-09 18:25:10   \n",
       "4  Completed  Mobile Device 2023-11-27 11:56:32   \n",
       "\n",
       "                              SR_TYPE COMMUNITY_AREA WARD      LATITUDE  \\\n",
       "0  Snow - Object/Dibs Removal Request            NaN  NaN           NaN   \n",
       "1        Ice and Snow Removal Request             26   28  41.881691809   \n",
       "2  Snow - Object/Dibs Removal Request            NaN  NaN           NaN   \n",
       "3        Ice and Snow Removal Request             42   20  41.782635001   \n",
       "4  Snow - Object/Dibs Removal Request             25   29  41.906376001   \n",
       "\n",
       "       LONGITUDE  year  month        date season  \n",
       "0            NaN  2019      1  2019-01-22  18-19  \n",
       "1  -87.730165409  2022      1  2022-01-10  21-22  \n",
       "2            NaN  2019      1  2019-01-27  18-19  \n",
       "3    -87.5906235  2023     11  2023-11-06  23-24  \n",
       "4     -87.770403  2023     11  2023-11-14  23-24  "
      ]
     },
     "execution_count": 116,
     "metadata": {},
     "output_type": "execute_result"
    }
   ],
   "source": [
    "# format and parse dates\n",
    "df['CREATED_DATE'] = pd.to_datetime(df['CREATED_DATE'])\n",
    "df['CLOSED_DATE'] = pd.to_datetime(df['CLOSED_DATE'])\n",
    "df['year'] = df['CREATED_DATE'].dt.year\n",
    "df['month'] = df['CREATED_DATE'].dt.month\n",
    "df['date'] = df['CREATED_DATE'].dt.date\n",
    "df['season'] = df.apply(lambda row: get_season(row['month'], row['year']), axis=1)\n",
    "df.head()"
   ]
  },
  {
   "cell_type": "code",
   "execution_count": 117,
   "id": "2676fda9",
   "metadata": {},
   "outputs": [
    {
     "data": {
      "text/plain": [
       "season\n",
       "18-19      635\n",
       "19-20    10113\n",
       "20-21    30967\n",
       "21-22    22396\n",
       "22-23     4157\n",
       "23-24      286\n",
       "dtype: int64"
      ]
     },
     "execution_count": 117,
     "metadata": {},
     "output_type": "execute_result"
    }
   ],
   "source": [
    "# review season assignment\n",
    "df.groupby('season').size()"
   ]
  },
  {
   "cell_type": "markdown",
   "id": "f908bc96",
   "metadata": {},
   "source": [
    "### identify records with missing or suburban address"
   ]
  },
  {
   "cell_type": "code",
   "execution_count": 118,
   "id": "2fd8230a",
   "metadata": {},
   "outputs": [
    {
     "data": {
      "text/plain": [
       "202"
      ]
     },
     "execution_count": 118,
     "metadata": {},
     "output_type": "execute_result"
    }
   ],
   "source": [
    "# find records with missing address\n",
    "len(df[df['STREET_ADDRESS'].isna()==True])"
   ]
  },
  {
   "cell_type": "code",
   "execution_count": 119,
   "id": "97203f30",
   "metadata": {},
   "outputs": [
    {
     "data": {
      "text/plain": [
       "175"
      ]
     },
     "execution_count": 119,
     "metadata": {},
     "output_type": "execute_result"
    }
   ],
   "source": [
    "len(df[df['COMMUNITY_AREA'].isna()==True])"
   ]
  },
  {
   "cell_type": "code",
   "execution_count": 120,
   "id": "a1626d2e",
   "metadata": {},
   "outputs": [
    {
     "data": {
      "text/plain": [
       "169"
      ]
     },
     "execution_count": 120,
     "metadata": {},
     "output_type": "execute_result"
    }
   ],
   "source": [
    "len(df[df['WARD'].isna()==True])"
   ]
  },
  {
   "cell_type": "markdown",
   "id": "ff51468c",
   "metadata": {},
   "source": [
    "### remove invalid addresses"
   ]
  },
  {
   "cell_type": "code",
   "execution_count": 121,
   "id": "c7f3128b",
   "metadata": {},
   "outputs": [
    {
     "data": {
      "text/plain": [
       "68263"
      ]
     },
     "execution_count": 121,
     "metadata": {},
     "output_type": "execute_result"
    }
   ],
   "source": [
    "df_valid_address = df[(df['STREET_ADDRESS'].isna()==False)\n",
    "                     & (df['WARD'].isna()==False)\n",
    "                     & (df['COMMUNITY_AREA'].isna()==False)]\n",
    "len(df_valid_address)"
   ]
  },
  {
   "cell_type": "code",
   "execution_count": 122,
   "id": "c332fb90",
   "metadata": {},
   "outputs": [
    {
     "name": "stderr",
     "output_type": "stream",
     "text": [
      "/tmp/ipykernel_2078/1714811663.py:2: SettingWithCopyWarning: \n",
      "A value is trying to be set on a copy of a slice from a DataFrame.\n",
      "Try using .loc[row_indexer,col_indexer] = value instead\n",
      "\n",
      "See the caveats in the documentation: https://pandas.pydata.org/pandas-docs/stable/user_guide/indexing.html#returning-a-view-versus-a-copy\n",
      "  df_valid_address['COMMUNITY_AREA'] = df_valid_address['COMMUNITY_AREA'].astype(int)\n",
      "/tmp/ipykernel_2078/1714811663.py:3: SettingWithCopyWarning: \n",
      "A value is trying to be set on a copy of a slice from a DataFrame.\n",
      "Try using .loc[row_indexer,col_indexer] = value instead\n",
      "\n",
      "See the caveats in the documentation: https://pandas.pydata.org/pandas-docs/stable/user_guide/indexing.html#returning-a-view-versus-a-copy\n",
      "  df_valid_address['WARD'] = df_valid_address['WARD'].astype(int)\n"
     ]
    }
   ],
   "source": [
    "# then correct object types to integer\n",
    "df_valid_address['COMMUNITY_AREA'] = df_valid_address['COMMUNITY_AREA'].astype(int)\n",
    "df_valid_address['WARD'] = df_valid_address['WARD'].astype(int)"
   ]
  },
  {
   "cell_type": "markdown",
   "id": "b31d4b39",
   "metadata": {},
   "source": [
    "### read community area names"
   ]
  },
  {
   "cell_type": "code",
   "execution_count": 123,
   "id": "1d9e557c",
   "metadata": {},
   "outputs": [],
   "source": [
    "# retrieved on 1/10/24\n",
    "#from https://data.cityofchicago.org/Facilities-Geographic-Boundaries/Boundaries-Community-Areas-current-/cauq-8yn6\n",
    "\n",
    "df_communities = pd.read_csv(\"../data/CommAreas.csv\")"
   ]
  },
  {
   "cell_type": "code",
   "execution_count": 124,
   "id": "40a72aff",
   "metadata": {},
   "outputs": [
    {
     "data": {
      "text/html": [
       "<div>\n",
       "<style scoped>\n",
       "    .dataframe tbody tr th:only-of-type {\n",
       "        vertical-align: middle;\n",
       "    }\n",
       "\n",
       "    .dataframe tbody tr th {\n",
       "        vertical-align: top;\n",
       "    }\n",
       "\n",
       "    .dataframe thead th {\n",
       "        text-align: right;\n",
       "    }\n",
       "</style>\n",
       "<table border=\"1\" class=\"dataframe\">\n",
       "  <thead>\n",
       "    <tr style=\"text-align: right;\">\n",
       "      <th></th>\n",
       "      <th>AREA_NUMBE</th>\n",
       "      <th>COMMUNITY_NAME</th>\n",
       "    </tr>\n",
       "  </thead>\n",
       "  <tbody>\n",
       "    <tr>\n",
       "      <th>0</th>\n",
       "      <td>35</td>\n",
       "      <td>DOUGLAS</td>\n",
       "    </tr>\n",
       "    <tr>\n",
       "      <th>1</th>\n",
       "      <td>36</td>\n",
       "      <td>OAKLAND</td>\n",
       "    </tr>\n",
       "    <tr>\n",
       "      <th>2</th>\n",
       "      <td>37</td>\n",
       "      <td>FULLER PARK</td>\n",
       "    </tr>\n",
       "    <tr>\n",
       "      <th>3</th>\n",
       "      <td>38</td>\n",
       "      <td>GRAND BOULEVARD</td>\n",
       "    </tr>\n",
       "    <tr>\n",
       "      <th>4</th>\n",
       "      <td>39</td>\n",
       "      <td>KENWOOD</td>\n",
       "    </tr>\n",
       "  </tbody>\n",
       "</table>\n",
       "</div>"
      ],
      "text/plain": [
       "   AREA_NUMBE   COMMUNITY_NAME\n",
       "0          35          DOUGLAS\n",
       "1          36          OAKLAND\n",
       "2          37      FULLER PARK\n",
       "3          38  GRAND BOULEVARD\n",
       "4          39          KENWOOD"
      ]
     },
     "execution_count": 124,
     "metadata": {},
     "output_type": "execute_result"
    }
   ],
   "source": [
    "# simplify dataframe to get only essentials\n",
    "df_communities = df_communities[['AREA_NUMBE','COMMUNITY']]\n",
    "df_communities = df_communities.rename(columns={'COMMUNITY':'COMMUNITY_NAME'})\n",
    "df_communities.head()"
   ]
  },
  {
   "cell_type": "markdown",
   "id": "da2c48c6",
   "metadata": {},
   "source": [
    "### merge in community names"
   ]
  },
  {
   "cell_type": "code",
   "execution_count": 125,
   "id": "bf4716c3",
   "metadata": {},
   "outputs": [
    {
     "data": {
      "text/html": [
       "<div>\n",
       "<style scoped>\n",
       "    .dataframe tbody tr th:only-of-type {\n",
       "        vertical-align: middle;\n",
       "    }\n",
       "\n",
       "    .dataframe tbody tr th {\n",
       "        vertical-align: top;\n",
       "    }\n",
       "\n",
       "    .dataframe thead th {\n",
       "        text-align: right;\n",
       "    }\n",
       "</style>\n",
       "<table border=\"1\" class=\"dataframe\">\n",
       "  <thead>\n",
       "    <tr style=\"text-align: right;\">\n",
       "      <th></th>\n",
       "      <th>SR_NUMBER</th>\n",
       "      <th>SR_SHORT_CODE</th>\n",
       "      <th>CREATED_DATE</th>\n",
       "      <th>STREET_ADDRESS</th>\n",
       "      <th>STATUS</th>\n",
       "      <th>ORIGIN</th>\n",
       "      <th>CLOSED_DATE</th>\n",
       "      <th>SR_TYPE</th>\n",
       "      <th>COMMUNITY_AREA</th>\n",
       "      <th>WARD</th>\n",
       "      <th>LATITUDE</th>\n",
       "      <th>LONGITUDE</th>\n",
       "      <th>year</th>\n",
       "      <th>month</th>\n",
       "      <th>date</th>\n",
       "      <th>season</th>\n",
       "      <th>AREA_NUMBE</th>\n",
       "      <th>COMMUNITY_NAME</th>\n",
       "    </tr>\n",
       "  </thead>\n",
       "  <tbody>\n",
       "    <tr>\n",
       "      <th>0</th>\n",
       "      <td>SR22-00050149</td>\n",
       "      <td>SDO</td>\n",
       "      <td>2022-01-10 11:05:32</td>\n",
       "      <td>4151 W WASHINGTON BLVD</td>\n",
       "      <td>Completed</td>\n",
       "      <td>Mobile Device</td>\n",
       "      <td>2022-01-10 11:06:41</td>\n",
       "      <td>Ice and Snow Removal Request</td>\n",
       "      <td>26</td>\n",
       "      <td>28</td>\n",
       "      <td>41.881691809</td>\n",
       "      <td>-87.730165409</td>\n",
       "      <td>2022</td>\n",
       "      <td>1</td>\n",
       "      <td>2022-01-10</td>\n",
       "      <td>21-22</td>\n",
       "      <td>26</td>\n",
       "      <td>WEST GARFIELD PARK</td>\n",
       "    </tr>\n",
       "    <tr>\n",
       "      <th>1</th>\n",
       "      <td>SR21-00179282</td>\n",
       "      <td>SDO</td>\n",
       "      <td>2021-02-01 13:23:33</td>\n",
       "      <td>4100 W CARROLL AVE</td>\n",
       "      <td>Completed</td>\n",
       "      <td>Mobile Device</td>\n",
       "      <td>2021-02-01 21:10:54</td>\n",
       "      <td>Ice and Snow Removal Request</td>\n",
       "      <td>26</td>\n",
       "      <td>28</td>\n",
       "      <td>41.886832912</td>\n",
       "      <td>-87.728423604</td>\n",
       "      <td>2021</td>\n",
       "      <td>2</td>\n",
       "      <td>2021-02-01</td>\n",
       "      <td>20-21</td>\n",
       "      <td>26</td>\n",
       "      <td>WEST GARFIELD PARK</td>\n",
       "    </tr>\n",
       "    <tr>\n",
       "      <th>2</th>\n",
       "      <td>SR24-00033667</td>\n",
       "      <td>SWSNOREM</td>\n",
       "      <td>2024-01-06 09:47:03</td>\n",
       "      <td>4015 W ARTHINGTON ST</td>\n",
       "      <td>Completed</td>\n",
       "      <td>Phone Call</td>\n",
       "      <td>2024-01-08 09:57:27</td>\n",
       "      <td>Snow – Uncleared Sidewalk Complaint</td>\n",
       "      <td>26</td>\n",
       "      <td>24</td>\n",
       "      <td>41.869818001</td>\n",
       "      <td>-87.7260465</td>\n",
       "      <td>2024</td>\n",
       "      <td>1</td>\n",
       "      <td>2024-01-06</td>\n",
       "      <td>23-24</td>\n",
       "      <td>26</td>\n",
       "      <td>WEST GARFIELD PARK</td>\n",
       "    </tr>\n",
       "    <tr>\n",
       "      <th>3</th>\n",
       "      <td>SR21-00149624</td>\n",
       "      <td>SDO</td>\n",
       "      <td>2021-01-27 13:28:47</td>\n",
       "      <td>4500 W MAYPOLE AVE</td>\n",
       "      <td>Completed</td>\n",
       "      <td>Mobile Device</td>\n",
       "      <td>2021-01-27 19:18:47</td>\n",
       "      <td>Ice and Snow Removal Request</td>\n",
       "      <td>26</td>\n",
       "      <td>28</td>\n",
       "      <td>41.884790069</td>\n",
       "      <td>-87.738237328</td>\n",
       "      <td>2021</td>\n",
       "      <td>1</td>\n",
       "      <td>2021-01-27</td>\n",
       "      <td>20-21</td>\n",
       "      <td>26</td>\n",
       "      <td>WEST GARFIELD PARK</td>\n",
       "    </tr>\n",
       "    <tr>\n",
       "      <th>4</th>\n",
       "      <td>SR21-00194056</td>\n",
       "      <td>SDO</td>\n",
       "      <td>2021-02-03 14:07:31</td>\n",
       "      <td>212 N KENNETH AVE</td>\n",
       "      <td>Completed</td>\n",
       "      <td>Mobile Device</td>\n",
       "      <td>2021-02-03 15:56:32</td>\n",
       "      <td>Ice and Snow Removal Request</td>\n",
       "      <td>26</td>\n",
       "      <td>28</td>\n",
       "      <td>41.8839303</td>\n",
       "      <td>-87.737340893</td>\n",
       "      <td>2021</td>\n",
       "      <td>2</td>\n",
       "      <td>2021-02-03</td>\n",
       "      <td>20-21</td>\n",
       "      <td>26</td>\n",
       "      <td>WEST GARFIELD PARK</td>\n",
       "    </tr>\n",
       "  </tbody>\n",
       "</table>\n",
       "</div>"
      ],
      "text/plain": [
       "       SR_NUMBER SR_SHORT_CODE        CREATED_DATE          STREET_ADDRESS  \\\n",
       "0  SR22-00050149           SDO 2022-01-10 11:05:32  4151 W WASHINGTON BLVD   \n",
       "1  SR21-00179282           SDO 2021-02-01 13:23:33      4100 W CARROLL AVE   \n",
       "2  SR24-00033667      SWSNOREM 2024-01-06 09:47:03    4015 W ARTHINGTON ST   \n",
       "3  SR21-00149624           SDO 2021-01-27 13:28:47      4500 W MAYPOLE AVE   \n",
       "4  SR21-00194056           SDO 2021-02-03 14:07:31       212 N KENNETH AVE   \n",
       "\n",
       "      STATUS         ORIGIN         CLOSED_DATE  \\\n",
       "0  Completed  Mobile Device 2022-01-10 11:06:41   \n",
       "1  Completed  Mobile Device 2021-02-01 21:10:54   \n",
       "2  Completed     Phone Call 2024-01-08 09:57:27   \n",
       "3  Completed  Mobile Device 2021-01-27 19:18:47   \n",
       "4  Completed  Mobile Device 2021-02-03 15:56:32   \n",
       "\n",
       "                               SR_TYPE  COMMUNITY_AREA  WARD      LATITUDE  \\\n",
       "0         Ice and Snow Removal Request              26    28  41.881691809   \n",
       "1         Ice and Snow Removal Request              26    28  41.886832912   \n",
       "2  Snow – Uncleared Sidewalk Complaint              26    24  41.869818001   \n",
       "3         Ice and Snow Removal Request              26    28  41.884790069   \n",
       "4         Ice and Snow Removal Request              26    28    41.8839303   \n",
       "\n",
       "       LONGITUDE  year  month        date season  AREA_NUMBE  \\\n",
       "0  -87.730165409  2022      1  2022-01-10  21-22          26   \n",
       "1  -87.728423604  2021      2  2021-02-01  20-21          26   \n",
       "2    -87.7260465  2024      1  2024-01-06  23-24          26   \n",
       "3  -87.738237328  2021      1  2021-01-27  20-21          26   \n",
       "4  -87.737340893  2021      2  2021-02-03  20-21          26   \n",
       "\n",
       "       COMMUNITY_NAME  \n",
       "0  WEST GARFIELD PARK  \n",
       "1  WEST GARFIELD PARK  \n",
       "2  WEST GARFIELD PARK  \n",
       "3  WEST GARFIELD PARK  \n",
       "4  WEST GARFIELD PARK  "
      ]
     },
     "execution_count": 125,
     "metadata": {},
     "output_type": "execute_result"
    }
   ],
   "source": [
    "df_clean = pd.merge(left=df_valid_address,right=df_communities,left_on='COMMUNITY_AREA',right_on='AREA_NUMBE')\n",
    "df_clean.head()"
   ]
  },
  {
   "cell_type": "markdown",
   "id": "9d751c48",
   "metadata": {},
   "source": [
    "<a name = \"save\"></a>\n",
    "# 4. Save Data"
   ]
  },
  {
   "cell_type": "code",
   "execution_count": 126,
   "id": "d927d06f",
   "metadata": {},
   "outputs": [],
   "source": [
    "df_clean.to_csv(\"../data/311-snow-violations.csv\", index=False)"
   ]
  }
 ],
 "metadata": {
  "kernelspec": {
   "display_name": "Python 3 (ipykernel)",
   "language": "python",
   "name": "python3"
  },
  "language_info": {
   "codemirror_mode": {
    "name": "ipython",
    "version": 3
   },
   "file_extension": ".py",
   "mimetype": "text/x-python",
   "name": "python",
   "nbconvert_exporter": "python",
   "pygments_lexer": "ipython3",
   "version": "3.10.12"
  }
 },
 "nbformat": 4,
 "nbformat_minor": 5
}
