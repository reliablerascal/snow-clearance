{
 "cells": [
  {
   "cell_type": "markdown",
   "id": "638444be",
   "metadata": {},
   "source": [
    "<h1>Snow Violations</h1>\n",
    "This analysis looks at 311 complaints filed as \"Snow – Uncleared Sidewalk Complaint,\" or SWSNOREM.<br>\n",
    "<br>\n",
    "My analysis steps:\n",
    "<ol>\n",
    "<li><a href=\"#docs\">Review API Documentation</a>\n",
    "<li><a href=\"#import\">Import Libraries</a>\n",
    "<li><a href=\"#retrieve_data\">Get Data</a>\n",
    "<li><a href=\"#summarize\">Summarize Data</a>\n",
    "</ol>\n",
    "\n",
    "<h3>Possible Next Steps</h3>\n",
    "<ul>\n",
    "    <li>TBD\n",
    "</ul>"
   ]
  },
  {
   "cell_type": "markdown",
   "id": "ce4414d7",
   "metadata": {},
   "source": [
    "<a name = \"docs\"></a>\n",
    "    <h1>1. Review API Documentation</h1>\n",
    "\n",
    "<h3>Socrata Portal Info</h3>\n",
    " <ul>\n",
    "<li><b>API Docs:</b> <a href=\"https://dev.socrata.com/\">https://dev.socrata.com/</a> (general reference for Socrata)<br>\n",
    "    </ul>   \n",
    "\n",
    "<h3>311 data</h3>\n",
    "<ul>\n",
    "    <li>https://data.cityofchicago.org/Service-Requests/311-Service-Requests/v6vf-nfxy\n",
    "        <li>API: https://data.cityofchicago.org/resource/v6vf-nfxy.json \n",
    "</ul>"
   ]
  },
  {
   "cell_type": "markdown",
   "id": "3e8fc57e",
   "metadata": {},
   "source": [
    "<a name = \"import\"></a>\n",
    "<h1>2. Import Libraries</h1>"
   ]
  },
  {
   "cell_type": "code",
   "execution_count": 1,
   "id": "109b46e0",
   "metadata": {},
   "outputs": [],
   "source": [
    "import pandas as pd\n",
    "import requests\n",
    "#import datetime as dt #would only need this if I manipulated dates post-API data retrieval"
   ]
  },
  {
   "cell_type": "markdown",
   "id": "2add0dd1",
   "metadata": {},
   "source": [
    "<a name = \"retrieve_data\"></a>\n",
    "    <h1>3. Get Data</h1>"
   ]
  },
  {
   "cell_type": "code",
   "execution_count": 33,
   "id": "1087fac8",
   "metadata": {},
   "outputs": [
    {
     "name": "stdout",
     "output_type": "stream",
     "text": [
      "https://data.cityofchicago.org/resource/v6vf-nfxy.json?$SELECT=SR_NUMBER, CREATED_DATE, STREET_ADDRESS&$WHERE=SR_SHORT_CODE='SWSNOREM'&$LIMIT=99999\n"
     ]
    }
   ],
   "source": [
    "base_url = \"https://data.cityofchicago.org/resource/v6vf-nfxy.json\"\n",
    "select = \"SR_NUMBER, CREATED_DATE, STREET_ADDRESS\"\n",
    "where = \"SR_SHORT_CODE='SWSNOREM'\"\n",
    "limit = 99999\n",
    "\n",
    "url = f\"{base_url}?$SELECT={select}&$WHERE={where}&$LIMIT={limit}\"\n",
    "print (url)"
   ]
  },
  {
   "cell_type": "code",
   "execution_count": 34,
   "id": "3e0e0cc4",
   "metadata": {},
   "outputs": [
    {
     "name": "stdout",
     "output_type": "stream",
     "text": [
      "<Response [200]>\n"
     ]
    }
   ],
   "source": [
    "response = requests.get(url)\n",
    "data = response.json()\n",
    "print (response)"
   ]
  },
  {
   "cell_type": "code",
   "execution_count": 35,
   "id": "67d95ad4",
   "metadata": {},
   "outputs": [
    {
     "data": {
      "text/html": [
       "<div>\n",
       "<style scoped>\n",
       "    .dataframe tbody tr th:only-of-type {\n",
       "        vertical-align: middle;\n",
       "    }\n",
       "\n",
       "    .dataframe tbody tr th {\n",
       "        vertical-align: top;\n",
       "    }\n",
       "\n",
       "    .dataframe thead th {\n",
       "        text-align: right;\n",
       "    }\n",
       "</style>\n",
       "<table border=\"1\" class=\"dataframe\">\n",
       "  <thead>\n",
       "    <tr style=\"text-align: right;\">\n",
       "      <th></th>\n",
       "      <th>SR_NUMBER</th>\n",
       "      <th>CREATED_DATE</th>\n",
       "      <th>STREET_ADDRESS</th>\n",
       "    </tr>\n",
       "  </thead>\n",
       "  <tbody>\n",
       "    <tr>\n",
       "      <th>0</th>\n",
       "      <td>SR23-01894991</td>\n",
       "      <td>2023-11-01T09:19:22.000</td>\n",
       "      <td>4555 N SHERIDAN RD</td>\n",
       "    </tr>\n",
       "    <tr>\n",
       "      <th>1</th>\n",
       "      <td>SR23-01897633</td>\n",
       "      <td>2023-11-01T13:23:12.000</td>\n",
       "      <td>3469 N BROADWAY ST</td>\n",
       "    </tr>\n",
       "    <tr>\n",
       "      <th>2</th>\n",
       "      <td>SR23-01903733</td>\n",
       "      <td>2023-11-02T11:59:47.000</td>\n",
       "      <td>5237 W WARWICK AVE</td>\n",
       "    </tr>\n",
       "    <tr>\n",
       "      <th>3</th>\n",
       "      <td>SR19-01048063</td>\n",
       "      <td>2019-02-21T10:26:44.000</td>\n",
       "      <td>2548 W RASCHER AVE</td>\n",
       "    </tr>\n",
       "    <tr>\n",
       "      <th>4</th>\n",
       "      <td>SR19-00125910</td>\n",
       "      <td>2019-01-28T10:27:35.000</td>\n",
       "      <td>116 W Pershing RD</td>\n",
       "    </tr>\n",
       "  </tbody>\n",
       "</table>\n",
       "</div>"
      ],
      "text/plain": [
       "       SR_NUMBER             CREATED_DATE      STREET_ADDRESS\n",
       "0  SR23-01894991  2023-11-01T09:19:22.000  4555 N SHERIDAN RD\n",
       "1  SR23-01897633  2023-11-01T13:23:12.000  3469 N BROADWAY ST\n",
       "2  SR23-01903733  2023-11-02T11:59:47.000  5237 W WARWICK AVE\n",
       "3  SR19-01048063  2019-02-21T10:26:44.000  2548 W RASCHER AVE\n",
       "4  SR19-00125910  2019-01-28T10:27:35.000   116 W Pershing RD"
      ]
     },
     "execution_count": 35,
     "metadata": {},
     "output_type": "execute_result"
    }
   ],
   "source": [
    "df_311=pd.DataFrame(data)\n",
    "df_311.head()"
   ]
  },
  {
   "cell_type": "code",
   "execution_count": 38,
   "id": "1d15bccd",
   "metadata": {},
   "outputs": [],
   "source": [
    "df_311['year']=df_311['CREATED_DATE'].str[:4]"
   ]
  },
  {
   "cell_type": "code",
   "execution_count": 39,
   "id": "774f5dd1",
   "metadata": {},
   "outputs": [
    {
     "data": {
      "text/html": [
       "<div>\n",
       "<style scoped>\n",
       "    .dataframe tbody tr th:only-of-type {\n",
       "        vertical-align: middle;\n",
       "    }\n",
       "\n",
       "    .dataframe tbody tr th {\n",
       "        vertical-align: top;\n",
       "    }\n",
       "\n",
       "    .dataframe thead th {\n",
       "        text-align: right;\n",
       "    }\n",
       "</style>\n",
       "<table border=\"1\" class=\"dataframe\">\n",
       "  <thead>\n",
       "    <tr style=\"text-align: right;\">\n",
       "      <th></th>\n",
       "      <th>SR_NUMBER</th>\n",
       "      <th>CREATED_DATE</th>\n",
       "      <th>STREET_ADDRESS</th>\n",
       "      <th>year</th>\n",
       "    </tr>\n",
       "  </thead>\n",
       "  <tbody>\n",
       "    <tr>\n",
       "      <th>0</th>\n",
       "      <td>SR23-01894991</td>\n",
       "      <td>2023-11-01T09:19:22.000</td>\n",
       "      <td>4555 N SHERIDAN RD</td>\n",
       "      <td>2023</td>\n",
       "    </tr>\n",
       "    <tr>\n",
       "      <th>1</th>\n",
       "      <td>SR23-01897633</td>\n",
       "      <td>2023-11-01T13:23:12.000</td>\n",
       "      <td>3469 N BROADWAY ST</td>\n",
       "      <td>2023</td>\n",
       "    </tr>\n",
       "    <tr>\n",
       "      <th>2</th>\n",
       "      <td>SR23-01903733</td>\n",
       "      <td>2023-11-02T11:59:47.000</td>\n",
       "      <td>5237 W WARWICK AVE</td>\n",
       "      <td>2023</td>\n",
       "    </tr>\n",
       "    <tr>\n",
       "      <th>3</th>\n",
       "      <td>SR19-01048063</td>\n",
       "      <td>2019-02-21T10:26:44.000</td>\n",
       "      <td>2548 W RASCHER AVE</td>\n",
       "      <td>2019</td>\n",
       "    </tr>\n",
       "    <tr>\n",
       "      <th>4</th>\n",
       "      <td>SR19-00125910</td>\n",
       "      <td>2019-01-28T10:27:35.000</td>\n",
       "      <td>116 W Pershing RD</td>\n",
       "      <td>2019</td>\n",
       "    </tr>\n",
       "  </tbody>\n",
       "</table>\n",
       "</div>"
      ],
      "text/plain": [
       "       SR_NUMBER             CREATED_DATE      STREET_ADDRESS  year\n",
       "0  SR23-01894991  2023-11-01T09:19:22.000  4555 N SHERIDAN RD  2023\n",
       "1  SR23-01897633  2023-11-01T13:23:12.000  3469 N BROADWAY ST  2023\n",
       "2  SR23-01903733  2023-11-02T11:59:47.000  5237 W WARWICK AVE  2023\n",
       "3  SR19-01048063  2019-02-21T10:26:44.000  2548 W RASCHER AVE  2019\n",
       "4  SR19-00125910  2019-01-28T10:27:35.000   116 W Pershing RD  2019"
      ]
     },
     "execution_count": 39,
     "metadata": {},
     "output_type": "execute_result"
    }
   ],
   "source": [
    "df_311.head()"
   ]
  },
  {
   "cell_type": "markdown",
   "id": "7bb1e087",
   "metadata": {},
   "source": [
    "<a name = \"summarize\"></a>\n",
    "# 4. Summarize Data"
   ]
  },
  {
   "cell_type": "markdown",
   "id": "2fedc7c2",
   "metadata": {},
   "source": [
    "### 311 Complaints by Year"
   ]
  },
  {
   "cell_type": "code",
   "execution_count": 43,
   "id": "514e855f",
   "metadata": {},
   "outputs": [
    {
     "data": {
      "text/html": [
       "<div>\n",
       "<style scoped>\n",
       "    .dataframe tbody tr th:only-of-type {\n",
       "        vertical-align: middle;\n",
       "    }\n",
       "\n",
       "    .dataframe tbody tr th {\n",
       "        vertical-align: top;\n",
       "    }\n",
       "\n",
       "    .dataframe thead th {\n",
       "        text-align: right;\n",
       "    }\n",
       "</style>\n",
       "<table border=\"1\" class=\"dataframe\">\n",
       "  <thead>\n",
       "    <tr style=\"text-align: right;\">\n",
       "      <th></th>\n",
       "      <th>year</th>\n",
       "      <th>count</th>\n",
       "    </tr>\n",
       "  </thead>\n",
       "  <tbody>\n",
       "    <tr>\n",
       "      <th>0</th>\n",
       "      <td>2018</td>\n",
       "      <td>1</td>\n",
       "    </tr>\n",
       "    <tr>\n",
       "      <th>1</th>\n",
       "      <td>2019</td>\n",
       "      <td>1978</td>\n",
       "    </tr>\n",
       "    <tr>\n",
       "      <th>2</th>\n",
       "      <td>2020</td>\n",
       "      <td>5389</td>\n",
       "    </tr>\n",
       "    <tr>\n",
       "      <th>3</th>\n",
       "      <td>2021</td>\n",
       "      <td>6090</td>\n",
       "    </tr>\n",
       "    <tr>\n",
       "      <th>4</th>\n",
       "      <td>2022</td>\n",
       "      <td>6807</td>\n",
       "    </tr>\n",
       "    <tr>\n",
       "      <th>5</th>\n",
       "      <td>2023</td>\n",
       "      <td>1246</td>\n",
       "    </tr>\n",
       "  </tbody>\n",
       "</table>\n",
       "</div>"
      ],
      "text/plain": [
       "   year  count\n",
       "0  2018      1\n",
       "1  2019   1978\n",
       "2  2020   5389\n",
       "3  2021   6090\n",
       "4  2022   6807\n",
       "5  2023   1246"
      ]
     },
     "execution_count": 43,
     "metadata": {},
     "output_type": "execute_result"
    }
   ],
   "source": [
    "df_311['year'].value_counts().sort_index().reset_index()"
   ]
  },
  {
   "cell_type": "markdown",
   "id": "7b42ae39",
   "metadata": {},
   "source": [
    "### 311 Complaints by Address"
   ]
  },
  {
   "cell_type": "code",
   "execution_count": 47,
   "id": "3a2dbfe4",
   "metadata": {},
   "outputs": [
    {
     "data": {
      "text/html": [
       "<div>\n",
       "<style scoped>\n",
       "    .dataframe tbody tr th:only-of-type {\n",
       "        vertical-align: middle;\n",
       "    }\n",
       "\n",
       "    .dataframe tbody tr th {\n",
       "        vertical-align: top;\n",
       "    }\n",
       "\n",
       "    .dataframe thead th {\n",
       "        text-align: right;\n",
       "    }\n",
       "</style>\n",
       "<table border=\"1\" class=\"dataframe\">\n",
       "  <thead>\n",
       "    <tr style=\"text-align: right;\">\n",
       "      <th></th>\n",
       "      <th>STREET_ADDRESS</th>\n",
       "      <th>count</th>\n",
       "    </tr>\n",
       "  </thead>\n",
       "  <tbody>\n",
       "    <tr>\n",
       "      <th>9223</th>\n",
       "      <td>4165 W BERTEAU AVE</td>\n",
       "      <td>49</td>\n",
       "    </tr>\n",
       "    <tr>\n",
       "      <th>4962</th>\n",
       "      <td>241 W SCOTT ST</td>\n",
       "      <td>38</td>\n",
       "    </tr>\n",
       "    <tr>\n",
       "      <th>7496</th>\n",
       "      <td>3330 N LAKE SHORE DR</td>\n",
       "      <td>25</td>\n",
       "    </tr>\n",
       "    <tr>\n",
       "      <th>5023</th>\n",
       "      <td>2424 N KEDZIE BLVD</td>\n",
       "      <td>24</td>\n",
       "    </tr>\n",
       "    <tr>\n",
       "      <th>12098</th>\n",
       "      <td>579 W HAWTHORNE PL</td>\n",
       "      <td>24</td>\n",
       "    </tr>\n",
       "    <tr>\n",
       "      <th>...</th>\n",
       "      <td>...</td>\n",
       "      <td>...</td>\n",
       "    </tr>\n",
       "    <tr>\n",
       "      <th>5668</th>\n",
       "      <td>2635 N EMMETT ST</td>\n",
       "      <td>1</td>\n",
       "    </tr>\n",
       "    <tr>\n",
       "      <th>5669</th>\n",
       "      <td>2635 N KEDZIE AVE</td>\n",
       "      <td>1</td>\n",
       "    </tr>\n",
       "    <tr>\n",
       "      <th>5670</th>\n",
       "      <td>2635 N MARMORA AVE</td>\n",
       "      <td>1</td>\n",
       "    </tr>\n",
       "    <tr>\n",
       "      <th>5672</th>\n",
       "      <td>2635 W 55TH ST</td>\n",
       "      <td>1</td>\n",
       "    </tr>\n",
       "    <tr>\n",
       "      <th>15070</th>\n",
       "      <td>9959 S J AVE</td>\n",
       "      <td>1</td>\n",
       "    </tr>\n",
       "  </tbody>\n",
       "</table>\n",
       "<p>15071 rows × 2 columns</p>\n",
       "</div>"
      ],
      "text/plain": [
       "             STREET_ADDRESS  count\n",
       "9223     4165 W BERTEAU AVE     49\n",
       "4962         241 W SCOTT ST     38\n",
       "7496   3330 N LAKE SHORE DR     25\n",
       "5023     2424 N KEDZIE BLVD     24\n",
       "12098    579 W HAWTHORNE PL     24\n",
       "...                     ...    ...\n",
       "5668       2635 N EMMETT ST      1\n",
       "5669      2635 N KEDZIE AVE      1\n",
       "5670     2635 N MARMORA AVE      1\n",
       "5672         2635 W 55TH ST      1\n",
       "15070          9959 S J AVE      1\n",
       "\n",
       "[15071 rows x 2 columns]"
      ]
     },
     "execution_count": 47,
     "metadata": {},
     "output_type": "execute_result"
    }
   ],
   "source": [
    "df_311.groupby('STREET_ADDRESS').size().reset_index(name='count').sort_values(by='count', ascending=False)"
   ]
  },
  {
   "cell_type": "code",
   "execution_count": null,
   "id": "5ae5aff2",
   "metadata": {},
   "outputs": [],
   "source": []
  }
 ],
 "metadata": {
  "kernelspec": {
   "display_name": "Python 3 (ipykernel)",
   "language": "python",
   "name": "python3"
  },
  "language_info": {
   "codemirror_mode": {
    "name": "ipython",
    "version": 3
   },
   "file_extension": ".py",
   "mimetype": "text/x-python",
   "name": "python",
   "nbconvert_exporter": "python",
   "pygments_lexer": "ipython3",
   "version": "3.10.12"
  }
 },
 "nbformat": 4,
 "nbformat_minor": 5
}
