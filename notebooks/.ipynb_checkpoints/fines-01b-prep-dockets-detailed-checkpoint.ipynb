{
 "cells": [
  {
   "cell_type": "markdown",
   "id": "a000f7e7",
   "metadata": {},
   "source": [
    "# Prep Dockets Detailed\n",
    "2/24/24\n",
    "\n",
    "This notebook normalizes data contained in the followup FOIA response to Admin Hearings, which provided more detail for dockets.\n",
    "\n",
    "|Source|Description|Filename|\n",
    "|---|---|---|\n",
    "|Administrative Hearings|citations from January 1, 2019 to the present, related to uncleared sidewalks following snowfall, including info on respondents|[FOIA-H067483-021424-snow-clearance-fines-w-respondents.csv](../data/01-raw/FOIA-H067483-021424-snow-clearance-fines-w-respondents.csv)|"
   ]
  },
  {
   "cell_type": "markdown",
   "id": "7bb94309",
   "metadata": {},
   "source": [
    "### findings\n",
    "<ol>\n",
    "    <li>dockets can have multiple respondents, case dispositions, hearing dates, and imposed fees per docket\n",
    "    </ol>\n",
    "    \n",
    "I did not attempt to normalize this dataset, but instead cleaned it up and exported for future analysis"
   ]
  },
  {
   "cell_type": "markdown",
   "id": "4429f6f1",
   "metadata": {},
   "source": [
    "# 1. Assess Fines with Respondents Dataset"
   ]
  },
  {
   "cell_type": "code",
   "execution_count": 1,
   "id": "e6091bde",
   "metadata": {},
   "outputs": [],
   "source": [
    "import pandas as pd"
   ]
  },
  {
   "cell_type": "markdown",
   "id": "c2552e28",
   "metadata": {},
   "source": [
    "### review fines with respondents dataset"
   ]
  },
  {
   "cell_type": "code",
   "execution_count": 2,
   "id": "61ae84a6",
   "metadata": {},
   "outputs": [
    {
     "data": {
      "text/html": [
       "<div>\n",
       "<style scoped>\n",
       "    .dataframe tbody tr th:only-of-type {\n",
       "        vertical-align: middle;\n",
       "    }\n",
       "\n",
       "    .dataframe tbody tr th {\n",
       "        vertical-align: top;\n",
       "    }\n",
       "\n",
       "    .dataframe thead th {\n",
       "        text-align: right;\n",
       "    }\n",
       "</style>\n",
       "<table border=\"1\" class=\"dataframe\">\n",
       "  <thead>\n",
       "    <tr style=\"text-align: right;\">\n",
       "      <th></th>\n",
       "      <th>Respondent Full Name</th>\n",
       "      <th>Docket Number</th>\n",
       "      <th>Nov #</th>\n",
       "      <th>Violation Date</th>\n",
       "      <th>Hearing Date</th>\n",
       "      <th>Violation Address</th>\n",
       "      <th>Violation Description</th>\n",
       "      <th>Case Disposition Label</th>\n",
       "      <th>Imposed Fine Detailed</th>\n",
       "    </tr>\n",
       "  </thead>\n",
       "  <tbody>\n",
       "    <tr>\n",
       "      <th>0</th>\n",
       "      <td>1010 W MADISON LLC</td>\n",
       "      <td>23DT000582</td>\n",
       "      <td>T000215159</td>\n",
       "      <td>01/31/2023</td>\n",
       "      <td>7/10/2023</td>\n",
       "      <td>1010 W MADISON</td>\n",
       "      <td>10-8-180    Snow and ice removal.</td>\n",
       "      <td>Non-Suit</td>\n",
       "      <td>$0.00</td>\n",
       "    </tr>\n",
       "    <tr>\n",
       "      <th>1</th>\n",
       "      <td>10-18 S HOMAN AVE HOLDINGS LLC c/o BRIAN GOTTE...</td>\n",
       "      <td>19DS41774L</td>\n",
       "      <td>241774L</td>\n",
       "      <td>01/22/2019</td>\n",
       "      <td>6/3/2019</td>\n",
       "      <td>10 S HOMAN AVE</td>\n",
       "      <td>10-8-180    Snow and ice removal.</td>\n",
       "      <td>Liable</td>\n",
       "      <td>$0.00</td>\n",
       "    </tr>\n",
       "    <tr>\n",
       "      <th>2</th>\n",
       "      <td>10-18 S HOMAN AVE HOLDINGS LLC c/o EV HAS LLC</td>\n",
       "      <td>19DS41774L</td>\n",
       "      <td>241774L</td>\n",
       "      <td>01/22/2019</td>\n",
       "      <td>6/3/2019</td>\n",
       "      <td>10 S HOMAN AVE</td>\n",
       "      <td>10-8-180    Snow and ice removal.</td>\n",
       "      <td>Liable</td>\n",
       "      <td>$0.00</td>\n",
       "    </tr>\n",
       "    <tr>\n",
       "      <th>3</th>\n",
       "      <td>1100 E 47TH STREET LLC, C/O PETER CASSEL</td>\n",
       "      <td>22DT001042</td>\n",
       "      <td>T000207342</td>\n",
       "      <td>01/04/2022</td>\n",
       "      <td>5/23/2022</td>\n",
       "      <td>1100 E 47TH ST</td>\n",
       "      <td>10-8-180    Snow and ice removal.</td>\n",
       "      <td>Non-Suit</td>\n",
       "      <td>$0.00</td>\n",
       "    </tr>\n",
       "    <tr>\n",
       "      <th>4</th>\n",
       "      <td>1101 BERWYN LLC, C/O JOHN BARRETT</td>\n",
       "      <td>23DT000559</td>\n",
       "      <td>T000220112</td>\n",
       "      <td>02/02/2023</td>\n",
       "      <td>3/20/2023</td>\n",
       "      <td>1101 W BERWYN</td>\n",
       "      <td>10-8-180    Snow and ice removal.</td>\n",
       "      <td>Non-Suit</td>\n",
       "      <td>$0.00</td>\n",
       "    </tr>\n",
       "  </tbody>\n",
       "</table>\n",
       "</div>"
      ],
      "text/plain": [
       "                                Respondent Full Name Docket Number  \\\n",
       "0                                1010 W MADISON LLC     23DT000582   \n",
       "1  10-18 S HOMAN AVE HOLDINGS LLC c/o BRIAN GOTTE...    19DS41774L   \n",
       "2     10-18 S HOMAN AVE HOLDINGS LLC c/o EV HAS LLC     19DS41774L   \n",
       "3          1100 E 47TH STREET LLC, C/O PETER CASSEL     22DT001042   \n",
       "4                 1101 BERWYN LLC, C/O JOHN BARRETT     23DT000559   \n",
       "\n",
       "        Nov # Violation Date Hearing Date Violation Address  \\\n",
       "0  T000215159     01/31/2023    7/10/2023   1010 W MADISON    \n",
       "1     241774L     01/22/2019     6/3/2019    10 S HOMAN AVE   \n",
       "2     241774L     01/22/2019     6/3/2019    10 S HOMAN AVE   \n",
       "3  T000207342     01/04/2022    5/23/2022    1100 E 47TH ST   \n",
       "4  T000220112     02/02/2023    3/20/2023    1101 W BERWYN    \n",
       "\n",
       "               Violation Description Case Disposition Label  \\\n",
       "0  10-8-180    Snow and ice removal.               Non-Suit   \n",
       "1  10-8-180    Snow and ice removal.                 Liable   \n",
       "2  10-8-180    Snow and ice removal.                 Liable   \n",
       "3  10-8-180    Snow and ice removal.               Non-Suit   \n",
       "4  10-8-180    Snow and ice removal.               Non-Suit   \n",
       "\n",
       "  Imposed Fine Detailed  \n",
       "0                 $0.00  \n",
       "1                 $0.00  \n",
       "2                 $0.00  \n",
       "3                 $0.00  \n",
       "4                 $0.00  "
      ]
     },
     "execution_count": 2,
     "metadata": {},
     "output_type": "execute_result"
    }
   ],
   "source": [
    "df_dockets2 = pd.read_csv(\"../data/01-raw/FOIA-H067483-021424-snow-dockets-detailed.csv\")\n",
    "df_dockets2.head()"
   ]
  },
  {
   "cell_type": "code",
   "execution_count": 3,
   "id": "e50d5639",
   "metadata": {},
   "outputs": [
    {
     "data": {
      "text/plain": [
       "2348"
      ]
     },
     "execution_count": 3,
     "metadata": {},
     "output_type": "execute_result"
    }
   ],
   "source": [
    "df_dockets2['Docket Number'].nunique()"
   ]
  },
  {
   "cell_type": "code",
   "execution_count": 4,
   "id": "3f28baf6",
   "metadata": {},
   "outputs": [
    {
     "data": {
      "text/html": [
       "<div>\n",
       "<style scoped>\n",
       "    .dataframe tbody tr th:only-of-type {\n",
       "        vertical-align: middle;\n",
       "    }\n",
       "\n",
       "    .dataframe tbody tr th {\n",
       "        vertical-align: top;\n",
       "    }\n",
       "\n",
       "    .dataframe thead th {\n",
       "        text-align: right;\n",
       "    }\n",
       "</style>\n",
       "<table border=\"1\" class=\"dataframe\">\n",
       "  <thead>\n",
       "    <tr style=\"text-align: right;\">\n",
       "      <th></th>\n",
       "      <th>Violation Description</th>\n",
       "      <th>0</th>\n",
       "    </tr>\n",
       "  </thead>\n",
       "  <tbody>\n",
       "    <tr>\n",
       "      <th>0</th>\n",
       "      <td>10-8-180    Snow and ice removal.</td>\n",
       "      <td>4330</td>\n",
       "    </tr>\n",
       "  </tbody>\n",
       "</table>\n",
       "</div>"
      ],
      "text/plain": [
       "               Violation Description     0\n",
       "0  10-8-180    Snow and ice removal.  4330"
      ]
     },
     "execution_count": 4,
     "metadata": {},
     "output_type": "execute_result"
    }
   ],
   "source": [
    "# violation descriptions\n",
    "df_dockets2.groupby('Violation Description').size().reset_index()"
   ]
  },
  {
   "cell_type": "code",
   "execution_count": 5,
   "id": "a5b51cc2",
   "metadata": {},
   "outputs": [
    {
     "data": {
      "text/html": [
       "<div>\n",
       "<style scoped>\n",
       "    .dataframe tbody tr th:only-of-type {\n",
       "        vertical-align: middle;\n",
       "    }\n",
       "\n",
       "    .dataframe tbody tr th {\n",
       "        vertical-align: top;\n",
       "    }\n",
       "\n",
       "    .dataframe thead th {\n",
       "        text-align: right;\n",
       "    }\n",
       "</style>\n",
       "<table border=\"1\" class=\"dataframe\">\n",
       "  <thead>\n",
       "    <tr style=\"text-align: right;\">\n",
       "      <th></th>\n",
       "      <th>Case Disposition Label</th>\n",
       "      <th>n</th>\n",
       "    </tr>\n",
       "  </thead>\n",
       "  <tbody>\n",
       "    <tr>\n",
       "      <th>3</th>\n",
       "      <td>Liable</td>\n",
       "      <td>1512</td>\n",
       "    </tr>\n",
       "    <tr>\n",
       "      <th>1</th>\n",
       "      <td>Default</td>\n",
       "      <td>1207</td>\n",
       "    </tr>\n",
       "    <tr>\n",
       "      <th>0</th>\n",
       "      <td>Continuance</td>\n",
       "      <td>1105</td>\n",
       "    </tr>\n",
       "    <tr>\n",
       "      <th>4</th>\n",
       "      <td>Non-Suit</td>\n",
       "      <td>401</td>\n",
       "    </tr>\n",
       "    <tr>\n",
       "      <th>5</th>\n",
       "      <td>Not Liable</td>\n",
       "      <td>64</td>\n",
       "    </tr>\n",
       "    <tr>\n",
       "      <th>7</th>\n",
       "      <td>Pending</td>\n",
       "      <td>30</td>\n",
       "    </tr>\n",
       "    <tr>\n",
       "      <th>2</th>\n",
       "      <td>Dismissed (DWP)</td>\n",
       "      <td>9</td>\n",
       "    </tr>\n",
       "    <tr>\n",
       "      <th>6</th>\n",
       "      <td>Other</td>\n",
       "      <td>1</td>\n",
       "    </tr>\n",
       "    <tr>\n",
       "      <th>8</th>\n",
       "      <td>Vacated</td>\n",
       "      <td>1</td>\n",
       "    </tr>\n",
       "  </tbody>\n",
       "</table>\n",
       "</div>"
      ],
      "text/plain": [
       "  Case Disposition Label     n\n",
       "3                 Liable  1512\n",
       "1                Default  1207\n",
       "0            Continuance  1105\n",
       "4               Non-Suit   401\n",
       "5             Not Liable    64\n",
       "7                Pending    30\n",
       "2        Dismissed (DWP)     9\n",
       "6                  Other     1\n",
       "8                Vacated     1"
      ]
     },
     "execution_count": 5,
     "metadata": {},
     "output_type": "execute_result"
    }
   ],
   "source": [
    "# case dispositions\n",
    "# coninuance means case is postponed or continued to a later date\n",
    "# default usually means ruling in favor of city b/c defendant didn't show up at hearing or respond to violation\n",
    "df_dockets2.groupby('Case Disposition Label').size().reset_index(name='n').sort_values(by='n',ascending=False)"
   ]
  },
  {
   "cell_type": "code",
   "execution_count": 6,
   "id": "bfde1142",
   "metadata": {},
   "outputs": [
    {
     "data": {
      "text/plain": [
       "4330"
      ]
     },
     "execution_count": 6,
     "metadata": {},
     "output_type": "execute_result"
    }
   ],
   "source": [
    "len(df_dockets2)"
   ]
  },
  {
   "cell_type": "markdown",
   "id": "c5058192",
   "metadata": {},
   "source": [
    "### identify entity relationships\n",
    "messier than I thought, taking a break from this"
   ]
  },
  {
   "cell_type": "code",
   "execution_count": 7,
   "id": "ad19ec01",
   "metadata": {},
   "outputs": [
    {
     "data": {
      "text/plain": [
       "2348"
      ]
     },
     "execution_count": 7,
     "metadata": {},
     "output_type": "execute_result"
    }
   ],
   "source": [
    "# this shows that each docket can have only one address...\n",
    "df_dockets2.groupby(['Docket Number','Violation Address']).ngroups"
   ]
  },
  {
   "cell_type": "markdown",
   "id": "2a220f82",
   "metadata": {},
   "source": [
    "# 2. Create Respondents Recordset"
   ]
  },
  {
   "cell_type": "markdown",
   "id": "2068fcfd",
   "metadata": {},
   "source": [
    "### clean up field names"
   ]
  },
  {
   "cell_type": "code",
   "execution_count": 11,
   "id": "65143759",
   "metadata": {
    "scrolled": true
   },
   "outputs": [
    {
     "data": {
      "text/html": [
       "<div>\n",
       "<style scoped>\n",
       "    .dataframe tbody tr th:only-of-type {\n",
       "        vertical-align: middle;\n",
       "    }\n",
       "\n",
       "    .dataframe tbody tr th {\n",
       "        vertical-align: top;\n",
       "    }\n",
       "\n",
       "    .dataframe thead th {\n",
       "        text-align: right;\n",
       "    }\n",
       "</style>\n",
       "<table border=\"1\" class=\"dataframe\">\n",
       "  <thead>\n",
       "    <tr style=\"text-align: right;\">\n",
       "      <th></th>\n",
       "      <th>docket</th>\n",
       "      <th>hearing_date</th>\n",
       "      <th>respondent</th>\n",
       "      <th>case_disposition</th>\n",
       "      <th>fine</th>\n",
       "    </tr>\n",
       "  </thead>\n",
       "  <tbody>\n",
       "    <tr>\n",
       "      <th>443</th>\n",
       "      <td>18CP093079</td>\n",
       "      <td>1/24/2019</td>\n",
       "      <td>DOE JOHN</td>\n",
       "      <td>Not Liable</td>\n",
       "      <td>$0.00</td>\n",
       "    </tr>\n",
       "    <tr>\n",
       "      <th>580</th>\n",
       "      <td>18DS11011L</td>\n",
       "      <td>4/24/2019</td>\n",
       "      <td>GREATER ST. TITUS MINISTRIES CHURCH OF GOD IN ...</td>\n",
       "      <td>Non-Suit</td>\n",
       "      <td>$0.00</td>\n",
       "    </tr>\n",
       "    <tr>\n",
       "      <th>1285</th>\n",
       "      <td>18DS16572L</td>\n",
       "      <td>1/7/2019</td>\n",
       "      <td>CICERO HAMDAN, LLC c/o ILLINOIS SECRETARY OF S...</td>\n",
       "      <td>Liable</td>\n",
       "      <td>$50.00</td>\n",
       "    </tr>\n",
       "    <tr>\n",
       "      <th>1286</th>\n",
       "      <td>18DS16572L</td>\n",
       "      <td>1/7/2019</td>\n",
       "      <td>CICERO HAMDAN, LLC c/o MOHAMMED A. NOFAL - ATT...</td>\n",
       "      <td>Liable</td>\n",
       "      <td>$50.00</td>\n",
       "    </tr>\n",
       "    <tr>\n",
       "      <th>1329</th>\n",
       "      <td>18DS16572L</td>\n",
       "      <td>1/7/2019</td>\n",
       "      <td>HAMDAN SUSAN</td>\n",
       "      <td>Liable</td>\n",
       "      <td>$50.00</td>\n",
       "    </tr>\n",
       "  </tbody>\n",
       "</table>\n",
       "</div>"
      ],
      "text/plain": [
       "          docket hearing_date  \\\n",
       "443   18CP093079    1/24/2019   \n",
       "580   18DS11011L    4/24/2019   \n",
       "1285  18DS16572L     1/7/2019   \n",
       "1286  18DS16572L     1/7/2019   \n",
       "1329  18DS16572L     1/7/2019   \n",
       "\n",
       "                                             respondent case_disposition  \\\n",
       "443                                            DOE JOHN       Not Liable   \n",
       "580   GREATER ST. TITUS MINISTRIES CHURCH OF GOD IN ...         Non-Suit   \n",
       "1285  CICERO HAMDAN, LLC c/o ILLINOIS SECRETARY OF S...           Liable   \n",
       "1286  CICERO HAMDAN, LLC c/o MOHAMMED A. NOFAL - ATT...           Liable   \n",
       "1329                                       HAMDAN SUSAN           Liable   \n",
       "\n",
       "        fine  \n",
       "443    $0.00  \n",
       "580    $0.00  \n",
       "1285  $50.00  \n",
       "1286  $50.00  \n",
       "1329  $50.00  "
      ]
     },
     "execution_count": 11,
     "metadata": {},
     "output_type": "execute_result"
    }
   ],
   "source": [
    "df_dockets2 = df_dockets2.rename(columns={'Docket Number':'docket',\n",
    "                                                          'Hearing Date':'hearing_date',\n",
    "                                                          'Respondent Full Name':'respondent',\n",
    "                                                          'Case Disposition Label':'case_disposition',\n",
    "                                                          'Imposed Fine Detailed':'fine'})\n",
    "df_dockets2 = df_dockets2[['docket','hearing_date','respondent','case_disposition','fine']].sort_values(['docket','hearing_date','respondent'])\n",
    "df_dockets2.head()"
   ]
  },
  {
   "cell_type": "markdown",
   "id": "306089b5",
   "metadata": {},
   "source": [
    "# 3. Export for Further Analysis"
   ]
  },
  {
   "cell_type": "code",
   "execution_count": 12,
   "id": "1aa30c72",
   "metadata": {},
   "outputs": [],
   "source": [
    "df_dockets2.to_csv(\"../data/04-standardized/dockets-detailed.csv\", index = False)"
   ]
  },
  {
   "cell_type": "code",
   "execution_count": null,
   "id": "8f1d8c4c",
   "metadata": {},
   "outputs": [],
   "source": []
  }
 ],
 "metadata": {
  "kernelspec": {
   "display_name": "Python 3 (ipykernel)",
   "language": "python",
   "name": "python3"
  },
  "language_info": {
   "codemirror_mode": {
    "name": "ipython",
    "version": 3
   },
   "file_extension": ".py",
   "mimetype": "text/x-python",
   "name": "python",
   "nbconvert_exporter": "python",
   "pygments_lexer": "ipython3",
   "version": "3.10.12"
  }
 },
 "nbformat": 4,
 "nbformat_minor": 5
}
