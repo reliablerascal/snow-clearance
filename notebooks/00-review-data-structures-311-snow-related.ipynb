{
 "cells": [
  {
   "cell_type": "markdown",
   "id": "638444be",
   "metadata": {},
   "source": [
    "<h1>Snow Violations</h1>\n",
    "9 January 2024\n",
    "\n",
    "Revisiting 311 complaints related to snow clearance, I'm broadening my review to look at all related categories (not just uncleared sidewalk complaints)\n",
    "<br>\n",
    "My analysis steps:\n",
    "<ol>\n",
    "<li><a href=\"#docs\">Review API Documentation</a>\n",
    "<li><a href=\"#import\">Import Libraries</a>\n",
    "<li><a href=\"#retrieve_data\">Get Data</a>\n",
    "<li><a href=\"#review\">Review Data</a>\n",
    "</ol>"
   ]
  },
  {
   "cell_type": "markdown",
   "id": "8be207b6",
   "metadata": {},
   "source": [
    "<h3>Preliminary Findings</h3>\n",
    "<ul>\n",
    "    <li>the origin of most complaints is phone call (30,697), internet (17,551), mobile (16,278), and alderman's office (3,353)\n",
    "<li>most complaints are flagged with status as completed\n",
    "</ul>"
   ]
  },
  {
   "cell_type": "markdown",
   "id": "ce4414d7",
   "metadata": {},
   "source": [
    "<a name = \"docs\"></a>\n",
    "    <h1>1. Review Documentation</h1>\n",
    "\n",
    "<h3>311 data</h3>\n",
    "<ul>\n",
    "    <li>Chicago Open Data Portal: <a href=\"https://data.cityofchicago.org/Service-Requests/311-Service-Requests/v6vf-nfxy\">https://data.cityofchicago.org/Service-Requests/311-Service-Requests/v6vf-nfxy</a>\n",
    "    <li>Chicago API: <a href=\"https://data.cityofchicago.org/resource/v6vf-nfxy.json\">https://data.cityofchicago.org/resource/v6vf-nfxy.json</a>\n",
    "        <li>API Documentation: https://dev.socrata.com/foundry/data.cityofchicago.org/v6vf-nfxy\n",
    "            <li><b>Developer Portal (Socrata):</b> <a href=\"https://dev.socrata.com/\">https://dev.socrata.com/</a> (general reference for Socrata)<br>\n",
    "                <ul>\n",
    "                    <li>SoQL Like: https://dev.socrata.com/docs/functions/like.html\n",
    "                </ul>\n",
    "</ul>"
   ]
  },
  {
   "cell_type": "markdown",
   "id": "3e8fc57e",
   "metadata": {},
   "source": [
    "<a name = \"import\"></a>\n",
    "<h1>2. Import Libraries</h1>"
   ]
  },
  {
   "cell_type": "code",
   "execution_count": 1,
   "id": "109b46e0",
   "metadata": {},
   "outputs": [],
   "source": [
    "import pandas as pd\n",
    "import requests\n",
    "#import datetime as dt #would only need this if I manipulated dates post-API data retrieval"
   ]
  },
  {
   "cell_type": "markdown",
   "id": "2add0dd1",
   "metadata": {},
   "source": [
    "<a name = \"retrieve_data\"></a>\n",
    "    <h1>3. Get Data</h1>"
   ]
  },
  {
   "cell_type": "code",
   "execution_count": 2,
   "id": "03a9b4f6",
   "metadata": {},
   "outputs": [
    {
     "name": "stdout",
     "output_type": "stream",
     "text": [
      "https://data.cityofchicago.org/resource/v6vf-nfxy.json?$WHERE=SR_TYPE like '%25Snow%25'&$LIMIT=99999\n"
     ]
    }
   ],
   "source": [
    "base_url = \"https://data.cityofchicago.org/resource/v6vf-nfxy.json\"\n",
    "#select = \"SR_NUMBER, SR_TYPE, SR_SHORT_CODE, CREATED_DATE, STREET_ADDRESS, COMMUNITY_AREA, WARD, OWNER_DEPARTMENT, STATUS, ORIGIN, CLOSED_DATE\"\n",
    "where = \"SR_TYPE like '%25Snow%25'\"\n",
    "limit = 99999\n",
    "\n",
    "url = f\"{base_url}?$WHERE={where}&$LIMIT={limit}\"\n",
    "#url = f\"{base_url}?$SELECT={select}&$WHERE={where}&$LIMIT={limit}\"\n",
    "print (url)"
   ]
  },
  {
   "cell_type": "code",
   "execution_count": 3,
   "id": "3e0e0cc4",
   "metadata": {},
   "outputs": [
    {
     "name": "stdout",
     "output_type": "stream",
     "text": [
      "<Response [200]>\n"
     ]
    }
   ],
   "source": [
    "response = requests.get(url)\n",
    "data = response.json()\n",
    "print (response)"
   ]
  },
  {
   "cell_type": "code",
   "execution_count": 4,
   "id": "67d95ad4",
   "metadata": {},
   "outputs": [
    {
     "data": {
      "text/html": [
       "<div>\n",
       "<style scoped>\n",
       "    .dataframe tbody tr th:only-of-type {\n",
       "        vertical-align: middle;\n",
       "    }\n",
       "\n",
       "    .dataframe tbody tr th {\n",
       "        vertical-align: top;\n",
       "    }\n",
       "\n",
       "    .dataframe thead th {\n",
       "        text-align: right;\n",
       "    }\n",
       "</style>\n",
       "<table border=\"1\" class=\"dataframe\">\n",
       "  <thead>\n",
       "    <tr style=\"text-align: right;\">\n",
       "      <th></th>\n",
       "      <th>sr_number</th>\n",
       "      <th>sr_type</th>\n",
       "      <th>sr_short_code</th>\n",
       "      <th>owner_department</th>\n",
       "      <th>status</th>\n",
       "      <th>origin</th>\n",
       "      <th>created_date</th>\n",
       "      <th>last_modified_date</th>\n",
       "      <th>closed_date</th>\n",
       "      <th>street_address</th>\n",
       "      <th>...</th>\n",
       "      <th>y_coordinate</th>\n",
       "      <th>latitude</th>\n",
       "      <th>longitude</th>\n",
       "      <th>location</th>\n",
       "      <th>city</th>\n",
       "      <th>state</th>\n",
       "      <th>created_department</th>\n",
       "      <th>parent_sr_number</th>\n",
       "      <th>electrical_district</th>\n",
       "      <th>sanitation_division_days</th>\n",
       "    </tr>\n",
       "  </thead>\n",
       "  <tbody>\n",
       "    <tr>\n",
       "      <th>0</th>\n",
       "      <td>SR19-00102142</td>\n",
       "      <td>Snow - Object/Dibs Removal Request</td>\n",
       "      <td>SDW</td>\n",
       "      <td>Streets and Sanitation</td>\n",
       "      <td>Completed</td>\n",
       "      <td>Internet</td>\n",
       "      <td>2019-01-22T17:47:53.000</td>\n",
       "      <td>2020-02-13T18:22:55.000</td>\n",
       "      <td>2019-03-15T07:25:34.000</td>\n",
       "      <td>23 S Drake AVE</td>\n",
       "      <td>...</td>\n",
       "      <td>NaN</td>\n",
       "      <td>NaN</td>\n",
       "      <td>NaN</td>\n",
       "      <td>NaN</td>\n",
       "      <td>NaN</td>\n",
       "      <td>NaN</td>\n",
       "      <td>NaN</td>\n",
       "      <td>NaN</td>\n",
       "      <td>NaN</td>\n",
       "      <td>NaN</td>\n",
       "    </tr>\n",
       "    <tr>\n",
       "      <th>1</th>\n",
       "      <td>SR22-00050149</td>\n",
       "      <td>Ice and Snow Removal Request</td>\n",
       "      <td>SDO</td>\n",
       "      <td>Streets and Sanitation</td>\n",
       "      <td>Completed</td>\n",
       "      <td>Mobile Device</td>\n",
       "      <td>2022-01-10T11:05:32.000</td>\n",
       "      <td>2023-09-27T00:01:48.000</td>\n",
       "      <td>2022-01-10T11:06:41.000</td>\n",
       "      <td>4151 W WASHINGTON BLVD</td>\n",
       "      <td>...</td>\n",
       "      <td>1900052.806391</td>\n",
       "      <td>41.881691809</td>\n",
       "      <td>-87.730165409</td>\n",
       "      <td>{'latitude': '41.881691808747455', 'longitude'...</td>\n",
       "      <td>NaN</td>\n",
       "      <td>NaN</td>\n",
       "      <td>NaN</td>\n",
       "      <td>NaN</td>\n",
       "      <td>NaN</td>\n",
       "      <td>NaN</td>\n",
       "    </tr>\n",
       "    <tr>\n",
       "      <th>2</th>\n",
       "      <td>SR19-00123488</td>\n",
       "      <td>Snow - Object/Dibs Removal Request</td>\n",
       "      <td>SDW</td>\n",
       "      <td>Streets and Sanitation</td>\n",
       "      <td>Completed</td>\n",
       "      <td>Internet</td>\n",
       "      <td>2019-01-27T16:13:36.000</td>\n",
       "      <td>2020-02-13T18:27:44.000</td>\n",
       "      <td>2019-03-15T07:22:15.000</td>\n",
       "      <td>2320 N Luna AVE</td>\n",
       "      <td>...</td>\n",
       "      <td>NaN</td>\n",
       "      <td>NaN</td>\n",
       "      <td>NaN</td>\n",
       "      <td>NaN</td>\n",
       "      <td>NaN</td>\n",
       "      <td>NaN</td>\n",
       "      <td>NaN</td>\n",
       "      <td>NaN</td>\n",
       "      <td>NaN</td>\n",
       "      <td>NaN</td>\n",
       "    </tr>\n",
       "    <tr>\n",
       "      <th>3</th>\n",
       "      <td>SR23-01930406</td>\n",
       "      <td>Ice and Snow Removal Request</td>\n",
       "      <td>SDO</td>\n",
       "      <td>Streets and Sanitation</td>\n",
       "      <td>Completed</td>\n",
       "      <td>Internet</td>\n",
       "      <td>2023-11-06T21:46:58.000</td>\n",
       "      <td>2023-11-09T18:25:10.000</td>\n",
       "      <td>2023-11-09T18:25:10.000</td>\n",
       "      <td>1410 E 62ND ST</td>\n",
       "      <td>...</td>\n",
       "      <td>1864254.816946813</td>\n",
       "      <td>41.782635001</td>\n",
       "      <td>-87.5906235</td>\n",
       "      <td>{'latitude': '41.78263500094009', 'longitude':...</td>\n",
       "      <td>Chicago</td>\n",
       "      <td>Illinois</td>\n",
       "      <td>NaN</td>\n",
       "      <td>NaN</td>\n",
       "      <td>NaN</td>\n",
       "      <td>NaN</td>\n",
       "    </tr>\n",
       "    <tr>\n",
       "      <th>4</th>\n",
       "      <td>SR23-01979807</td>\n",
       "      <td>Snow - Object/Dibs Removal Request</td>\n",
       "      <td>SDW</td>\n",
       "      <td>Streets and Sanitation</td>\n",
       "      <td>Completed</td>\n",
       "      <td>Mobile Device</td>\n",
       "      <td>2023-11-14T14:38:50.000</td>\n",
       "      <td>2023-11-27T11:56:32.000</td>\n",
       "      <td>2023-11-27T11:56:32.000</td>\n",
       "      <td>1421 N MENARD AVE</td>\n",
       "      <td>...</td>\n",
       "      <td>1908973.258247206</td>\n",
       "      <td>41.906376001</td>\n",
       "      <td>-87.770403</td>\n",
       "      <td>{'latitude': '41.90637600094052', 'longitude':...</td>\n",
       "      <td>NaN</td>\n",
       "      <td>NaN</td>\n",
       "      <td>NaN</td>\n",
       "      <td>NaN</td>\n",
       "      <td>NaN</td>\n",
       "      <td>NaN</td>\n",
       "    </tr>\n",
       "  </tbody>\n",
       "</table>\n",
       "<p>5 rows × 38 columns</p>\n",
       "</div>"
      ],
      "text/plain": [
       "       sr_number                             sr_type sr_short_code  \\\n",
       "0  SR19-00102142  Snow - Object/Dibs Removal Request           SDW   \n",
       "1  SR22-00050149        Ice and Snow Removal Request           SDO   \n",
       "2  SR19-00123488  Snow - Object/Dibs Removal Request           SDW   \n",
       "3  SR23-01930406        Ice and Snow Removal Request           SDO   \n",
       "4  SR23-01979807  Snow - Object/Dibs Removal Request           SDW   \n",
       "\n",
       "         owner_department     status         origin             created_date  \\\n",
       "0  Streets and Sanitation  Completed       Internet  2019-01-22T17:47:53.000   \n",
       "1  Streets and Sanitation  Completed  Mobile Device  2022-01-10T11:05:32.000   \n",
       "2  Streets and Sanitation  Completed       Internet  2019-01-27T16:13:36.000   \n",
       "3  Streets and Sanitation  Completed       Internet  2023-11-06T21:46:58.000   \n",
       "4  Streets and Sanitation  Completed  Mobile Device  2023-11-14T14:38:50.000   \n",
       "\n",
       "        last_modified_date              closed_date          street_address  \\\n",
       "0  2020-02-13T18:22:55.000  2019-03-15T07:25:34.000          23 S Drake AVE   \n",
       "1  2023-09-27T00:01:48.000  2022-01-10T11:06:41.000  4151 W WASHINGTON BLVD   \n",
       "2  2020-02-13T18:27:44.000  2019-03-15T07:22:15.000         2320 N Luna AVE   \n",
       "3  2023-11-09T18:25:10.000  2023-11-09T18:25:10.000          1410 E 62ND ST   \n",
       "4  2023-11-27T11:56:32.000  2023-11-27T11:56:32.000       1421 N MENARD AVE   \n",
       "\n",
       "   ...       y_coordinate      latitude      longitude  \\\n",
       "0  ...                NaN           NaN            NaN   \n",
       "1  ...     1900052.806391  41.881691809  -87.730165409   \n",
       "2  ...                NaN           NaN            NaN   \n",
       "3  ...  1864254.816946813  41.782635001    -87.5906235   \n",
       "4  ...  1908973.258247206  41.906376001     -87.770403   \n",
       "\n",
       "                                            location     city     state  \\\n",
       "0                                                NaN      NaN       NaN   \n",
       "1  {'latitude': '41.881691808747455', 'longitude'...      NaN       NaN   \n",
       "2                                                NaN      NaN       NaN   \n",
       "3  {'latitude': '41.78263500094009', 'longitude':...  Chicago  Illinois   \n",
       "4  {'latitude': '41.90637600094052', 'longitude':...      NaN       NaN   \n",
       "\n",
       "   created_department parent_sr_number electrical_district  \\\n",
       "0                 NaN              NaN                 NaN   \n",
       "1                 NaN              NaN                 NaN   \n",
       "2                 NaN              NaN                 NaN   \n",
       "3                 NaN              NaN                 NaN   \n",
       "4                 NaN              NaN                 NaN   \n",
       "\n",
       "  sanitation_division_days  \n",
       "0                      NaN  \n",
       "1                      NaN  \n",
       "2                      NaN  \n",
       "3                      NaN  \n",
       "4                      NaN  \n",
       "\n",
       "[5 rows x 38 columns]"
      ]
     },
     "execution_count": 4,
     "metadata": {},
     "output_type": "execute_result"
    }
   ],
   "source": [
    "df=pd.DataFrame(data)\n",
    "df.head()"
   ]
  },
  {
   "cell_type": "code",
   "execution_count": 5,
   "id": "58e25fd0",
   "metadata": {},
   "outputs": [
    {
     "data": {
      "text/plain": [
       "68578"
      ]
     },
     "execution_count": 5,
     "metadata": {},
     "output_type": "execute_result"
    }
   ],
   "source": [
    "# total number of records containing \"snow\"\n",
    "len(df)"
   ]
  },
  {
   "cell_type": "code",
   "execution_count": 6,
   "id": "b40ea21c",
   "metadata": {},
   "outputs": [
    {
     "name": "stdout",
     "output_type": "stream",
     "text": [
      "<class 'pandas.core.frame.DataFrame'>\n",
      "RangeIndex: 68578 entries, 0 to 68577\n",
      "Data columns (total 38 columns):\n",
      " #   Column                    Non-Null Count  Dtype \n",
      "---  ------                    --------------  ----- \n",
      " 0   sr_number                 68578 non-null  object\n",
      " 1   sr_type                   68578 non-null  object\n",
      " 2   sr_short_code             68578 non-null  object\n",
      " 3   owner_department          68578 non-null  object\n",
      " 4   status                    68578 non-null  object\n",
      " 5   origin                    68578 non-null  object\n",
      " 6   created_date              68578 non-null  object\n",
      " 7   last_modified_date        68578 non-null  object\n",
      " 8   closed_date               68469 non-null  object\n",
      " 9   street_address            68376 non-null  object\n",
      " 10  zip_code                  64345 non-null  object\n",
      " 11  street_number             68376 non-null  object\n",
      " 12  street_direction          68372 non-null  object\n",
      " 13  street_name               68376 non-null  object\n",
      " 14  street_type               67646 non-null  object\n",
      " 15  duplicate                 68578 non-null  bool  \n",
      " 16  legacy_record             68578 non-null  bool  \n",
      " 17  created_hour              68578 non-null  object\n",
      " 18  created_day_of_week       68578 non-null  object\n",
      " 19  created_month             68578 non-null  object\n",
      " 20  community_area            68403 non-null  object\n",
      " 21  ward                      68409 non-null  object\n",
      " 22  electricity_grid          68400 non-null  object\n",
      " 23  police_sector             68409 non-null  object\n",
      " 24  police_district           68409 non-null  object\n",
      " 25  police_beat               68409 non-null  object\n",
      " 26  precinct                  68378 non-null  object\n",
      " 27  x_coordinate              68475 non-null  object\n",
      " 28  y_coordinate              68475 non-null  object\n",
      " 29  latitude                  68475 non-null  object\n",
      " 30  longitude                 68475 non-null  object\n",
      " 31  location                  68475 non-null  object\n",
      " 32  city                      737 non-null    object\n",
      " 33  state                     737 non-null    object\n",
      " 34  created_department        33375 non-null  object\n",
      " 35  parent_sr_number          11094 non-null  object\n",
      " 36  electrical_district       518 non-null    object\n",
      " 37  sanitation_division_days  518 non-null    object\n",
      "dtypes: bool(2), object(36)\n",
      "memory usage: 19.0+ MB\n"
     ]
    }
   ],
   "source": [
    "df.info()"
   ]
  },
  {
   "cell_type": "code",
   "execution_count": 7,
   "id": "1d15bccd",
   "metadata": {},
   "outputs": [
    {
     "ename": "KeyError",
     "evalue": "'CREATED_DATE'",
     "output_type": "error",
     "traceback": [
      "\u001b[0;31m---------------------------------------------------------------------------\u001b[0m",
      "\u001b[0;31mKeyError\u001b[0m                                  Traceback (most recent call last)",
      "\u001b[0;32m~/.local/lib/python3.10/site-packages/pandas/core/indexes/base.py\u001b[0m in \u001b[0;36mget_loc\u001b[0;34m(self, key)\u001b[0m\n\u001b[1;32m   3789\u001b[0m         \u001b[0;32mtry\u001b[0m\u001b[0;34m:\u001b[0m\u001b[0;34m\u001b[0m\u001b[0;34m\u001b[0m\u001b[0m\n\u001b[0;32m-> 3790\u001b[0;31m             \u001b[0;32mreturn\u001b[0m \u001b[0mself\u001b[0m\u001b[0;34m.\u001b[0m\u001b[0m_engine\u001b[0m\u001b[0;34m.\u001b[0m\u001b[0mget_loc\u001b[0m\u001b[0;34m(\u001b[0m\u001b[0mcasted_key\u001b[0m\u001b[0;34m)\u001b[0m\u001b[0;34m\u001b[0m\u001b[0;34m\u001b[0m\u001b[0m\n\u001b[0m\u001b[1;32m   3791\u001b[0m         \u001b[0;32mexcept\u001b[0m \u001b[0mKeyError\u001b[0m \u001b[0;32mas\u001b[0m \u001b[0merr\u001b[0m\u001b[0;34m:\u001b[0m\u001b[0;34m\u001b[0m\u001b[0;34m\u001b[0m\u001b[0m\n",
      "\u001b[0;32mindex.pyx\u001b[0m in \u001b[0;36mpandas._libs.index.IndexEngine.get_loc\u001b[0;34m()\u001b[0m\n",
      "\u001b[0;32mindex.pyx\u001b[0m in \u001b[0;36mpandas._libs.index.IndexEngine.get_loc\u001b[0;34m()\u001b[0m\n",
      "\u001b[0;32mpandas/_libs/hashtable_class_helper.pxi\u001b[0m in \u001b[0;36mpandas._libs.hashtable.PyObjectHashTable.get_item\u001b[0;34m()\u001b[0m\n",
      "\u001b[0;32mpandas/_libs/hashtable_class_helper.pxi\u001b[0m in \u001b[0;36mpandas._libs.hashtable.PyObjectHashTable.get_item\u001b[0;34m()\u001b[0m\n",
      "\u001b[0;31mKeyError\u001b[0m: 'CREATED_DATE'",
      "\nThe above exception was the direct cause of the following exception:\n",
      "\u001b[0;31mKeyError\u001b[0m                                  Traceback (most recent call last)",
      "\u001b[0;32m/tmp/ipykernel_1006/3204189259.py\u001b[0m in \u001b[0;36m<module>\u001b[0;34m\u001b[0m\n\u001b[1;32m      1\u001b[0m \u001b[0;31m# parse date\u001b[0m\u001b[0;34m\u001b[0m\u001b[0;34m\u001b[0m\u001b[0m\n\u001b[0;32m----> 2\u001b[0;31m \u001b[0mdf\u001b[0m\u001b[0;34m[\u001b[0m\u001b[0;34m'CREATED_DATE'\u001b[0m\u001b[0;34m]\u001b[0m \u001b[0;34m=\u001b[0m \u001b[0mpd\u001b[0m\u001b[0;34m.\u001b[0m\u001b[0mto_datetime\u001b[0m\u001b[0;34m(\u001b[0m\u001b[0mdf\u001b[0m\u001b[0;34m[\u001b[0m\u001b[0;34m'CREATED_DATE'\u001b[0m\u001b[0;34m]\u001b[0m\u001b[0;34m)\u001b[0m\u001b[0;34m\u001b[0m\u001b[0;34m\u001b[0m\u001b[0m\n\u001b[0m\u001b[1;32m      3\u001b[0m \u001b[0mdf\u001b[0m\u001b[0;34m[\u001b[0m\u001b[0;34m'year'\u001b[0m\u001b[0;34m]\u001b[0m \u001b[0;34m=\u001b[0m \u001b[0mdf\u001b[0m\u001b[0;34m[\u001b[0m\u001b[0;34m'CREATED_DATE'\u001b[0m\u001b[0;34m]\u001b[0m\u001b[0;34m.\u001b[0m\u001b[0mdt\u001b[0m\u001b[0;34m.\u001b[0m\u001b[0myear\u001b[0m\u001b[0;34m\u001b[0m\u001b[0;34m\u001b[0m\u001b[0m\n\u001b[1;32m      4\u001b[0m \u001b[0mdf\u001b[0m\u001b[0;34m[\u001b[0m\u001b[0;34m'date'\u001b[0m\u001b[0;34m]\u001b[0m \u001b[0;34m=\u001b[0m \u001b[0mdf\u001b[0m\u001b[0;34m[\u001b[0m\u001b[0;34m'CREATED_DATE'\u001b[0m\u001b[0;34m]\u001b[0m\u001b[0;34m.\u001b[0m\u001b[0mdt\u001b[0m\u001b[0;34m.\u001b[0m\u001b[0mdate\u001b[0m\u001b[0;34m\u001b[0m\u001b[0;34m\u001b[0m\u001b[0m\n",
      "\u001b[0;32m~/.local/lib/python3.10/site-packages/pandas/core/frame.py\u001b[0m in \u001b[0;36m__getitem__\u001b[0;34m(self, key)\u001b[0m\n\u001b[1;32m   3894\u001b[0m             \u001b[0;32mif\u001b[0m \u001b[0mself\u001b[0m\u001b[0;34m.\u001b[0m\u001b[0mcolumns\u001b[0m\u001b[0;34m.\u001b[0m\u001b[0mnlevels\u001b[0m \u001b[0;34m>\u001b[0m \u001b[0;36m1\u001b[0m\u001b[0;34m:\u001b[0m\u001b[0;34m\u001b[0m\u001b[0;34m\u001b[0m\u001b[0m\n\u001b[1;32m   3895\u001b[0m                 \u001b[0;32mreturn\u001b[0m \u001b[0mself\u001b[0m\u001b[0;34m.\u001b[0m\u001b[0m_getitem_multilevel\u001b[0m\u001b[0;34m(\u001b[0m\u001b[0mkey\u001b[0m\u001b[0;34m)\u001b[0m\u001b[0;34m\u001b[0m\u001b[0;34m\u001b[0m\u001b[0m\n\u001b[0;32m-> 3896\u001b[0;31m             \u001b[0mindexer\u001b[0m \u001b[0;34m=\u001b[0m \u001b[0mself\u001b[0m\u001b[0;34m.\u001b[0m\u001b[0mcolumns\u001b[0m\u001b[0;34m.\u001b[0m\u001b[0mget_loc\u001b[0m\u001b[0;34m(\u001b[0m\u001b[0mkey\u001b[0m\u001b[0;34m)\u001b[0m\u001b[0;34m\u001b[0m\u001b[0;34m\u001b[0m\u001b[0m\n\u001b[0m\u001b[1;32m   3897\u001b[0m             \u001b[0;32mif\u001b[0m \u001b[0mis_integer\u001b[0m\u001b[0;34m(\u001b[0m\u001b[0mindexer\u001b[0m\u001b[0;34m)\u001b[0m\u001b[0;34m:\u001b[0m\u001b[0;34m\u001b[0m\u001b[0;34m\u001b[0m\u001b[0m\n\u001b[1;32m   3898\u001b[0m                 \u001b[0mindexer\u001b[0m \u001b[0;34m=\u001b[0m \u001b[0;34m[\u001b[0m\u001b[0mindexer\u001b[0m\u001b[0;34m]\u001b[0m\u001b[0;34m\u001b[0m\u001b[0;34m\u001b[0m\u001b[0m\n",
      "\u001b[0;32m~/.local/lib/python3.10/site-packages/pandas/core/indexes/base.py\u001b[0m in \u001b[0;36mget_loc\u001b[0;34m(self, key)\u001b[0m\n\u001b[1;32m   3795\u001b[0m             ):\n\u001b[1;32m   3796\u001b[0m                 \u001b[0;32mraise\u001b[0m \u001b[0mInvalidIndexError\u001b[0m\u001b[0;34m(\u001b[0m\u001b[0mkey\u001b[0m\u001b[0;34m)\u001b[0m\u001b[0;34m\u001b[0m\u001b[0;34m\u001b[0m\u001b[0m\n\u001b[0;32m-> 3797\u001b[0;31m             \u001b[0;32mraise\u001b[0m \u001b[0mKeyError\u001b[0m\u001b[0;34m(\u001b[0m\u001b[0mkey\u001b[0m\u001b[0;34m)\u001b[0m \u001b[0;32mfrom\u001b[0m \u001b[0merr\u001b[0m\u001b[0;34m\u001b[0m\u001b[0;34m\u001b[0m\u001b[0m\n\u001b[0m\u001b[1;32m   3798\u001b[0m         \u001b[0;32mexcept\u001b[0m \u001b[0mTypeError\u001b[0m\u001b[0;34m:\u001b[0m\u001b[0;34m\u001b[0m\u001b[0;34m\u001b[0m\u001b[0m\n\u001b[1;32m   3799\u001b[0m             \u001b[0;31m# If we have a listlike key, _check_indexing_error will raise\u001b[0m\u001b[0;34m\u001b[0m\u001b[0;34m\u001b[0m\u001b[0m\n",
      "\u001b[0;31mKeyError\u001b[0m: 'CREATED_DATE'"
     ]
    }
   ],
   "source": [
    "# parse date\n",
    "df['CREATED_DATE'] = pd.to_datetime(df['CREATED_DATE'])\n",
    "df['year'] = df['CREATED_DATE'].dt.year\n",
    "df['date'] = df['CREATED_DATE'].dt.date"
   ]
  },
  {
   "cell_type": "code",
   "execution_count": null,
   "id": "77559139",
   "metadata": {},
   "outputs": [],
   "source": [
    "df.head()"
   ]
  },
  {
   "cell_type": "code",
   "execution_count": null,
   "id": "84244f34",
   "metadata": {},
   "outputs": [],
   "source": [
    "df[df['SR_SHORT_CODE']=='SWSNOREM'].head()"
   ]
  },
  {
   "cell_type": "markdown",
   "id": "7bb1e087",
   "metadata": {},
   "source": [
    "<a name = \"review\"></a>\n",
    "# 4. Explore Data"
   ]
  },
  {
   "cell_type": "markdown",
   "id": "89fc1c8e",
   "metadata": {},
   "source": [
    "### Complaints by Status"
   ]
  },
  {
   "cell_type": "code",
   "execution_count": null,
   "id": "70de050b",
   "metadata": {},
   "outputs": [],
   "source": [
    "df_by_status = df.pivot_table(index='STATUS', columns='year', values='SR_NUMBER', aggfunc='size', fill_value=0)\n",
    "df_by_status"
   ]
  },
  {
   "cell_type": "markdown",
   "id": "4d653243",
   "metadata": {},
   "source": [
    "### Complaints by Origin"
   ]
  },
  {
   "cell_type": "code",
   "execution_count": null,
   "id": "244cb36a",
   "metadata": {},
   "outputs": [],
   "source": [
    "df_by_origin = df.groupby('ORIGIN')['SR_NUMBER'].agg('count').reset_index()\n",
    "df_by_origin"
   ]
  },
  {
   "cell_type": "code",
   "execution_count": null,
   "id": "d9b3d9e8",
   "metadata": {},
   "outputs": [],
   "source": [
    "df_by_origin_by_year = df.pivot_table(index='ORIGIN', columns='year', values='SR_NUMBER', aggfunc='size', fill_value=0)\n",
    "df_by_origin_by_year"
   ]
  },
  {
   "cell_type": "markdown",
   "id": "2fedc7c2",
   "metadata": {},
   "source": [
    "### 311 Complaints by Year\n",
    "note that 2024 is only a partial year and data are missing for 1/1/23 to 1/12/23"
   ]
  },
  {
   "cell_type": "code",
   "execution_count": null,
   "id": "70248336",
   "metadata": {},
   "outputs": [],
   "source": [
    "#get latest date\n",
    "max_date = df['date'].max()\n",
    "max_date"
   ]
  },
  {
   "cell_type": "code",
   "execution_count": null,
   "id": "514e855f",
   "metadata": {},
   "outputs": [],
   "source": [
    "df_by_year = df.groupby('year')['date'].agg(['count', 'min', 'max']).reset_index()\n",
    "df_by_year"
   ]
  },
  {
   "cell_type": "markdown",
   "id": "7b9cb84d",
   "metadata": {},
   "source": [
    "### Complaint Type Codes (SR_SHORT_CODE)"
   ]
  },
  {
   "cell_type": "code",
   "execution_count": null,
   "id": "0140b9e8",
   "metadata": {},
   "outputs": [],
   "source": [
    "#connect short codes with descriptions\n",
    "df_types = df.pivot_table(index=['SR_TYPE','OWNER_DEPARTMENT'], columns='SR_SHORT_CODE', values='SR_NUMBER', aggfunc='size', fill_value=0)\n",
    "df_types"
   ]
  },
  {
   "cell_type": "code",
   "execution_count": null,
   "id": "9976247e",
   "metadata": {},
   "outputs": [],
   "source": [
    "df_by_year = df.pivot_table(index='SR_TYPE', columns='year', values='SR_NUMBER', aggfunc='size', fill_value=0)\n",
    "df_by_year"
   ]
  }
 ],
 "metadata": {
  "kernelspec": {
   "display_name": "Python 3 (ipykernel)",
   "language": "python",
   "name": "python3"
  },
  "language_info": {
   "codemirror_mode": {
    "name": "ipython",
    "version": 3
   },
   "file_extension": ".py",
   "mimetype": "text/x-python",
   "name": "python",
   "nbconvert_exporter": "python",
   "pygments_lexer": "ipython3",
   "version": "3.10.12"
  }
 },
 "nbformat": 4,
 "nbformat_minor": 5
}
