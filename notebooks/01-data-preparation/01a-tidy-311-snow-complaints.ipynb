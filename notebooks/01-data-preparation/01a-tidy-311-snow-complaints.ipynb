{
 "cells": [
  {
   "cell_type": "markdown",
   "id": "638444be",
   "metadata": {},
   "source": [
    "<h1>Get Snow Violations Data</h1>\n",
    "10 January 2024\n",
    "\n",
    "This analysis looks at 311 complaints filed as \"Snow – Uncleared Sidewalk Complaint,\" or SWSNOREM.<br>\n",
    "<br>\n",
    "My analysis steps:\n",
    "<ol>\n",
    "<li><a href=\"#get\">Get Data</a>\n",
    "    <li><a href=\"#prepare\">Preprocess Data</a>\n",
    "        <li><a href=\"#save\">Save Data</a>\n",
    "</ol>"
   ]
  },
  {
   "cell_type": "markdown",
   "id": "2f8fa7b3",
   "metadata": {},
   "source": [
    "### Data Sources\n",
    "<strong>Snow violations:</strong> <a href=\"https://data.cityofchicago.org/resource/v6vf-nfxy.json\">311 Service Requests</a><br>\n",
    "<!-- <strong>Community names:</strong> <a href=\"https://data.cityofchicago.org/Facilities-Geographic-Boundaries/Boundaries-Community-Areas-current-/cauq-8yn6\">Boundaries- Community Areas</a><br> -->\n",
    "<strong>Community names and population:</strong> <a href=\"https://datahub.cmap.illinois.gov/datasets/CMAPGIS::community-data-snapshots-raw-data-2014-2022/explore?layer=21\">Chicago Community Areas 2022</a> (CMAP)<br>"
   ]
  },
  {
   "cell_type": "markdown",
   "id": "2add0dd1",
   "metadata": {},
   "source": [
    "<a name = \"get\"></a>\n",
    "    <h1>1. Get Data via API</h1>"
   ]
  },
  {
   "cell_type": "code",
   "execution_count": 1,
   "id": "109b46e0",
   "metadata": {},
   "outputs": [],
   "source": [
    "import pandas as pd\n",
    "import requests\n",
    "#import datetime as dt #would only need this if I manipulated dates post-API data retrieval"
   ]
  },
  {
   "cell_type": "code",
   "execution_count": 2,
   "id": "1087fac8",
   "metadata": {},
   "outputs": [],
   "source": [
    "base_url = \"https://data.cityofchicago.org/resource/v6vf-nfxy.json\"\n",
    "select = \"SR_NUMBER, SR_SHORT_CODE, CREATED_DATE, STREET_ADDRESS, COMMUNITY_AREA, WARD, STATUS, ORIGIN, CLOSED_DATE, LATITUDE, LONGITUDE, SR_TYPE\"\n",
    "where = \"SR_TYPE like '%25Snow%25'\"\n",
    "limit = 99999\n",
    "\n",
    "url = f\"{base_url}?$SELECT={select}&$WHERE={where}&$LIMIT={limit}\"\n",
    "print (url)"
   ]
  },
  {
   "cell_type": "code",
   "execution_count": 3,
   "id": "3e0e0cc4",
   "metadata": {},
   "outputs": [],
   "source": [
    "response = requests.get(url)\n",
    "data = response.json()\n",
    "print (response)"
   ]
  },
  {
   "cell_type": "markdown",
   "id": "1da32343",
   "metadata": {},
   "source": [
    "### verify dataset looks okay. should see about 68.5k records across 4x snow types as of early January 2024"
   ]
  },
  {
   "cell_type": "code",
   "execution_count": 4,
   "id": "67d95ad4",
   "metadata": {},
   "outputs": [],
   "source": [
    "df=pd.DataFrame(data)\n",
    "df.head()"
   ]
  },
  {
   "cell_type": "code",
   "execution_count": 5,
   "id": "d78adc8a",
   "metadata": {},
   "outputs": [],
   "source": [
    "len(df)"
   ]
  },
  {
   "cell_type": "markdown",
   "id": "897359dd",
   "metadata": {},
   "source": [
    "### read community names\n",
    "just get the community names for now. Save Census data for analysis steps"
   ]
  },
  {
   "cell_type": "code",
   "execution_count": 6,
   "id": "95df29fc",
   "metadata": {},
   "outputs": [],
   "source": [
    "# retrieved on 1/11/24, but 2020 Census Population figures should be static\n",
    "df_population = pd.read_csv(\"../data/01-raw/population_cmap_2022.csv\")"
   ]
  },
  {
   "cell_type": "code",
   "execution_count": 7,
   "id": "e51c902f",
   "metadata": {},
   "outputs": [],
   "source": [
    "# simplify dataframe to get only essentials\n",
    "df_population = df_population[['GEOID','GEOG']]\n",
    "df_population = df_population.rename(columns={'GEOG':'COMMUNITY_NAME'})\n",
    "df_population.head()"
   ]
  },
  {
   "cell_type": "markdown",
   "id": "8fb6720f",
   "metadata": {},
   "source": [
    "<a name = \"prepare\"></a>\n",
    "# 2. Preprocess Data"
   ]
  },
  {
   "cell_type": "markdown",
   "id": "ac2423c0",
   "metadata": {},
   "source": [
    "### parse dates"
   ]
  },
  {
   "cell_type": "code",
   "execution_count": 8,
   "id": "5dd56f66",
   "metadata": {},
   "outputs": [],
   "source": [
    "def get_season(month, year):\n",
    "# Input:\n",
    "#   month: numeric month of the year (1-12)\n",
    "#   year (int): 4 digit year\n",
    "# Returns:\n",
    "#   season in yyyy-yyyy format. E.g. 2022-2023 means winter 2022-2023, or July 2022 to June 2023.\n",
    "\n",
    "    if month >= 7:\n",
    "        return f\"{str(year)[-4:]}-{str(year + 1)[-4:]}\"\n",
    "    else:\n",
    "        return f\"{str(year - 1)[-4:]}-{str(year)[-4:]}\""
   ]
  },
  {
   "cell_type": "code",
   "execution_count": 9,
   "id": "1d15bccd",
   "metadata": {},
   "outputs": [],
   "source": [
    "# format and parse dates\n",
    "df['CREATED_DATE'] = pd.to_datetime(df['CREATED_DATE'])\n",
    "df['CLOSED_DATE'] = pd.to_datetime(df['CLOSED_DATE'])\n",
    "df['year'] = df['CREATED_DATE'].dt.year\n",
    "df['month'] = df['CREATED_DATE'].dt.month\n",
    "df['date'] = df['CREATED_DATE'].dt.date\n",
    "df['season'] = df.apply(lambda row: get_season(row['month'], row['year']), axis=1)\n",
    "df.head()"
   ]
  },
  {
   "cell_type": "code",
   "execution_count": 10,
   "id": "2676fda9",
   "metadata": {},
   "outputs": [],
   "source": [
    "# review season assignment\n",
    "df.groupby('season').size()"
   ]
  },
  {
   "cell_type": "markdown",
   "id": "f908bc96",
   "metadata": {},
   "source": [
    "### identify records with missing or suburban address"
   ]
  },
  {
   "cell_type": "code",
   "execution_count": 11,
   "id": "2fd8230a",
   "metadata": {},
   "outputs": [],
   "source": [
    "# find records with missing address\n",
    "len(df[df['STREET_ADDRESS'].isna()==True])"
   ]
  },
  {
   "cell_type": "code",
   "execution_count": 12,
   "id": "97203f30",
   "metadata": {},
   "outputs": [],
   "source": [
    "len(df[df['COMMUNITY_AREA'].isna()==True])"
   ]
  },
  {
   "cell_type": "code",
   "execution_count": 13,
   "id": "a1626d2e",
   "metadata": {},
   "outputs": [],
   "source": [
    "len(df[df['WARD'].isna()==True])"
   ]
  },
  {
   "cell_type": "markdown",
   "id": "ff51468c",
   "metadata": {},
   "source": [
    "### remove invalid addresses"
   ]
  },
  {
   "cell_type": "code",
   "execution_count": 14,
   "id": "c7f3128b",
   "metadata": {},
   "outputs": [],
   "source": [
    "df_valid_address = df[(df['STREET_ADDRESS'].isna()==False)\n",
    "                     & (df['WARD'].isna()==False)\n",
    "                     & (df['COMMUNITY_AREA'].isna()==False)]\n",
    "len(df_valid_address)"
   ]
  },
  {
   "cell_type": "code",
   "execution_count": 15,
   "id": "c332fb90",
   "metadata": {},
   "outputs": [],
   "source": [
    "# then correct object types to integer\n",
    "df_valid_address['COMMUNITY_AREA'] = df_valid_address['COMMUNITY_AREA'].astype(int)\n",
    "df_valid_address['WARD'] = df_valid_address['WARD'].astype(int)"
   ]
  },
  {
   "cell_type": "markdown",
   "id": "da2c48c6",
   "metadata": {},
   "source": [
    "### merge in community names"
   ]
  },
  {
   "cell_type": "code",
   "execution_count": 16,
   "id": "bf4716c3",
   "metadata": {},
   "outputs": [],
   "source": [
    "df_clean = pd.merge(left=df_valid_address,right=df_population,left_on='COMMUNITY_AREA',right_on='GEOID')\n",
    "df_clean.head()"
   ]
  },
  {
   "cell_type": "code",
   "execution_count": 17,
   "id": "b2a71792",
   "metadata": {},
   "outputs": [],
   "source": [
    "### for convenience, get dataset of just unshoveled snow\n",
    "df_unshoveled = df_clean[df_clean['SR_SHORT_CODE']=='SWSNOREM']\n",
    "len(df_unshoveled)"
   ]
  },
  {
   "cell_type": "markdown",
   "id": "9d751c48",
   "metadata": {},
   "source": [
    "<a name = \"save\"></a>\n",
    "# 3. Export Data"
   ]
  },
  {
   "cell_type": "code",
   "execution_count": 18,
   "id": "d927d06f",
   "metadata": {},
   "outputs": [],
   "source": [
    "df_clean.to_csv(\"../../data/01-tidied/311-complaints-snow-all-types.csv\", index=False)\n",
    "df_clean.to_csv(\"../../data/01-tidied/311-complaints-unshoveled.csv\", index=False)"
   ]
  },
  {
   "cell_type": "code",
   "execution_count": null,
   "id": "33e895fa",
   "metadata": {},
   "outputs": [],
   "source": []
  }
 ],
 "metadata": {
  "kernelspec": {
   "display_name": "Python 3 (ipykernel)",
   "language": "python",
   "name": "python3"
  },
  "language_info": {
   "codemirror_mode": {
    "name": "ipython",
    "version": 3
   },
   "file_extension": ".py",
   "mimetype": "text/x-python",
   "name": "python",
   "nbconvert_exporter": "python",
   "pygments_lexer": "ipython3",
   "version": "3.10.12"
  }
 },
 "nbformat": 4,
 "nbformat_minor": 5
}
