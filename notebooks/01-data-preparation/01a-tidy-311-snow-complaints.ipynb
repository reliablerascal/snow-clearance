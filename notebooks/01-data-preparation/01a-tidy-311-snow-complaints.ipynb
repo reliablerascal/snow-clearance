{
 "cells": [
  {
   "cell_type": "markdown",
   "id": "638444be",
   "metadata": {},
   "source": [
    "<h1>Get Snow Violations Data</h1>\n",
    "10 January 2024\n",
    "\n",
    "This analysis looks at 311 complaints filed as \"Snow – Uncleared Sidewalk Complaint,\" or SWSNOREM.<br>\n",
    "<br>\n",
    "My analysis steps:\n",
    "<ol>\n",
    "<li><a href=\"#get\">Get Data</a>\n",
    "    <li><a href=\"#prepare\">Preprocess Data</a>\n",
    "        <li><a href=\"#save\">Save Data</a>\n",
    "</ol>"
   ]
  },
  {
   "cell_type": "markdown",
   "id": "2f8fa7b3",
   "metadata": {},
   "source": [
    "### Data Sources\n",
    "<strong>Snow violations:</strong> <a href=\"https://data.cityofchicago.org/resource/v6vf-nfxy.json\">311 Service Requests</a><br>\n",
    "<!-- <strong>Community names:</strong> <a href=\"https://data.cityofchicago.org/Facilities-Geographic-Boundaries/Boundaries-Community-Areas-current-/cauq-8yn6\">Boundaries- Community Areas</a><br> -->\n",
    "<strong>Community names and population:</strong> <a href=\"https://datahub.cmap.illinois.gov/datasets/CMAPGIS::community-data-snapshots-raw-data-2014-2022/explore?layer=21\">Chicago Community Areas 2022</a> (CMAP)<br>"
   ]
  },
  {
   "cell_type": "markdown",
   "id": "2add0dd1",
   "metadata": {},
   "source": [
    "<a name = \"get\"></a>\n",
    "    <h1>1. Get Data</h1>"
   ]
  },
  {
   "cell_type": "code",
   "execution_count": 1,
   "id": "109b46e0",
   "metadata": {},
   "outputs": [],
   "source": [
    "import pandas as pd\n",
    "import requests\n",
    "#import datetime as dt #would only need this if I manipulated dates post-API data retrieval"
   ]
  },
  {
   "cell_type": "code",
   "execution_count": 2,
   "id": "1087fac8",
   "metadata": {},
   "outputs": [
    {
     "name": "stdout",
     "output_type": "stream",
     "text": [
      "https://data.cityofchicago.org/resource/v6vf-nfxy.json?$SELECT=SR_NUMBER, SR_SHORT_CODE, CREATED_DATE, STREET_ADDRESS, COMMUNITY_AREA, WARD, STATUS, ORIGIN, CLOSED_DATE, LATITUDE, LONGITUDE, SR_TYPE&$WHERE=SR_TYPE like '%25Snow%25'&$LIMIT=99999\n"
     ]
    }
   ],
   "source": [
    "base_url = \"https://data.cityofchicago.org/resource/v6vf-nfxy.json\"\n",
    "select = \"SR_NUMBER, SR_SHORT_CODE, CREATED_DATE, STREET_ADDRESS, COMMUNITY_AREA, WARD, STATUS, ORIGIN, CLOSED_DATE, LATITUDE, LONGITUDE, SR_TYPE\"\n",
    "where = \"SR_TYPE like '%25Snow%25'\"\n",
    "limit = 99999\n",
    "\n",
    "url = f\"{base_url}?$SELECT={select}&$WHERE={where}&$LIMIT={limit}\"\n",
    "print (url)"
   ]
  },
  {
   "cell_type": "code",
   "execution_count": 3,
   "id": "3e0e0cc4",
   "metadata": {},
   "outputs": [
    {
     "name": "stdout",
     "output_type": "stream",
     "text": [
      "<Response [200]>\n"
     ]
    }
   ],
   "source": [
    "response = requests.get(url)\n",
    "data = response.json()\n",
    "print (response)"
   ]
  },
  {
   "cell_type": "markdown",
   "id": "1da32343",
   "metadata": {},
   "source": [
    "### verify dataset looks okay. should see about 68.5k records across 4x snow types as of early January 2024"
   ]
  },
  {
   "cell_type": "code",
   "execution_count": 4,
   "id": "67d95ad4",
   "metadata": {},
   "outputs": [
    {
     "data": {
      "text/html": [
       "<div>\n",
       "<style scoped>\n",
       "    .dataframe tbody tr th:only-of-type {\n",
       "        vertical-align: middle;\n",
       "    }\n",
       "\n",
       "    .dataframe tbody tr th {\n",
       "        vertical-align: top;\n",
       "    }\n",
       "\n",
       "    .dataframe thead th {\n",
       "        text-align: right;\n",
       "    }\n",
       "</style>\n",
       "<table border=\"1\" class=\"dataframe\">\n",
       "  <thead>\n",
       "    <tr style=\"text-align: right;\">\n",
       "      <th></th>\n",
       "      <th>SR_NUMBER</th>\n",
       "      <th>SR_SHORT_CODE</th>\n",
       "      <th>CREATED_DATE</th>\n",
       "      <th>STREET_ADDRESS</th>\n",
       "      <th>STATUS</th>\n",
       "      <th>ORIGIN</th>\n",
       "      <th>CLOSED_DATE</th>\n",
       "      <th>SR_TYPE</th>\n",
       "      <th>COMMUNITY_AREA</th>\n",
       "      <th>WARD</th>\n",
       "      <th>LATITUDE</th>\n",
       "      <th>LONGITUDE</th>\n",
       "    </tr>\n",
       "  </thead>\n",
       "  <tbody>\n",
       "    <tr>\n",
       "      <th>0</th>\n",
       "      <td>SR19-00102142</td>\n",
       "      <td>SDW</td>\n",
       "      <td>2019-01-22T17:47:53.000</td>\n",
       "      <td>23 S Drake AVE</td>\n",
       "      <td>Completed</td>\n",
       "      <td>Internet</td>\n",
       "      <td>2019-03-15T07:25:34.000</td>\n",
       "      <td>Snow - Object/Dibs Removal Request</td>\n",
       "      <td>NaN</td>\n",
       "      <td>NaN</td>\n",
       "      <td>NaN</td>\n",
       "      <td>NaN</td>\n",
       "    </tr>\n",
       "    <tr>\n",
       "      <th>1</th>\n",
       "      <td>SR22-00050149</td>\n",
       "      <td>SDO</td>\n",
       "      <td>2022-01-10T11:05:32.000</td>\n",
       "      <td>4151 W WASHINGTON BLVD</td>\n",
       "      <td>Completed</td>\n",
       "      <td>Mobile Device</td>\n",
       "      <td>2022-01-10T11:06:41.000</td>\n",
       "      <td>Ice and Snow Removal Request</td>\n",
       "      <td>26</td>\n",
       "      <td>28</td>\n",
       "      <td>41.881691809</td>\n",
       "      <td>-87.730165409</td>\n",
       "    </tr>\n",
       "    <tr>\n",
       "      <th>2</th>\n",
       "      <td>SR19-00123488</td>\n",
       "      <td>SDW</td>\n",
       "      <td>2019-01-27T16:13:36.000</td>\n",
       "      <td>2320 N Luna AVE</td>\n",
       "      <td>Completed</td>\n",
       "      <td>Internet</td>\n",
       "      <td>2019-03-15T07:22:15.000</td>\n",
       "      <td>Snow - Object/Dibs Removal Request</td>\n",
       "      <td>NaN</td>\n",
       "      <td>NaN</td>\n",
       "      <td>NaN</td>\n",
       "      <td>NaN</td>\n",
       "    </tr>\n",
       "    <tr>\n",
       "      <th>3</th>\n",
       "      <td>SR24-00092065</td>\n",
       "      <td>SWSNOREM</td>\n",
       "      <td>2024-01-16T07:54:03.000</td>\n",
       "      <td>2315 N LINCOLN PARK WEST</td>\n",
       "      <td>Completed</td>\n",
       "      <td>Mobile Device</td>\n",
       "      <td>2024-01-23T09:53:30.000</td>\n",
       "      <td>Snow – Uncleared Sidewalk Complaint</td>\n",
       "      <td>7</td>\n",
       "      <td>43</td>\n",
       "      <td>41.922495001</td>\n",
       "      <td>-87.636906</td>\n",
       "    </tr>\n",
       "    <tr>\n",
       "      <th>4</th>\n",
       "      <td>SR24-00099426</td>\n",
       "      <td>SDW</td>\n",
       "      <td>2024-01-17T08:37:18.000</td>\n",
       "      <td>2719 W 18TH ST</td>\n",
       "      <td>Completed</td>\n",
       "      <td>Mobile Device</td>\n",
       "      <td>2024-01-23T06:53:42.000</td>\n",
       "      <td>Snow - Object/Dibs Removal Request</td>\n",
       "      <td>29</td>\n",
       "      <td>25</td>\n",
       "      <td>41.857218001</td>\n",
       "      <td>-87.6939525</td>\n",
       "    </tr>\n",
       "  </tbody>\n",
       "</table>\n",
       "</div>"
      ],
      "text/plain": [
       "       SR_NUMBER SR_SHORT_CODE             CREATED_DATE  \\\n",
       "0  SR19-00102142           SDW  2019-01-22T17:47:53.000   \n",
       "1  SR22-00050149           SDO  2022-01-10T11:05:32.000   \n",
       "2  SR19-00123488           SDW  2019-01-27T16:13:36.000   \n",
       "3  SR24-00092065      SWSNOREM  2024-01-16T07:54:03.000   \n",
       "4  SR24-00099426           SDW  2024-01-17T08:37:18.000   \n",
       "\n",
       "             STREET_ADDRESS     STATUS         ORIGIN  \\\n",
       "0            23 S Drake AVE  Completed       Internet   \n",
       "1    4151 W WASHINGTON BLVD  Completed  Mobile Device   \n",
       "2           2320 N Luna AVE  Completed       Internet   \n",
       "3  2315 N LINCOLN PARK WEST  Completed  Mobile Device   \n",
       "4            2719 W 18TH ST  Completed  Mobile Device   \n",
       "\n",
       "               CLOSED_DATE                              SR_TYPE  \\\n",
       "0  2019-03-15T07:25:34.000   Snow - Object/Dibs Removal Request   \n",
       "1  2022-01-10T11:06:41.000         Ice and Snow Removal Request   \n",
       "2  2019-03-15T07:22:15.000   Snow - Object/Dibs Removal Request   \n",
       "3  2024-01-23T09:53:30.000  Snow – Uncleared Sidewalk Complaint   \n",
       "4  2024-01-23T06:53:42.000   Snow - Object/Dibs Removal Request   \n",
       "\n",
       "  COMMUNITY_AREA WARD      LATITUDE      LONGITUDE  \n",
       "0            NaN  NaN           NaN            NaN  \n",
       "1             26   28  41.881691809  -87.730165409  \n",
       "2            NaN  NaN           NaN            NaN  \n",
       "3              7   43  41.922495001     -87.636906  \n",
       "4             29   25  41.857218001    -87.6939525  "
      ]
     },
     "execution_count": 4,
     "metadata": {},
     "output_type": "execute_result"
    }
   ],
   "source": [
    "df=pd.DataFrame(data)\n",
    "df.head()"
   ]
  },
  {
   "cell_type": "code",
   "execution_count": 5,
   "id": "d78adc8a",
   "metadata": {},
   "outputs": [
    {
     "data": {
      "text/plain": [
       "72006"
      ]
     },
     "execution_count": 5,
     "metadata": {},
     "output_type": "execute_result"
    }
   ],
   "source": [
    "len(df)"
   ]
  },
  {
   "cell_type": "markdown",
   "id": "897359dd",
   "metadata": {},
   "source": [
    "### read community names\n",
    "just get the community names for now. Save Census data for analysis steps"
   ]
  },
  {
   "cell_type": "code",
   "execution_count": 6,
   "id": "95df29fc",
   "metadata": {},
   "outputs": [],
   "source": [
    "# retrieved on 1/11/24, but 2020 Census Population figures should be static\n",
    "df_population = pd.read_csv(\"../data/01-raw/population_cmap_2022.csv\")"
   ]
  },
  {
   "cell_type": "code",
   "execution_count": 7,
   "id": "e51c902f",
   "metadata": {},
   "outputs": [
    {
     "data": {
      "text/html": [
       "<div>\n",
       "<style scoped>\n",
       "    .dataframe tbody tr th:only-of-type {\n",
       "        vertical-align: middle;\n",
       "    }\n",
       "\n",
       "    .dataframe tbody tr th {\n",
       "        vertical-align: top;\n",
       "    }\n",
       "\n",
       "    .dataframe thead th {\n",
       "        text-align: right;\n",
       "    }\n",
       "</style>\n",
       "<table border=\"1\" class=\"dataframe\">\n",
       "  <thead>\n",
       "    <tr style=\"text-align: right;\">\n",
       "      <th></th>\n",
       "      <th>GEOID</th>\n",
       "      <th>COMMUNITY_NAME</th>\n",
       "    </tr>\n",
       "  </thead>\n",
       "  <tbody>\n",
       "    <tr>\n",
       "      <th>0</th>\n",
       "      <td>14</td>\n",
       "      <td>Albany Park</td>\n",
       "    </tr>\n",
       "    <tr>\n",
       "      <th>1</th>\n",
       "      <td>57</td>\n",
       "      <td>Archer Heights</td>\n",
       "    </tr>\n",
       "    <tr>\n",
       "      <th>2</th>\n",
       "      <td>34</td>\n",
       "      <td>Armour Square</td>\n",
       "    </tr>\n",
       "    <tr>\n",
       "      <th>3</th>\n",
       "      <td>70</td>\n",
       "      <td>Ashburn</td>\n",
       "    </tr>\n",
       "    <tr>\n",
       "      <th>4</th>\n",
       "      <td>71</td>\n",
       "      <td>Auburn Gresham</td>\n",
       "    </tr>\n",
       "  </tbody>\n",
       "</table>\n",
       "</div>"
      ],
      "text/plain": [
       "   GEOID  COMMUNITY_NAME\n",
       "0     14     Albany Park\n",
       "1     57  Archer Heights\n",
       "2     34   Armour Square\n",
       "3     70         Ashburn\n",
       "4     71  Auburn Gresham"
      ]
     },
     "execution_count": 7,
     "metadata": {},
     "output_type": "execute_result"
    }
   ],
   "source": [
    "# simplify dataframe to get only essentials\n",
    "df_population = df_population[['GEOID','GEOG']]\n",
    "df_population = df_population.rename(columns={'GEOG':'COMMUNITY_NAME'})\n",
    "df_population.head()"
   ]
  },
  {
   "cell_type": "markdown",
   "id": "8fb6720f",
   "metadata": {},
   "source": [
    "<a name = \"prepare\"></a>\n",
    "# 2. Preprocess Data"
   ]
  },
  {
   "cell_type": "markdown",
   "id": "ac2423c0",
   "metadata": {},
   "source": [
    "### parse dates"
   ]
  },
  {
   "cell_type": "code",
   "execution_count": 8,
   "id": "5dd56f66",
   "metadata": {},
   "outputs": [],
   "source": [
    "def get_season(month, year):\n",
    "# Input:\n",
    "#   month: numeric month of the year (1-12)\n",
    "#   year (int): 4 digit year\n",
    "# Returns:\n",
    "#   season in yyyy-yyyy format. E.g. 2022-2023 means winter 2022-2023, or July 2022 to June 2023.\n",
    "\n",
    "    if month >= 7:\n",
    "        return f\"{str(year)[-4:]}-{str(year + 1)[-4:]}\"\n",
    "    else:\n",
    "        return f\"{str(year - 1)[-4:]}-{str(year)[-4:]}\""
   ]
  },
  {
   "cell_type": "code",
   "execution_count": 9,
   "id": "1d15bccd",
   "metadata": {},
   "outputs": [
    {
     "data": {
      "text/html": [
       "<div>\n",
       "<style scoped>\n",
       "    .dataframe tbody tr th:only-of-type {\n",
       "        vertical-align: middle;\n",
       "    }\n",
       "\n",
       "    .dataframe tbody tr th {\n",
       "        vertical-align: top;\n",
       "    }\n",
       "\n",
       "    .dataframe thead th {\n",
       "        text-align: right;\n",
       "    }\n",
       "</style>\n",
       "<table border=\"1\" class=\"dataframe\">\n",
       "  <thead>\n",
       "    <tr style=\"text-align: right;\">\n",
       "      <th></th>\n",
       "      <th>SR_NUMBER</th>\n",
       "      <th>SR_SHORT_CODE</th>\n",
       "      <th>CREATED_DATE</th>\n",
       "      <th>STREET_ADDRESS</th>\n",
       "      <th>STATUS</th>\n",
       "      <th>ORIGIN</th>\n",
       "      <th>CLOSED_DATE</th>\n",
       "      <th>SR_TYPE</th>\n",
       "      <th>COMMUNITY_AREA</th>\n",
       "      <th>WARD</th>\n",
       "      <th>LATITUDE</th>\n",
       "      <th>LONGITUDE</th>\n",
       "      <th>year</th>\n",
       "      <th>month</th>\n",
       "      <th>date</th>\n",
       "      <th>season</th>\n",
       "    </tr>\n",
       "  </thead>\n",
       "  <tbody>\n",
       "    <tr>\n",
       "      <th>0</th>\n",
       "      <td>SR19-00102142</td>\n",
       "      <td>SDW</td>\n",
       "      <td>2019-01-22 17:47:53</td>\n",
       "      <td>23 S Drake AVE</td>\n",
       "      <td>Completed</td>\n",
       "      <td>Internet</td>\n",
       "      <td>2019-03-15 07:25:34</td>\n",
       "      <td>Snow - Object/Dibs Removal Request</td>\n",
       "      <td>NaN</td>\n",
       "      <td>NaN</td>\n",
       "      <td>NaN</td>\n",
       "      <td>NaN</td>\n",
       "      <td>2019</td>\n",
       "      <td>1</td>\n",
       "      <td>2019-01-22</td>\n",
       "      <td>2018-2019</td>\n",
       "    </tr>\n",
       "    <tr>\n",
       "      <th>1</th>\n",
       "      <td>SR22-00050149</td>\n",
       "      <td>SDO</td>\n",
       "      <td>2022-01-10 11:05:32</td>\n",
       "      <td>4151 W WASHINGTON BLVD</td>\n",
       "      <td>Completed</td>\n",
       "      <td>Mobile Device</td>\n",
       "      <td>2022-01-10 11:06:41</td>\n",
       "      <td>Ice and Snow Removal Request</td>\n",
       "      <td>26</td>\n",
       "      <td>28</td>\n",
       "      <td>41.881691809</td>\n",
       "      <td>-87.730165409</td>\n",
       "      <td>2022</td>\n",
       "      <td>1</td>\n",
       "      <td>2022-01-10</td>\n",
       "      <td>2021-2022</td>\n",
       "    </tr>\n",
       "    <tr>\n",
       "      <th>2</th>\n",
       "      <td>SR19-00123488</td>\n",
       "      <td>SDW</td>\n",
       "      <td>2019-01-27 16:13:36</td>\n",
       "      <td>2320 N Luna AVE</td>\n",
       "      <td>Completed</td>\n",
       "      <td>Internet</td>\n",
       "      <td>2019-03-15 07:22:15</td>\n",
       "      <td>Snow - Object/Dibs Removal Request</td>\n",
       "      <td>NaN</td>\n",
       "      <td>NaN</td>\n",
       "      <td>NaN</td>\n",
       "      <td>NaN</td>\n",
       "      <td>2019</td>\n",
       "      <td>1</td>\n",
       "      <td>2019-01-27</td>\n",
       "      <td>2018-2019</td>\n",
       "    </tr>\n",
       "    <tr>\n",
       "      <th>3</th>\n",
       "      <td>SR24-00092065</td>\n",
       "      <td>SWSNOREM</td>\n",
       "      <td>2024-01-16 07:54:03</td>\n",
       "      <td>2315 N LINCOLN PARK WEST</td>\n",
       "      <td>Completed</td>\n",
       "      <td>Mobile Device</td>\n",
       "      <td>2024-01-23 09:53:30</td>\n",
       "      <td>Snow – Uncleared Sidewalk Complaint</td>\n",
       "      <td>7</td>\n",
       "      <td>43</td>\n",
       "      <td>41.922495001</td>\n",
       "      <td>-87.636906</td>\n",
       "      <td>2024</td>\n",
       "      <td>1</td>\n",
       "      <td>2024-01-16</td>\n",
       "      <td>2023-2024</td>\n",
       "    </tr>\n",
       "    <tr>\n",
       "      <th>4</th>\n",
       "      <td>SR24-00099426</td>\n",
       "      <td>SDW</td>\n",
       "      <td>2024-01-17 08:37:18</td>\n",
       "      <td>2719 W 18TH ST</td>\n",
       "      <td>Completed</td>\n",
       "      <td>Mobile Device</td>\n",
       "      <td>2024-01-23 06:53:42</td>\n",
       "      <td>Snow - Object/Dibs Removal Request</td>\n",
       "      <td>29</td>\n",
       "      <td>25</td>\n",
       "      <td>41.857218001</td>\n",
       "      <td>-87.6939525</td>\n",
       "      <td>2024</td>\n",
       "      <td>1</td>\n",
       "      <td>2024-01-17</td>\n",
       "      <td>2023-2024</td>\n",
       "    </tr>\n",
       "  </tbody>\n",
       "</table>\n",
       "</div>"
      ],
      "text/plain": [
       "       SR_NUMBER SR_SHORT_CODE        CREATED_DATE            STREET_ADDRESS  \\\n",
       "0  SR19-00102142           SDW 2019-01-22 17:47:53            23 S Drake AVE   \n",
       "1  SR22-00050149           SDO 2022-01-10 11:05:32    4151 W WASHINGTON BLVD   \n",
       "2  SR19-00123488           SDW 2019-01-27 16:13:36           2320 N Luna AVE   \n",
       "3  SR24-00092065      SWSNOREM 2024-01-16 07:54:03  2315 N LINCOLN PARK WEST   \n",
       "4  SR24-00099426           SDW 2024-01-17 08:37:18            2719 W 18TH ST   \n",
       "\n",
       "      STATUS         ORIGIN         CLOSED_DATE  \\\n",
       "0  Completed       Internet 2019-03-15 07:25:34   \n",
       "1  Completed  Mobile Device 2022-01-10 11:06:41   \n",
       "2  Completed       Internet 2019-03-15 07:22:15   \n",
       "3  Completed  Mobile Device 2024-01-23 09:53:30   \n",
       "4  Completed  Mobile Device 2024-01-23 06:53:42   \n",
       "\n",
       "                               SR_TYPE COMMUNITY_AREA WARD      LATITUDE  \\\n",
       "0   Snow - Object/Dibs Removal Request            NaN  NaN           NaN   \n",
       "1         Ice and Snow Removal Request             26   28  41.881691809   \n",
       "2   Snow - Object/Dibs Removal Request            NaN  NaN           NaN   \n",
       "3  Snow – Uncleared Sidewalk Complaint              7   43  41.922495001   \n",
       "4   Snow - Object/Dibs Removal Request             29   25  41.857218001   \n",
       "\n",
       "       LONGITUDE  year  month        date     season  \n",
       "0            NaN  2019      1  2019-01-22  2018-2019  \n",
       "1  -87.730165409  2022      1  2022-01-10  2021-2022  \n",
       "2            NaN  2019      1  2019-01-27  2018-2019  \n",
       "3     -87.636906  2024      1  2024-01-16  2023-2024  \n",
       "4    -87.6939525  2024      1  2024-01-17  2023-2024  "
      ]
     },
     "execution_count": 9,
     "metadata": {},
     "output_type": "execute_result"
    }
   ],
   "source": [
    "# format and parse dates\n",
    "df['CREATED_DATE'] = pd.to_datetime(df['CREATED_DATE'])\n",
    "df['CLOSED_DATE'] = pd.to_datetime(df['CLOSED_DATE'])\n",
    "df['year'] = df['CREATED_DATE'].dt.year\n",
    "df['month'] = df['CREATED_DATE'].dt.month\n",
    "df['date'] = df['CREATED_DATE'].dt.date\n",
    "df['season'] = df.apply(lambda row: get_season(row['month'], row['year']), axis=1)\n",
    "df.head()"
   ]
  },
  {
   "cell_type": "code",
   "execution_count": 10,
   "id": "2676fda9",
   "metadata": {},
   "outputs": [
    {
     "data": {
      "text/plain": [
       "season\n",
       "2018-2019      635\n",
       "2019-2020    10113\n",
       "2020-2021    30967\n",
       "2021-2022    22396\n",
       "2022-2023     4157\n",
       "2023-2024     3738\n",
       "dtype: int64"
      ]
     },
     "execution_count": 10,
     "metadata": {},
     "output_type": "execute_result"
    }
   ],
   "source": [
    "# review season assignment\n",
    "df.groupby('season').size()"
   ]
  },
  {
   "cell_type": "markdown",
   "id": "f908bc96",
   "metadata": {},
   "source": [
    "### identify records with missing or suburban address"
   ]
  },
  {
   "cell_type": "code",
   "execution_count": 11,
   "id": "2fd8230a",
   "metadata": {},
   "outputs": [
    {
     "data": {
      "text/plain": [
       "202"
      ]
     },
     "execution_count": 11,
     "metadata": {},
     "output_type": "execute_result"
    }
   ],
   "source": [
    "# find records with missing address\n",
    "len(df[df['STREET_ADDRESS'].isna()==True])"
   ]
  },
  {
   "cell_type": "code",
   "execution_count": 12,
   "id": "97203f30",
   "metadata": {},
   "outputs": [
    {
     "data": {
      "text/plain": [
       "178"
      ]
     },
     "execution_count": 12,
     "metadata": {},
     "output_type": "execute_result"
    }
   ],
   "source": [
    "len(df[df['COMMUNITY_AREA'].isna()==True])"
   ]
  },
  {
   "cell_type": "code",
   "execution_count": 13,
   "id": "a1626d2e",
   "metadata": {},
   "outputs": [
    {
     "data": {
      "text/plain": [
       "172"
      ]
     },
     "execution_count": 13,
     "metadata": {},
     "output_type": "execute_result"
    }
   ],
   "source": [
    "len(df[df['WARD'].isna()==True])"
   ]
  },
  {
   "cell_type": "markdown",
   "id": "ff51468c",
   "metadata": {},
   "source": [
    "### remove invalid addresses"
   ]
  },
  {
   "cell_type": "code",
   "execution_count": 14,
   "id": "c7f3128b",
   "metadata": {},
   "outputs": [
    {
     "data": {
      "text/plain": [
       "71712"
      ]
     },
     "execution_count": 14,
     "metadata": {},
     "output_type": "execute_result"
    }
   ],
   "source": [
    "df_valid_address = df[(df['STREET_ADDRESS'].isna()==False)\n",
    "                     & (df['WARD'].isna()==False)\n",
    "                     & (df['COMMUNITY_AREA'].isna()==False)]\n",
    "len(df_valid_address)"
   ]
  },
  {
   "cell_type": "code",
   "execution_count": 15,
   "id": "c332fb90",
   "metadata": {},
   "outputs": [
    {
     "name": "stderr",
     "output_type": "stream",
     "text": [
      "/tmp/ipykernel_1926/1714811663.py:2: SettingWithCopyWarning: \n",
      "A value is trying to be set on a copy of a slice from a DataFrame.\n",
      "Try using .loc[row_indexer,col_indexer] = value instead\n",
      "\n",
      "See the caveats in the documentation: https://pandas.pydata.org/pandas-docs/stable/user_guide/indexing.html#returning-a-view-versus-a-copy\n",
      "  df_valid_address['COMMUNITY_AREA'] = df_valid_address['COMMUNITY_AREA'].astype(int)\n",
      "/tmp/ipykernel_1926/1714811663.py:3: SettingWithCopyWarning: \n",
      "A value is trying to be set on a copy of a slice from a DataFrame.\n",
      "Try using .loc[row_indexer,col_indexer] = value instead\n",
      "\n",
      "See the caveats in the documentation: https://pandas.pydata.org/pandas-docs/stable/user_guide/indexing.html#returning-a-view-versus-a-copy\n",
      "  df_valid_address['WARD'] = df_valid_address['WARD'].astype(int)\n"
     ]
    }
   ],
   "source": [
    "# then correct object types to integer\n",
    "df_valid_address['COMMUNITY_AREA'] = df_valid_address['COMMUNITY_AREA'].astype(int)\n",
    "df_valid_address['WARD'] = df_valid_address['WARD'].astype(int)"
   ]
  },
  {
   "cell_type": "markdown",
   "id": "da2c48c6",
   "metadata": {},
   "source": [
    "### merge in community names"
   ]
  },
  {
   "cell_type": "code",
   "execution_count": 16,
   "id": "bf4716c3",
   "metadata": {},
   "outputs": [
    {
     "data": {
      "text/html": [
       "<div>\n",
       "<style scoped>\n",
       "    .dataframe tbody tr th:only-of-type {\n",
       "        vertical-align: middle;\n",
       "    }\n",
       "\n",
       "    .dataframe tbody tr th {\n",
       "        vertical-align: top;\n",
       "    }\n",
       "\n",
       "    .dataframe thead th {\n",
       "        text-align: right;\n",
       "    }\n",
       "</style>\n",
       "<table border=\"1\" class=\"dataframe\">\n",
       "  <thead>\n",
       "    <tr style=\"text-align: right;\">\n",
       "      <th></th>\n",
       "      <th>SR_NUMBER</th>\n",
       "      <th>SR_SHORT_CODE</th>\n",
       "      <th>CREATED_DATE</th>\n",
       "      <th>STREET_ADDRESS</th>\n",
       "      <th>STATUS</th>\n",
       "      <th>ORIGIN</th>\n",
       "      <th>CLOSED_DATE</th>\n",
       "      <th>SR_TYPE</th>\n",
       "      <th>COMMUNITY_AREA</th>\n",
       "      <th>WARD</th>\n",
       "      <th>LATITUDE</th>\n",
       "      <th>LONGITUDE</th>\n",
       "      <th>year</th>\n",
       "      <th>month</th>\n",
       "      <th>date</th>\n",
       "      <th>season</th>\n",
       "      <th>GEOID</th>\n",
       "      <th>COMMUNITY_NAME</th>\n",
       "    </tr>\n",
       "  </thead>\n",
       "  <tbody>\n",
       "    <tr>\n",
       "      <th>0</th>\n",
       "      <td>SR22-00050149</td>\n",
       "      <td>SDO</td>\n",
       "      <td>2022-01-10 11:05:32</td>\n",
       "      <td>4151 W WASHINGTON BLVD</td>\n",
       "      <td>Completed</td>\n",
       "      <td>Mobile Device</td>\n",
       "      <td>2022-01-10 11:06:41</td>\n",
       "      <td>Ice and Snow Removal Request</td>\n",
       "      <td>26</td>\n",
       "      <td>28</td>\n",
       "      <td>41.881691809</td>\n",
       "      <td>-87.730165409</td>\n",
       "      <td>2022</td>\n",
       "      <td>1</td>\n",
       "      <td>2022-01-10</td>\n",
       "      <td>2021-2022</td>\n",
       "      <td>26</td>\n",
       "      <td>West Garfield Park</td>\n",
       "    </tr>\n",
       "    <tr>\n",
       "      <th>1</th>\n",
       "      <td>SR24-00092065</td>\n",
       "      <td>SWSNOREM</td>\n",
       "      <td>2024-01-16 07:54:03</td>\n",
       "      <td>2315 N LINCOLN PARK WEST</td>\n",
       "      <td>Completed</td>\n",
       "      <td>Mobile Device</td>\n",
       "      <td>2024-01-23 09:53:30</td>\n",
       "      <td>Snow – Uncleared Sidewalk Complaint</td>\n",
       "      <td>7</td>\n",
       "      <td>43</td>\n",
       "      <td>41.922495001</td>\n",
       "      <td>-87.636906</td>\n",
       "      <td>2024</td>\n",
       "      <td>1</td>\n",
       "      <td>2024-01-16</td>\n",
       "      <td>2023-2024</td>\n",
       "      <td>7</td>\n",
       "      <td>Lincoln Park</td>\n",
       "    </tr>\n",
       "    <tr>\n",
       "      <th>2</th>\n",
       "      <td>SR24-00099426</td>\n",
       "      <td>SDW</td>\n",
       "      <td>2024-01-17 08:37:18</td>\n",
       "      <td>2719 W 18TH ST</td>\n",
       "      <td>Completed</td>\n",
       "      <td>Mobile Device</td>\n",
       "      <td>2024-01-23 06:53:42</td>\n",
       "      <td>Snow - Object/Dibs Removal Request</td>\n",
       "      <td>29</td>\n",
       "      <td>25</td>\n",
       "      <td>41.857218001</td>\n",
       "      <td>-87.6939525</td>\n",
       "      <td>2024</td>\n",
       "      <td>1</td>\n",
       "      <td>2024-01-17</td>\n",
       "      <td>2023-2024</td>\n",
       "      <td>29</td>\n",
       "      <td>North Lawndale</td>\n",
       "    </tr>\n",
       "    <tr>\n",
       "      <th>3</th>\n",
       "      <td>SR23-01930406</td>\n",
       "      <td>SDO</td>\n",
       "      <td>2023-11-06 21:46:58</td>\n",
       "      <td>1410 E 62ND ST</td>\n",
       "      <td>Completed</td>\n",
       "      <td>Internet</td>\n",
       "      <td>2023-11-09 18:25:10</td>\n",
       "      <td>Ice and Snow Removal Request</td>\n",
       "      <td>42</td>\n",
       "      <td>20</td>\n",
       "      <td>41.782635001</td>\n",
       "      <td>-87.5906235</td>\n",
       "      <td>2023</td>\n",
       "      <td>11</td>\n",
       "      <td>2023-11-06</td>\n",
       "      <td>2023-2024</td>\n",
       "      <td>42</td>\n",
       "      <td>Woodlawn</td>\n",
       "    </tr>\n",
       "    <tr>\n",
       "      <th>4</th>\n",
       "      <td>SR24-00081383</td>\n",
       "      <td>SNPBLBS</td>\n",
       "      <td>2024-01-13 14:26:54</td>\n",
       "      <td>501 W GRAND AVE</td>\n",
       "      <td>Completed</td>\n",
       "      <td>Internet</td>\n",
       "      <td>2024-02-07 07:23:00</td>\n",
       "      <td>Snow Removal - Protected Bike Lane or Bridge S...</td>\n",
       "      <td>24</td>\n",
       "      <td>42</td>\n",
       "      <td>41.891336874</td>\n",
       "      <td>-87.641257857</td>\n",
       "      <td>2024</td>\n",
       "      <td>1</td>\n",
       "      <td>2024-01-13</td>\n",
       "      <td>2023-2024</td>\n",
       "      <td>24</td>\n",
       "      <td>West Town</td>\n",
       "    </tr>\n",
       "  </tbody>\n",
       "</table>\n",
       "</div>"
      ],
      "text/plain": [
       "       SR_NUMBER SR_SHORT_CODE        CREATED_DATE            STREET_ADDRESS  \\\n",
       "0  SR22-00050149           SDO 2022-01-10 11:05:32    4151 W WASHINGTON BLVD   \n",
       "1  SR24-00092065      SWSNOREM 2024-01-16 07:54:03  2315 N LINCOLN PARK WEST   \n",
       "2  SR24-00099426           SDW 2024-01-17 08:37:18            2719 W 18TH ST   \n",
       "3  SR23-01930406           SDO 2023-11-06 21:46:58            1410 E 62ND ST   \n",
       "4  SR24-00081383       SNPBLBS 2024-01-13 14:26:54           501 W GRAND AVE   \n",
       "\n",
       "      STATUS         ORIGIN         CLOSED_DATE  \\\n",
       "0  Completed  Mobile Device 2022-01-10 11:06:41   \n",
       "1  Completed  Mobile Device 2024-01-23 09:53:30   \n",
       "2  Completed  Mobile Device 2024-01-23 06:53:42   \n",
       "3  Completed       Internet 2023-11-09 18:25:10   \n",
       "4  Completed       Internet 2024-02-07 07:23:00   \n",
       "\n",
       "                                             SR_TYPE  COMMUNITY_AREA  WARD  \\\n",
       "0                       Ice and Snow Removal Request              26    28   \n",
       "1                Snow – Uncleared Sidewalk Complaint               7    43   \n",
       "2                 Snow - Object/Dibs Removal Request              29    25   \n",
       "3                       Ice and Snow Removal Request              42    20   \n",
       "4  Snow Removal - Protected Bike Lane or Bridge S...              24    42   \n",
       "\n",
       "       LATITUDE      LONGITUDE  year  month        date     season  GEOID  \\\n",
       "0  41.881691809  -87.730165409  2022      1  2022-01-10  2021-2022     26   \n",
       "1  41.922495001     -87.636906  2024      1  2024-01-16  2023-2024      7   \n",
       "2  41.857218001    -87.6939525  2024      1  2024-01-17  2023-2024     29   \n",
       "3  41.782635001    -87.5906235  2023     11  2023-11-06  2023-2024     42   \n",
       "4  41.891336874  -87.641257857  2024      1  2024-01-13  2023-2024     24   \n",
       "\n",
       "       COMMUNITY_NAME  \n",
       "0  West Garfield Park  \n",
       "1        Lincoln Park  \n",
       "2      North Lawndale  \n",
       "3            Woodlawn  \n",
       "4           West Town  "
      ]
     },
     "execution_count": 16,
     "metadata": {},
     "output_type": "execute_result"
    }
   ],
   "source": [
    "df_clean = pd.merge(left=df_valid_address,right=df_population,left_on='COMMUNITY_AREA',right_on='GEOID')\n",
    "df_clean.head()"
   ]
  },
  {
   "cell_type": "code",
   "execution_count": 18,
   "id": "b2a71792",
   "metadata": {},
   "outputs": [
    {
     "data": {
      "text/plain": [
       "22685"
      ]
     },
     "execution_count": 18,
     "metadata": {},
     "output_type": "execute_result"
    }
   ],
   "source": [
    "### for convenience, get dataset of just unshoveled snow\n",
    "df_unshoveled = df_clean[df_clean['SR_SHORT_CODE']=='SWSNOREM']\n",
    "len(df_unshoveled)"
   ]
  },
  {
   "cell_type": "markdown",
   "id": "9d751c48",
   "metadata": {},
   "source": [
    "<a name = \"save\"></a>\n",
    "# 3. Export Data"
   ]
  },
  {
   "cell_type": "code",
   "execution_count": 19,
   "id": "d927d06f",
   "metadata": {},
   "outputs": [],
   "source": [
    "df_clean.to_csv(\"../../data/02-tidied/311-complaints-snow-all-types.csv\", index=False)\n",
    "df_clean.to_csv(\"../../data/02-tidied/311-complaints-unshoveled.csv\", index=False)"
   ]
  },
  {
   "cell_type": "code",
   "execution_count": null,
   "id": "33e895fa",
   "metadata": {},
   "outputs": [],
   "source": []
  }
 ],
 "metadata": {
  "kernelspec": {
   "display_name": "Python 3 (ipykernel)",
   "language": "python",
   "name": "python3"
  },
  "language_info": {
   "codemirror_mode": {
    "name": "ipython",
    "version": 3
   },
   "file_extension": ".py",
   "mimetype": "text/x-python",
   "name": "python",
   "nbconvert_exporter": "python",
   "pygments_lexer": "ipython3",
   "version": "3.10.12"
  }
 },
 "nbformat": 4,
 "nbformat_minor": 5
}
