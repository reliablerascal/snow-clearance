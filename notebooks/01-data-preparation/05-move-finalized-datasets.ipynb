{
 "cells": [
  {
   "cell_type": "markdown",
   "id": "26550da8",
   "metadata": {},
   "source": [
    "# Copy Finalized Datasets\n",
    "3/3/24\n",
    "This repo simply moves all finalized datasets into one place"
   ]
  },
  {
   "cell_type": "code",
   "execution_count": 1,
   "id": "9c2ae789",
   "metadata": {},
   "outputs": [],
   "source": [
    "import shutil"
   ]
  },
  {
   "cell_type": "code",
   "execution_count": 2,
   "id": "6e123ddf",
   "metadata": {},
   "outputs": [
    {
     "data": {
      "text/plain": [
       "'../../data/05-finalized/dockets-summary.csv'"
      ]
     },
     "execution_count": 2,
     "metadata": {},
     "output_type": "execute_result"
    }
   ],
   "source": [
    "# snow complaints from 01-tidied\n",
    "shutil.copy('../../data/01-tidied/311-complaints-snow-all-types.csv',\n",
    "            '../../data/05-finalized/311-complaints-snow-all-types.csv')\n",
    "shutil.copy('../../data/01-tidied/311-complaints-unshoveled.csv',\n",
    "            '../../data/05-finalized/311-complaints-unshoveled.csv')\n",
    "shutil.copy('../../data/01-tidied/census-by-community.csv',\n",
    "            '../../data/05-finalized/census-by-community.csv')\n",
    "\n",
    "# dockets data from 04-standardized\n",
    "shutil.copy('../../data/04-standardized/dockets-to-details-gis.csv',\n",
    "            '../../data/05-finalized/dockets-to-details-gis.csv')\n",
    "\n",
    "shutil.copy('../../data/04-standardized/dockets-summary.csv',\n",
    "            '../../data/05-finalized/dockets-summary.csv')\n",
    "\n",
    "# geographic aggregates from 05-aggregated\n",
    "# shutil.copy('../../data/05-aggregated/dockets-summary.csv',\n",
    "#             '../../data/06-finalized/dockets-summary.csv')\n",
    "# shutil.copy('../../data/05-aggregated/dockets-summary.csv',\n",
    "#             '../../data/06-finalized/dockets-by-address.csv')\n",
    "# shutil.copy('../../data/05-aggregated/dockets-summary.csv',\n",
    "#             '../../data/06-finalized/dockets-by-community.csv')\n",
    "# shutil.copy('../../data/05-aggregated/dockets-summary.csv',\n",
    "#             '../../data/06-finalized/dockets-by-ward.csv')"
   ]
  },
  {
   "cell_type": "code",
   "execution_count": null,
   "id": "7e7d4f2d",
   "metadata": {},
   "outputs": [],
   "source": []
  }
 ],
 "metadata": {
  "kernelspec": {
   "display_name": "Python 3 (ipykernel)",
   "language": "python",
   "name": "python3"
  },
  "language_info": {
   "codemirror_mode": {
    "name": "ipython",
    "version": 3
   },
   "file_extension": ".py",
   "mimetype": "text/x-python",
   "name": "python",
   "nbconvert_exporter": "python",
   "pygments_lexer": "ipython3",
   "version": "3.10.12"
  }
 },
 "nbformat": 4,
 "nbformat_minor": 5
}
