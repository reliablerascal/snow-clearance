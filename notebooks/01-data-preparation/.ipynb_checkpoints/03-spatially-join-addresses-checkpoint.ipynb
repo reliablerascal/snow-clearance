{
 "cells": [
  {
   "cell_type": "markdown",
   "id": "0ed49463",
   "metadata": {},
   "source": [
    "# Spatially Join Addresses\n",
    "3/2/24\n",
    "<div style=\"color:red\">this notebook should be cleaned up a bit</div>\n",
    "repeat with Communities, then 2015 Wards"
   ]
  },
  {
   "cell_type": "markdown",
   "id": "6a151b20",
   "metadata": {},
   "source": [
    "# Input"
   ]
  },
  {
   "cell_type": "markdown",
   "id": "5ca199e0",
   "metadata": {},
   "source": [
    "data/01-tidied/dockets-to-addresses.csv"
   ]
  },
  {
   "cell_type": "markdown",
   "id": "0ff294a0",
   "metadata": {},
   "source": [
    "# Spatial Join"
   ]
  },
  {
   "cell_type": "markdown",
   "id": "6ac4b920",
   "metadata": {},
   "source": [
    "<ol>\n",
    "<li>Drag and drop “Boundaries - Community Areas (current)” into layers\n",
    "<li>Drag and drop dockets-geocoded.geojson into layers\n",
    "<li>Vector > Data Management Tools > Join Attributes by Location.\n",
    "\n",
    "<ul>\n",
    "<li>Join to features in: dockets-geocoded (points layer)\n",
    "<li>Features they: are within\n",
    "<li>By comparing to: Boundaries - Community Areas\n",
    "<li>Join type: Take attributes of the first matching feature only (one-to-one)\n",
    "</ul>\n",
    "    \n",
    "<li>click Run\n",
    "<li>click close\n",
    "<li>right-click “Joined layer” -> Export -> Saved Features As…\n",
    "format -> CSV\n",
    "file name: 03-spatially-joined/addresses-to-communities.csv<br>\n",
    "geometry-> no geometry\n",
    "<li>OK\n",
    "    </ol>"
   ]
  },
  {
   "cell_type": "markdown",
   "id": "c1de72d5",
   "metadata": {},
   "source": [
    "# Output"
   ]
  },
  {
   "cell_type": "markdown",
   "id": "f18c294e",
   "metadata": {},
   "source": [
    "This results in two files:\n",
    "* *addresses-to-communities.csv*- maps each address to a community area\n",
    "* *addresses-to-wards2015.csv*- maps each address to a ward"
   ]
  },
  {
   "cell_type": "code",
   "execution_count": null,
   "id": "b036e5ab",
   "metadata": {},
   "outputs": [],
   "source": []
  }
 ],
 "metadata": {
  "kernelspec": {
   "display_name": "Python 3 (ipykernel)",
   "language": "python",
   "name": "python3"
  },
  "language_info": {
   "codemirror_mode": {
    "name": "ipython",
    "version": 3
   },
   "file_extension": ".py",
   "mimetype": "text/x-python",
   "name": "python",
   "nbconvert_exporter": "python",
   "pygments_lexer": "ipython3",
   "version": "3.10.12"
  }
 },
 "nbformat": 4,
 "nbformat_minor": 5
}
