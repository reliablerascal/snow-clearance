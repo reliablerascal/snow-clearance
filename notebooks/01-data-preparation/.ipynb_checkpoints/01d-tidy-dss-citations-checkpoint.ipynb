{
 "cells": [
  {
   "cell_type": "code",
   "execution_count": 1,
   "id": "fe0c292c",
   "metadata": {},
   "outputs": [],
   "source": [
    "import pandas as pd"
   ]
  },
  {
   "cell_type": "code",
   "execution_count": 2,
   "id": "3f68a79e",
   "metadata": {},
   "outputs": [],
   "source": [
    "df=pd.read_csv(\"../../data/00-raw/FOIA-F067484-021424-snow-citations-streets-and-san.csv\")"
   ]
  },
  {
   "cell_type": "code",
   "execution_count": 3,
   "id": "9a677d52",
   "metadata": {},
   "outputs": [],
   "source": [
    "df.rename(columns={'INSPECTOR NAME':'inspector','VIOLATION CODE':'violation_code',\n",
    "                   'DATE OF VIOLATION':'violation_date','DOCKET NUMBER':'docket',\n",
    "                   'DISPOSITION':'disposition','ADDRESS':'citation_address','WARD':'citation_ward'}, inplace=True)\n",
    "df = df[['inspector','violation_code','violation_date','docket','disposition','citation_address','citation_ward']]\n",
    "df['violation_date']=pd.to_datetime(df['violation_date'])"
   ]
  },
  {
   "cell_type": "code",
   "execution_count": 4,
   "id": "5a3383b2",
   "metadata": {},
   "outputs": [
    {
     "data": {
      "text/plain": [
       "649"
      ]
     },
     "execution_count": 4,
     "metadata": {},
     "output_type": "execute_result"
    }
   ],
   "source": [
    "len(df)"
   ]
  },
  {
   "cell_type": "code",
   "execution_count": 5,
   "id": "bea92400",
   "metadata": {},
   "outputs": [],
   "source": [
    "df1923 = df[(df['violation_date']>='7/1/19') & \n",
    "           (df['violation_date']<='6/30/23')]"
   ]
  },
  {
   "cell_type": "code",
   "execution_count": 6,
   "id": "9046d516",
   "metadata": {},
   "outputs": [
    {
     "data": {
      "text/plain": [
       "530"
      ]
     },
     "execution_count": 6,
     "metadata": {},
     "output_type": "execute_result"
    }
   ],
   "source": [
    "len(df1923)"
   ]
  },
  {
   "cell_type": "markdown",
   "id": "fcadd47f",
   "metadata": {},
   "source": [
    "# Export"
   ]
  },
  {
   "cell_type": "code",
   "execution_count": 7,
   "id": "e09b069f",
   "metadata": {},
   "outputs": [],
   "source": [
    "df1923.to_csv('../../data/01-tidied/dss-citations.csv', index=False)"
   ]
  },
  {
   "cell_type": "code",
   "execution_count": null,
   "id": "51129970",
   "metadata": {},
   "outputs": [],
   "source": []
  }
 ],
 "metadata": {
  "kernelspec": {
   "display_name": "Python 3 (ipykernel)",
   "language": "python",
   "name": "python3"
  },
  "language_info": {
   "codemirror_mode": {
    "name": "ipython",
    "version": 3
   },
   "file_extension": ".py",
   "mimetype": "text/x-python",
   "name": "python",
   "nbconvert_exporter": "python",
   "pygments_lexer": "ipython3",
   "version": "3.10.12"
  }
 },
 "nbformat": 4,
 "nbformat_minor": 5
}
