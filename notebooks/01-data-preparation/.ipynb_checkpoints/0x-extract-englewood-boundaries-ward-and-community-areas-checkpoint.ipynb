{
 "cells": [
  {
   "cell_type": "markdown",
   "id": "bff56d32",
   "metadata": {},
   "source": [
    "# Extracting Greater Englewood from Community Area Shapefile\n",
    "so I can identify overlap of wards with community areas\n",
    "2/25/24"
   ]
  },
  {
   "cell_type": "code",
   "execution_count": 1,
   "id": "02e3b8fd",
   "metadata": {},
   "outputs": [],
   "source": [
    "import json"
   ]
  },
  {
   "cell_type": "markdown",
   "id": "89a75e34",
   "metadata": {},
   "source": [
    "### get Englewood community areas"
   ]
  },
  {
   "cell_type": "code",
   "execution_count": 2,
   "id": "e7fc0c89",
   "metadata": {},
   "outputs": [],
   "source": [
    "# Load the GeoJSON file\n",
    "with open('../data/01-raw/Boundaries - Community Areas (current).geojson', 'r') as file:\n",
    "    geojson_ccas = json.load(file)\n",
    "\n",
    "# List of community area names or IDs to keep\n",
    "areas_to_keep = ['ENGLEWOOD', 'WEST ENGLEWOOD']\n",
    "\n",
    "# Filter to include only areas_to_keep\n",
    "selected_features = [feature for feature in geojson_ccas['features'] if feature['properties']['community'] in areas_to_keep]\n",
    "\n",
    "# Update the GeoJSON data to include only those selected\n",
    "geojson_ccas['features'] = selected_features\n",
    "\n",
    "# Write the modified GeoJSON data back to a new file\n",
    "with open('../data/01-raw/englewood_communities.geojson', 'w') as file:\n",
    "    json.dump(geojson_ccas, file)"
   ]
  },
  {
   "cell_type": "markdown",
   "id": "e36dfcf6",
   "metadata": {},
   "source": [
    "### get Englewood wards"
   ]
  },
  {
   "cell_type": "code",
   "execution_count": 3,
   "id": "cb31bc35",
   "metadata": {},
   "outputs": [],
   "source": [
    "# Load the GeoJSON file\n",
    "with open('../data/01-raw/Boundaries - Wards (2023-)_20240225.geojson', 'r') as file:\n",
    "    geojson_wards = json.load(file)\n",
    "\n",
    "# List of community area names or IDs to keep\n",
    "areas_to_keep = ['6', '15', '16', '17', '20']\n",
    "\n",
    "# Filter to include only areas_to_keep\n",
    "selected_features = [feature for feature in geojson_wards['features'] if feature['properties']['ward_id'] in areas_to_keep]\n",
    "\n",
    "# Update the GeoJSON data to include only those selected\n",
    "geojson_wards['features'] = selected_features\n",
    "\n",
    "# Write the modified GeoJSON data back to a new file\n",
    "with open('../data/01-raw/englewood_wards.geojson', 'w') as file:\n",
    "    json.dump(geojson_wards, file)"
   ]
  },
  {
   "cell_type": "markdown",
   "id": "a608dba3",
   "metadata": {},
   "source": [
    "### get Englewood old wards"
   ]
  },
  {
   "cell_type": "code",
   "execution_count": 5,
   "id": "6c6a8a9e",
   "metadata": {},
   "outputs": [],
   "source": [
    "# Load the GeoJSON file\n",
    "with open('../data/01-raw/Boundaries - Wards (2015-2023).geojson', 'r') as file:\n",
    "    geojson_wards = json.load(file)\n",
    "\n",
    "# List of community area names or IDs to keep\n",
    "areas_to_keep = ['6', '15', '16', '17', '20']\n",
    "\n",
    "# Filter to include only areas_to_keep\n",
    "selected_features = [feature for feature in geojson_wards['features'] if feature['properties']['ward'] in areas_to_keep]\n",
    "\n",
    "# Update the GeoJSON data to include only those selected\n",
    "geojson_wards['features'] = selected_features\n",
    "\n",
    "# Write the modified GeoJSON data back to a new file\n",
    "with open('../data/01-raw/englewood_wards_old.geojson', 'w') as file:\n",
    "    json.dump(geojson_wards, file)"
   ]
  },
  {
   "cell_type": "code",
   "execution_count": null,
   "id": "e45a0c85",
   "metadata": {},
   "outputs": [],
   "source": []
  }
 ],
 "metadata": {
  "kernelspec": {
   "display_name": "Python 3 (ipykernel)",
   "language": "python",
   "name": "python3"
  },
  "language_info": {
   "codemirror_mode": {
    "name": "ipython",
    "version": 3
   },
   "file_extension": ".py",
   "mimetype": "text/x-python",
   "name": "python",
   "nbconvert_exporter": "python",
   "pygments_lexer": "ipython3",
   "version": "3.10.12"
  }
 },
 "nbformat": 4,
 "nbformat_minor": 5
}
