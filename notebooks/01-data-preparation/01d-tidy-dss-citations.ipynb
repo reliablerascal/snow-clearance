{
 "cells": [
  {
   "cell_type": "code",
   "execution_count": 1,
   "id": "fe0c292c",
   "metadata": {},
   "outputs": [],
   "source": [
    "import pandas as pd"
   ]
  },
  {
   "cell_type": "code",
   "execution_count": 2,
   "id": "3f68a79e",
   "metadata": {},
   "outputs": [
    {
     "data": {
      "text/html": [
       "<div>\n",
       "<style scoped>\n",
       "    .dataframe tbody tr th:only-of-type {\n",
       "        vertical-align: middle;\n",
       "    }\n",
       "\n",
       "    .dataframe tbody tr th {\n",
       "        vertical-align: top;\n",
       "    }\n",
       "\n",
       "    .dataframe thead th {\n",
       "        text-align: right;\n",
       "    }\n",
       "</style>\n",
       "<table border=\"1\" class=\"dataframe\">\n",
       "  <thead>\n",
       "    <tr style=\"text-align: right;\">\n",
       "      <th></th>\n",
       "      <th>INSPECTOR NAME</th>\n",
       "      <th>INSPECTOR BADGE</th>\n",
       "      <th>VIOLATION CODE</th>\n",
       "      <th>INCIDENT TYPE</th>\n",
       "      <th>VIOLATION TYPE</th>\n",
       "      <th>DATE OF VIOLATION</th>\n",
       "      <th>INCIDENT NUMBER</th>\n",
       "      <th>DOCKET NUMBER</th>\n",
       "      <th>DEPARTMENT</th>\n",
       "      <th>DISPOSITION</th>\n",
       "      <th>WARD</th>\n",
       "      <th>DISTRICT</th>\n",
       "      <th>BEAT</th>\n",
       "      <th>PRECINCT</th>\n",
       "      <th>ADDRESS</th>\n",
       "      <th>CENTRAL BUSINESS DIST</th>\n",
       "    </tr>\n",
       "  </thead>\n",
       "  <tbody>\n",
       "    <tr>\n",
       "      <th>0</th>\n",
       "      <td>Hal Eason</td>\n",
       "      <td>1302</td>\n",
       "      <td>10-8-180; 7-28-450(a); 7-28-710</td>\n",
       "      <td>DSS_OTHER</td>\n",
       "      <td>PROPERTY</td>\n",
       "      <td>Jan-24-2024</td>\n",
       "      <td>551421</td>\n",
       "      <td>NaN</td>\n",
       "      <td>DSS</td>\n",
       "      <td>NaN</td>\n",
       "      <td>9</td>\n",
       "      <td>5.0</td>\n",
       "      <td>532.0</td>\n",
       "      <td>NaN</td>\n",
       "      <td>12411 S MICHIGAN AVE, Chicago, IL 60628</td>\n",
       "      <td>NaN</td>\n",
       "    </tr>\n",
       "    <tr>\n",
       "      <th>1</th>\n",
       "      <td>RANDY MOSBY</td>\n",
       "      <td>1517</td>\n",
       "      <td>10-8-180; 7-28-260(a); 7-28-261(b); 7-28-710</td>\n",
       "      <td>DSS_OTHER</td>\n",
       "      <td>PROPERTY</td>\n",
       "      <td>Jan-23-2024</td>\n",
       "      <td>551360</td>\n",
       "      <td>NaN</td>\n",
       "      <td>DSS</td>\n",
       "      <td>NaN</td>\n",
       "      <td>16</td>\n",
       "      <td>7.0</td>\n",
       "      <td>715.0</td>\n",
       "      <td>NaN</td>\n",
       "      <td>5757 S MARSHFIELD AVE, Chicago, IL 60636</td>\n",
       "      <td>NaN</td>\n",
       "    </tr>\n",
       "    <tr>\n",
       "      <th>2</th>\n",
       "      <td>DANIEL HUICOCHEA</td>\n",
       "      <td>1519</td>\n",
       "      <td>10-8-180</td>\n",
       "      <td>DSS_OTHER</td>\n",
       "      <td>PROPERTY</td>\n",
       "      <td>Jan-22-2024</td>\n",
       "      <td>551338</td>\n",
       "      <td>NaN</td>\n",
       "      <td>DSS</td>\n",
       "      <td>NaN</td>\n",
       "      <td>14</td>\n",
       "      <td>8.0</td>\n",
       "      <td>824.0</td>\n",
       "      <td>NaN</td>\n",
       "      <td>3101 W 59TH ST, Chicago, IL 60629</td>\n",
       "      <td>NaN</td>\n",
       "    </tr>\n",
       "    <tr>\n",
       "      <th>3</th>\n",
       "      <td>Marchelle Collins</td>\n",
       "      <td>1514</td>\n",
       "      <td>10-8-180; 7-28-060</td>\n",
       "      <td>DSS_OTHER</td>\n",
       "      <td>PROPERTY</td>\n",
       "      <td>Jan-22-2024</td>\n",
       "      <td>551336</td>\n",
       "      <td>NaN</td>\n",
       "      <td>DSS</td>\n",
       "      <td>NaN</td>\n",
       "      <td>3</td>\n",
       "      <td>1.0</td>\n",
       "      <td>133.0</td>\n",
       "      <td>NaN</td>\n",
       "      <td>2620 S DEARBORN ST, Chicago, IL 60616</td>\n",
       "      <td>NaN</td>\n",
       "    </tr>\n",
       "    <tr>\n",
       "      <th>4</th>\n",
       "      <td>Michael Caputo</td>\n",
       "      <td>1492</td>\n",
       "      <td>10-8-180</td>\n",
       "      <td>DSS_OTHER</td>\n",
       "      <td>PROPERTY</td>\n",
       "      <td>Jan-19-2024</td>\n",
       "      <td>551262</td>\n",
       "      <td>24DS01697M</td>\n",
       "      <td>DSS</td>\n",
       "      <td>Not Liable</td>\n",
       "      <td>38</td>\n",
       "      <td>16.0</td>\n",
       "      <td>1614.0</td>\n",
       "      <td>NaN</td>\n",
       "      <td>8354 W IRVING PARK RD, Chicago, IL 60634</td>\n",
       "      <td>NaN</td>\n",
       "    </tr>\n",
       "  </tbody>\n",
       "</table>\n",
       "</div>"
      ],
      "text/plain": [
       "      INSPECTOR NAME  INSPECTOR BADGE  \\\n",
       "0          Hal Eason             1302   \n",
       "1        RANDY MOSBY             1517   \n",
       "2   DANIEL HUICOCHEA             1519   \n",
       "3  Marchelle Collins             1514   \n",
       "4     Michael Caputo             1492   \n",
       "\n",
       "                                 VIOLATION CODE INCIDENT TYPE VIOLATION TYPE  \\\n",
       "0               10-8-180; 7-28-450(a); 7-28-710     DSS_OTHER       PROPERTY   \n",
       "1  10-8-180; 7-28-260(a); 7-28-261(b); 7-28-710     DSS_OTHER       PROPERTY   \n",
       "2                                      10-8-180     DSS_OTHER       PROPERTY   \n",
       "3                            10-8-180; 7-28-060     DSS_OTHER       PROPERTY   \n",
       "4                                      10-8-180     DSS_OTHER       PROPERTY   \n",
       "\n",
       "  DATE OF VIOLATION  INCIDENT NUMBER DOCKET NUMBER DEPARTMENT DISPOSITION  \\\n",
       "0       Jan-24-2024           551421           NaN        DSS         NaN   \n",
       "1       Jan-23-2024           551360           NaN        DSS         NaN   \n",
       "2       Jan-22-2024           551338           NaN        DSS         NaN   \n",
       "3       Jan-22-2024           551336           NaN        DSS         NaN   \n",
       "4       Jan-19-2024           551262    24DS01697M        DSS  Not Liable   \n",
       "\n",
       "   WARD  DISTRICT    BEAT  PRECINCT                                   ADDRESS  \\\n",
       "0     9       5.0   532.0       NaN   12411 S MICHIGAN AVE, Chicago, IL 60628   \n",
       "1    16       7.0   715.0       NaN  5757 S MARSHFIELD AVE, Chicago, IL 60636   \n",
       "2    14       8.0   824.0       NaN         3101 W 59TH ST, Chicago, IL 60629   \n",
       "3     3       1.0   133.0       NaN     2620 S DEARBORN ST, Chicago, IL 60616   \n",
       "4    38      16.0  1614.0       NaN  8354 W IRVING PARK RD, Chicago, IL 60634   \n",
       "\n",
       "   CENTRAL BUSINESS DIST  \n",
       "0                    NaN  \n",
       "1                    NaN  \n",
       "2                    NaN  \n",
       "3                    NaN  \n",
       "4                    NaN  "
      ]
     },
     "execution_count": 2,
     "metadata": {},
     "output_type": "execute_result"
    }
   ],
   "source": [
    "df=pd.read_csv(\"../../data/00-raw/FOIA-F067484-021424-snow-citations-streets-and-san.csv\")\n",
    "df.head()"
   ]
  },
  {
   "cell_type": "code",
   "execution_count": 3,
   "id": "9a677d52",
   "metadata": {},
   "outputs": [],
   "source": [
    "df.rename(columns={'INSPECTOR NAME':'inspector','VIOLATION CODE':'violation_code',\n",
    "                   'DATE OF VIOLATION':'violation_date','DOCKET NUMBER':'docket',\n",
    "                   'DISPOSITION':'disposition','ADDRESS':'citation_address','WARD':'citation_ward'}, inplace=True)\n",
    "df = df[['inspector','violation_code','violation_date','docket','disposition','citation_address','citation_ward']]\n",
    "df['violation_date']=pd.to_datetime(df['violation_date'])"
   ]
  },
  {
   "cell_type": "code",
   "execution_count": 4,
   "id": "5a3383b2",
   "metadata": {},
   "outputs": [
    {
     "data": {
      "text/plain": [
       "649"
      ]
     },
     "execution_count": 4,
     "metadata": {},
     "output_type": "execute_result"
    }
   ],
   "source": [
    "len(df)"
   ]
  },
  {
   "cell_type": "code",
   "execution_count": 5,
   "id": "bea92400",
   "metadata": {},
   "outputs": [],
   "source": [
    "df1923 = df[(df['violation_date']>='7/1/19') & \n",
    "           (df['violation_date']<='6/30/23')]"
   ]
  },
  {
   "cell_type": "code",
   "execution_count": 6,
   "id": "9046d516",
   "metadata": {},
   "outputs": [
    {
     "data": {
      "text/plain": [
       "530"
      ]
     },
     "execution_count": 6,
     "metadata": {},
     "output_type": "execute_result"
    }
   ],
   "source": [
    "len(df1923)"
   ]
  },
  {
   "cell_type": "markdown",
   "id": "fcadd47f",
   "metadata": {},
   "source": [
    "# Export"
   ]
  },
  {
   "cell_type": "code",
   "execution_count": 7,
   "id": "e09b069f",
   "metadata": {},
   "outputs": [],
   "source": [
    "df1923.to_csv('../../data/01-tidied/dss-citations.csv', index=False)"
   ]
  },
  {
   "cell_type": "code",
   "execution_count": null,
   "id": "51129970",
   "metadata": {},
   "outputs": [],
   "source": []
  }
 ],
 "metadata": {
  "kernelspec": {
   "display_name": "Python 3 (ipykernel)",
   "language": "python",
   "name": "python3"
  },
  "language_info": {
   "codemirror_mode": {
    "name": "ipython",
    "version": 3
   },
   "file_extension": ".py",
   "mimetype": "text/x-python",
   "name": "python",
   "nbconvert_exporter": "python",
   "pygments_lexer": "ipython3",
   "version": "3.10.12"
  }
 },
 "nbformat": 4,
 "nbformat_minor": 5
}
