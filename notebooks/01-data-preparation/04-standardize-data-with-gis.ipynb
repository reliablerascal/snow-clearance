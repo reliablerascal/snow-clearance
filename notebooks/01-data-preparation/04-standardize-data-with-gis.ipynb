{
 "cells": [
  {
   "cell_type": "markdown",
   "id": "638444be",
   "metadata": {},
   "source": [
    "# Standardize Snow Clearance Data\n",
    "last updated 3/3/24"
   ]
  },
  {
   "cell_type": "markdown",
   "id": "488cdc75",
   "metadata": {},
   "source": [
    "<a name=\"read\"></a>\n",
    "# 1. Read Spatially Joined Data"
   ]
  },
  {
   "cell_type": "code",
   "execution_count": 1,
   "id": "109b46e0",
   "metadata": {},
   "outputs": [],
   "source": [
    "import pandas as pd"
   ]
  },
  {
   "cell_type": "code",
   "execution_count": 2,
   "id": "38124df9",
   "metadata": {},
   "outputs": [],
   "source": [
    "df_communities = pd.read_csv(\"../../data/03-spatially-joined/addresses-to-communities.csv\")\n",
    "df_wards = pd.read_csv(\"../../data/03-spatially-joined/addresses-to-wards2015.csv\")\n",
    "df_dockets = pd.read_csv(\"../../data/01-tidied/dockets-to-details.csv\")"
   ]
  },
  {
   "cell_type": "code",
   "execution_count": 3,
   "id": "0d012c65",
   "metadata": {},
   "outputs": [
    {
     "data": {
      "text/plain": [
       "1914"
      ]
     },
     "execution_count": 3,
     "metadata": {},
     "output_type": "execute_result"
    }
   ],
   "source": [
    "# four dockets with unknown address are omitted because they're not geocoded\n",
    "len(df_communities)"
   ]
  },
  {
   "cell_type": "code",
   "execution_count": 4,
   "id": "e01b6617",
   "metadata": {},
   "outputs": [
    {
     "data": {
      "text/plain": [
       "1914"
      ]
     },
     "execution_count": 4,
     "metadata": {},
     "output_type": "execute_result"
    }
   ],
   "source": [
    "# four dockets with unknown address are omitted because they're not geocoded\n",
    "len(df_wards)"
   ]
  },
  {
   "cell_type": "code",
   "execution_count": 5,
   "id": "f163deab",
   "metadata": {},
   "outputs": [
    {
     "data": {
      "text/plain": [
       "3662"
      ]
     },
     "execution_count": 5,
     "metadata": {},
     "output_type": "execute_result"
    }
   ],
   "source": [
    "len(df_dockets)"
   ]
  },
  {
   "cell_type": "code",
   "execution_count": 6,
   "id": "70560793",
   "metadata": {},
   "outputs": [
    {
     "data": {
      "text/plain": [
       "1918"
      ]
     },
     "execution_count": 6,
     "metadata": {},
     "output_type": "execute_result"
    }
   ],
   "source": [
    "df_dockets['docket'].nunique()"
   ]
  },
  {
   "cell_type": "markdown",
   "id": "40316a06",
   "metadata": {},
   "source": [
    "# Merge Geographies"
   ]
  },
  {
   "cell_type": "code",
   "execution_count": 7,
   "id": "99907816",
   "metadata": {},
   "outputs": [
    {
     "data": {
      "text/html": [
       "<div>\n",
       "<style scoped>\n",
       "    .dataframe tbody tr th:only-of-type {\n",
       "        vertical-align: middle;\n",
       "    }\n",
       "\n",
       "    .dataframe tbody tr th {\n",
       "        vertical-align: top;\n",
       "    }\n",
       "\n",
       "    .dataframe thead th {\n",
       "        text-align: right;\n",
       "    }\n",
       "</style>\n",
       "<table border=\"1\" class=\"dataframe\">\n",
       "  <thead>\n",
       "    <tr style=\"text-align: right;\">\n",
       "      <th></th>\n",
       "      <th>docket</th>\n",
       "      <th>cleaned_address</th>\n",
       "      <th>latlong</th>\n",
       "      <th>community</th>\n",
       "    </tr>\n",
       "  </thead>\n",
       "  <tbody>\n",
       "    <tr>\n",
       "      <th>0</th>\n",
       "      <td>21DT001189</td>\n",
       "      <td>3832 S WABASH</td>\n",
       "      <td>41.8246153,-87.62519449555593</td>\n",
       "      <td>DOUGLAS</td>\n",
       "    </tr>\n",
       "    <tr>\n",
       "      <th>1</th>\n",
       "      <td>22DT001565</td>\n",
       "      <td>2831 S MICHIGAN</td>\n",
       "      <td>41.842898074485504,-87.62367788440045</td>\n",
       "      <td>DOUGLAS</td>\n",
       "    </tr>\n",
       "    <tr>\n",
       "      <th>2</th>\n",
       "      <td>22DT001566</td>\n",
       "      <td>250 E 29TH ST</td>\n",
       "      <td>41.84211911644582,-87.61996275276782</td>\n",
       "      <td>DOUGLAS</td>\n",
       "    </tr>\n",
       "    <tr>\n",
       "      <th>3</th>\n",
       "      <td>20DT000917</td>\n",
       "      <td>3100 S INDIANA</td>\n",
       "      <td>41.838241,-87.622033</td>\n",
       "      <td>DOUGLAS</td>\n",
       "    </tr>\n",
       "    <tr>\n",
       "      <th>4</th>\n",
       "      <td>22DT001221</td>\n",
       "      <td>835 E 35TH ST</td>\n",
       "      <td>41.8310311,-87.6245552</td>\n",
       "      <td>DOUGLAS</td>\n",
       "    </tr>\n",
       "  </tbody>\n",
       "</table>\n",
       "</div>"
      ],
      "text/plain": [
       "       docket  cleaned_address                                latlong  \\\n",
       "0  21DT001189    3832 S WABASH          41.8246153,-87.62519449555593   \n",
       "1  22DT001565  2831 S MICHIGAN  41.842898074485504,-87.62367788440045   \n",
       "2  22DT001566    250 E 29TH ST   41.84211911644582,-87.61996275276782   \n",
       "3  20DT000917   3100 S INDIANA                   41.838241,-87.622033   \n",
       "4  22DT001221    835 E 35TH ST                 41.8310311,-87.6245552   \n",
       "\n",
       "  community  \n",
       "0   DOUGLAS  \n",
       "1   DOUGLAS  \n",
       "2   DOUGLAS  \n",
       "3   DOUGLAS  \n",
       "4   DOUGLAS  "
      ]
     },
     "execution_count": 7,
     "metadata": {},
     "output_type": "execute_result"
    }
   ],
   "source": [
    "df_communities = df_communities[['docket','cleaned_address','latlong','community']]\n",
    "df_communities.head()"
   ]
  },
  {
   "cell_type": "code",
   "execution_count": 8,
   "id": "cd8cf91b",
   "metadata": {},
   "outputs": [
    {
     "data": {
      "text/html": [
       "<div>\n",
       "<style scoped>\n",
       "    .dataframe tbody tr th:only-of-type {\n",
       "        vertical-align: middle;\n",
       "    }\n",
       "\n",
       "    .dataframe tbody tr th {\n",
       "        vertical-align: top;\n",
       "    }\n",
       "\n",
       "    .dataframe thead th {\n",
       "        text-align: right;\n",
       "    }\n",
       "</style>\n",
       "<table border=\"1\" class=\"dataframe\">\n",
       "  <thead>\n",
       "    <tr style=\"text-align: right;\">\n",
       "      <th></th>\n",
       "      <th>docket</th>\n",
       "      <th>ward_1523</th>\n",
       "    </tr>\n",
       "  </thead>\n",
       "  <tbody>\n",
       "    <tr>\n",
       "      <th>0</th>\n",
       "      <td>21DT001240</td>\n",
       "      <td>12</td>\n",
       "    </tr>\n",
       "    <tr>\n",
       "      <th>1</th>\n",
       "      <td>22DT000758</td>\n",
       "      <td>12</td>\n",
       "    </tr>\n",
       "    <tr>\n",
       "      <th>2</th>\n",
       "      <td>20DT001445</td>\n",
       "      <td>12</td>\n",
       "    </tr>\n",
       "    <tr>\n",
       "      <th>3</th>\n",
       "      <td>20DT001104</td>\n",
       "      <td>12</td>\n",
       "    </tr>\n",
       "    <tr>\n",
       "      <th>4</th>\n",
       "      <td>20DT001102</td>\n",
       "      <td>12</td>\n",
       "    </tr>\n",
       "  </tbody>\n",
       "</table>\n",
       "</div>"
      ],
      "text/plain": [
       "       docket ward_1523\n",
       "0  21DT001240        12\n",
       "1  22DT000758        12\n",
       "2  20DT001445        12\n",
       "3  20DT001104        12\n",
       "4  20DT001102        12"
      ]
     },
     "execution_count": 8,
     "metadata": {},
     "output_type": "execute_result"
    }
   ],
   "source": [
    "df_wards = df_wards[['docket','ward']]\n",
    "df_wards.dropna(subset=['ward'], inplace=True)\n",
    "df_wards['ward'] = df_wards['ward'].astype(int).astype(str)\n",
    "df_wards = df_wards.rename(columns={'ward':'ward_1523'})\n",
    "df_wards.head()"
   ]
  },
  {
   "cell_type": "markdown",
   "id": "8a44db50",
   "metadata": {},
   "source": [
    "### merge address data"
   ]
  },
  {
   "cell_type": "code",
   "execution_count": 9,
   "id": "a16058bf",
   "metadata": {},
   "outputs": [
    {
     "data": {
      "text/html": [
       "<div>\n",
       "<style scoped>\n",
       "    .dataframe tbody tr th:only-of-type {\n",
       "        vertical-align: middle;\n",
       "    }\n",
       "\n",
       "    .dataframe tbody tr th {\n",
       "        vertical-align: top;\n",
       "    }\n",
       "\n",
       "    .dataframe thead th {\n",
       "        text-align: right;\n",
       "    }\n",
       "</style>\n",
       "<table border=\"1\" class=\"dataframe\">\n",
       "  <thead>\n",
       "    <tr style=\"text-align: right;\">\n",
       "      <th></th>\n",
       "      <th>docket</th>\n",
       "      <th>cleaned_address</th>\n",
       "      <th>latlong</th>\n",
       "      <th>community</th>\n",
       "      <th>ward_1523</th>\n",
       "    </tr>\n",
       "  </thead>\n",
       "  <tbody>\n",
       "    <tr>\n",
       "      <th>0</th>\n",
       "      <td>21DT001189</td>\n",
       "      <td>3832 S WABASH</td>\n",
       "      <td>41.8246153,-87.62519449555593</td>\n",
       "      <td>DOUGLAS</td>\n",
       "      <td>3</td>\n",
       "    </tr>\n",
       "    <tr>\n",
       "      <th>1</th>\n",
       "      <td>22DT001565</td>\n",
       "      <td>2831 S MICHIGAN</td>\n",
       "      <td>41.842898074485504,-87.62367788440045</td>\n",
       "      <td>DOUGLAS</td>\n",
       "      <td>3</td>\n",
       "    </tr>\n",
       "    <tr>\n",
       "      <th>2</th>\n",
       "      <td>22DT001566</td>\n",
       "      <td>250 E 29TH ST</td>\n",
       "      <td>41.84211911644582,-87.61996275276782</td>\n",
       "      <td>DOUGLAS</td>\n",
       "      <td>4</td>\n",
       "    </tr>\n",
       "    <tr>\n",
       "      <th>3</th>\n",
       "      <td>20DT000917</td>\n",
       "      <td>3100 S INDIANA</td>\n",
       "      <td>41.838241,-87.622033</td>\n",
       "      <td>DOUGLAS</td>\n",
       "      <td>3</td>\n",
       "    </tr>\n",
       "    <tr>\n",
       "      <th>4</th>\n",
       "      <td>22DT001221</td>\n",
       "      <td>835 E 35TH ST</td>\n",
       "      <td>41.8310311,-87.6245552</td>\n",
       "      <td>DOUGLAS</td>\n",
       "      <td>3</td>\n",
       "    </tr>\n",
       "  </tbody>\n",
       "</table>\n",
       "</div>"
      ],
      "text/plain": [
       "       docket  cleaned_address                                latlong  \\\n",
       "0  21DT001189    3832 S WABASH          41.8246153,-87.62519449555593   \n",
       "1  22DT001565  2831 S MICHIGAN  41.842898074485504,-87.62367788440045   \n",
       "2  22DT001566    250 E 29TH ST   41.84211911644582,-87.61996275276782   \n",
       "3  20DT000917   3100 S INDIANA                   41.838241,-87.622033   \n",
       "4  22DT001221    835 E 35TH ST                 41.8310311,-87.6245552   \n",
       "\n",
       "  community ward_1523  \n",
       "0   DOUGLAS         3  \n",
       "1   DOUGLAS         3  \n",
       "2   DOUGLAS         4  \n",
       "3   DOUGLAS         3  \n",
       "4   DOUGLAS         3  "
      ]
     },
     "execution_count": 9,
     "metadata": {},
     "output_type": "execute_result"
    }
   ],
   "source": [
    "#left-hand join b/c we want to include records with no ward assignment\n",
    "df_gis = pd.merge(df_communities,df_wards,on=\"docket\", how = 'left')\n",
    "df_gis.head()"
   ]
  },
  {
   "cell_type": "code",
   "execution_count": 10,
   "id": "4f2ddc44",
   "metadata": {},
   "outputs": [
    {
     "data": {
      "text/plain": [
       "1914"
      ]
     },
     "execution_count": 10,
     "metadata": {},
     "output_type": "execute_result"
    }
   ],
   "source": [
    "len(df_gis)"
   ]
  },
  {
   "cell_type": "markdown",
   "id": "8987850b",
   "metadata": {},
   "source": [
    "### parse lat and long"
   ]
  },
  {
   "cell_type": "code",
   "execution_count": 11,
   "id": "bf3e0fc4",
   "metadata": {},
   "outputs": [],
   "source": [
    "#parse lat and long\n",
    "df_gis['lat']=df_gis['latlong'].str.split(',').str[0]\n",
    "df_gis['long']=df_gis['latlong'].str.split(',').str[1]"
   ]
  },
  {
   "cell_type": "markdown",
   "id": "93e929dd",
   "metadata": {},
   "source": [
    "### review and clean records with no community assigned"
   ]
  },
  {
   "cell_type": "code",
   "execution_count": 12,
   "id": "71b38336",
   "metadata": {},
   "outputs": [
    {
     "data": {
      "text/html": [
       "<div>\n",
       "<style scoped>\n",
       "    .dataframe tbody tr th:only-of-type {\n",
       "        vertical-align: middle;\n",
       "    }\n",
       "\n",
       "    .dataframe tbody tr th {\n",
       "        vertical-align: top;\n",
       "    }\n",
       "\n",
       "    .dataframe thead th {\n",
       "        text-align: right;\n",
       "    }\n",
       "</style>\n",
       "<table border=\"1\" class=\"dataframe\">\n",
       "  <thead>\n",
       "    <tr style=\"text-align: right;\">\n",
       "      <th></th>\n",
       "      <th>docket</th>\n",
       "      <th>cleaned_address</th>\n",
       "      <th>latlong</th>\n",
       "      <th>community</th>\n",
       "      <th>ward_1523</th>\n",
       "      <th>lat</th>\n",
       "      <th>long</th>\n",
       "    </tr>\n",
       "  </thead>\n",
       "  <tbody>\n",
       "    <tr>\n",
       "      <th>1913</th>\n",
       "      <td>21DT002747</td>\n",
       "      <td>5450 S 47TH</td>\n",
       "      <td>41.8654712,-87.7423005</td>\n",
       "      <td>NaN</td>\n",
       "      <td>NaN</td>\n",
       "      <td>41.8654712</td>\n",
       "      <td>-87.7423005</td>\n",
       "    </tr>\n",
       "  </tbody>\n",
       "</table>\n",
       "</div>"
      ],
      "text/plain": [
       "          docket cleaned_address                 latlong community ward_1523  \\\n",
       "1913  21DT002747     5450 S 47TH  41.8654712,-87.7423005       NaN       NaN   \n",
       "\n",
       "             lat         long  \n",
       "1913  41.8654712  -87.7423005  "
      ]
     },
     "execution_count": 12,
     "metadata": {},
     "output_type": "execute_result"
    }
   ],
   "source": [
    "df_gis[df_gis[\"community\"].isna()]"
   ]
  },
  {
   "cell_type": "code",
   "execution_count": 13,
   "id": "44e0cc34",
   "metadata": {},
   "outputs": [
    {
     "data": {
      "text/html": [
       "<div>\n",
       "<style scoped>\n",
       "    .dataframe tbody tr th:only-of-type {\n",
       "        vertical-align: middle;\n",
       "    }\n",
       "\n",
       "    .dataframe tbody tr th {\n",
       "        vertical-align: top;\n",
       "    }\n",
       "\n",
       "    .dataframe thead th {\n",
       "        text-align: right;\n",
       "    }\n",
       "</style>\n",
       "<table border=\"1\" class=\"dataframe\">\n",
       "  <thead>\n",
       "    <tr style=\"text-align: right;\">\n",
       "      <th></th>\n",
       "      <th>docket</th>\n",
       "      <th>cleaned_address</th>\n",
       "      <th>latlong</th>\n",
       "      <th>community</th>\n",
       "      <th>ward_1523</th>\n",
       "      <th>lat</th>\n",
       "      <th>long</th>\n",
       "    </tr>\n",
       "  </thead>\n",
       "  <tbody>\n",
       "    <tr>\n",
       "      <th>1913</th>\n",
       "      <td>21DT002747</td>\n",
       "      <td>5450 S 47TH</td>\n",
       "      <td>41.8654712,-87.7423005</td>\n",
       "      <td>NaN</td>\n",
       "      <td>NaN</td>\n",
       "      <td>41.8654712</td>\n",
       "      <td>-87.7423005</td>\n",
       "    </tr>\n",
       "  </tbody>\n",
       "</table>\n",
       "</div>"
      ],
      "text/plain": [
       "          docket cleaned_address                 latlong community ward_1523  \\\n",
       "1913  21DT002747     5450 S 47TH  41.8654712,-87.7423005       NaN       NaN   \n",
       "\n",
       "             lat         long  \n",
       "1913  41.8654712  -87.7423005  "
      ]
     },
     "execution_count": 13,
     "metadata": {},
     "output_type": "execute_result"
    }
   ],
   "source": [
    "df_gis[df_gis[\"ward_1523\"].isna()]"
   ]
  },
  {
   "cell_type": "markdown",
   "id": "9332f02b",
   "metadata": {},
   "source": [
    "One address, 5450 S 47TH (docket 21DT002747), is not a valid address but was geocoded at 41.8654712,-87.7423005 at the edge of Lawndale by Roosevelt, which doesn't look right. If it's 5450 W. 47th it'd be in suburban Stickney. So I'm choosing to skip it."
   ]
  },
  {
   "cell_type": "code",
   "execution_count": 14,
   "id": "a9163cd2",
   "metadata": {},
   "outputs": [],
   "source": [
    "#drop record with invalid address\n",
    "# index_to_drop = df[df['address'] == '5450 S 47TH'].index\n",
    "# df = df.drop(index_to_drop)"
   ]
  },
  {
   "cell_type": "code",
   "execution_count": 15,
   "id": "6ebb1eb9",
   "metadata": {},
   "outputs": [],
   "source": [
    "# manually assign community areas for the other two addresses. strangely this address isn't recognized, and placed in West Garfield if I use BLVD instead of ST\n",
    "df_gis.loc[df_gis['cleaned_address'] == '300 W WASHINGTON ST', 'community'] = 'LOOP'"
   ]
  },
  {
   "cell_type": "markdown",
   "id": "e3948f53",
   "metadata": {},
   "source": [
    "<a name=\"docket\"></a>\n",
    "# Merge Geographies into Detailed Dockets"
   ]
  },
  {
   "cell_type": "code",
   "execution_count": 16,
   "id": "6470ccff",
   "metadata": {},
   "outputs": [],
   "source": [
    "df_dockets_gis = pd.merge(df_dockets,df_gis,on='docket', how = 'left')"
   ]
  },
  {
   "cell_type": "code",
   "execution_count": 17,
   "id": "c894fd7e",
   "metadata": {},
   "outputs": [
    {
     "data": {
      "text/plain": [
       "3662"
      ]
     },
     "execution_count": 17,
     "metadata": {},
     "output_type": "execute_result"
    }
   ],
   "source": [
    "len(df_dockets_gis)"
   ]
  },
  {
   "cell_type": "code",
   "execution_count": 18,
   "id": "5e40ac77",
   "metadata": {},
   "outputs": [
    {
     "data": {
      "text/plain": [
       "1918"
      ]
     },
     "execution_count": 18,
     "metadata": {},
     "output_type": "execute_result"
    }
   ],
   "source": [
    "df_dockets_gis['docket'].nunique()"
   ]
  },
  {
   "cell_type": "markdown",
   "id": "57a11f5a",
   "metadata": {},
   "source": [
    "### identify and address missing values before grouping"
   ]
  },
  {
   "cell_type": "code",
   "execution_count": 19,
   "id": "780402ea",
   "metadata": {
    "scrolled": true
   },
   "outputs": [
    {
     "data": {
      "text/html": [
       "<div>\n",
       "<style scoped>\n",
       "    .dataframe tbody tr th:only-of-type {\n",
       "        vertical-align: middle;\n",
       "    }\n",
       "\n",
       "    .dataframe tbody tr th {\n",
       "        vertical-align: top;\n",
       "    }\n",
       "\n",
       "    .dataframe thead th {\n",
       "        text-align: right;\n",
       "    }\n",
       "</style>\n",
       "<table border=\"1\" class=\"dataframe\">\n",
       "  <thead>\n",
       "    <tr style=\"text-align: right;\">\n",
       "      <th></th>\n",
       "      <th>respondent</th>\n",
       "      <th>docket</th>\n",
       "      <th>violation_num</th>\n",
       "      <th>violation_date</th>\n",
       "      <th>hearing_date</th>\n",
       "      <th>violation_address</th>\n",
       "      <th>violation_desc</th>\n",
       "      <th>case_disposition</th>\n",
       "      <th>fine_amt</th>\n",
       "      <th>dept</th>\n",
       "      <th>cleaned_address</th>\n",
       "      <th>latlong</th>\n",
       "      <th>community</th>\n",
       "      <th>ward_1523</th>\n",
       "      <th>lat</th>\n",
       "      <th>long</th>\n",
       "    </tr>\n",
       "  </thead>\n",
       "  <tbody>\n",
       "    <tr>\n",
       "      <th>3</th>\n",
       "      <td>1157 W ERIE</td>\n",
       "      <td>22DT001387</td>\n",
       "      <td>T000207431</td>\n",
       "      <td>2022-02-08</td>\n",
       "      <td>4/11/2022</td>\n",
       "      <td>100  UNKNOWN</td>\n",
       "      <td>10-8-180    Snow and ice removal.</td>\n",
       "      <td>Not Liable</td>\n",
       "      <td>0.0</td>\n",
       "      <td>TRANPORT</td>\n",
       "      <td>NaN</td>\n",
       "      <td>NaN</td>\n",
       "      <td>NaN</td>\n",
       "      <td>NaN</td>\n",
       "      <td>NaN</td>\n",
       "      <td>NaN</td>\n",
       "    </tr>\n",
       "    <tr>\n",
       "      <th>1797</th>\n",
       "      <td>CORE POWER YOGA LLC</td>\n",
       "      <td>21DT000877</td>\n",
       "      <td>T000203714</td>\n",
       "      <td>2021-02-17</td>\n",
       "      <td>4/12/2021</td>\n",
       "      <td>100  UNKNOWN</td>\n",
       "      <td>10-8-180    Snow and ice removal.</td>\n",
       "      <td>Liable</td>\n",
       "      <td>150.0</td>\n",
       "      <td>TRANPORT</td>\n",
       "      <td>NaN</td>\n",
       "      <td>NaN</td>\n",
       "      <td>NaN</td>\n",
       "      <td>NaN</td>\n",
       "      <td>NaN</td>\n",
       "      <td>NaN</td>\n",
       "    </tr>\n",
       "    <tr>\n",
       "      <th>2313</th>\n",
       "      <td>PTS CANAL INC, C/O MARK W LEUNG</td>\n",
       "      <td>21DT000685</td>\n",
       "      <td>T000200346</td>\n",
       "      <td>2021-02-09</td>\n",
       "      <td>3/29/2021</td>\n",
       "      <td>100  UNKNOWN</td>\n",
       "      <td>10-8-180    Snow and ice removal.</td>\n",
       "      <td>Liable</td>\n",
       "      <td>150.0</td>\n",
       "      <td>TRANPORT</td>\n",
       "      <td>NaN</td>\n",
       "      <td>NaN</td>\n",
       "      <td>NaN</td>\n",
       "      <td>NaN</td>\n",
       "      <td>NaN</td>\n",
       "      <td>NaN</td>\n",
       "    </tr>\n",
       "    <tr>\n",
       "      <th>2351</th>\n",
       "      <td>ROMA PACKING CO</td>\n",
       "      <td>22DT000756</td>\n",
       "      <td>T000212869</td>\n",
       "      <td>2022-01-11</td>\n",
       "      <td>3/21/2022</td>\n",
       "      <td>100  UNKNOWN</td>\n",
       "      <td>10-8-180    Snow and ice removal.</td>\n",
       "      <td>Liable</td>\n",
       "      <td>150.0</td>\n",
       "      <td>TRANPORT</td>\n",
       "      <td>NaN</td>\n",
       "      <td>NaN</td>\n",
       "      <td>NaN</td>\n",
       "      <td>NaN</td>\n",
       "      <td>NaN</td>\n",
       "      <td>NaN</td>\n",
       "    </tr>\n",
       "    <tr>\n",
       "      <th>3348</th>\n",
       "      <td>RAINBOW MOTEL CORP, C/O ROSARIO ORTIZ</td>\n",
       "      <td>21DT002747</td>\n",
       "      <td>T000207541</td>\n",
       "      <td>2021-01-27</td>\n",
       "      <td>8/16/2021</td>\n",
       "      <td>5450 S 47TH</td>\n",
       "      <td>10-8-180    Snow and ice removal.</td>\n",
       "      <td>Default</td>\n",
       "      <td>500.0</td>\n",
       "      <td>TRANPORT</td>\n",
       "      <td>5450 S 47TH</td>\n",
       "      <td>41.8654712,-87.7423005</td>\n",
       "      <td>NaN</td>\n",
       "      <td>NaN</td>\n",
       "      <td>41.8654712</td>\n",
       "      <td>-87.7423005</td>\n",
       "    </tr>\n",
       "  </tbody>\n",
       "</table>\n",
       "</div>"
      ],
      "text/plain": [
       "                                  respondent      docket violation_num  \\\n",
       "3                               1157 W ERIE   22DT001387    T000207431   \n",
       "1797                    CORE POWER YOGA LLC   21DT000877    T000203714   \n",
       "2313        PTS CANAL INC, C/O MARK W LEUNG   21DT000685    T000200346   \n",
       "2351                        ROMA PACKING CO   22DT000756    T000212869   \n",
       "3348  RAINBOW MOTEL CORP, C/O ROSARIO ORTIZ   21DT002747    T000207541   \n",
       "\n",
       "     violation_date hearing_date violation_address  \\\n",
       "3        2022-02-08    4/11/2022     100  UNKNOWN    \n",
       "1797     2021-02-17    4/12/2021     100  UNKNOWN    \n",
       "2313     2021-02-09    3/29/2021     100  UNKNOWN    \n",
       "2351     2022-01-11    3/21/2022     100  UNKNOWN    \n",
       "3348     2021-01-27    8/16/2021      5450 S 47TH    \n",
       "\n",
       "                         violation_desc case_disposition  fine_amt      dept  \\\n",
       "3     10-8-180    Snow and ice removal.       Not Liable       0.0  TRANPORT   \n",
       "1797  10-8-180    Snow and ice removal.           Liable     150.0  TRANPORT   \n",
       "2313  10-8-180    Snow and ice removal.           Liable     150.0  TRANPORT   \n",
       "2351  10-8-180    Snow and ice removal.           Liable     150.0  TRANPORT   \n",
       "3348  10-8-180    Snow and ice removal.          Default     500.0  TRANPORT   \n",
       "\n",
       "     cleaned_address                 latlong community ward_1523         lat  \\\n",
       "3                NaN                     NaN       NaN       NaN         NaN   \n",
       "1797             NaN                     NaN       NaN       NaN         NaN   \n",
       "2313             NaN                     NaN       NaN       NaN         NaN   \n",
       "2351             NaN                     NaN       NaN       NaN         NaN   \n",
       "3348     5450 S 47TH  41.8654712,-87.7423005       NaN       NaN  41.8654712   \n",
       "\n",
       "             long  \n",
       "3             NaN  \n",
       "1797          NaN  \n",
       "2313          NaN  \n",
       "2351          NaN  \n",
       "3348  -87.7423005  "
      ]
     },
     "execution_count": 19,
     "metadata": {},
     "output_type": "execute_result"
    }
   ],
   "source": [
    "df_dockets_gis[df_dockets_gis[\"community\"].isna()]"
   ]
  },
  {
   "cell_type": "code",
   "execution_count": 20,
   "id": "da28a52d",
   "metadata": {},
   "outputs": [
    {
     "data": {
      "text/html": [
       "<div>\n",
       "<style scoped>\n",
       "    .dataframe tbody tr th:only-of-type {\n",
       "        vertical-align: middle;\n",
       "    }\n",
       "\n",
       "    .dataframe tbody tr th {\n",
       "        vertical-align: top;\n",
       "    }\n",
       "\n",
       "    .dataframe thead th {\n",
       "        text-align: right;\n",
       "    }\n",
       "</style>\n",
       "<table border=\"1\" class=\"dataframe\">\n",
       "  <thead>\n",
       "    <tr style=\"text-align: right;\">\n",
       "      <th></th>\n",
       "      <th>respondent</th>\n",
       "      <th>docket</th>\n",
       "      <th>violation_num</th>\n",
       "      <th>violation_date</th>\n",
       "      <th>hearing_date</th>\n",
       "      <th>violation_address</th>\n",
       "      <th>violation_desc</th>\n",
       "      <th>case_disposition</th>\n",
       "      <th>fine_amt</th>\n",
       "      <th>dept</th>\n",
       "      <th>cleaned_address</th>\n",
       "      <th>latlong</th>\n",
       "      <th>community</th>\n",
       "      <th>ward_1523</th>\n",
       "      <th>lat</th>\n",
       "      <th>long</th>\n",
       "    </tr>\n",
       "  </thead>\n",
       "  <tbody>\n",
       "    <tr>\n",
       "      <th>3</th>\n",
       "      <td>1157 W ERIE</td>\n",
       "      <td>22DT001387</td>\n",
       "      <td>T000207431</td>\n",
       "      <td>2022-02-08</td>\n",
       "      <td>4/11/2022</td>\n",
       "      <td>100  UNKNOWN</td>\n",
       "      <td>10-8-180    Snow and ice removal.</td>\n",
       "      <td>Not Liable</td>\n",
       "      <td>0.0</td>\n",
       "      <td>TRANPORT</td>\n",
       "      <td>NaN</td>\n",
       "      <td>NaN</td>\n",
       "      <td>NaN</td>\n",
       "      <td>NaN</td>\n",
       "      <td>NaN</td>\n",
       "      <td>NaN</td>\n",
       "    </tr>\n",
       "    <tr>\n",
       "      <th>1797</th>\n",
       "      <td>CORE POWER YOGA LLC</td>\n",
       "      <td>21DT000877</td>\n",
       "      <td>T000203714</td>\n",
       "      <td>2021-02-17</td>\n",
       "      <td>4/12/2021</td>\n",
       "      <td>100  UNKNOWN</td>\n",
       "      <td>10-8-180    Snow and ice removal.</td>\n",
       "      <td>Liable</td>\n",
       "      <td>150.0</td>\n",
       "      <td>TRANPORT</td>\n",
       "      <td>NaN</td>\n",
       "      <td>NaN</td>\n",
       "      <td>NaN</td>\n",
       "      <td>NaN</td>\n",
       "      <td>NaN</td>\n",
       "      <td>NaN</td>\n",
       "    </tr>\n",
       "    <tr>\n",
       "      <th>2313</th>\n",
       "      <td>PTS CANAL INC, C/O MARK W LEUNG</td>\n",
       "      <td>21DT000685</td>\n",
       "      <td>T000200346</td>\n",
       "      <td>2021-02-09</td>\n",
       "      <td>3/29/2021</td>\n",
       "      <td>100  UNKNOWN</td>\n",
       "      <td>10-8-180    Snow and ice removal.</td>\n",
       "      <td>Liable</td>\n",
       "      <td>150.0</td>\n",
       "      <td>TRANPORT</td>\n",
       "      <td>NaN</td>\n",
       "      <td>NaN</td>\n",
       "      <td>NaN</td>\n",
       "      <td>NaN</td>\n",
       "      <td>NaN</td>\n",
       "      <td>NaN</td>\n",
       "    </tr>\n",
       "    <tr>\n",
       "      <th>2351</th>\n",
       "      <td>ROMA PACKING CO</td>\n",
       "      <td>22DT000756</td>\n",
       "      <td>T000212869</td>\n",
       "      <td>2022-01-11</td>\n",
       "      <td>3/21/2022</td>\n",
       "      <td>100  UNKNOWN</td>\n",
       "      <td>10-8-180    Snow and ice removal.</td>\n",
       "      <td>Liable</td>\n",
       "      <td>150.0</td>\n",
       "      <td>TRANPORT</td>\n",
       "      <td>NaN</td>\n",
       "      <td>NaN</td>\n",
       "      <td>NaN</td>\n",
       "      <td>NaN</td>\n",
       "      <td>NaN</td>\n",
       "      <td>NaN</td>\n",
       "    </tr>\n",
       "    <tr>\n",
       "      <th>3348</th>\n",
       "      <td>RAINBOW MOTEL CORP, C/O ROSARIO ORTIZ</td>\n",
       "      <td>21DT002747</td>\n",
       "      <td>T000207541</td>\n",
       "      <td>2021-01-27</td>\n",
       "      <td>8/16/2021</td>\n",
       "      <td>5450 S 47TH</td>\n",
       "      <td>10-8-180    Snow and ice removal.</td>\n",
       "      <td>Default</td>\n",
       "      <td>500.0</td>\n",
       "      <td>TRANPORT</td>\n",
       "      <td>5450 S 47TH</td>\n",
       "      <td>41.8654712,-87.7423005</td>\n",
       "      <td>NaN</td>\n",
       "      <td>NaN</td>\n",
       "      <td>41.8654712</td>\n",
       "      <td>-87.7423005</td>\n",
       "    </tr>\n",
       "  </tbody>\n",
       "</table>\n",
       "</div>"
      ],
      "text/plain": [
       "                                  respondent      docket violation_num  \\\n",
       "3                               1157 W ERIE   22DT001387    T000207431   \n",
       "1797                    CORE POWER YOGA LLC   21DT000877    T000203714   \n",
       "2313        PTS CANAL INC, C/O MARK W LEUNG   21DT000685    T000200346   \n",
       "2351                        ROMA PACKING CO   22DT000756    T000212869   \n",
       "3348  RAINBOW MOTEL CORP, C/O ROSARIO ORTIZ   21DT002747    T000207541   \n",
       "\n",
       "     violation_date hearing_date violation_address  \\\n",
       "3        2022-02-08    4/11/2022     100  UNKNOWN    \n",
       "1797     2021-02-17    4/12/2021     100  UNKNOWN    \n",
       "2313     2021-02-09    3/29/2021     100  UNKNOWN    \n",
       "2351     2022-01-11    3/21/2022     100  UNKNOWN    \n",
       "3348     2021-01-27    8/16/2021      5450 S 47TH    \n",
       "\n",
       "                         violation_desc case_disposition  fine_amt      dept  \\\n",
       "3     10-8-180    Snow and ice removal.       Not Liable       0.0  TRANPORT   \n",
       "1797  10-8-180    Snow and ice removal.           Liable     150.0  TRANPORT   \n",
       "2313  10-8-180    Snow and ice removal.           Liable     150.0  TRANPORT   \n",
       "2351  10-8-180    Snow and ice removal.           Liable     150.0  TRANPORT   \n",
       "3348  10-8-180    Snow and ice removal.          Default     500.0  TRANPORT   \n",
       "\n",
       "     cleaned_address                 latlong community ward_1523         lat  \\\n",
       "3                NaN                     NaN       NaN       NaN         NaN   \n",
       "1797             NaN                     NaN       NaN       NaN         NaN   \n",
       "2313             NaN                     NaN       NaN       NaN         NaN   \n",
       "2351             NaN                     NaN       NaN       NaN         NaN   \n",
       "3348     5450 S 47TH  41.8654712,-87.7423005       NaN       NaN  41.8654712   \n",
       "\n",
       "             long  \n",
       "3             NaN  \n",
       "1797          NaN  \n",
       "2313          NaN  \n",
       "2351          NaN  \n",
       "3348  -87.7423005  "
      ]
     },
     "execution_count": 20,
     "metadata": {},
     "output_type": "execute_result"
    }
   ],
   "source": [
    "df_dockets_gis[df_dockets_gis[\"ward_1523\"].isna()]"
   ]
  },
  {
   "cell_type": "code",
   "execution_count": 21,
   "id": "24810316",
   "metadata": {},
   "outputs": [
    {
     "data": {
      "text/html": [
       "<div>\n",
       "<style scoped>\n",
       "    .dataframe tbody tr th:only-of-type {\n",
       "        vertical-align: middle;\n",
       "    }\n",
       "\n",
       "    .dataframe tbody tr th {\n",
       "        vertical-align: top;\n",
       "    }\n",
       "\n",
       "    .dataframe thead th {\n",
       "        text-align: right;\n",
       "    }\n",
       "</style>\n",
       "<table border=\"1\" class=\"dataframe\">\n",
       "  <thead>\n",
       "    <tr style=\"text-align: right;\">\n",
       "      <th></th>\n",
       "      <th>respondent</th>\n",
       "      <th>docket</th>\n",
       "      <th>violation_num</th>\n",
       "      <th>violation_date</th>\n",
       "      <th>hearing_date</th>\n",
       "      <th>violation_address</th>\n",
       "      <th>violation_desc</th>\n",
       "      <th>case_disposition</th>\n",
       "      <th>fine_amt</th>\n",
       "      <th>dept</th>\n",
       "      <th>cleaned_address</th>\n",
       "      <th>latlong</th>\n",
       "      <th>community</th>\n",
       "      <th>ward_1523</th>\n",
       "      <th>lat</th>\n",
       "      <th>long</th>\n",
       "    </tr>\n",
       "  </thead>\n",
       "  <tbody>\n",
       "    <tr>\n",
       "      <th>3661</th>\n",
       "      <td>CTLTC 008002384127</td>\n",
       "      <td>24DT000388</td>\n",
       "      <td>T000215624</td>\n",
       "      <td>2023-01-17</td>\n",
       "      <td>5/6/2024</td>\n",
       "      <td>359 N CANAL ST</td>\n",
       "      <td>10-8-180    Snow and ice removal.</td>\n",
       "      <td>Pending</td>\n",
       "      <td>0.0</td>\n",
       "      <td>NaN</td>\n",
       "      <td>359 N CANAL ST</td>\n",
       "      <td>41.888710862028105,-87.63987180649657</td>\n",
       "      <td>NEAR WEST SIDE</td>\n",
       "      <td>42</td>\n",
       "      <td>41.888710862028105</td>\n",
       "      <td>-87.63987180649657</td>\n",
       "    </tr>\n",
       "  </tbody>\n",
       "</table>\n",
       "</div>"
      ],
      "text/plain": [
       "               respondent      docket violation_num violation_date  \\\n",
       "3661  CTLTC 008002384127   24DT000388    T000215624     2023-01-17   \n",
       "\n",
       "     hearing_date violation_address                     violation_desc  \\\n",
       "3661     5/6/2024    359 N CANAL ST  10-8-180    Snow and ice removal.   \n",
       "\n",
       "     case_disposition  fine_amt dept cleaned_address  \\\n",
       "3661          Pending       0.0  NaN  359 N CANAL ST   \n",
       "\n",
       "                                    latlong       community ward_1523  \\\n",
       "3661  41.888710862028105,-87.63987180649657  NEAR WEST SIDE        42   \n",
       "\n",
       "                     lat                long  \n",
       "3661  41.888710862028105  -87.63987180649657  "
      ]
     },
     "execution_count": 21,
     "metadata": {},
     "output_type": "execute_result"
    }
   ],
   "source": [
    "df_dockets_gis[df_dockets_gis[\"dept\"].isna()]"
   ]
  },
  {
   "cell_type": "code",
   "execution_count": 22,
   "id": "feae94e9",
   "metadata": {},
   "outputs": [],
   "source": [
    "df_dockets_gis['dept']=df_dockets_gis['dept'].fillna('unknown')\n",
    "df_dockets_gis['ward_1523']=df_dockets_gis['ward_1523'].fillna('unknown')\n",
    "df_dockets_gis['community']=df_dockets_gis['community'].fillna('unknown')\n",
    "df_dockets_gis['lat']=df_dockets_gis['lat'].fillna('unknown')\n",
    "df_dockets_gis['long']=df_dockets_gis['long'].fillna('unknown')"
   ]
  },
  {
   "cell_type": "markdown",
   "id": "9f71924a",
   "metadata": {},
   "source": [
    "# Docket-Level Summary\n",
    "I expect 1918 dockets"
   ]
  },
  {
   "cell_type": "code",
   "execution_count": 23,
   "id": "ee832114",
   "metadata": {},
   "outputs": [],
   "source": [
    "# by docket\n",
    "df_dockets_summary=df_dockets_gis.groupby(['docket','dept','violation_address','lat','long','community','ward_1523','violation_date']).agg(\n",
    "    n_records=('docket','count'),\n",
    ").reset_index()"
   ]
  },
  {
   "cell_type": "code",
   "execution_count": 24,
   "id": "ac3d6bee",
   "metadata": {
    "scrolled": true
   },
   "outputs": [
    {
     "data": {
      "text/html": [
       "<div>\n",
       "<style scoped>\n",
       "    .dataframe tbody tr th:only-of-type {\n",
       "        vertical-align: middle;\n",
       "    }\n",
       "\n",
       "    .dataframe tbody tr th {\n",
       "        vertical-align: top;\n",
       "    }\n",
       "\n",
       "    .dataframe thead th {\n",
       "        text-align: right;\n",
       "    }\n",
       "</style>\n",
       "<table border=\"1\" class=\"dataframe\">\n",
       "  <thead>\n",
       "    <tr style=\"text-align: right;\">\n",
       "      <th></th>\n",
       "      <th>docket</th>\n",
       "      <th>dept</th>\n",
       "      <th>violation_address</th>\n",
       "      <th>lat</th>\n",
       "      <th>long</th>\n",
       "      <th>community</th>\n",
       "      <th>ward_1523</th>\n",
       "      <th>violation_date</th>\n",
       "      <th>n_records</th>\n",
       "    </tr>\n",
       "  </thead>\n",
       "  <tbody>\n",
       "    <tr>\n",
       "      <th>0</th>\n",
       "      <td>19DS68300L</td>\n",
       "      <td>STRTSAN</td>\n",
       "      <td>4710 S WESTERN AVE</td>\n",
       "      <td>41.807859</td>\n",
       "      <td>-87.68479703503766</td>\n",
       "      <td>BRIGHTON PARK</td>\n",
       "      <td>15</td>\n",
       "      <td>2019-11-13</td>\n",
       "      <td>2</td>\n",
       "    </tr>\n",
       "    <tr>\n",
       "      <th>1</th>\n",
       "      <td>19DS69216L</td>\n",
       "      <td>STRTSAN</td>\n",
       "      <td>1425 W MORSE AVE</td>\n",
       "      <td>42.0074513</td>\n",
       "      <td>-87.6668285</td>\n",
       "      <td>ROGERS PARK</td>\n",
       "      <td>49</td>\n",
       "      <td>2019-11-13</td>\n",
       "      <td>1</td>\n",
       "    </tr>\n",
       "    <tr>\n",
       "      <th>2</th>\n",
       "      <td>19DS70010L</td>\n",
       "      <td>STRTSAN</td>\n",
       "      <td>715 E 47TH ST</td>\n",
       "      <td>41.8093383</td>\n",
       "      <td>-87.6080127</td>\n",
       "      <td>GRAND BOULEVARD</td>\n",
       "      <td>4</td>\n",
       "      <td>2019-11-13</td>\n",
       "      <td>1</td>\n",
       "    </tr>\n",
       "    <tr>\n",
       "      <th>3</th>\n",
       "      <td>19DS72153L</td>\n",
       "      <td>STRTSAN</td>\n",
       "      <td>300 W WASHINGTON ST</td>\n",
       "      <td>41.8818694</td>\n",
       "      <td>-87.7401431</td>\n",
       "      <td>WEST GARFIELD PARK</td>\n",
       "      <td>28</td>\n",
       "      <td>2019-11-12</td>\n",
       "      <td>5</td>\n",
       "    </tr>\n",
       "    <tr>\n",
       "      <th>4</th>\n",
       "      <td>19DS72160L</td>\n",
       "      <td>STRTSAN</td>\n",
       "      <td>6929 N SHERIDAN RD</td>\n",
       "      <td>41.9598134</td>\n",
       "      <td>-87.654693</td>\n",
       "      <td>UPTOWN</td>\n",
       "      <td>46</td>\n",
       "      <td>2019-11-14</td>\n",
       "      <td>1</td>\n",
       "    </tr>\n",
       "  </tbody>\n",
       "</table>\n",
       "</div>"
      ],
      "text/plain": [
       "       docket     dept    violation_address         lat                long  \\\n",
       "0  19DS68300L  STRTSAN   4710 S WESTERN AVE   41.807859  -87.68479703503766   \n",
       "1  19DS69216L  STRTSAN     1425 W MORSE AVE  42.0074513         -87.6668285   \n",
       "2  19DS70010L  STRTSAN        715 E 47TH ST  41.8093383         -87.6080127   \n",
       "3  19DS72153L  STRTSAN  300 W WASHINGTON ST  41.8818694         -87.7401431   \n",
       "4  19DS72160L  STRTSAN   6929 N SHERIDAN RD  41.9598134          -87.654693   \n",
       "\n",
       "            community ward_1523 violation_date  n_records  \n",
       "0       BRIGHTON PARK        15     2019-11-13          2  \n",
       "1         ROGERS PARK        49     2019-11-13          1  \n",
       "2     GRAND BOULEVARD         4     2019-11-13          1  \n",
       "3  WEST GARFIELD PARK        28     2019-11-12          5  \n",
       "4              UPTOWN        46     2019-11-14          1  "
      ]
     },
     "execution_count": 24,
     "metadata": {},
     "output_type": "execute_result"
    }
   ],
   "source": [
    "df_dockets_summary.head()"
   ]
  },
  {
   "cell_type": "code",
   "execution_count": 25,
   "id": "a537541a",
   "metadata": {},
   "outputs": [
    {
     "data": {
      "text/plain": [
       "1918"
      ]
     },
     "execution_count": 25,
     "metadata": {},
     "output_type": "execute_result"
    }
   ],
   "source": [
    "len(df_dockets_summary)"
   ]
  },
  {
   "cell_type": "markdown",
   "id": "669a8f16",
   "metadata": {},
   "source": [
    "# 5. Export"
   ]
  },
  {
   "cell_type": "code",
   "execution_count": 26,
   "id": "672d4178",
   "metadata": {},
   "outputs": [],
   "source": [
    "df_gis.to_csv(\"../../data/04-standardized/dockets-to-gis.csv\", index=False)\n",
    "df_dockets_gis.to_csv(\"../../data/04-standardized/dockets-to-details-gis.csv\", index= False)\n",
    "df_dockets_summary.to_csv(\"../../data/04-standardized/dockets-summary.csv\", index= False)"
   ]
  },
  {
   "cell_type": "code",
   "execution_count": null,
   "id": "c2e66993",
   "metadata": {},
   "outputs": [],
   "source": []
  }
 ],
 "metadata": {
  "kernelspec": {
   "display_name": "Python 3 (ipykernel)",
   "language": "python",
   "name": "python3"
  },
  "language_info": {
   "codemirror_mode": {
    "name": "ipython",
    "version": 3
   },
   "file_extension": ".py",
   "mimetype": "text/x-python",
   "name": "python",
   "nbconvert_exporter": "python",
   "pygments_lexer": "ipython3",
   "version": "3.10.12"
  }
 },
 "nbformat": 4,
 "nbformat_minor": 5
}
