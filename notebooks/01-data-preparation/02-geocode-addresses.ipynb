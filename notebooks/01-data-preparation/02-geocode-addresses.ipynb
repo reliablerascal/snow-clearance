{
 "cells": [
  {
   "cell_type": "markdown",
   "id": "4ab42662",
   "metadata": {},
   "source": [
    "# Geocode Addresses\n",
    "3/2/24\n",
    "I completed geocoding on my laptop using QGIS and not Python.\n",
    "<div style=\"color:red\">this notebook should be cleaned up a bit</div>"
   ]
  },
  {
   "cell_type": "markdown",
   "id": "8b1bfd19",
   "metadata": {},
   "source": [
    "### Preparation\n",
    "Because geocoding takes time, I deduplicated the address list in data/01-tidied/dockets-to-addresses.csv so that each address only needs to be geocoded once."
   ]
  },
  {
   "cell_type": "markdown",
   "id": "10243030",
   "metadata": {},
   "source": [
    "### Step 1: Geocode Fines Data (in QGIS)\n",
    "\n",
    "<ol>\n",
    "<li>Drag and drop dockets-to-addresses.csv into layers (I added a city and state field here for Geocoding)\n",
    "<li>MMQGIS -> Geocode > Geocode CSV with Web Service\n",
    "<li>In the Web Service Geocode box:\n",
    "    \n",
    "<ul>\n",
    "    <li>Input CSV file: dockets-to-addresses.csv\n",
    "<li>Address: Cleaned Address\n",
    "<li>City\n",
    "<li>State\n",
    "<li>Web Service: OpenStreetMap; this is free but may have usage limits.\n",
    "<li>*Output File Name:*\n",
    "<li>data\\02-geocoded\\dockets-geocoded.geojson\n",
    "type = geoJSON\n",
    "<li>Not Found Output List\n",
    "<li>data\\02-geocoded\\dockets-not-geocoded.csv\n",
    "<li>Apply\n",
    "    </ul>\n",
    "    \n",
    "<li>Wait. This takes something like an hour for 2,000 records\n",
    "<li>Geocoded layer (fines-geocoded in this case) should appear under Layers\n",
    "Right-click -> attribute table\n",
    "Should see a column latlong containing both latitude and longitude coordinates for each address\n",
    "<Br>\n"
   ]
  },
  {
   "cell_type": "markdown",
   "id": "ec9ec70d",
   "metadata": {},
   "source": [
    "### Step 2: Review Non-Geocoded Records\n",
    "On the first take, geocoding was unable to process several records, due largely to incorrect addresses. I created a file 00-raw/address-corrections.csv to cross-walk bad addresses with cleaned addresses, and then re-ran 01c-tidy-unshoveled-sidewalk-fines.ipynb\n",
    "\n",
    "| correction type |  example |\n",
    "|---|---|\n",
    "| missing street type | | added \"AVE\" to W BEACH, W GRAND, S CENTRAL, etc. |\n",
    "| incorrect directional | 3430 W BELL = 3430 N BELL because S BELL doesn't exist |\n",
    "| incorrect street type | SEELEY ST = SEELEY AVE |\n",
    "| incomplete street name | MARTIN LUTH DR = MARTIN LUTHER KING JR DR |\n",
    "| parsing problem | Des Plaines = Desplaines |\n",
    "| typos/spelling | Lawerence = Lawrence |\n",
    "\n",
    "4 unknown records<br>\n",
    "84 address corrections"
   ]
  },
  {
   "cell_type": "markdown",
   "id": "50104c66",
   "metadata": {},
   "source": [
    "# Export"
   ]
  },
  {
   "cell_type": "markdown",
   "id": "d8ebac52",
   "metadata": {},
   "source": [
    "This results in two files:\n",
    "* *fines-geocoded.geojson*- this file is used for spatially joining addresses\n",
    "* *fines-not-geocoded.csv*- this file informs iterative address cleaning (see step 2)"
   ]
  },
  {
   "cell_type": "code",
   "execution_count": null,
   "id": "38fcc052",
   "metadata": {},
   "outputs": [],
   "source": []
  }
 ],
 "metadata": {
  "kernelspec": {
   "display_name": "Python 3 (ipykernel)",
   "language": "python",
   "name": "python3"
  },
  "language_info": {
   "codemirror_mode": {
    "name": "ipython",
    "version": 3
   },
   "file_extension": ".py",
   "mimetype": "text/x-python",
   "name": "python",
   "nbconvert_exporter": "python",
   "pygments_lexer": "ipython3",
   "version": "3.10.12"
  }
 },
 "nbformat": 4,
 "nbformat_minor": 5
}
