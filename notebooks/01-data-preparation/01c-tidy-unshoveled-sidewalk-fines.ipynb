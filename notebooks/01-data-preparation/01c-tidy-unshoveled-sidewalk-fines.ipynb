{
 "cells": [
  {
   "cell_type": "markdown",
   "id": "31fa8d95",
   "metadata": {},
   "source": [
    "# Tidy Unshoveled Sidewalk Fines\n",
    "3/1/24\n",
    "\n",
    "This notebook cleans up FOIA-requested data provided by the Department of Administrative Hearings. Though a full year of data is provided for the 2018-2019 season, I chose to look only at 2019-2023 to align with data available for 311 complaints.<br>\n",
    "\n",
    "I received two FOIA responses from the Department of Administrative Hearings for dockets concerning unshoveled sidewalk citations. The first included a field indicating the issuing department, and the second included more info about respondents, hearing dates, and case disposition. This notebook merges those two responses into one unified dataset.\n",
    "\n",
    "This dataset contains multiple records per docket, and I haven't yet made an attempt to normalize this into separate tables.\n",
    "\n",
    "<div style=\"color:red\">to redo section re: comparing recordcounts, and update this intro and add recordcount info<br>\n",
    "might want to normalize more if i can find a primary key in the detailed dockets\n",
    "</div>"
   ]
  },
  {
   "cell_type": "markdown",
   "id": "e697650b",
   "metadata": {},
   "source": [
    "### notes on data quality\n",
    "one docket with no issuing department...\n",
    "one docket with no violation date (21DT00019A), was filtered out"
   ]
  },
  {
   "cell_type": "markdown",
   "id": "772d5daf",
   "metadata": {},
   "source": [
    "# Read Data"
   ]
  },
  {
   "cell_type": "code",
   "execution_count": 162,
   "id": "c09159a0",
   "metadata": {},
   "outputs": [],
   "source": [
    "import pandas as pd"
   ]
  },
  {
   "cell_type": "markdown",
   "id": "69a960a7",
   "metadata": {},
   "source": [
    "### read and review simple dockets dataset"
   ]
  },
  {
   "cell_type": "code",
   "execution_count": 163,
   "id": "4740eb77",
   "metadata": {},
   "outputs": [
    {
     "data": {
      "text/html": [
       "<div>\n",
       "<style scoped>\n",
       "    .dataframe tbody tr th:only-of-type {\n",
       "        vertical-align: middle;\n",
       "    }\n",
       "\n",
       "    .dataframe tbody tr th {\n",
       "        vertical-align: top;\n",
       "    }\n",
       "\n",
       "    .dataframe thead th {\n",
       "        text-align: right;\n",
       "    }\n",
       "</style>\n",
       "<table border=\"1\" class=\"dataframe\">\n",
       "  <thead>\n",
       "    <tr style=\"text-align: right;\">\n",
       "      <th></th>\n",
       "      <th>Docket Number</th>\n",
       "      <th>Violation Date</th>\n",
       "      <th>Violation Address</th>\n",
       "      <th>Issuing Department Code</th>\n",
       "      <th>Imposed Fine Detailed</th>\n",
       "    </tr>\n",
       "  </thead>\n",
       "  <tbody>\n",
       "    <tr>\n",
       "      <th>0</th>\n",
       "      <td>22CS00058A</td>\n",
       "      <td>02/04/2022</td>\n",
       "      <td>6621 S LANGLEY</td>\n",
       "      <td>BAFCONP</td>\n",
       "      <td>$0.00</td>\n",
       "    </tr>\n",
       "    <tr>\n",
       "      <th>1</th>\n",
       "      <td>22CS00059A</td>\n",
       "      <td>01/04/2022</td>\n",
       "      <td>6613 S LANGLEY AVE</td>\n",
       "      <td>BAFCONP</td>\n",
       "      <td>$0.00</td>\n",
       "    </tr>\n",
       "    <tr>\n",
       "      <th>2</th>\n",
       "      <td>18CP093079</td>\n",
       "      <td>11/27/2018</td>\n",
       "      <td>5045 N TRIPP</td>\n",
       "      <td>POLICE</td>\n",
       "      <td>$0.00</td>\n",
       "    </tr>\n",
       "    <tr>\n",
       "      <th>3</th>\n",
       "      <td>19CP003510</td>\n",
       "      <td>01/16/2019</td>\n",
       "      <td>5045 N TRIPP</td>\n",
       "      <td>POLICE</td>\n",
       "      <td>$0.00</td>\n",
       "    </tr>\n",
       "    <tr>\n",
       "      <th>4</th>\n",
       "      <td>19CP004491</td>\n",
       "      <td>01/06/2019</td>\n",
       "      <td>1800 S LAKE SHORE DR</td>\n",
       "      <td>POLICE</td>\n",
       "      <td>$0.00</td>\n",
       "    </tr>\n",
       "  </tbody>\n",
       "</table>\n",
       "</div>"
      ],
      "text/plain": [
       "  Docket Number Violation Date      Violation Address Issuing Department Code  \\\n",
       "0    22CS00058A     02/04/2022        6621 S LANGLEY                  BAFCONP   \n",
       "1    22CS00059A     01/04/2022     6613 S LANGLEY AVE                 BAFCONP   \n",
       "2    18CP093079     11/27/2018          5045 N TRIPP                   POLICE   \n",
       "3    19CP003510     01/16/2019          5045 N TRIPP                   POLICE   \n",
       "4    19CP004491     01/06/2019  1800 S LAKE SHORE DR                   POLICE   \n",
       "\n",
       "  Imposed Fine Detailed  \n",
       "0                 $0.00  \n",
       "1                 $0.00  \n",
       "2                 $0.00  \n",
       "3                 $0.00  \n",
       "4                 $0.00  "
      ]
     },
     "execution_count": 163,
     "metadata": {},
     "output_type": "execute_result"
    }
   ],
   "source": [
    "df_dockets = pd.read_csv(\"../../data/01-raw/FOIA-H064920-011124-snow-dockets.csv\")\n",
    "df_dockets.head()"
   ]
  },
  {
   "cell_type": "code",
   "execution_count": 164,
   "id": "23a28859",
   "metadata": {},
   "outputs": [
    {
     "data": {
      "text/plain": [
       "3058"
      ]
     },
     "execution_count": 164,
     "metadata": {},
     "output_type": "execute_result"
    }
   ],
   "source": [
    "len(df_dockets)"
   ]
  },
  {
   "cell_type": "markdown",
   "id": "ecf5b9d3",
   "metadata": {},
   "source": [
    "### identify any dockets with missing violation date, which will be filtered out"
   ]
  },
  {
   "cell_type": "code",
   "execution_count": 165,
   "id": "1f94e8d8",
   "metadata": {},
   "outputs": [
    {
     "data": {
      "text/html": [
       "<div>\n",
       "<style scoped>\n",
       "    .dataframe tbody tr th:only-of-type {\n",
       "        vertical-align: middle;\n",
       "    }\n",
       "\n",
       "    .dataframe tbody tr th {\n",
       "        vertical-align: top;\n",
       "    }\n",
       "\n",
       "    .dataframe thead th {\n",
       "        text-align: right;\n",
       "    }\n",
       "</style>\n",
       "<table border=\"1\" class=\"dataframe\">\n",
       "  <thead>\n",
       "    <tr style=\"text-align: right;\">\n",
       "      <th></th>\n",
       "      <th>Docket Number</th>\n",
       "      <th>Violation Date</th>\n",
       "      <th>Violation Address</th>\n",
       "      <th>Issuing Department Code</th>\n",
       "      <th>Imposed Fine Detailed</th>\n",
       "    </tr>\n",
       "  </thead>\n",
       "  <tbody>\n",
       "    <tr>\n",
       "      <th>1472</th>\n",
       "      <td>21DT00019A</td>\n",
       "      <td>NaN</td>\n",
       "      <td>1601 E 95TH ST</td>\n",
       "      <td>TRANPORT</td>\n",
       "      <td>$0.00</td>\n",
       "    </tr>\n",
       "    <tr>\n",
       "      <th>1473</th>\n",
       "      <td>21DT00019A</td>\n",
       "      <td>NaN</td>\n",
       "      <td>1601 E 95TH ST</td>\n",
       "      <td>TRANPORT</td>\n",
       "      <td>$150.00</td>\n",
       "    </tr>\n",
       "  </tbody>\n",
       "</table>\n",
       "</div>"
      ],
      "text/plain": [
       "     Docket Number Violation Date Violation Address Issuing Department Code  \\\n",
       "1472    21DT00019A            NaN    1601 E 95TH ST                TRANPORT   \n",
       "1473    21DT00019A            NaN    1601 E 95TH ST                TRANPORT   \n",
       "\n",
       "     Imposed Fine Detailed  \n",
       "1472                 $0.00  \n",
       "1473               $150.00  "
      ]
     },
     "execution_count": 165,
     "metadata": {},
     "output_type": "execute_result"
    }
   ],
   "source": [
    "df_dockets[df_dockets['Violation Date'].isna()]"
   ]
  },
  {
   "cell_type": "markdown",
   "id": "31261175",
   "metadata": {},
   "source": [
    "### filter for 7/1/19 to 6/30/23"
   ]
  },
  {
   "cell_type": "code",
   "execution_count": 166,
   "id": "d32f0611",
   "metadata": {},
   "outputs": [],
   "source": [
    "#convert violation date to datetime, so it can be filtered\n",
    "df_dockets['Violation Date'] = pd.to_datetime(df_dockets['Violation Date'])"
   ]
  },
  {
   "cell_type": "code",
   "execution_count": 167,
   "id": "95011949",
   "metadata": {},
   "outputs": [],
   "source": [
    "df_dockets = df_dockets[(df_dockets['Violation Date']>='7/1/19') & (df_dockets['Violation Date']<='6/30/23')]"
   ]
  },
  {
   "cell_type": "code",
   "execution_count": 168,
   "id": "9879686a",
   "metadata": {
    "scrolled": true
   },
   "outputs": [
    {
     "data": {
      "text/plain": [
       "1917"
      ]
     },
     "execution_count": 168,
     "metadata": {},
     "output_type": "execute_result"
    }
   ],
   "source": [
    "# get number of unique dockets, for reference\n",
    "df_dockets['Docket Number'].nunique()"
   ]
  },
  {
   "cell_type": "markdown",
   "id": "75adea0e",
   "metadata": {},
   "source": [
    "### read detailed dockets dataset"
   ]
  },
  {
   "cell_type": "code",
   "execution_count": 169,
   "id": "901efa7c",
   "metadata": {},
   "outputs": [
    {
     "data": {
      "text/html": [
       "<div>\n",
       "<style scoped>\n",
       "    .dataframe tbody tr th:only-of-type {\n",
       "        vertical-align: middle;\n",
       "    }\n",
       "\n",
       "    .dataframe tbody tr th {\n",
       "        vertical-align: top;\n",
       "    }\n",
       "\n",
       "    .dataframe thead th {\n",
       "        text-align: right;\n",
       "    }\n",
       "</style>\n",
       "<table border=\"1\" class=\"dataframe\">\n",
       "  <thead>\n",
       "    <tr style=\"text-align: right;\">\n",
       "      <th></th>\n",
       "      <th>Respondent Full Name</th>\n",
       "      <th>Docket Number</th>\n",
       "      <th>Nov #</th>\n",
       "      <th>Violation Date</th>\n",
       "      <th>Hearing Date</th>\n",
       "      <th>Violation Address</th>\n",
       "      <th>Violation Description</th>\n",
       "      <th>Case Disposition Label</th>\n",
       "      <th>Imposed Fine Detailed</th>\n",
       "    </tr>\n",
       "  </thead>\n",
       "  <tbody>\n",
       "    <tr>\n",
       "      <th>0</th>\n",
       "      <td>1010 W MADISON LLC</td>\n",
       "      <td>23DT000582</td>\n",
       "      <td>T000215159</td>\n",
       "      <td>01/31/2023</td>\n",
       "      <td>7/10/2023</td>\n",
       "      <td>1010 W MADISON</td>\n",
       "      <td>10-8-180    Snow and ice removal.</td>\n",
       "      <td>Non-Suit</td>\n",
       "      <td>$0.00</td>\n",
       "    </tr>\n",
       "    <tr>\n",
       "      <th>1</th>\n",
       "      <td>10-18 S HOMAN AVE HOLDINGS LLC c/o BRIAN GOTTE...</td>\n",
       "      <td>19DS41774L</td>\n",
       "      <td>241774L</td>\n",
       "      <td>01/22/2019</td>\n",
       "      <td>6/3/2019</td>\n",
       "      <td>10 S HOMAN AVE</td>\n",
       "      <td>10-8-180    Snow and ice removal.</td>\n",
       "      <td>Liable</td>\n",
       "      <td>$0.00</td>\n",
       "    </tr>\n",
       "    <tr>\n",
       "      <th>2</th>\n",
       "      <td>10-18 S HOMAN AVE HOLDINGS LLC c/o EV HAS LLC</td>\n",
       "      <td>19DS41774L</td>\n",
       "      <td>241774L</td>\n",
       "      <td>01/22/2019</td>\n",
       "      <td>6/3/2019</td>\n",
       "      <td>10 S HOMAN AVE</td>\n",
       "      <td>10-8-180    Snow and ice removal.</td>\n",
       "      <td>Liable</td>\n",
       "      <td>$0.00</td>\n",
       "    </tr>\n",
       "    <tr>\n",
       "      <th>3</th>\n",
       "      <td>1100 E 47TH STREET LLC, C/O PETER CASSEL</td>\n",
       "      <td>22DT001042</td>\n",
       "      <td>T000207342</td>\n",
       "      <td>01/04/2022</td>\n",
       "      <td>5/23/2022</td>\n",
       "      <td>1100 E 47TH ST</td>\n",
       "      <td>10-8-180    Snow and ice removal.</td>\n",
       "      <td>Non-Suit</td>\n",
       "      <td>$0.00</td>\n",
       "    </tr>\n",
       "    <tr>\n",
       "      <th>4</th>\n",
       "      <td>1101 BERWYN LLC, C/O JOHN BARRETT</td>\n",
       "      <td>23DT000559</td>\n",
       "      <td>T000220112</td>\n",
       "      <td>02/02/2023</td>\n",
       "      <td>3/20/2023</td>\n",
       "      <td>1101 W BERWYN</td>\n",
       "      <td>10-8-180    Snow and ice removal.</td>\n",
       "      <td>Non-Suit</td>\n",
       "      <td>$0.00</td>\n",
       "    </tr>\n",
       "  </tbody>\n",
       "</table>\n",
       "</div>"
      ],
      "text/plain": [
       "                                Respondent Full Name Docket Number  \\\n",
       "0                                1010 W MADISON LLC     23DT000582   \n",
       "1  10-18 S HOMAN AVE HOLDINGS LLC c/o BRIAN GOTTE...    19DS41774L   \n",
       "2     10-18 S HOMAN AVE HOLDINGS LLC c/o EV HAS LLC     19DS41774L   \n",
       "3          1100 E 47TH STREET LLC, C/O PETER CASSEL     22DT001042   \n",
       "4                 1101 BERWYN LLC, C/O JOHN BARRETT     23DT000559   \n",
       "\n",
       "        Nov # Violation Date Hearing Date Violation Address  \\\n",
       "0  T000215159     01/31/2023    7/10/2023   1010 W MADISON    \n",
       "1     241774L     01/22/2019     6/3/2019    10 S HOMAN AVE   \n",
       "2     241774L     01/22/2019     6/3/2019    10 S HOMAN AVE   \n",
       "3  T000207342     01/04/2022    5/23/2022    1100 E 47TH ST   \n",
       "4  T000220112     02/02/2023    3/20/2023    1101 W BERWYN    \n",
       "\n",
       "               Violation Description Case Disposition Label  \\\n",
       "0  10-8-180    Snow and ice removal.               Non-Suit   \n",
       "1  10-8-180    Snow and ice removal.                 Liable   \n",
       "2  10-8-180    Snow and ice removal.                 Liable   \n",
       "3  10-8-180    Snow and ice removal.               Non-Suit   \n",
       "4  10-8-180    Snow and ice removal.               Non-Suit   \n",
       "\n",
       "  Imposed Fine Detailed  \n",
       "0                 $0.00  \n",
       "1                 $0.00  \n",
       "2                 $0.00  \n",
       "3                 $0.00  \n",
       "4                 $0.00  "
      ]
     },
     "execution_count": 169,
     "metadata": {},
     "output_type": "execute_result"
    }
   ],
   "source": [
    "df_dockets_detailed = pd.read_csv(\"../../data/01-raw/FOIA-H067483-021424-snow-dockets-detailed.csv\")\n",
    "df_dockets_detailed.head()"
   ]
  },
  {
   "cell_type": "code",
   "execution_count": 170,
   "id": "28e1450c",
   "metadata": {},
   "outputs": [
    {
     "data": {
      "text/plain": [
       "4330"
      ]
     },
     "execution_count": 170,
     "metadata": {},
     "output_type": "execute_result"
    }
   ],
   "source": [
    "len(df_dockets_detailed)"
   ]
  },
  {
   "cell_type": "markdown",
   "id": "f4d33d96",
   "metadata": {},
   "source": [
    "### filter detailed dockets for 7/1/19 to 6/30/23"
   ]
  },
  {
   "cell_type": "code",
   "execution_count": 171,
   "id": "15e76808",
   "metadata": {},
   "outputs": [],
   "source": [
    "#convert violation date to datetime, so it can be filtered\n",
    "df_dockets_detailed['Violation Date'] = pd.to_datetime(df_dockets_detailed['Violation Date'])"
   ]
  },
  {
   "cell_type": "code",
   "execution_count": 172,
   "id": "18bebaf5",
   "metadata": {},
   "outputs": [],
   "source": [
    "df_dockets_detailed = df_dockets_detailed[(df_dockets_detailed['Violation Date']>='7/1/19') & (df_dockets_detailed['Violation Date']<='6/30/23')]"
   ]
  },
  {
   "cell_type": "code",
   "execution_count": 173,
   "id": "af8092ed",
   "metadata": {},
   "outputs": [
    {
     "data": {
      "text/plain": [
       "3662"
      ]
     },
     "execution_count": 173,
     "metadata": {},
     "output_type": "execute_result"
    }
   ],
   "source": [
    "len(df_dockets_detailed)"
   ]
  },
  {
   "cell_type": "code",
   "execution_count": 174,
   "id": "2e38e88d",
   "metadata": {
    "scrolled": true
   },
   "outputs": [
    {
     "data": {
      "text/plain": [
       "1918"
      ]
     },
     "execution_count": 174,
     "metadata": {},
     "output_type": "execute_result"
    }
   ],
   "source": [
    "# get number of unique dockets, for reference\n",
    "df_dockets_detailed['Docket Number'].nunique()"
   ]
  },
  {
   "cell_type": "markdown",
   "id": "fe0ed225",
   "metadata": {},
   "source": [
    "### review any inconsistencies\n",
    "As it turns out, the detailed docket dataset contains one docket (24DT000388) which is not assigned to any department"
   ]
  },
  {
   "cell_type": "code",
   "execution_count": 175,
   "id": "a7f5d17a",
   "metadata": {},
   "outputs": [],
   "source": [
    "df_dockets_test_merge = pd.merge(df_dockets,df_dockets_detailed,on = \"Docket Number\",how=\"right\")"
   ]
  },
  {
   "cell_type": "code",
   "execution_count": 176,
   "id": "8ef2a7a4",
   "metadata": {},
   "outputs": [
    {
     "data": {
      "text/html": [
       "<div>\n",
       "<style scoped>\n",
       "    .dataframe tbody tr th:only-of-type {\n",
       "        vertical-align: middle;\n",
       "    }\n",
       "\n",
       "    .dataframe tbody tr th {\n",
       "        vertical-align: top;\n",
       "    }\n",
       "\n",
       "    .dataframe thead th {\n",
       "        text-align: right;\n",
       "    }\n",
       "</style>\n",
       "<table border=\"1\" class=\"dataframe\">\n",
       "  <thead>\n",
       "    <tr style=\"text-align: right;\">\n",
       "      <th></th>\n",
       "      <th>Docket Number</th>\n",
       "      <th>Violation Date_x</th>\n",
       "      <th>Violation Address_x</th>\n",
       "      <th>Issuing Department Code</th>\n",
       "      <th>Imposed Fine Detailed_x</th>\n",
       "      <th>Respondent Full Name</th>\n",
       "      <th>Nov #</th>\n",
       "      <th>Violation Date_y</th>\n",
       "      <th>Hearing Date</th>\n",
       "      <th>Violation Address_y</th>\n",
       "      <th>Violation Description</th>\n",
       "      <th>Case Disposition Label</th>\n",
       "      <th>Imposed Fine Detailed_y</th>\n",
       "    </tr>\n",
       "  </thead>\n",
       "  <tbody>\n",
       "    <tr>\n",
       "      <th>6230</th>\n",
       "      <td>24DT000388</td>\n",
       "      <td>NaT</td>\n",
       "      <td>NaN</td>\n",
       "      <td>NaN</td>\n",
       "      <td>NaN</td>\n",
       "      <td>CTLTC 008002384127</td>\n",
       "      <td>T000215624</td>\n",
       "      <td>2023-01-17</td>\n",
       "      <td>5/6/2024</td>\n",
       "      <td>359 N CANAL ST</td>\n",
       "      <td>10-8-180    Snow and ice removal.</td>\n",
       "      <td>Pending</td>\n",
       "      <td>$0.00</td>\n",
       "    </tr>\n",
       "  </tbody>\n",
       "</table>\n",
       "</div>"
      ],
      "text/plain": [
       "     Docket Number Violation Date_x Violation Address_x  \\\n",
       "6230    24DT000388              NaT                 NaN   \n",
       "\n",
       "     Issuing Department Code Imposed Fine Detailed_x Respondent Full Name  \\\n",
       "6230                     NaN                     NaN  CTLTC 008002384127    \n",
       "\n",
       "           Nov # Violation Date_y Hearing Date Violation Address_y  \\\n",
       "6230  T000215624       2023-01-17     5/6/2024      359 N CANAL ST   \n",
       "\n",
       "                  Violation Description Case Disposition Label  \\\n",
       "6230  10-8-180    Snow and ice removal.                Pending   \n",
       "\n",
       "     Imposed Fine Detailed_y  \n",
       "6230                   $0.00  "
      ]
     },
     "execution_count": 176,
     "metadata": {},
     "output_type": "execute_result"
    }
   ],
   "source": [
    "df_dockets_weird = df_dockets_test_merge[df_dockets_test_merge['Issuing Department Code'].isna()]\n",
    "df_dockets_weird"
   ]
  },
  {
   "cell_type": "markdown",
   "id": "11094d43",
   "metadata": {},
   "source": [
    "# Normalize Data"
   ]
  },
  {
   "cell_type": "markdown",
   "id": "b6335a5c",
   "metadata": {},
   "source": [
    "### dockets to departments"
   ]
  },
  {
   "cell_type": "code",
   "execution_count": 177,
   "id": "48b51d3d",
   "metadata": {
    "scrolled": false
   },
   "outputs": [],
   "source": [
    "df_dockets_to_depts = df_dockets[['Docket Number','Issuing Department Code']].drop_duplicates()"
   ]
  },
  {
   "cell_type": "code",
   "execution_count": 178,
   "id": "e9232bf9",
   "metadata": {},
   "outputs": [
    {
     "data": {
      "text/html": [
       "<div>\n",
       "<style scoped>\n",
       "    .dataframe tbody tr th:only-of-type {\n",
       "        vertical-align: middle;\n",
       "    }\n",
       "\n",
       "    .dataframe tbody tr th {\n",
       "        vertical-align: top;\n",
       "    }\n",
       "\n",
       "    .dataframe thead th {\n",
       "        text-align: right;\n",
       "    }\n",
       "</style>\n",
       "<table border=\"1\" class=\"dataframe\">\n",
       "  <thead>\n",
       "    <tr style=\"text-align: right;\">\n",
       "      <th></th>\n",
       "      <th>Docket Number</th>\n",
       "      <th>Issuing Department Code</th>\n",
       "    </tr>\n",
       "  </thead>\n",
       "  <tbody>\n",
       "    <tr>\n",
       "      <th>0</th>\n",
       "      <td>22CS00058A</td>\n",
       "      <td>BAFCONP</td>\n",
       "    </tr>\n",
       "    <tr>\n",
       "      <th>1</th>\n",
       "      <td>22CS00059A</td>\n",
       "      <td>BAFCONP</td>\n",
       "    </tr>\n",
       "    <tr>\n",
       "      <th>63</th>\n",
       "      <td>20CP00166A</td>\n",
       "      <td>POLICE</td>\n",
       "    </tr>\n",
       "    <tr>\n",
       "      <th>65</th>\n",
       "      <td>20CP00167A</td>\n",
       "      <td>POLICE</td>\n",
       "    </tr>\n",
       "    <tr>\n",
       "      <th>66</th>\n",
       "      <td>20CP005520</td>\n",
       "      <td>POLICE</td>\n",
       "    </tr>\n",
       "  </tbody>\n",
       "</table>\n",
       "</div>"
      ],
      "text/plain": [
       "   Docket Number Issuing Department Code\n",
       "0     22CS00058A                 BAFCONP\n",
       "1     22CS00059A                 BAFCONP\n",
       "63    20CP00166A                  POLICE\n",
       "65    20CP00167A                  POLICE\n",
       "66    20CP005520                  POLICE"
      ]
     },
     "execution_count": 178,
     "metadata": {},
     "output_type": "execute_result"
    }
   ],
   "source": [
    "df_dockets_to_depts.head()"
   ]
  },
  {
   "cell_type": "code",
   "execution_count": 179,
   "id": "58e30366",
   "metadata": {},
   "outputs": [
    {
     "data": {
      "text/plain": [
       "1917"
      ]
     },
     "execution_count": 179,
     "metadata": {},
     "output_type": "execute_result"
    }
   ],
   "source": [
    "len(df_dockets_to_depts)"
   ]
  },
  {
   "cell_type": "markdown",
   "id": "579cf750",
   "metadata": {},
   "source": [
    "### dockets to addresses"
   ]
  },
  {
   "cell_type": "code",
   "execution_count": 183,
   "id": "ab11f3e1",
   "metadata": {},
   "outputs": [],
   "source": [
    "df_dockets_to_addresses = df_dockets_detailed[['Docket Number','Violation Address']].drop_duplicates()"
   ]
  },
  {
   "cell_type": "code",
   "execution_count": 184,
   "id": "d9854dca",
   "metadata": {},
   "outputs": [
    {
     "data": {
      "text/html": [
       "<div>\n",
       "<style scoped>\n",
       "    .dataframe tbody tr th:only-of-type {\n",
       "        vertical-align: middle;\n",
       "    }\n",
       "\n",
       "    .dataframe tbody tr th {\n",
       "        vertical-align: top;\n",
       "    }\n",
       "\n",
       "    .dataframe thead th {\n",
       "        text-align: right;\n",
       "    }\n",
       "</style>\n",
       "<table border=\"1\" class=\"dataframe\">\n",
       "  <thead>\n",
       "    <tr style=\"text-align: right;\">\n",
       "      <th></th>\n",
       "      <th>Docket Number</th>\n",
       "      <th>Violation Address</th>\n",
       "    </tr>\n",
       "  </thead>\n",
       "  <tbody>\n",
       "    <tr>\n",
       "      <th>0</th>\n",
       "      <td>23DT000582</td>\n",
       "      <td>1010 W MADISON</td>\n",
       "    </tr>\n",
       "    <tr>\n",
       "      <th>3</th>\n",
       "      <td>22DT001042</td>\n",
       "      <td>1100 E 47TH ST</td>\n",
       "    </tr>\n",
       "    <tr>\n",
       "      <th>4</th>\n",
       "      <td>23DT000559</td>\n",
       "      <td>1101 W BERWYN</td>\n",
       "    </tr>\n",
       "    <tr>\n",
       "      <th>5</th>\n",
       "      <td>22DT001387</td>\n",
       "      <td>100  UNKNOWN</td>\n",
       "    </tr>\n",
       "    <tr>\n",
       "      <th>6</th>\n",
       "      <td>21DS20339M</td>\n",
       "      <td>1200 W BELMONT AVE</td>\n",
       "    </tr>\n",
       "  </tbody>\n",
       "</table>\n",
       "</div>"
      ],
      "text/plain": [
       "  Docket Number   Violation Address\n",
       "0    23DT000582     1010 W MADISON \n",
       "3    22DT001042      1100 E 47TH ST\n",
       "4    23DT000559      1101 W BERWYN \n",
       "5    22DT001387       100  UNKNOWN \n",
       "6    21DS20339M  1200 W BELMONT AVE"
      ]
     },
     "execution_count": 184,
     "metadata": {},
     "output_type": "execute_result"
    }
   ],
   "source": [
    "df_dockets_to_addresses.head()"
   ]
  },
  {
   "cell_type": "code",
   "execution_count": 185,
   "id": "7bdb637b",
   "metadata": {},
   "outputs": [
    {
     "data": {
      "text/plain": [
       "1918"
      ]
     },
     "execution_count": 185,
     "metadata": {},
     "output_type": "execute_result"
    }
   ],
   "source": [
    "len(df_dockets_to_addresses)"
   ]
  },
  {
   "cell_type": "markdown",
   "id": "c88558c5",
   "metadata": {},
   "source": [
    "### dockets to respondents"
   ]
  },
  {
   "cell_type": "code",
   "execution_count": 187,
   "id": "c6f2d6c3",
   "metadata": {},
   "outputs": [],
   "source": [
    "df_dockets_to_respondents = df_dockets_detailed[['Docket Number','Respondent Full Name']].drop_duplicates()"
   ]
  },
  {
   "cell_type": "code",
   "execution_count": 188,
   "id": "63b24dbd",
   "metadata": {},
   "outputs": [
    {
     "data": {
      "text/plain": [
       "2240"
      ]
     },
     "execution_count": 188,
     "metadata": {},
     "output_type": "execute_result"
    }
   ],
   "source": [
    "len(df_dockets_to_respondents)"
   ]
  },
  {
   "cell_type": "markdown",
   "id": "5bad04f6",
   "metadata": {},
   "source": [
    "# Merge Department Info into Detailed Dockets Dataset"
   ]
  },
  {
   "cell_type": "code",
   "execution_count": 155,
   "id": "995751ce",
   "metadata": {},
   "outputs": [
    {
     "data": {
      "text/plain": [
       "3662"
      ]
     },
     "execution_count": 155,
     "metadata": {},
     "output_type": "execute_result"
    }
   ],
   "source": [
    "len(df_dockets_detailed)"
   ]
  },
  {
   "cell_type": "code",
   "execution_count": 156,
   "id": "09b4cf4b",
   "metadata": {},
   "outputs": [],
   "source": [
    "df_dockets_detailed_dept = pd.merge(df_dockets_detailed,df_dockets_to_depts, on = 'Docket Number', how = \"left\")"
   ]
  },
  {
   "cell_type": "code",
   "execution_count": 157,
   "id": "48ec4432",
   "metadata": {},
   "outputs": [
    {
     "data": {
      "text/plain": [
       "3662"
      ]
     },
     "execution_count": 157,
     "metadata": {},
     "output_type": "execute_result"
    }
   ],
   "source": [
    "len(df_dockets_detailed_dept)"
   ]
  },
  {
   "cell_type": "markdown",
   "id": "c3add1c5",
   "metadata": {},
   "source": [
    "# Prep Data\n",
    "Dataset provided by Chicago's Department of Administrative Hearings (H064920-011124.xlsx) contained 3058 records dating from 1/1/2001 to 9/12/2023.\n",
    "\n",
    "From this dataset I removed:\n",
    "<ul>\n",
    "    <li>2 records with missing dates\n",
    "        <li>19 records between 1/1/2001 from 2/13/2018\n",
    "<li>2 records after 6/30/2023\n",
    "<il>475 records from winter 2018-2019\n",
    "    </ul>\n",
    "    \n",
    "This leaves 2560 records."
   ]
  },
  {
   "cell_type": "markdown",
   "id": "023396d0",
   "metadata": {},
   "source": [
    "### remove records with missing violation dates"
   ]
  },
  {
   "cell_type": "code",
   "execution_count": 23,
   "id": "fe448c47",
   "metadata": {
    "scrolled": true
   },
   "outputs": [
    {
     "data": {
      "text/html": [
       "<div>\n",
       "<style scoped>\n",
       "    .dataframe tbody tr th:only-of-type {\n",
       "        vertical-align: middle;\n",
       "    }\n",
       "\n",
       "    .dataframe tbody tr th {\n",
       "        vertical-align: top;\n",
       "    }\n",
       "\n",
       "    .dataframe thead th {\n",
       "        text-align: right;\n",
       "    }\n",
       "</style>\n",
       "<table border=\"1\" class=\"dataframe\">\n",
       "  <thead>\n",
       "    <tr style=\"text-align: right;\">\n",
       "      <th></th>\n",
       "      <th>Docket Number</th>\n",
       "      <th>Violation Date</th>\n",
       "      <th>Violation Address</th>\n",
       "      <th>Issuing Department Code</th>\n",
       "      <th>Imposed Fine Detailed</th>\n",
       "    </tr>\n",
       "  </thead>\n",
       "  <tbody>\n",
       "    <tr>\n",
       "      <th>1472</th>\n",
       "      <td>21DT00019A</td>\n",
       "      <td>NaN</td>\n",
       "      <td>1601 E 95TH ST</td>\n",
       "      <td>TRANPORT</td>\n",
       "      <td>$0.00</td>\n",
       "    </tr>\n",
       "    <tr>\n",
       "      <th>1473</th>\n",
       "      <td>21DT00019A</td>\n",
       "      <td>NaN</td>\n",
       "      <td>1601 E 95TH ST</td>\n",
       "      <td>TRANPORT</td>\n",
       "      <td>$150.00</td>\n",
       "    </tr>\n",
       "  </tbody>\n",
       "</table>\n",
       "</div>"
      ],
      "text/plain": [
       "     Docket Number Violation Date Violation Address Issuing Department Code  \\\n",
       "1472    21DT00019A            NaN    1601 E 95TH ST                TRANPORT   \n",
       "1473    21DT00019A            NaN    1601 E 95TH ST                TRANPORT   \n",
       "\n",
       "     Imposed Fine Detailed  \n",
       "1472                 $0.00  \n",
       "1473               $150.00  "
      ]
     },
     "execution_count": 23,
     "metadata": {},
     "output_type": "execute_result"
    }
   ],
   "source": [
    "# find records with missing Violation Date. NaT means \"Not a Time\"\n",
    "df_dockets[df_dockets['Violation Date'].isna()]"
   ]
  },
  {
   "cell_type": "markdown",
   "id": "c50c4069",
   "metadata": {},
   "source": [
    "# Export Data"
   ]
  },
  {
   "cell_type": "code",
   "execution_count": 190,
   "id": "adf0459a",
   "metadata": {},
   "outputs": [],
   "source": [
    "df_dockets_to_depts.to_csv('../../data/02-tidied/dockets-to-depts.csv', index= False)\n",
    "df_dockets_to_addresses.to_csv('../../data/02-tidied/dockets-to-addresses.csv', index = False)\n",
    "df_dockets_detailed.to_csv('../../data/02-tidied/dockets-to-details.csv', index = False)\n",
    "df_dockets_to_respondents.to_csv('../../data/02-tidied/dockets-to-respondents.csv', index = False)"
   ]
  },
  {
   "cell_type": "code",
   "execution_count": null,
   "id": "65b22961",
   "metadata": {},
   "outputs": [],
   "source": []
  }
 ],
 "metadata": {
  "kernelspec": {
   "display_name": "Python 3 (ipykernel)",
   "language": "python",
   "name": "python3"
  },
  "language_info": {
   "codemirror_mode": {
    "name": "ipython",
    "version": 3
   },
   "file_extension": ".py",
   "mimetype": "text/x-python",
   "name": "python",
   "nbconvert_exporter": "python",
   "pygments_lexer": "ipython3",
   "version": "3.10.12"
  }
 },
 "nbformat": 4,
 "nbformat_minor": 5
}
