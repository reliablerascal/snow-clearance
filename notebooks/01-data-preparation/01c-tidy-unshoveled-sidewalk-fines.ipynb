{
 "cells": [
  {
   "cell_type": "markdown",
   "id": "31fa8d95",
   "metadata": {},
   "source": [
    "# Tidy Unshoveled Sidewalk Fines\n",
    "3/2/24\n",
    "\n",
    "This notebook organizes and tidies FOIA-requested datasets provided by the Department of Administrative Hearings:\n",
    "1) One dataset of all court dockets for unshoveled sidewalks, including data on issuing department\n",
    "2) One dataset of the same court dockets, including additional data on hearing date, case disposition, respondents, etc.\n",
    "\n",
    "My goal is to join this into one comprehensive (albeit denormalized) dataset, dockets-to-details.csv\n",
    "and three normalized datasets:\n",
    "\n",
    "Though a full year of data is provided for the 2018-2019 season, I chose to look only at July 2019- June 2023 to align with data available for 311 complaints as well as City Council's legislative session running from May 2019 to May 2023.<br>"
   ]
  },
  {
   "cell_type": "markdown",
   "id": "aa744fbc",
   "metadata": {},
   "source": [
    "### summary of recordsets\n",
    "\n",
    "Following is a summary of all recordsets prepared in this notebook, along with a count after filtering for 7/1/19 to 6/30/23\n",
    "\n",
    "|recordset|num records|cardinality |description|\n",
    "|---|---|---|---|\n",
    "| dockets-to-addresses.csv | 1918 |  1:1 |docket numbers and cleaned addresses<br>to facilitate geocoding |\n",
    "| dockets-to-depts.csv | 1917 |  1:1 |docket numbers to departments,<br>one record with missing dept |\n",
    "| dockets-to-respondents.csv | 2240 | 1:many | one record per docket per respondent |\n",
    "| dockets-detailed.csv | 3662 | 1:many | full details for each docket |"
   ]
  },
  {
   "cell_type": "markdown",
   "id": "e697650b",
   "metadata": {},
   "source": [
    "### notes on data quality\n",
    "* one docket had no violation date (21DT00019A). Rather than estimate this date, I filtered it out\n",
    "* one docket had no info about which department issued the citation. I retained this in dockets-to-details\n",
    "\n",
    "The following dockets could not be geocoded:\n",
    "* four dockets have address listed as UNKNOWN. This was not discovered until the geocoding phase\n",
    "* one docket contains a nonsensical address- 5450 S 47TH"
   ]
  },
  {
   "cell_type": "markdown",
   "id": "a4886831",
   "metadata": {},
   "source": [
    "### overview of this data preparation\n",
    "<ol>\n",
    "<li>Read Data\n",
    "<li>Prep Dockets Data (Simple)\n",
    "<li>Prep Dockets Data (Detailed)\n",
    "<li>Normalize Data\n",
    "<li>Prep Addresses to Facilitate Geocoding\n",
    "<li>Merge Department Info into Detailed Dockets Dataset\n",
    "<li>Export Data\n",
    "</ol>"
   ]
  },
  {
   "cell_type": "markdown",
   "id": "01f74611",
   "metadata": {},
   "source": [
    "# Read Data"
   ]
  },
  {
   "cell_type": "code",
   "execution_count": 1,
   "id": "6b4f8cfa",
   "metadata": {},
   "outputs": [],
   "source": [
    "import pandas as pd"
   ]
  },
  {
   "cell_type": "code",
   "execution_count": 2,
   "id": "2658a99d",
   "metadata": {},
   "outputs": [],
   "source": [
    "df_dockets = pd.read_csv(\"../../data/00-raw/FOIA-H064920-011124-snow-dockets.csv\")\n",
    "df_dockets_detailed = pd.read_csv(\"../../data/00-raw/FOIA-H067483-021424-snow-dockets-detailed.csv\")\n",
    "df_corrections = pd.read_csv(\"../../data/00-raw/address-corrections.csv\")"
   ]
  },
  {
   "cell_type": "markdown",
   "id": "772d5daf",
   "metadata": {},
   "source": [
    "# Prep Dockets Data (Simple)"
   ]
  },
  {
   "cell_type": "markdown",
   "id": "69a960a7",
   "metadata": {},
   "source": [
    "### read and review simple dockets dataset"
   ]
  },
  {
   "cell_type": "code",
   "execution_count": 3,
   "id": "4740eb77",
   "metadata": {},
   "outputs": [
    {
     "data": {
      "text/html": [
       "<div>\n",
       "<style scoped>\n",
       "    .dataframe tbody tr th:only-of-type {\n",
       "        vertical-align: middle;\n",
       "    }\n",
       "\n",
       "    .dataframe tbody tr th {\n",
       "        vertical-align: top;\n",
       "    }\n",
       "\n",
       "    .dataframe thead th {\n",
       "        text-align: right;\n",
       "    }\n",
       "</style>\n",
       "<table border=\"1\" class=\"dataframe\">\n",
       "  <thead>\n",
       "    <tr style=\"text-align: right;\">\n",
       "      <th></th>\n",
       "      <th>Docket Number</th>\n",
       "      <th>Violation Date</th>\n",
       "      <th>Violation Address</th>\n",
       "      <th>Issuing Department Code</th>\n",
       "      <th>Imposed Fine Detailed</th>\n",
       "    </tr>\n",
       "  </thead>\n",
       "  <tbody>\n",
       "    <tr>\n",
       "      <th>0</th>\n",
       "      <td>22CS00058A</td>\n",
       "      <td>02/04/2022</td>\n",
       "      <td>6621 S LANGLEY</td>\n",
       "      <td>BAFCONP</td>\n",
       "      <td>$0.00</td>\n",
       "    </tr>\n",
       "    <tr>\n",
       "      <th>1</th>\n",
       "      <td>22CS00059A</td>\n",
       "      <td>01/04/2022</td>\n",
       "      <td>6613 S LANGLEY AVE</td>\n",
       "      <td>BAFCONP</td>\n",
       "      <td>$0.00</td>\n",
       "    </tr>\n",
       "    <tr>\n",
       "      <th>2</th>\n",
       "      <td>18CP093079</td>\n",
       "      <td>11/27/2018</td>\n",
       "      <td>5045 N TRIPP</td>\n",
       "      <td>POLICE</td>\n",
       "      <td>$0.00</td>\n",
       "    </tr>\n",
       "    <tr>\n",
       "      <th>3</th>\n",
       "      <td>19CP003510</td>\n",
       "      <td>01/16/2019</td>\n",
       "      <td>5045 N TRIPP</td>\n",
       "      <td>POLICE</td>\n",
       "      <td>$0.00</td>\n",
       "    </tr>\n",
       "    <tr>\n",
       "      <th>4</th>\n",
       "      <td>19CP004491</td>\n",
       "      <td>01/06/2019</td>\n",
       "      <td>1800 S LAKE SHORE DR</td>\n",
       "      <td>POLICE</td>\n",
       "      <td>$0.00</td>\n",
       "    </tr>\n",
       "  </tbody>\n",
       "</table>\n",
       "</div>"
      ],
      "text/plain": [
       "  Docket Number Violation Date      Violation Address Issuing Department Code  \\\n",
       "0    22CS00058A     02/04/2022        6621 S LANGLEY                  BAFCONP   \n",
       "1    22CS00059A     01/04/2022     6613 S LANGLEY AVE                 BAFCONP   \n",
       "2    18CP093079     11/27/2018          5045 N TRIPP                   POLICE   \n",
       "3    19CP003510     01/16/2019          5045 N TRIPP                   POLICE   \n",
       "4    19CP004491     01/06/2019  1800 S LAKE SHORE DR                   POLICE   \n",
       "\n",
       "  Imposed Fine Detailed  \n",
       "0                 $0.00  \n",
       "1                 $0.00  \n",
       "2                 $0.00  \n",
       "3                 $0.00  \n",
       "4                 $0.00  "
      ]
     },
     "execution_count": 3,
     "metadata": {},
     "output_type": "execute_result"
    }
   ],
   "source": [
    "df_dockets.head()"
   ]
  },
  {
   "cell_type": "code",
   "execution_count": 4,
   "id": "23a28859",
   "metadata": {},
   "outputs": [
    {
     "data": {
      "text/plain": [
       "3058"
      ]
     },
     "execution_count": 4,
     "metadata": {},
     "output_type": "execute_result"
    }
   ],
   "source": [
    "len(df_dockets)"
   ]
  },
  {
   "cell_type": "code",
   "execution_count": 5,
   "id": "8140fb39",
   "metadata": {},
   "outputs": [
    {
     "data": {
      "text/html": [
       "<div>\n",
       "<style scoped>\n",
       "    .dataframe tbody tr th:only-of-type {\n",
       "        vertical-align: middle;\n",
       "    }\n",
       "\n",
       "    .dataframe tbody tr th {\n",
       "        vertical-align: top;\n",
       "    }\n",
       "\n",
       "    .dataframe thead th {\n",
       "        text-align: right;\n",
       "    }\n",
       "</style>\n",
       "<table border=\"1\" class=\"dataframe\">\n",
       "  <thead>\n",
       "    <tr style=\"text-align: right;\">\n",
       "      <th></th>\n",
       "      <th>docket</th>\n",
       "      <th>violation_date</th>\n",
       "      <th>violation_address</th>\n",
       "      <th>dept</th>\n",
       "      <th>fine_amt</th>\n",
       "    </tr>\n",
       "  </thead>\n",
       "  <tbody>\n",
       "    <tr>\n",
       "      <th>0</th>\n",
       "      <td>22CS00058A</td>\n",
       "      <td>02/04/2022</td>\n",
       "      <td>6621 S LANGLEY</td>\n",
       "      <td>BAFCONP</td>\n",
       "      <td>$0.00</td>\n",
       "    </tr>\n",
       "    <tr>\n",
       "      <th>1</th>\n",
       "      <td>22CS00059A</td>\n",
       "      <td>01/04/2022</td>\n",
       "      <td>6613 S LANGLEY AVE</td>\n",
       "      <td>BAFCONP</td>\n",
       "      <td>$0.00</td>\n",
       "    </tr>\n",
       "    <tr>\n",
       "      <th>2</th>\n",
       "      <td>18CP093079</td>\n",
       "      <td>11/27/2018</td>\n",
       "      <td>5045 N TRIPP</td>\n",
       "      <td>POLICE</td>\n",
       "      <td>$0.00</td>\n",
       "    </tr>\n",
       "    <tr>\n",
       "      <th>3</th>\n",
       "      <td>19CP003510</td>\n",
       "      <td>01/16/2019</td>\n",
       "      <td>5045 N TRIPP</td>\n",
       "      <td>POLICE</td>\n",
       "      <td>$0.00</td>\n",
       "    </tr>\n",
       "    <tr>\n",
       "      <th>4</th>\n",
       "      <td>19CP004491</td>\n",
       "      <td>01/06/2019</td>\n",
       "      <td>1800 S LAKE SHORE DR</td>\n",
       "      <td>POLICE</td>\n",
       "      <td>$0.00</td>\n",
       "    </tr>\n",
       "  </tbody>\n",
       "</table>\n",
       "</div>"
      ],
      "text/plain": [
       "       docket violation_date      violation_address     dept fine_amt\n",
       "0  22CS00058A     02/04/2022        6621 S LANGLEY   BAFCONP    $0.00\n",
       "1  22CS00059A     01/04/2022     6613 S LANGLEY AVE  BAFCONP    $0.00\n",
       "2  18CP093079     11/27/2018          5045 N TRIPP    POLICE    $0.00\n",
       "3  19CP003510     01/16/2019          5045 N TRIPP    POLICE    $0.00\n",
       "4  19CP004491     01/06/2019  1800 S LAKE SHORE DR    POLICE    $0.00"
      ]
     },
     "execution_count": 5,
     "metadata": {},
     "output_type": "execute_result"
    }
   ],
   "source": [
    "df_dockets = df_dockets.rename(columns={'Docket Number':'docket','Violation Date':'violation_date',\n",
    "                                        'Issuing Department Code':'dept',\n",
    "                                        'Violation Address':'violation_address','Imposed Fine Detailed':'fine_amt'})\n",
    "df_dockets.head()"
   ]
  },
  {
   "cell_type": "markdown",
   "id": "ecf5b9d3",
   "metadata": {},
   "source": [
    "### identify any dockets with missing violation date, which will be filtered out"
   ]
  },
  {
   "cell_type": "code",
   "execution_count": 6,
   "id": "1f94e8d8",
   "metadata": {},
   "outputs": [
    {
     "data": {
      "text/html": [
       "<div>\n",
       "<style scoped>\n",
       "    .dataframe tbody tr th:only-of-type {\n",
       "        vertical-align: middle;\n",
       "    }\n",
       "\n",
       "    .dataframe tbody tr th {\n",
       "        vertical-align: top;\n",
       "    }\n",
       "\n",
       "    .dataframe thead th {\n",
       "        text-align: right;\n",
       "    }\n",
       "</style>\n",
       "<table border=\"1\" class=\"dataframe\">\n",
       "  <thead>\n",
       "    <tr style=\"text-align: right;\">\n",
       "      <th></th>\n",
       "      <th>docket</th>\n",
       "      <th>violation_date</th>\n",
       "      <th>violation_address</th>\n",
       "      <th>dept</th>\n",
       "      <th>fine_amt</th>\n",
       "    </tr>\n",
       "  </thead>\n",
       "  <tbody>\n",
       "    <tr>\n",
       "      <th>1472</th>\n",
       "      <td>21DT00019A</td>\n",
       "      <td>NaN</td>\n",
       "      <td>1601 E 95TH ST</td>\n",
       "      <td>TRANPORT</td>\n",
       "      <td>$0.00</td>\n",
       "    </tr>\n",
       "    <tr>\n",
       "      <th>1473</th>\n",
       "      <td>21DT00019A</td>\n",
       "      <td>NaN</td>\n",
       "      <td>1601 E 95TH ST</td>\n",
       "      <td>TRANPORT</td>\n",
       "      <td>$150.00</td>\n",
       "    </tr>\n",
       "  </tbody>\n",
       "</table>\n",
       "</div>"
      ],
      "text/plain": [
       "          docket violation_date violation_address      dept fine_amt\n",
       "1472  21DT00019A            NaN    1601 E 95TH ST  TRANPORT    $0.00\n",
       "1473  21DT00019A            NaN    1601 E 95TH ST  TRANPORT  $150.00"
      ]
     },
     "execution_count": 6,
     "metadata": {},
     "output_type": "execute_result"
    }
   ],
   "source": [
    "df_dockets[df_dockets['violation_date'].isna()]"
   ]
  },
  {
   "cell_type": "markdown",
   "id": "31261175",
   "metadata": {},
   "source": [
    "### filter for 7/1/19 to 6/30/23"
   ]
  },
  {
   "cell_type": "code",
   "execution_count": 7,
   "id": "d32f0611",
   "metadata": {},
   "outputs": [],
   "source": [
    "#convert violation date to datetime, so it can be filtered\n",
    "df_dockets['violation_date'] = pd.to_datetime(df_dockets['violation_date'])"
   ]
  },
  {
   "cell_type": "code",
   "execution_count": 8,
   "id": "95011949",
   "metadata": {},
   "outputs": [],
   "source": [
    "df_dockets = df_dockets[(df_dockets['violation_date']>='7/1/19') & (df_dockets['violation_date']<='6/30/23')]"
   ]
  },
  {
   "cell_type": "code",
   "execution_count": 9,
   "id": "9879686a",
   "metadata": {
    "scrolled": true
   },
   "outputs": [
    {
     "data": {
      "text/plain": [
       "1917"
      ]
     },
     "execution_count": 9,
     "metadata": {},
     "output_type": "execute_result"
    }
   ],
   "source": [
    "# get number of unique dockets, for reference\n",
    "df_dockets['docket'].nunique()"
   ]
  },
  {
   "cell_type": "markdown",
   "id": "75adea0e",
   "metadata": {},
   "source": [
    "# Prep Dockets Data (Detailed)"
   ]
  },
  {
   "cell_type": "code",
   "execution_count": 10,
   "id": "901efa7c",
   "metadata": {},
   "outputs": [
    {
     "data": {
      "text/html": [
       "<div>\n",
       "<style scoped>\n",
       "    .dataframe tbody tr th:only-of-type {\n",
       "        vertical-align: middle;\n",
       "    }\n",
       "\n",
       "    .dataframe tbody tr th {\n",
       "        vertical-align: top;\n",
       "    }\n",
       "\n",
       "    .dataframe thead th {\n",
       "        text-align: right;\n",
       "    }\n",
       "</style>\n",
       "<table border=\"1\" class=\"dataframe\">\n",
       "  <thead>\n",
       "    <tr style=\"text-align: right;\">\n",
       "      <th></th>\n",
       "      <th>Respondent Full Name</th>\n",
       "      <th>Docket Number</th>\n",
       "      <th>Nov #</th>\n",
       "      <th>Violation Date</th>\n",
       "      <th>Hearing Date</th>\n",
       "      <th>Violation Address</th>\n",
       "      <th>Violation Description</th>\n",
       "      <th>Case Disposition Label</th>\n",
       "      <th>Imposed Fine Detailed</th>\n",
       "    </tr>\n",
       "  </thead>\n",
       "  <tbody>\n",
       "    <tr>\n",
       "      <th>0</th>\n",
       "      <td>1010 W MADISON LLC</td>\n",
       "      <td>23DT000582</td>\n",
       "      <td>T000215159</td>\n",
       "      <td>01/31/2023</td>\n",
       "      <td>7/10/2023</td>\n",
       "      <td>1010 W MADISON</td>\n",
       "      <td>10-8-180    Snow and ice removal.</td>\n",
       "      <td>Non-Suit</td>\n",
       "      <td>$0.00</td>\n",
       "    </tr>\n",
       "    <tr>\n",
       "      <th>1</th>\n",
       "      <td>10-18 S HOMAN AVE HOLDINGS LLC c/o BRIAN GOTTE...</td>\n",
       "      <td>19DS41774L</td>\n",
       "      <td>241774L</td>\n",
       "      <td>01/22/2019</td>\n",
       "      <td>6/3/2019</td>\n",
       "      <td>10 S HOMAN AVE</td>\n",
       "      <td>10-8-180    Snow and ice removal.</td>\n",
       "      <td>Liable</td>\n",
       "      <td>$0.00</td>\n",
       "    </tr>\n",
       "    <tr>\n",
       "      <th>2</th>\n",
       "      <td>10-18 S HOMAN AVE HOLDINGS LLC c/o EV HAS LLC</td>\n",
       "      <td>19DS41774L</td>\n",
       "      <td>241774L</td>\n",
       "      <td>01/22/2019</td>\n",
       "      <td>6/3/2019</td>\n",
       "      <td>10 S HOMAN AVE</td>\n",
       "      <td>10-8-180    Snow and ice removal.</td>\n",
       "      <td>Liable</td>\n",
       "      <td>$0.00</td>\n",
       "    </tr>\n",
       "    <tr>\n",
       "      <th>3</th>\n",
       "      <td>1100 E 47TH STREET LLC, C/O PETER CASSEL</td>\n",
       "      <td>22DT001042</td>\n",
       "      <td>T000207342</td>\n",
       "      <td>01/04/2022</td>\n",
       "      <td>5/23/2022</td>\n",
       "      <td>1100 E 47TH ST</td>\n",
       "      <td>10-8-180    Snow and ice removal.</td>\n",
       "      <td>Non-Suit</td>\n",
       "      <td>$0.00</td>\n",
       "    </tr>\n",
       "    <tr>\n",
       "      <th>4</th>\n",
       "      <td>1101 BERWYN LLC, C/O JOHN BARRETT</td>\n",
       "      <td>23DT000559</td>\n",
       "      <td>T000220112</td>\n",
       "      <td>02/02/2023</td>\n",
       "      <td>3/20/2023</td>\n",
       "      <td>1101 W BERWYN</td>\n",
       "      <td>10-8-180    Snow and ice removal.</td>\n",
       "      <td>Non-Suit</td>\n",
       "      <td>$0.00</td>\n",
       "    </tr>\n",
       "  </tbody>\n",
       "</table>\n",
       "</div>"
      ],
      "text/plain": [
       "                                Respondent Full Name Docket Number  \\\n",
       "0                                1010 W MADISON LLC     23DT000582   \n",
       "1  10-18 S HOMAN AVE HOLDINGS LLC c/o BRIAN GOTTE...    19DS41774L   \n",
       "2     10-18 S HOMAN AVE HOLDINGS LLC c/o EV HAS LLC     19DS41774L   \n",
       "3          1100 E 47TH STREET LLC, C/O PETER CASSEL     22DT001042   \n",
       "4                 1101 BERWYN LLC, C/O JOHN BARRETT     23DT000559   \n",
       "\n",
       "        Nov # Violation Date Hearing Date Violation Address  \\\n",
       "0  T000215159     01/31/2023    7/10/2023   1010 W MADISON    \n",
       "1     241774L     01/22/2019     6/3/2019    10 S HOMAN AVE   \n",
       "2     241774L     01/22/2019     6/3/2019    10 S HOMAN AVE   \n",
       "3  T000207342     01/04/2022    5/23/2022    1100 E 47TH ST   \n",
       "4  T000220112     02/02/2023    3/20/2023    1101 W BERWYN    \n",
       "\n",
       "               Violation Description Case Disposition Label  \\\n",
       "0  10-8-180    Snow and ice removal.               Non-Suit   \n",
       "1  10-8-180    Snow and ice removal.                 Liable   \n",
       "2  10-8-180    Snow and ice removal.                 Liable   \n",
       "3  10-8-180    Snow and ice removal.               Non-Suit   \n",
       "4  10-8-180    Snow and ice removal.               Non-Suit   \n",
       "\n",
       "  Imposed Fine Detailed  \n",
       "0                 $0.00  \n",
       "1                 $0.00  \n",
       "2                 $0.00  \n",
       "3                 $0.00  \n",
       "4                 $0.00  "
      ]
     },
     "execution_count": 10,
     "metadata": {},
     "output_type": "execute_result"
    }
   ],
   "source": [
    "df_dockets_detailed.head()"
   ]
  },
  {
   "cell_type": "code",
   "execution_count": 11,
   "id": "28e1450c",
   "metadata": {},
   "outputs": [
    {
     "data": {
      "text/plain": [
       "4330"
      ]
     },
     "execution_count": 11,
     "metadata": {},
     "output_type": "execute_result"
    }
   ],
   "source": [
    "len(df_dockets_detailed)"
   ]
  },
  {
   "cell_type": "code",
   "execution_count": 12,
   "id": "65bd6ee6",
   "metadata": {},
   "outputs": [
    {
     "data": {
      "text/html": [
       "<div>\n",
       "<style scoped>\n",
       "    .dataframe tbody tr th:only-of-type {\n",
       "        vertical-align: middle;\n",
       "    }\n",
       "\n",
       "    .dataframe tbody tr th {\n",
       "        vertical-align: top;\n",
       "    }\n",
       "\n",
       "    .dataframe thead th {\n",
       "        text-align: right;\n",
       "    }\n",
       "</style>\n",
       "<table border=\"1\" class=\"dataframe\">\n",
       "  <thead>\n",
       "    <tr style=\"text-align: right;\">\n",
       "      <th></th>\n",
       "      <th>respondent</th>\n",
       "      <th>docket</th>\n",
       "      <th>violation_num</th>\n",
       "      <th>violation_date</th>\n",
       "      <th>hearing_date</th>\n",
       "      <th>violation_address</th>\n",
       "      <th>violation_desc</th>\n",
       "      <th>case_disposition</th>\n",
       "      <th>fine_amt</th>\n",
       "    </tr>\n",
       "  </thead>\n",
       "  <tbody>\n",
       "    <tr>\n",
       "      <th>0</th>\n",
       "      <td>1010 W MADISON LLC</td>\n",
       "      <td>23DT000582</td>\n",
       "      <td>T000215159</td>\n",
       "      <td>01/31/2023</td>\n",
       "      <td>7/10/2023</td>\n",
       "      <td>1010 W MADISON</td>\n",
       "      <td>10-8-180    Snow and ice removal.</td>\n",
       "      <td>Non-Suit</td>\n",
       "      <td>$0.00</td>\n",
       "    </tr>\n",
       "    <tr>\n",
       "      <th>1</th>\n",
       "      <td>10-18 S HOMAN AVE HOLDINGS LLC c/o BRIAN GOTTE...</td>\n",
       "      <td>19DS41774L</td>\n",
       "      <td>241774L</td>\n",
       "      <td>01/22/2019</td>\n",
       "      <td>6/3/2019</td>\n",
       "      <td>10 S HOMAN AVE</td>\n",
       "      <td>10-8-180    Snow and ice removal.</td>\n",
       "      <td>Liable</td>\n",
       "      <td>$0.00</td>\n",
       "    </tr>\n",
       "    <tr>\n",
       "      <th>2</th>\n",
       "      <td>10-18 S HOMAN AVE HOLDINGS LLC c/o EV HAS LLC</td>\n",
       "      <td>19DS41774L</td>\n",
       "      <td>241774L</td>\n",
       "      <td>01/22/2019</td>\n",
       "      <td>6/3/2019</td>\n",
       "      <td>10 S HOMAN AVE</td>\n",
       "      <td>10-8-180    Snow and ice removal.</td>\n",
       "      <td>Liable</td>\n",
       "      <td>$0.00</td>\n",
       "    </tr>\n",
       "    <tr>\n",
       "      <th>3</th>\n",
       "      <td>1100 E 47TH STREET LLC, C/O PETER CASSEL</td>\n",
       "      <td>22DT001042</td>\n",
       "      <td>T000207342</td>\n",
       "      <td>01/04/2022</td>\n",
       "      <td>5/23/2022</td>\n",
       "      <td>1100 E 47TH ST</td>\n",
       "      <td>10-8-180    Snow and ice removal.</td>\n",
       "      <td>Non-Suit</td>\n",
       "      <td>$0.00</td>\n",
       "    </tr>\n",
       "    <tr>\n",
       "      <th>4</th>\n",
       "      <td>1101 BERWYN LLC, C/O JOHN BARRETT</td>\n",
       "      <td>23DT000559</td>\n",
       "      <td>T000220112</td>\n",
       "      <td>02/02/2023</td>\n",
       "      <td>3/20/2023</td>\n",
       "      <td>1101 W BERWYN</td>\n",
       "      <td>10-8-180    Snow and ice removal.</td>\n",
       "      <td>Non-Suit</td>\n",
       "      <td>$0.00</td>\n",
       "    </tr>\n",
       "  </tbody>\n",
       "</table>\n",
       "</div>"
      ],
      "text/plain": [
       "                                          respondent      docket  \\\n",
       "0                                1010 W MADISON LLC   23DT000582   \n",
       "1  10-18 S HOMAN AVE HOLDINGS LLC c/o BRIAN GOTTE...  19DS41774L   \n",
       "2     10-18 S HOMAN AVE HOLDINGS LLC c/o EV HAS LLC   19DS41774L   \n",
       "3          1100 E 47TH STREET LLC, C/O PETER CASSEL   22DT001042   \n",
       "4                 1101 BERWYN LLC, C/O JOHN BARRETT   23DT000559   \n",
       "\n",
       "  violation_num violation_date hearing_date violation_address  \\\n",
       "0    T000215159     01/31/2023    7/10/2023   1010 W MADISON    \n",
       "1       241774L     01/22/2019     6/3/2019    10 S HOMAN AVE   \n",
       "2       241774L     01/22/2019     6/3/2019    10 S HOMAN AVE   \n",
       "3    T000207342     01/04/2022    5/23/2022    1100 E 47TH ST   \n",
       "4    T000220112     02/02/2023    3/20/2023    1101 W BERWYN    \n",
       "\n",
       "                      violation_desc case_disposition fine_amt  \n",
       "0  10-8-180    Snow and ice removal.         Non-Suit    $0.00  \n",
       "1  10-8-180    Snow and ice removal.           Liable    $0.00  \n",
       "2  10-8-180    Snow and ice removal.           Liable    $0.00  \n",
       "3  10-8-180    Snow and ice removal.         Non-Suit    $0.00  \n",
       "4  10-8-180    Snow and ice removal.         Non-Suit    $0.00  "
      ]
     },
     "execution_count": 12,
     "metadata": {},
     "output_type": "execute_result"
    }
   ],
   "source": [
    "# simplify field names\n",
    "df_dockets_detailed = df_dockets_detailed.rename(columns={'Respondent Full Name':'respondent',\n",
    "                                                          'Docket Number':'docket',\n",
    "                                                         'Nov #':'violation_num',\n",
    "                                                         'Violation Date':'violation_date',\n",
    "                                                         'Hearing Date':'hearing_date',\n",
    "                                                         'Violation Address':'violation_address',\n",
    "                                                         'Violation Description':'violation_desc',\n",
    "                                                         'Case Disposition Label':'case_disposition',\n",
    "                                                         'Imposed Fine Detailed':'fine_amt'})\n",
    "df_dockets_detailed.head()"
   ]
  },
  {
   "cell_type": "markdown",
   "id": "f4d33d96",
   "metadata": {},
   "source": [
    "### filter detailed dockets for 7/1/19 to 6/30/23"
   ]
  },
  {
   "cell_type": "code",
   "execution_count": 13,
   "id": "15e76808",
   "metadata": {},
   "outputs": [],
   "source": [
    "#convert violation date to datetime, so it can be filtered\n",
    "df_dockets_detailed['violation_date'] = pd.to_datetime(df_dockets_detailed['violation_date'])"
   ]
  },
  {
   "cell_type": "code",
   "execution_count": 14,
   "id": "18bebaf5",
   "metadata": {},
   "outputs": [],
   "source": [
    "df_dockets_detailed = df_dockets_detailed[(df_dockets_detailed['violation_date']>='7/1/19') \n",
    "                                          & (df_dockets_detailed['violation_date']<='6/30/23')]"
   ]
  },
  {
   "cell_type": "code",
   "execution_count": 15,
   "id": "af8092ed",
   "metadata": {},
   "outputs": [
    {
     "data": {
      "text/plain": [
       "3662"
      ]
     },
     "execution_count": 15,
     "metadata": {},
     "output_type": "execute_result"
    }
   ],
   "source": [
    "len(df_dockets_detailed)"
   ]
  },
  {
   "cell_type": "markdown",
   "id": "fe0ed225",
   "metadata": {},
   "source": [
    "### identify data quality issues\n",
    "Observation: the detailed docket dataset contains one docket (24DT000388) which is not assigned to any department"
   ]
  },
  {
   "cell_type": "code",
   "execution_count": 16,
   "id": "a7f5d17a",
   "metadata": {},
   "outputs": [],
   "source": [
    "df_dockets_test_merge = pd.merge(df_dockets,df_dockets_detailed,on = \"docket\",how=\"right\")"
   ]
  },
  {
   "cell_type": "code",
   "execution_count": 17,
   "id": "8ef2a7a4",
   "metadata": {},
   "outputs": [
    {
     "data": {
      "text/html": [
       "<div>\n",
       "<style scoped>\n",
       "    .dataframe tbody tr th:only-of-type {\n",
       "        vertical-align: middle;\n",
       "    }\n",
       "\n",
       "    .dataframe tbody tr th {\n",
       "        vertical-align: top;\n",
       "    }\n",
       "\n",
       "    .dataframe thead th {\n",
       "        text-align: right;\n",
       "    }\n",
       "</style>\n",
       "<table border=\"1\" class=\"dataframe\">\n",
       "  <thead>\n",
       "    <tr style=\"text-align: right;\">\n",
       "      <th></th>\n",
       "      <th>docket</th>\n",
       "      <th>violation_date_x</th>\n",
       "      <th>violation_address_x</th>\n",
       "      <th>dept</th>\n",
       "      <th>fine_amt_x</th>\n",
       "      <th>respondent</th>\n",
       "      <th>violation_num</th>\n",
       "      <th>violation_date_y</th>\n",
       "      <th>hearing_date</th>\n",
       "      <th>violation_address_y</th>\n",
       "      <th>violation_desc</th>\n",
       "      <th>case_disposition</th>\n",
       "      <th>fine_amt_y</th>\n",
       "    </tr>\n",
       "  </thead>\n",
       "  <tbody>\n",
       "    <tr>\n",
       "      <th>6230</th>\n",
       "      <td>24DT000388</td>\n",
       "      <td>NaT</td>\n",
       "      <td>NaN</td>\n",
       "      <td>NaN</td>\n",
       "      <td>NaN</td>\n",
       "      <td>CTLTC 008002384127</td>\n",
       "      <td>T000215624</td>\n",
       "      <td>2023-01-17</td>\n",
       "      <td>5/6/2024</td>\n",
       "      <td>359 N CANAL ST</td>\n",
       "      <td>10-8-180    Snow and ice removal.</td>\n",
       "      <td>Pending</td>\n",
       "      <td>$0.00</td>\n",
       "    </tr>\n",
       "  </tbody>\n",
       "</table>\n",
       "</div>"
      ],
      "text/plain": [
       "          docket violation_date_x violation_address_x dept fine_amt_x  \\\n",
       "6230  24DT000388              NaT                 NaN  NaN        NaN   \n",
       "\n",
       "               respondent violation_num violation_date_y hearing_date  \\\n",
       "6230  CTLTC 008002384127     T000215624       2023-01-17     5/6/2024   \n",
       "\n",
       "     violation_address_y                     violation_desc case_disposition  \\\n",
       "6230      359 N CANAL ST  10-8-180    Snow and ice removal.          Pending   \n",
       "\n",
       "     fine_amt_y  \n",
       "6230      $0.00  "
      ]
     },
     "execution_count": 17,
     "metadata": {},
     "output_type": "execute_result"
    }
   ],
   "source": [
    "df_dockets_weird = df_dockets_test_merge[df_dockets_test_merge['dept'].isna()]\n",
    "df_dockets_weird"
   ]
  },
  {
   "cell_type": "markdown",
   "id": "bccaf6e1",
   "metadata": {},
   "source": [
    "### clean up fines data (clearing out $ helps with analysis)"
   ]
  },
  {
   "cell_type": "code",
   "execution_count": 18,
   "id": "50431421",
   "metadata": {},
   "outputs": [],
   "source": [
    "# clean up fine data\n",
    "df_dockets_detailed['fine_amt'] = pd.to_numeric(df_dockets_detailed['fine_amt'].replace('[\\$,]', '', regex=True), errors='coerce')"
   ]
  },
  {
   "cell_type": "code",
   "execution_count": 19,
   "id": "2e38e88d",
   "metadata": {
    "scrolled": true
   },
   "outputs": [
    {
     "data": {
      "text/plain": [
       "1918"
      ]
     },
     "execution_count": 19,
     "metadata": {},
     "output_type": "execute_result"
    }
   ],
   "source": [
    "# get number of unique dockets, for reference\n",
    "df_dockets_detailed['docket'].nunique()"
   ]
  },
  {
   "cell_type": "markdown",
   "id": "11094d43",
   "metadata": {},
   "source": [
    "# Normalize Data"
   ]
  },
  {
   "cell_type": "markdown",
   "id": "b6335a5c",
   "metadata": {},
   "source": [
    "### dockets to departments\n",
    "1917 records, because one record is missing department"
   ]
  },
  {
   "cell_type": "code",
   "execution_count": 20,
   "id": "48b51d3d",
   "metadata": {
    "scrolled": false
   },
   "outputs": [],
   "source": [
    "df_dockets_to_depts = df_dockets[['docket','dept']].drop_duplicates()"
   ]
  },
  {
   "cell_type": "code",
   "execution_count": 21,
   "id": "e9232bf9",
   "metadata": {},
   "outputs": [
    {
     "data": {
      "text/html": [
       "<div>\n",
       "<style scoped>\n",
       "    .dataframe tbody tr th:only-of-type {\n",
       "        vertical-align: middle;\n",
       "    }\n",
       "\n",
       "    .dataframe tbody tr th {\n",
       "        vertical-align: top;\n",
       "    }\n",
       "\n",
       "    .dataframe thead th {\n",
       "        text-align: right;\n",
       "    }\n",
       "</style>\n",
       "<table border=\"1\" class=\"dataframe\">\n",
       "  <thead>\n",
       "    <tr style=\"text-align: right;\">\n",
       "      <th></th>\n",
       "      <th>docket</th>\n",
       "      <th>dept</th>\n",
       "    </tr>\n",
       "  </thead>\n",
       "  <tbody>\n",
       "    <tr>\n",
       "      <th>0</th>\n",
       "      <td>22CS00058A</td>\n",
       "      <td>BAFCONP</td>\n",
       "    </tr>\n",
       "    <tr>\n",
       "      <th>1</th>\n",
       "      <td>22CS00059A</td>\n",
       "      <td>BAFCONP</td>\n",
       "    </tr>\n",
       "    <tr>\n",
       "      <th>63</th>\n",
       "      <td>20CP00166A</td>\n",
       "      <td>POLICE</td>\n",
       "    </tr>\n",
       "    <tr>\n",
       "      <th>65</th>\n",
       "      <td>20CP00167A</td>\n",
       "      <td>POLICE</td>\n",
       "    </tr>\n",
       "    <tr>\n",
       "      <th>66</th>\n",
       "      <td>20CP005520</td>\n",
       "      <td>POLICE</td>\n",
       "    </tr>\n",
       "  </tbody>\n",
       "</table>\n",
       "</div>"
      ],
      "text/plain": [
       "        docket     dept\n",
       "0   22CS00058A  BAFCONP\n",
       "1   22CS00059A  BAFCONP\n",
       "63  20CP00166A   POLICE\n",
       "65  20CP00167A   POLICE\n",
       "66  20CP005520   POLICE"
      ]
     },
     "execution_count": 21,
     "metadata": {},
     "output_type": "execute_result"
    }
   ],
   "source": [
    "df_dockets_to_depts.head()"
   ]
  },
  {
   "cell_type": "code",
   "execution_count": 22,
   "id": "58e30366",
   "metadata": {},
   "outputs": [
    {
     "data": {
      "text/plain": [
       "1917"
      ]
     },
     "execution_count": 22,
     "metadata": {},
     "output_type": "execute_result"
    }
   ],
   "source": [
    "len(df_dockets_to_depts)"
   ]
  },
  {
   "cell_type": "markdown",
   "id": "ae9c8e1e",
   "metadata": {},
   "source": [
    "### dockets to respondents\n",
    "one docket can have multiple respondents. remove this for now as it could be calculated downstream during the data analysis phase"
   ]
  },
  {
   "cell_type": "code",
   "execution_count": 23,
   "id": "cd895cda",
   "metadata": {},
   "outputs": [],
   "source": [
    "#df_dockets_to_respondents = df_dockets_detailed[['docket','respondent']].drop_duplicates()"
   ]
  },
  {
   "cell_type": "code",
   "execution_count": 24,
   "id": "94315f71",
   "metadata": {},
   "outputs": [],
   "source": [
    "#len(df_dockets_to_respondents)"
   ]
  },
  {
   "cell_type": "markdown",
   "id": "579cf750",
   "metadata": {},
   "source": [
    "### dockets to addresses"
   ]
  },
  {
   "cell_type": "code",
   "execution_count": 25,
   "id": "ab11f3e1",
   "metadata": {},
   "outputs": [],
   "source": [
    "df_dockets_to_addresses = df_dockets_detailed[['docket','violation_address']].drop_duplicates()"
   ]
  },
  {
   "cell_type": "code",
   "execution_count": 26,
   "id": "d9854dca",
   "metadata": {},
   "outputs": [
    {
     "data": {
      "text/html": [
       "<div>\n",
       "<style scoped>\n",
       "    .dataframe tbody tr th:only-of-type {\n",
       "        vertical-align: middle;\n",
       "    }\n",
       "\n",
       "    .dataframe tbody tr th {\n",
       "        vertical-align: top;\n",
       "    }\n",
       "\n",
       "    .dataframe thead th {\n",
       "        text-align: right;\n",
       "    }\n",
       "</style>\n",
       "<table border=\"1\" class=\"dataframe\">\n",
       "  <thead>\n",
       "    <tr style=\"text-align: right;\">\n",
       "      <th></th>\n",
       "      <th>docket</th>\n",
       "      <th>violation_address</th>\n",
       "    </tr>\n",
       "  </thead>\n",
       "  <tbody>\n",
       "    <tr>\n",
       "      <th>0</th>\n",
       "      <td>23DT000582</td>\n",
       "      <td>1010 W MADISON</td>\n",
       "    </tr>\n",
       "    <tr>\n",
       "      <th>3</th>\n",
       "      <td>22DT001042</td>\n",
       "      <td>1100 E 47TH ST</td>\n",
       "    </tr>\n",
       "    <tr>\n",
       "      <th>4</th>\n",
       "      <td>23DT000559</td>\n",
       "      <td>1101 W BERWYN</td>\n",
       "    </tr>\n",
       "    <tr>\n",
       "      <th>5</th>\n",
       "      <td>22DT001387</td>\n",
       "      <td>100  UNKNOWN</td>\n",
       "    </tr>\n",
       "    <tr>\n",
       "      <th>6</th>\n",
       "      <td>21DS20339M</td>\n",
       "      <td>1200 W BELMONT AVE</td>\n",
       "    </tr>\n",
       "  </tbody>\n",
       "</table>\n",
       "</div>"
      ],
      "text/plain": [
       "       docket   violation_address\n",
       "0  23DT000582     1010 W MADISON \n",
       "3  22DT001042      1100 E 47TH ST\n",
       "4  23DT000559      1101 W BERWYN \n",
       "5  22DT001387       100  UNKNOWN \n",
       "6  21DS20339M  1200 W BELMONT AVE"
      ]
     },
     "execution_count": 26,
     "metadata": {},
     "output_type": "execute_result"
    }
   ],
   "source": [
    "df_dockets_to_addresses.head()"
   ]
  },
  {
   "cell_type": "code",
   "execution_count": 27,
   "id": "7bdb637b",
   "metadata": {},
   "outputs": [
    {
     "data": {
      "text/plain": [
       "1918"
      ]
     },
     "execution_count": 27,
     "metadata": {},
     "output_type": "execute_result"
    }
   ],
   "source": [
    "len(df_dockets_to_addresses)"
   ]
  },
  {
   "cell_type": "markdown",
   "id": "6b42a2b3",
   "metadata": {},
   "source": [
    "# Prep Addresses for Geocoding"
   ]
  },
  {
   "cell_type": "markdown",
   "id": "7f1bd5e4",
   "metadata": {},
   "source": [
    "### clean up addresses"
   ]
  },
  {
   "cell_type": "code",
   "execution_count": 28,
   "id": "c72c5eb2",
   "metadata": {},
   "outputs": [],
   "source": [
    "# add city and state, which are necessary for geocoding\n",
    "df_dockets_to_addresses['city']='Chicago'\n",
    "df_dockets_to_addresses['state']='Illinois'"
   ]
  },
  {
   "cell_type": "code",
   "execution_count": 29,
   "id": "0db61ce5",
   "metadata": {},
   "outputs": [],
   "source": [
    "# strip out trailing whitespace to get address merge to function. otherwise about 75% don't link correctly\n",
    "df_dockets_to_addresses['violation_address'] = df_dockets_to_addresses['violation_address'].str.strip()"
   ]
  },
  {
   "cell_type": "markdown",
   "id": "b798916a",
   "metadata": {},
   "source": [
    "### merge with address corrections\n",
    "I created the dataset \"address-corrections\" manually based on addresses which failed to geocode"
   ]
  },
  {
   "cell_type": "code",
   "execution_count": 30,
   "id": "bd76722b",
   "metadata": {},
   "outputs": [
    {
     "data": {
      "text/html": [
       "<div>\n",
       "<style scoped>\n",
       "    .dataframe tbody tr th:only-of-type {\n",
       "        vertical-align: middle;\n",
       "    }\n",
       "\n",
       "    .dataframe tbody tr th {\n",
       "        vertical-align: top;\n",
       "    }\n",
       "\n",
       "    .dataframe thead th {\n",
       "        text-align: right;\n",
       "    }\n",
       "</style>\n",
       "<table border=\"1\" class=\"dataframe\">\n",
       "  <thead>\n",
       "    <tr style=\"text-align: right;\">\n",
       "      <th></th>\n",
       "      <th>violation_address</th>\n",
       "      <th>cleaned_address</th>\n",
       "      <th>corrected</th>\n",
       "    </tr>\n",
       "  </thead>\n",
       "  <tbody>\n",
       "    <tr>\n",
       "      <th>0</th>\n",
       "      <td>10320 S CHURCH</td>\n",
       "      <td>10320 S CHURCH ST</td>\n",
       "      <td>True</td>\n",
       "    </tr>\n",
       "    <tr>\n",
       "      <th>1</th>\n",
       "      <td>1108 W GRAND</td>\n",
       "      <td>1108 W GRAND AVE</td>\n",
       "      <td>True</td>\n",
       "    </tr>\n",
       "    <tr>\n",
       "      <th>2</th>\n",
       "      <td>1111 W MARSHFIELD</td>\n",
       "      <td>1111 N MARSHFIELD</td>\n",
       "      <td>True</td>\n",
       "    </tr>\n",
       "    <tr>\n",
       "      <th>3</th>\n",
       "      <td>1146 W GRAND</td>\n",
       "      <td>1146 W GRAND AVE</td>\n",
       "      <td>True</td>\n",
       "    </tr>\n",
       "    <tr>\n",
       "      <th>4</th>\n",
       "      <td>115 W LAWERENCE</td>\n",
       "      <td>115 W LAWRENCE</td>\n",
       "      <td>True</td>\n",
       "    </tr>\n",
       "  </tbody>\n",
       "</table>\n",
       "</div>"
      ],
      "text/plain": [
       "   violation_address    cleaned_address  corrected\n",
       "0     10320 S CHURCH  10320 S CHURCH ST       True\n",
       "1       1108 W GRAND   1108 W GRAND AVE       True\n",
       "2  1111 W MARSHFIELD  1111 N MARSHFIELD       True\n",
       "3       1146 W GRAND   1146 W GRAND AVE       True\n",
       "4    115 W LAWERENCE     115 W LAWRENCE       True"
      ]
     },
     "execution_count": 30,
     "metadata": {},
     "output_type": "execute_result"
    }
   ],
   "source": [
    "df_corrections.head()"
   ]
  },
  {
   "cell_type": "code",
   "execution_count": 31,
   "id": "3f6001f1",
   "metadata": {},
   "outputs": [],
   "source": [
    "df_dockets_to_addresses_clean = pd.merge(df_dockets_to_addresses,df_corrections, on='violation_address', how='left')"
   ]
  },
  {
   "cell_type": "code",
   "execution_count": 32,
   "id": "1c6503ef",
   "metadata": {},
   "outputs": [
    {
     "data": {
      "text/html": [
       "<div>\n",
       "<style scoped>\n",
       "    .dataframe tbody tr th:only-of-type {\n",
       "        vertical-align: middle;\n",
       "    }\n",
       "\n",
       "    .dataframe tbody tr th {\n",
       "        vertical-align: top;\n",
       "    }\n",
       "\n",
       "    .dataframe thead th {\n",
       "        text-align: right;\n",
       "    }\n",
       "</style>\n",
       "<table border=\"1\" class=\"dataframe\">\n",
       "  <thead>\n",
       "    <tr style=\"text-align: right;\">\n",
       "      <th></th>\n",
       "      <th>docket</th>\n",
       "      <th>violation_address</th>\n",
       "      <th>city</th>\n",
       "      <th>state</th>\n",
       "      <th>cleaned_address</th>\n",
       "      <th>corrected</th>\n",
       "    </tr>\n",
       "  </thead>\n",
       "  <tbody>\n",
       "    <tr>\n",
       "      <th>0</th>\n",
       "      <td>23DT000582</td>\n",
       "      <td>1010 W MADISON</td>\n",
       "      <td>Chicago</td>\n",
       "      <td>Illinois</td>\n",
       "      <td>1010 W MADISON</td>\n",
       "      <td>NaN</td>\n",
       "    </tr>\n",
       "    <tr>\n",
       "      <th>1</th>\n",
       "      <td>22DT001042</td>\n",
       "      <td>1100 E 47TH ST</td>\n",
       "      <td>Chicago</td>\n",
       "      <td>Illinois</td>\n",
       "      <td>1100 E 47TH ST</td>\n",
       "      <td>NaN</td>\n",
       "    </tr>\n",
       "    <tr>\n",
       "      <th>2</th>\n",
       "      <td>23DT000559</td>\n",
       "      <td>1101 W BERWYN</td>\n",
       "      <td>Chicago</td>\n",
       "      <td>Illinois</td>\n",
       "      <td>1101 W BERWYN</td>\n",
       "      <td>NaN</td>\n",
       "    </tr>\n",
       "    <tr>\n",
       "      <th>3</th>\n",
       "      <td>22DT001387</td>\n",
       "      <td>100  UNKNOWN</td>\n",
       "      <td>Chicago</td>\n",
       "      <td>Illinois</td>\n",
       "      <td>100  UNKNOWN</td>\n",
       "      <td>NaN</td>\n",
       "    </tr>\n",
       "    <tr>\n",
       "      <th>4</th>\n",
       "      <td>21DS20339M</td>\n",
       "      <td>1200 W BELMONT AVE</td>\n",
       "      <td>Chicago</td>\n",
       "      <td>Illinois</td>\n",
       "      <td>1200 W BELMONT AVE</td>\n",
       "      <td>NaN</td>\n",
       "    </tr>\n",
       "  </tbody>\n",
       "</table>\n",
       "</div>"
      ],
      "text/plain": [
       "       docket   violation_address     city     state     cleaned_address  \\\n",
       "0  23DT000582      1010 W MADISON  Chicago  Illinois      1010 W MADISON   \n",
       "1  22DT001042      1100 E 47TH ST  Chicago  Illinois      1100 E 47TH ST   \n",
       "2  23DT000559       1101 W BERWYN  Chicago  Illinois       1101 W BERWYN   \n",
       "3  22DT001387        100  UNKNOWN  Chicago  Illinois        100  UNKNOWN   \n",
       "4  21DS20339M  1200 W BELMONT AVE  Chicago  Illinois  1200 W BELMONT AVE   \n",
       "\n",
       "  corrected  \n",
       "0       NaN  \n",
       "1       NaN  \n",
       "2       NaN  \n",
       "3       NaN  \n",
       "4       NaN  "
      ]
     },
     "execution_count": 32,
     "metadata": {},
     "output_type": "execute_result"
    }
   ],
   "source": [
    "# for correct records, copy existing address to cleaned address \n",
    "df_dockets_to_addresses_clean.loc[\n",
    "    df_dockets_to_addresses_clean['corrected'].isna(), 'cleaned_address'] = df_dockets_to_addresses_clean['violation_address']\n",
    "df_dockets_to_addresses_clean.head()"
   ]
  },
  {
   "cell_type": "code",
   "execution_count": 33,
   "id": "3a33b078",
   "metadata": {},
   "outputs": [
    {
     "data": {
      "text/plain": [
       "1918"
      ]
     },
     "execution_count": 33,
     "metadata": {},
     "output_type": "execute_result"
    }
   ],
   "source": [
    "len(df_dockets_to_addresses_clean)"
   ]
  },
  {
   "cell_type": "code",
   "execution_count": 34,
   "id": "2e3461c1",
   "metadata": {},
   "outputs": [
    {
     "data": {
      "text/plain": [
       "corrected\n",
       "True    88\n",
       "dtype: int64"
      ]
     },
     "execution_count": 34,
     "metadata": {},
     "output_type": "execute_result"
    }
   ],
   "source": [
    "df_dockets_to_addresses_clean.groupby('corrected').size()"
   ]
  },
  {
   "cell_type": "code",
   "execution_count": 35,
   "id": "e214cb90",
   "metadata": {},
   "outputs": [
    {
     "data": {
      "text/html": [
       "<div>\n",
       "<style scoped>\n",
       "    .dataframe tbody tr th:only-of-type {\n",
       "        vertical-align: middle;\n",
       "    }\n",
       "\n",
       "    .dataframe tbody tr th {\n",
       "        vertical-align: top;\n",
       "    }\n",
       "\n",
       "    .dataframe thead th {\n",
       "        text-align: right;\n",
       "    }\n",
       "</style>\n",
       "<table border=\"1\" class=\"dataframe\">\n",
       "  <thead>\n",
       "    <tr style=\"text-align: right;\">\n",
       "      <th></th>\n",
       "      <th>docket</th>\n",
       "      <th>violation_address</th>\n",
       "      <th>city</th>\n",
       "      <th>state</th>\n",
       "      <th>cleaned_address</th>\n",
       "      <th>corrected</th>\n",
       "    </tr>\n",
       "  </thead>\n",
       "  <tbody>\n",
       "    <tr>\n",
       "      <th>11</th>\n",
       "      <td>21DT000514</td>\n",
       "      <td>164 E GRAND</td>\n",
       "      <td>Chicago</td>\n",
       "      <td>Illinois</td>\n",
       "      <td>164 E GRAND AVE</td>\n",
       "      <td>True</td>\n",
       "    </tr>\n",
       "    <tr>\n",
       "      <th>55</th>\n",
       "      <td>20DT001518</td>\n",
       "      <td>6815 W ARCHERS</td>\n",
       "      <td>Chicago</td>\n",
       "      <td>Illinois</td>\n",
       "      <td>6815 W ARCHER</td>\n",
       "      <td>True</td>\n",
       "    </tr>\n",
       "    <tr>\n",
       "      <th>56</th>\n",
       "      <td>20DT001519</td>\n",
       "      <td>5501 S NEW CASTLE</td>\n",
       "      <td>Chicago</td>\n",
       "      <td>Illinois</td>\n",
       "      <td>5501 S NEWCASTLE</td>\n",
       "      <td>True</td>\n",
       "    </tr>\n",
       "    <tr>\n",
       "      <th>62</th>\n",
       "      <td>20DT004074</td>\n",
       "      <td>3956 W GRAND</td>\n",
       "      <td>Chicago</td>\n",
       "      <td>Illinois</td>\n",
       "      <td>3956 W GRAND AVE</td>\n",
       "      <td>True</td>\n",
       "    </tr>\n",
       "    <tr>\n",
       "      <th>71</th>\n",
       "      <td>20DT001526</td>\n",
       "      <td>5348 S CENTRAL</td>\n",
       "      <td>Chicago</td>\n",
       "      <td>Illinois</td>\n",
       "      <td>5348 S CENTRAL AVE</td>\n",
       "      <td>True</td>\n",
       "    </tr>\n",
       "  </tbody>\n",
       "</table>\n",
       "</div>"
      ],
      "text/plain": [
       "        docket  violation_address     city     state     cleaned_address  \\\n",
       "11  21DT000514        164 E GRAND  Chicago  Illinois     164 E GRAND AVE   \n",
       "55  20DT001518     6815 W ARCHERS  Chicago  Illinois       6815 W ARCHER   \n",
       "56  20DT001519  5501 S NEW CASTLE  Chicago  Illinois    5501 S NEWCASTLE   \n",
       "62  20DT004074       3956 W GRAND  Chicago  Illinois    3956 W GRAND AVE   \n",
       "71  20DT001526     5348 S CENTRAL  Chicago  Illinois  5348 S CENTRAL AVE   \n",
       "\n",
       "   corrected  \n",
       "11      True  \n",
       "55      True  \n",
       "56      True  \n",
       "62      True  \n",
       "71      True  "
      ]
     },
     "execution_count": 35,
     "metadata": {},
     "output_type": "execute_result"
    }
   ],
   "source": [
    "# sample some cleaned addresses\n",
    "df_dockets_to_addresses_clean[df_dockets_to_addresses_clean['corrected']==1].head()"
   ]
  },
  {
   "cell_type": "markdown",
   "id": "5bad04f6",
   "metadata": {},
   "source": [
    "# Merge Department Info into Detailed Dockets Dataset\n",
    "This gets all useful info in one place, albeit in denormalized form"
   ]
  },
  {
   "cell_type": "code",
   "execution_count": 36,
   "id": "995751ce",
   "metadata": {},
   "outputs": [
    {
     "data": {
      "text/plain": [
       "3662"
      ]
     },
     "execution_count": 36,
     "metadata": {},
     "output_type": "execute_result"
    }
   ],
   "source": [
    "len(df_dockets_detailed)"
   ]
  },
  {
   "cell_type": "code",
   "execution_count": 37,
   "id": "09b4cf4b",
   "metadata": {},
   "outputs": [
    {
     "data": {
      "text/html": [
       "<div>\n",
       "<style scoped>\n",
       "    .dataframe tbody tr th:only-of-type {\n",
       "        vertical-align: middle;\n",
       "    }\n",
       "\n",
       "    .dataframe tbody tr th {\n",
       "        vertical-align: top;\n",
       "    }\n",
       "\n",
       "    .dataframe thead th {\n",
       "        text-align: right;\n",
       "    }\n",
       "</style>\n",
       "<table border=\"1\" class=\"dataframe\">\n",
       "  <thead>\n",
       "    <tr style=\"text-align: right;\">\n",
       "      <th></th>\n",
       "      <th>respondent</th>\n",
       "      <th>docket</th>\n",
       "      <th>violation_num</th>\n",
       "      <th>violation_date</th>\n",
       "      <th>hearing_date</th>\n",
       "      <th>violation_address</th>\n",
       "      <th>violation_desc</th>\n",
       "      <th>case_disposition</th>\n",
       "      <th>fine_amt</th>\n",
       "      <th>dept</th>\n",
       "    </tr>\n",
       "  </thead>\n",
       "  <tbody>\n",
       "    <tr>\n",
       "      <th>0</th>\n",
       "      <td>1010 W MADISON LLC</td>\n",
       "      <td>23DT000582</td>\n",
       "      <td>T000215159</td>\n",
       "      <td>2023-01-31</td>\n",
       "      <td>7/10/2023</td>\n",
       "      <td>1010 W MADISON</td>\n",
       "      <td>10-8-180    Snow and ice removal.</td>\n",
       "      <td>Non-Suit</td>\n",
       "      <td>0.0</td>\n",
       "      <td>TRANPORT</td>\n",
       "    </tr>\n",
       "    <tr>\n",
       "      <th>1</th>\n",
       "      <td>1100 E 47TH STREET LLC, C/O PETER CASSEL</td>\n",
       "      <td>22DT001042</td>\n",
       "      <td>T000207342</td>\n",
       "      <td>2022-01-04</td>\n",
       "      <td>5/23/2022</td>\n",
       "      <td>1100 E 47TH ST</td>\n",
       "      <td>10-8-180    Snow and ice removal.</td>\n",
       "      <td>Non-Suit</td>\n",
       "      <td>0.0</td>\n",
       "      <td>TRANPORT</td>\n",
       "    </tr>\n",
       "    <tr>\n",
       "      <th>2</th>\n",
       "      <td>1101 BERWYN LLC, C/O JOHN BARRETT</td>\n",
       "      <td>23DT000559</td>\n",
       "      <td>T000220112</td>\n",
       "      <td>2023-02-02</td>\n",
       "      <td>3/20/2023</td>\n",
       "      <td>1101 W BERWYN</td>\n",
       "      <td>10-8-180    Snow and ice removal.</td>\n",
       "      <td>Non-Suit</td>\n",
       "      <td>0.0</td>\n",
       "      <td>TRANPORT</td>\n",
       "    </tr>\n",
       "    <tr>\n",
       "      <th>3</th>\n",
       "      <td>1157 W ERIE</td>\n",
       "      <td>22DT001387</td>\n",
       "      <td>T000207431</td>\n",
       "      <td>2022-02-08</td>\n",
       "      <td>4/11/2022</td>\n",
       "      <td>100  UNKNOWN</td>\n",
       "      <td>10-8-180    Snow and ice removal.</td>\n",
       "      <td>Not Liable</td>\n",
       "      <td>0.0</td>\n",
       "      <td>TRANPORT</td>\n",
       "    </tr>\n",
       "    <tr>\n",
       "      <th>4</th>\n",
       "      <td>1200B INC C/O THOMAS GEORGE</td>\n",
       "      <td>21DS20339M</td>\n",
       "      <td>QTUF62L</td>\n",
       "      <td>2021-02-05</td>\n",
       "      <td>7/14/2021</td>\n",
       "      <td>1200 W BELMONT AVE</td>\n",
       "      <td>10-8-180    Snow and ice removal.</td>\n",
       "      <td>Not Liable</td>\n",
       "      <td>0.0</td>\n",
       "      <td>STRTSAN</td>\n",
       "    </tr>\n",
       "  </tbody>\n",
       "</table>\n",
       "</div>"
      ],
      "text/plain": [
       "                                  respondent      docket violation_num  \\\n",
       "0                        1010 W MADISON LLC   23DT000582    T000215159   \n",
       "1  1100 E 47TH STREET LLC, C/O PETER CASSEL   22DT001042    T000207342   \n",
       "2         1101 BERWYN LLC, C/O JOHN BARRETT   23DT000559    T000220112   \n",
       "3                               1157 W ERIE   22DT001387    T000207431   \n",
       "4               1200B INC C/O THOMAS GEORGE   21DS20339M       QTUF62L   \n",
       "\n",
       "  violation_date hearing_date   violation_address  \\\n",
       "0     2023-01-31    7/10/2023     1010 W MADISON    \n",
       "1     2022-01-04    5/23/2022      1100 E 47TH ST   \n",
       "2     2023-02-02    3/20/2023      1101 W BERWYN    \n",
       "3     2022-02-08    4/11/2022       100  UNKNOWN    \n",
       "4     2021-02-05    7/14/2021  1200 W BELMONT AVE   \n",
       "\n",
       "                      violation_desc case_disposition  fine_amt      dept  \n",
       "0  10-8-180    Snow and ice removal.         Non-Suit       0.0  TRANPORT  \n",
       "1  10-8-180    Snow and ice removal.         Non-Suit       0.0  TRANPORT  \n",
       "2  10-8-180    Snow and ice removal.         Non-Suit       0.0  TRANPORT  \n",
       "3  10-8-180    Snow and ice removal.       Not Liable       0.0  TRANPORT  \n",
       "4  10-8-180    Snow and ice removal.       Not Liable       0.0   STRTSAN  "
      ]
     },
     "execution_count": 37,
     "metadata": {},
     "output_type": "execute_result"
    }
   ],
   "source": [
    "# left merge, to hold onto the record without a department assignment\n",
    "df_dockets_detailed_dept = pd.merge(df_dockets_detailed,df_dockets_to_depts, on = 'docket', how = \"left\")\n",
    "df_dockets_detailed_dept.head()"
   ]
  },
  {
   "cell_type": "code",
   "execution_count": 38,
   "id": "48ec4432",
   "metadata": {},
   "outputs": [
    {
     "data": {
      "text/plain": [
       "3662"
      ]
     },
     "execution_count": 38,
     "metadata": {},
     "output_type": "execute_result"
    }
   ],
   "source": [
    "len(df_dockets_detailed_dept)"
   ]
  },
  {
   "cell_type": "code",
   "execution_count": 39,
   "id": "f98bb35b",
   "metadata": {},
   "outputs": [
    {
     "data": {
      "text/plain": [
       "1918"
      ]
     },
     "execution_count": 39,
     "metadata": {},
     "output_type": "execute_result"
    }
   ],
   "source": [
    "df_dockets_detailed_dept['docket'].nunique()"
   ]
  },
  {
   "cell_type": "markdown",
   "id": "c50c4069",
   "metadata": {},
   "source": [
    "# Export Data"
   ]
  },
  {
   "cell_type": "code",
   "execution_count": 40,
   "id": "adf0459a",
   "metadata": {},
   "outputs": [],
   "source": [
    "df_dockets_to_depts.to_csv('../../data/01-tidied/dockets-to-depts.csv', index= False)\n",
    "df_dockets_to_addresses_clean.to_csv('../../data/01-tidied/dockets-to-addresses.csv', index = False)\n",
    "df_dockets_detailed_dept.to_csv('../../data/01-tidied/dockets-to-details.csv', index = False)\n",
    "#df_dockets_to_respondents.to_csv('../../data/01-tidied/dockets-to-respondents.csv', index = False)"
   ]
  },
  {
   "cell_type": "code",
   "execution_count": null,
   "id": "65b22961",
   "metadata": {},
   "outputs": [],
   "source": []
  }
 ],
 "metadata": {
  "kernelspec": {
   "display_name": "Python 3 (ipykernel)",
   "language": "python",
   "name": "python3"
  },
  "language_info": {
   "codemirror_mode": {
    "name": "ipython",
    "version": 3
   },
   "file_extension": ".py",
   "mimetype": "text/x-python",
   "name": "python",
   "nbconvert_exporter": "python",
   "pygments_lexer": "ipython3",
   "version": "3.10.12"
  }
 },
 "nbformat": 4,
 "nbformat_minor": 5
}
