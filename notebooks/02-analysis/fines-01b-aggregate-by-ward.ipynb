{
 "cells": [
  {
   "cell_type": "markdown",
   "id": "638444be",
   "metadata": {},
   "source": [
    "# Summarize by Ward\n",
    "last updated 3/3/24"
   ]
  },
  {
   "cell_type": "markdown",
   "id": "488cdc75",
   "metadata": {},
   "source": [
    "<a name=\"read\"></a>\n",
    "# 1. Read and Prepare Geocoded Fines and 311 Complaints Data"
   ]
  },
  {
   "cell_type": "code",
   "execution_count": 1,
   "id": "109b46e0",
   "metadata": {},
   "outputs": [],
   "source": [
    "import pandas as pd"
   ]
  },
  {
   "cell_type": "code",
   "execution_count": 2,
   "id": "9c1c3a47",
   "metadata": {},
   "outputs": [
    {
     "data": {
      "text/html": [
       "<div>\n",
       "<style scoped>\n",
       "    .dataframe tbody tr th:only-of-type {\n",
       "        vertical-align: middle;\n",
       "    }\n",
       "\n",
       "    .dataframe tbody tr th {\n",
       "        vertical-align: top;\n",
       "    }\n",
       "\n",
       "    .dataframe thead th {\n",
       "        text-align: right;\n",
       "    }\n",
       "</style>\n",
       "<table border=\"1\" class=\"dataframe\">\n",
       "  <thead>\n",
       "    <tr style=\"text-align: right;\">\n",
       "      <th></th>\n",
       "      <th>docket</th>\n",
       "      <th>dept</th>\n",
       "      <th>violation_address</th>\n",
       "      <th>lat</th>\n",
       "      <th>long</th>\n",
       "      <th>community</th>\n",
       "      <th>ward_1523</th>\n",
       "      <th>violation_date</th>\n",
       "      <th>n_records</th>\n",
       "    </tr>\n",
       "  </thead>\n",
       "  <tbody>\n",
       "    <tr>\n",
       "      <th>0</th>\n",
       "      <td>19DS68300L</td>\n",
       "      <td>STRTSAN</td>\n",
       "      <td>4710 S WESTERN AVE</td>\n",
       "      <td>41.807859</td>\n",
       "      <td>-87.68479703503766</td>\n",
       "      <td>BRIGHTON PARK</td>\n",
       "      <td>15</td>\n",
       "      <td>2019-11-13</td>\n",
       "      <td>2</td>\n",
       "    </tr>\n",
       "    <tr>\n",
       "      <th>1</th>\n",
       "      <td>19DS69216L</td>\n",
       "      <td>STRTSAN</td>\n",
       "      <td>1425 W MORSE AVE</td>\n",
       "      <td>42.0074513</td>\n",
       "      <td>-87.6668285</td>\n",
       "      <td>ROGERS PARK</td>\n",
       "      <td>49</td>\n",
       "      <td>2019-11-13</td>\n",
       "      <td>1</td>\n",
       "    </tr>\n",
       "    <tr>\n",
       "      <th>2</th>\n",
       "      <td>19DS70010L</td>\n",
       "      <td>STRTSAN</td>\n",
       "      <td>715 E 47TH ST</td>\n",
       "      <td>41.8093383</td>\n",
       "      <td>-87.6080127</td>\n",
       "      <td>GRAND BOULEVARD</td>\n",
       "      <td>4</td>\n",
       "      <td>2019-11-13</td>\n",
       "      <td>1</td>\n",
       "    </tr>\n",
       "    <tr>\n",
       "      <th>3</th>\n",
       "      <td>19DS72153L</td>\n",
       "      <td>STRTSAN</td>\n",
       "      <td>300 W WASHINGTON ST</td>\n",
       "      <td>41.8818694</td>\n",
       "      <td>-87.7401431</td>\n",
       "      <td>WEST GARFIELD PARK</td>\n",
       "      <td>28</td>\n",
       "      <td>2019-11-12</td>\n",
       "      <td>5</td>\n",
       "    </tr>\n",
       "    <tr>\n",
       "      <th>4</th>\n",
       "      <td>19DS72160L</td>\n",
       "      <td>STRTSAN</td>\n",
       "      <td>6929 N SHERIDAN RD</td>\n",
       "      <td>41.9598134</td>\n",
       "      <td>-87.654693</td>\n",
       "      <td>UPTOWN</td>\n",
       "      <td>46</td>\n",
       "      <td>2019-11-14</td>\n",
       "      <td>1</td>\n",
       "    </tr>\n",
       "  </tbody>\n",
       "</table>\n",
       "</div>"
      ],
      "text/plain": [
       "       docket     dept    violation_address         lat                long  \\\n",
       "0  19DS68300L  STRTSAN   4710 S WESTERN AVE   41.807859  -87.68479703503766   \n",
       "1  19DS69216L  STRTSAN     1425 W MORSE AVE  42.0074513         -87.6668285   \n",
       "2  19DS70010L  STRTSAN        715 E 47TH ST  41.8093383         -87.6080127   \n",
       "3  19DS72153L  STRTSAN  300 W WASHINGTON ST  41.8818694         -87.7401431   \n",
       "4  19DS72160L  STRTSAN   6929 N SHERIDAN RD  41.9598134          -87.654693   \n",
       "\n",
       "            community ward_1523 violation_date  n_records  \n",
       "0       BRIGHTON PARK        15     2019-11-13          2  \n",
       "1         ROGERS PARK        49     2019-11-13          1  \n",
       "2     GRAND BOULEVARD         4     2019-11-13          1  \n",
       "3  WEST GARFIELD PARK        28     2019-11-12          5  \n",
       "4              UPTOWN        46     2019-11-14          1  "
      ]
     },
     "execution_count": 2,
     "metadata": {},
     "output_type": "execute_result"
    }
   ],
   "source": [
    "df_fines = pd.read_csv(\"../../data/05-finalized/dockets-summary.csv\")\n",
    "df_fines.head()"
   ]
  },
  {
   "cell_type": "code",
   "execution_count": 3,
   "id": "e44124bf",
   "metadata": {},
   "outputs": [
    {
     "data": {
      "text/html": [
       "<div>\n",
       "<style scoped>\n",
       "    .dataframe tbody tr th:only-of-type {\n",
       "        vertical-align: middle;\n",
       "    }\n",
       "\n",
       "    .dataframe tbody tr th {\n",
       "        vertical-align: top;\n",
       "    }\n",
       "\n",
       "    .dataframe thead th {\n",
       "        text-align: right;\n",
       "    }\n",
       "</style>\n",
       "<table border=\"1\" class=\"dataframe\">\n",
       "  <thead>\n",
       "    <tr style=\"text-align: right;\">\n",
       "      <th></th>\n",
       "      <th>SR_NUMBER</th>\n",
       "      <th>SR_SHORT_CODE</th>\n",
       "      <th>CREATED_DATE</th>\n",
       "      <th>STREET_ADDRESS</th>\n",
       "      <th>COMMUNITY_AREA</th>\n",
       "      <th>WARD</th>\n",
       "      <th>STATUS</th>\n",
       "      <th>ORIGIN</th>\n",
       "      <th>CLOSED_DATE</th>\n",
       "      <th>LATITUDE</th>\n",
       "      <th>LONGITUDE</th>\n",
       "      <th>SR_TYPE</th>\n",
       "      <th>year</th>\n",
       "      <th>month</th>\n",
       "      <th>date</th>\n",
       "      <th>season</th>\n",
       "      <th>GEOID</th>\n",
       "      <th>COMMUNITY_NAME</th>\n",
       "    </tr>\n",
       "  </thead>\n",
       "  <tbody>\n",
       "    <tr>\n",
       "      <th>0</th>\n",
       "      <td>SR20-05649092</td>\n",
       "      <td>SWSNOREM</td>\n",
       "      <td>2020-12-17 13:24:37</td>\n",
       "      <td>5200 S BLACKSTONE AVE</td>\n",
       "      <td>41</td>\n",
       "      <td>4</td>\n",
       "      <td>Completed</td>\n",
       "      <td>Phone Call</td>\n",
       "      <td>2020-12-18 15:12:51</td>\n",
       "      <td>41.800909</td>\n",
       "      <td>-87.590515</td>\n",
       "      <td>Snow – Uncleared Sidewalk Complaint</td>\n",
       "      <td>2020</td>\n",
       "      <td>12</td>\n",
       "      <td>2020-12-17</td>\n",
       "      <td>2020-2021</td>\n",
       "      <td>41</td>\n",
       "      <td>Hyde Park</td>\n",
       "    </tr>\n",
       "    <tr>\n",
       "      <th>1</th>\n",
       "      <td>SR21-00001364</td>\n",
       "      <td>SWSNOREM</td>\n",
       "      <td>2021-01-01 11:40:33</td>\n",
       "      <td>66 E CHESTNUT ST</td>\n",
       "      <td>8</td>\n",
       "      <td>42</td>\n",
       "      <td>Completed</td>\n",
       "      <td>Mobile Device</td>\n",
       "      <td>2021-01-04 14:33:44</td>\n",
       "      <td>41.898399</td>\n",
       "      <td>-87.625723</td>\n",
       "      <td>Snow – Uncleared Sidewalk Complaint</td>\n",
       "      <td>2021</td>\n",
       "      <td>1</td>\n",
       "      <td>2021-01-01</td>\n",
       "      <td>2020-2021</td>\n",
       "      <td>8</td>\n",
       "      <td>Near North Side</td>\n",
       "    </tr>\n",
       "    <tr>\n",
       "      <th>2</th>\n",
       "      <td>SR21-00000774</td>\n",
       "      <td>SWSNOREM</td>\n",
       "      <td>2021-01-01 09:11:15</td>\n",
       "      <td>2648 N WHIPPLE ST</td>\n",
       "      <td>22</td>\n",
       "      <td>32</td>\n",
       "      <td>Completed</td>\n",
       "      <td>Internet</td>\n",
       "      <td>2021-01-06 13:37:58</td>\n",
       "      <td>41.930233</td>\n",
       "      <td>-87.703706</td>\n",
       "      <td>Snow – Uncleared Sidewalk Complaint</td>\n",
       "      <td>2021</td>\n",
       "      <td>1</td>\n",
       "      <td>2021-01-01</td>\n",
       "      <td>2020-2021</td>\n",
       "      <td>22</td>\n",
       "      <td>Logan Square</td>\n",
       "    </tr>\n",
       "    <tr>\n",
       "      <th>3</th>\n",
       "      <td>SR20-05723378</td>\n",
       "      <td>SWSNOREM</td>\n",
       "      <td>2020-12-31 07:19:37</td>\n",
       "      <td>5015 N SPRINGFIELD AVE</td>\n",
       "      <td>14</td>\n",
       "      <td>39</td>\n",
       "      <td>Completed</td>\n",
       "      <td>Mobile Device</td>\n",
       "      <td>2021-01-08 15:30:57</td>\n",
       "      <td>41.972439</td>\n",
       "      <td>-87.725430</td>\n",
       "      <td>Snow – Uncleared Sidewalk Complaint</td>\n",
       "      <td>2020</td>\n",
       "      <td>12</td>\n",
       "      <td>2020-12-31</td>\n",
       "      <td>2020-2021</td>\n",
       "      <td>14</td>\n",
       "      <td>Albany Park</td>\n",
       "    </tr>\n",
       "    <tr>\n",
       "      <th>4</th>\n",
       "      <td>SR21-00014080</td>\n",
       "      <td>SWSNOREM</td>\n",
       "      <td>2021-01-04 14:07:09</td>\n",
       "      <td>3757 N BELL AVE</td>\n",
       "      <td>5</td>\n",
       "      <td>47</td>\n",
       "      <td>Completed</td>\n",
       "      <td>Internet</td>\n",
       "      <td>2021-01-06 11:37:30</td>\n",
       "      <td>41.950316</td>\n",
       "      <td>-87.684472</td>\n",
       "      <td>Snow – Uncleared Sidewalk Complaint</td>\n",
       "      <td>2021</td>\n",
       "      <td>1</td>\n",
       "      <td>2021-01-04</td>\n",
       "      <td>2020-2021</td>\n",
       "      <td>5</td>\n",
       "      <td>North Center</td>\n",
       "    </tr>\n",
       "  </tbody>\n",
       "</table>\n",
       "</div>"
      ],
      "text/plain": [
       "       SR_NUMBER SR_SHORT_CODE         CREATED_DATE          STREET_ADDRESS  \\\n",
       "0  SR20-05649092      SWSNOREM  2020-12-17 13:24:37   5200 S BLACKSTONE AVE   \n",
       "1  SR21-00001364      SWSNOREM  2021-01-01 11:40:33        66 E CHESTNUT ST   \n",
       "2  SR21-00000774      SWSNOREM  2021-01-01 09:11:15       2648 N WHIPPLE ST   \n",
       "3  SR20-05723378      SWSNOREM  2020-12-31 07:19:37  5015 N SPRINGFIELD AVE   \n",
       "4  SR21-00014080      SWSNOREM  2021-01-04 14:07:09         3757 N BELL AVE   \n",
       "\n",
       "   COMMUNITY_AREA  WARD     STATUS         ORIGIN          CLOSED_DATE  \\\n",
       "0              41     4  Completed     Phone Call  2020-12-18 15:12:51   \n",
       "1               8    42  Completed  Mobile Device  2021-01-04 14:33:44   \n",
       "2              22    32  Completed       Internet  2021-01-06 13:37:58   \n",
       "3              14    39  Completed  Mobile Device  2021-01-08 15:30:57   \n",
       "4               5    47  Completed       Internet  2021-01-06 11:37:30   \n",
       "\n",
       "    LATITUDE  LONGITUDE                              SR_TYPE  year  month  \\\n",
       "0  41.800909 -87.590515  Snow – Uncleared Sidewalk Complaint  2020     12   \n",
       "1  41.898399 -87.625723  Snow – Uncleared Sidewalk Complaint  2021      1   \n",
       "2  41.930233 -87.703706  Snow – Uncleared Sidewalk Complaint  2021      1   \n",
       "3  41.972439 -87.725430  Snow – Uncleared Sidewalk Complaint  2020     12   \n",
       "4  41.950316 -87.684472  Snow – Uncleared Sidewalk Complaint  2021      1   \n",
       "\n",
       "         date     season  GEOID   COMMUNITY_NAME  \n",
       "0  2020-12-17  2020-2021     41        Hyde Park  \n",
       "1  2021-01-01  2020-2021      8  Near North Side  \n",
       "2  2021-01-01  2020-2021     22     Logan Square  \n",
       "3  2020-12-31  2020-2021     14      Albany Park  \n",
       "4  2021-01-04  2020-2021      5     North Center  "
      ]
     },
     "execution_count": 3,
     "metadata": {},
     "output_type": "execute_result"
    }
   ],
   "source": [
    "df_311 = pd.read_csv(\"../../data/05-finalized/311-complaints-unshoveled.csv\")\n",
    "df_311.head()"
   ]
  },
  {
   "cell_type": "code",
   "execution_count": 4,
   "id": "767efaeb",
   "metadata": {},
   "outputs": [
    {
     "data": {
      "text/plain": [
       "1918"
      ]
     },
     "execution_count": 4,
     "metadata": {},
     "output_type": "execute_result"
    }
   ],
   "source": [
    "len(df_fines)"
   ]
  },
  {
   "cell_type": "code",
   "execution_count": 5,
   "id": "e9963ac1",
   "metadata": {},
   "outputs": [
    {
     "data": {
      "text/plain": [
       "21079"
      ]
     },
     "execution_count": 5,
     "metadata": {},
     "output_type": "execute_result"
    }
   ],
   "source": [
    "len(df_311)"
   ]
  },
  {
   "cell_type": "markdown",
   "id": "6b477dc1",
   "metadata": {},
   "source": [
    "<a name=\"community\"></a>\n",
    "# Aggregate Dockets by Ward"
   ]
  },
  {
   "cell_type": "code",
   "execution_count": 6,
   "id": "c4496c81",
   "metadata": {},
   "outputs": [
    {
     "data": {
      "text/html": [
       "<div>\n",
       "<style scoped>\n",
       "    .dataframe tbody tr th:only-of-type {\n",
       "        vertical-align: middle;\n",
       "    }\n",
       "\n",
       "    .dataframe tbody tr th {\n",
       "        vertical-align: top;\n",
       "    }\n",
       "\n",
       "    .dataframe thead th {\n",
       "        text-align: right;\n",
       "    }\n",
       "</style>\n",
       "<table border=\"1\" class=\"dataframe\">\n",
       "  <thead>\n",
       "    <tr style=\"text-align: right;\">\n",
       "      <th></th>\n",
       "      <th>ward</th>\n",
       "      <th>n_BAFCONP</th>\n",
       "      <th>n_POLICE</th>\n",
       "      <th>n_STRTSAN</th>\n",
       "      <th>n_TRANPORT</th>\n",
       "      <th>n_unknown</th>\n",
       "      <th>n_dockets</th>\n",
       "    </tr>\n",
       "  </thead>\n",
       "  <tbody>\n",
       "    <tr>\n",
       "      <th>0</th>\n",
       "      <td>1</td>\n",
       "      <td>0</td>\n",
       "      <td>0</td>\n",
       "      <td>1</td>\n",
       "      <td>61</td>\n",
       "      <td>0</td>\n",
       "      <td>62</td>\n",
       "    </tr>\n",
       "    <tr>\n",
       "      <th>1</th>\n",
       "      <td>10</td>\n",
       "      <td>0</td>\n",
       "      <td>0</td>\n",
       "      <td>0</td>\n",
       "      <td>9</td>\n",
       "      <td>0</td>\n",
       "      <td>9</td>\n",
       "    </tr>\n",
       "    <tr>\n",
       "      <th>2</th>\n",
       "      <td>11</td>\n",
       "      <td>0</td>\n",
       "      <td>0</td>\n",
       "      <td>3</td>\n",
       "      <td>80</td>\n",
       "      <td>0</td>\n",
       "      <td>83</td>\n",
       "    </tr>\n",
       "    <tr>\n",
       "      <th>3</th>\n",
       "      <td>12</td>\n",
       "      <td>0</td>\n",
       "      <td>0</td>\n",
       "      <td>3</td>\n",
       "      <td>22</td>\n",
       "      <td>0</td>\n",
       "      <td>25</td>\n",
       "    </tr>\n",
       "    <tr>\n",
       "      <th>4</th>\n",
       "      <td>13</td>\n",
       "      <td>0</td>\n",
       "      <td>1</td>\n",
       "      <td>2</td>\n",
       "      <td>26</td>\n",
       "      <td>0</td>\n",
       "      <td>29</td>\n",
       "    </tr>\n",
       "  </tbody>\n",
       "</table>\n",
       "</div>"
      ],
      "text/plain": [
       "  ward  n_BAFCONP  n_POLICE  n_STRTSAN  n_TRANPORT  n_unknown  n_dockets\n",
       "0    1          0         0          1          61          0         62\n",
       "1   10          0         0          0           9          0          9\n",
       "2   11          0         0          3          80          0         83\n",
       "3   12          0         0          3          22          0         25\n",
       "4   13          0         1          2          26          0         29"
      ]
     },
     "execution_count": 6,
     "metadata": {},
     "output_type": "execute_result"
    }
   ],
   "source": [
    "# index_to_drop = df_wards[df_wards['ward'] == 'unknown'].index\n",
    "# df_wards = df_wards.drop(index=index_to_drop)\n",
    "#df_ward_fines= df_fines.drop(index=(df_wards[df_wards['ward']=='unknown'].index))\n",
    "df_ward_fines = df_fines.pivot_table(index='ward_1523',\n",
    "                             columns='dept',\n",
    "                             values='docket',\n",
    "                             aggfunc=['count'],\n",
    "                             fill_value=0).reset_index()\n",
    "# Flatten the MultiIndex in columns\n",
    "df_ward_fines.columns = ['_'.join(col).strip() for col in df_ward_fines.columns.values]\n",
    "\n",
    "df_ward_fines = df_ward_fines.rename(columns={'ward_1523_':'ward'})\n",
    "df_ward_fines.rename(columns=lambda x: x.replace('count_','n_'), inplace=True)\n",
    "\n",
    "# Reset the index to flatten it\n",
    "df_ward_fines.reset_index(drop=True, inplace=True)\n",
    "\n",
    "df_ward_fines['n_dockets'] = df_ward_fines.filter(like='n_').sum(axis=1)\n",
    "df_ward_fines['ward']=df_ward_fines['ward'].astype(str)\n",
    "\n",
    "df_ward_fines.head()"
   ]
  },
  {
   "cell_type": "code",
   "execution_count": 7,
   "id": "f920fb57",
   "metadata": {},
   "outputs": [
    {
     "data": {
      "text/plain": [
       "1918"
      ]
     },
     "execution_count": 7,
     "metadata": {},
     "output_type": "execute_result"
    }
   ],
   "source": [
    "# confirm totals\n",
    "df_ward_fines['n_dockets'].sum()"
   ]
  },
  {
   "cell_type": "code",
   "execution_count": 8,
   "id": "902ce5c6",
   "metadata": {},
   "outputs": [
    {
     "data": {
      "text/plain": [
       "51"
      ]
     },
     "execution_count": 8,
     "metadata": {},
     "output_type": "execute_result"
    }
   ],
   "source": [
    "len(df_ward_fines)"
   ]
  },
  {
   "cell_type": "markdown",
   "id": "67593055",
   "metadata": {},
   "source": [
    "# Aggregate 311 Complaints by Ward"
   ]
  },
  {
   "cell_type": "code",
   "execution_count": 9,
   "id": "0623870a",
   "metadata": {},
   "outputs": [
    {
     "data": {
      "text/html": [
       "<div>\n",
       "<style scoped>\n",
       "    .dataframe tbody tr th:only-of-type {\n",
       "        vertical-align: middle;\n",
       "    }\n",
       "\n",
       "    .dataframe tbody tr th {\n",
       "        vertical-align: top;\n",
       "    }\n",
       "\n",
       "    .dataframe thead th {\n",
       "        text-align: right;\n",
       "    }\n",
       "</style>\n",
       "<table border=\"1\" class=\"dataframe\">\n",
       "  <thead>\n",
       "    <tr style=\"text-align: right;\">\n",
       "      <th></th>\n",
       "      <th>ward</th>\n",
       "      <th>n_311_complaints</th>\n",
       "    </tr>\n",
       "  </thead>\n",
       "  <tbody>\n",
       "    <tr>\n",
       "      <th>0</th>\n",
       "      <td>1</td>\n",
       "      <td>1215</td>\n",
       "    </tr>\n",
       "    <tr>\n",
       "      <th>1</th>\n",
       "      <td>2</td>\n",
       "      <td>770</td>\n",
       "    </tr>\n",
       "    <tr>\n",
       "      <th>2</th>\n",
       "      <td>3</td>\n",
       "      <td>386</td>\n",
       "    </tr>\n",
       "    <tr>\n",
       "      <th>3</th>\n",
       "      <td>4</td>\n",
       "      <td>478</td>\n",
       "    </tr>\n",
       "    <tr>\n",
       "      <th>4</th>\n",
       "      <td>5</td>\n",
       "      <td>265</td>\n",
       "    </tr>\n",
       "  </tbody>\n",
       "</table>\n",
       "</div>"
      ],
      "text/plain": [
       "   ward  n_311_complaints\n",
       "0     1              1215\n",
       "1     2               770\n",
       "2     3               386\n",
       "3     4               478\n",
       "4     5               265"
      ]
     },
     "execution_count": 9,
     "metadata": {},
     "output_type": "execute_result"
    }
   ],
   "source": [
    "df_ward_311 = df_311.groupby('WARD').size().reset_index(name='n_311_complaints')\n",
    "df_ward_311.rename(columns={'WARD':'ward'}, inplace = True)\n",
    "df_ward_311['ward'].astype(int).astype(str)\n",
    "df_ward_311.head()"
   ]
  },
  {
   "cell_type": "code",
   "execution_count": 10,
   "id": "e45df467",
   "metadata": {},
   "outputs": [],
   "source": [
    "df_ward_311['n_311_complaints'].sum()\n",
    "df_ward_311['ward'] = df_ward_311['ward'].astype(int).astype(str)"
   ]
  },
  {
   "cell_type": "code",
   "execution_count": 11,
   "id": "c5f667d1",
   "metadata": {},
   "outputs": [
    {
     "data": {
      "text/plain": [
       "50"
      ]
     },
     "execution_count": 11,
     "metadata": {},
     "output_type": "execute_result"
    }
   ],
   "source": [
    "len(df_ward_311)"
   ]
  },
  {
   "cell_type": "markdown",
   "id": "5a3783c5",
   "metadata": {},
   "source": [
    "# Merge Datasets"
   ]
  },
  {
   "cell_type": "markdown",
   "id": "0d479a20",
   "metadata": {},
   "source": [
    "### Merge Dockets and 311 complaints"
   ]
  },
  {
   "cell_type": "code",
   "execution_count": 12,
   "id": "fc372b79",
   "metadata": {},
   "outputs": [
    {
     "data": {
      "text/html": [
       "<div>\n",
       "<style scoped>\n",
       "    .dataframe tbody tr th:only-of-type {\n",
       "        vertical-align: middle;\n",
       "    }\n",
       "\n",
       "    .dataframe tbody tr th {\n",
       "        vertical-align: top;\n",
       "    }\n",
       "\n",
       "    .dataframe thead th {\n",
       "        text-align: right;\n",
       "    }\n",
       "</style>\n",
       "<table border=\"1\" class=\"dataframe\">\n",
       "  <thead>\n",
       "    <tr style=\"text-align: right;\">\n",
       "      <th></th>\n",
       "      <th>ward</th>\n",
       "      <th>n_BAFCONP</th>\n",
       "      <th>n_POLICE</th>\n",
       "      <th>n_STRTSAN</th>\n",
       "      <th>n_TRANPORT</th>\n",
       "      <th>n_unknown</th>\n",
       "      <th>n_dockets</th>\n",
       "      <th>n_311_complaints</th>\n",
       "    </tr>\n",
       "  </thead>\n",
       "  <tbody>\n",
       "    <tr>\n",
       "      <th>0</th>\n",
       "      <td>1</td>\n",
       "      <td>0</td>\n",
       "      <td>0</td>\n",
       "      <td>1</td>\n",
       "      <td>61</td>\n",
       "      <td>0</td>\n",
       "      <td>62</td>\n",
       "      <td>1215</td>\n",
       "    </tr>\n",
       "    <tr>\n",
       "      <th>1</th>\n",
       "      <td>10</td>\n",
       "      <td>0</td>\n",
       "      <td>0</td>\n",
       "      <td>0</td>\n",
       "      <td>9</td>\n",
       "      <td>0</td>\n",
       "      <td>9</td>\n",
       "      <td>126</td>\n",
       "    </tr>\n",
       "    <tr>\n",
       "      <th>2</th>\n",
       "      <td>11</td>\n",
       "      <td>0</td>\n",
       "      <td>0</td>\n",
       "      <td>3</td>\n",
       "      <td>80</td>\n",
       "      <td>0</td>\n",
       "      <td>83</td>\n",
       "      <td>369</td>\n",
       "    </tr>\n",
       "    <tr>\n",
       "      <th>3</th>\n",
       "      <td>12</td>\n",
       "      <td>0</td>\n",
       "      <td>0</td>\n",
       "      <td>3</td>\n",
       "      <td>22</td>\n",
       "      <td>0</td>\n",
       "      <td>25</td>\n",
       "      <td>207</td>\n",
       "    </tr>\n",
       "    <tr>\n",
       "      <th>4</th>\n",
       "      <td>13</td>\n",
       "      <td>0</td>\n",
       "      <td>1</td>\n",
       "      <td>2</td>\n",
       "      <td>26</td>\n",
       "      <td>0</td>\n",
       "      <td>29</td>\n",
       "      <td>139</td>\n",
       "    </tr>\n",
       "  </tbody>\n",
       "</table>\n",
       "</div>"
      ],
      "text/plain": [
       "  ward  n_BAFCONP  n_POLICE  n_STRTSAN  n_TRANPORT  n_unknown  n_dockets  \\\n",
       "0    1          0         0          1          61          0         62   \n",
       "1   10          0         0          0           9          0          9   \n",
       "2   11          0         0          3          80          0         83   \n",
       "3   12          0         0          3          22          0         25   \n",
       "4   13          0         1          2          26          0         29   \n",
       "\n",
       "   n_311_complaints  \n",
       "0              1215  \n",
       "1               126  \n",
       "2               369  \n",
       "3               207  \n",
       "4               139  "
      ]
     },
     "execution_count": 12,
     "metadata": {},
     "output_type": "execute_result"
    }
   ],
   "source": [
    "df_ward = pd.merge(df_ward_fines,df_ward_311, on = 'ward')\n",
    "df_ward.head()"
   ]
  },
  {
   "cell_type": "code",
   "execution_count": 13,
   "id": "0a14273d",
   "metadata": {},
   "outputs": [
    {
     "data": {
      "text/plain": [
       "50"
      ]
     },
     "execution_count": 13,
     "metadata": {},
     "output_type": "execute_result"
    }
   ],
   "source": [
    "# confirm I have 50 wards\n",
    "len(df_ward)"
   ]
  },
  {
   "cell_type": "markdown",
   "id": "cea2bb50",
   "metadata": {},
   "source": [
    "# Calculations"
   ]
  },
  {
   "cell_type": "code",
   "execution_count": 14,
   "id": "dc4be4e0",
   "metadata": {},
   "outputs": [
    {
     "data": {
      "text/html": [
       "<div>\n",
       "<style scoped>\n",
       "    .dataframe tbody tr th:only-of-type {\n",
       "        vertical-align: middle;\n",
       "    }\n",
       "\n",
       "    .dataframe tbody tr th {\n",
       "        vertical-align: top;\n",
       "    }\n",
       "\n",
       "    .dataframe thead th {\n",
       "        text-align: right;\n",
       "    }\n",
       "</style>\n",
       "<table border=\"1\" class=\"dataframe\">\n",
       "  <thead>\n",
       "    <tr style=\"text-align: right;\">\n",
       "      <th></th>\n",
       "      <th>ward</th>\n",
       "      <th>n_BAFCONP</th>\n",
       "      <th>n_POLICE</th>\n",
       "      <th>n_STRTSAN</th>\n",
       "      <th>n_TRANPORT</th>\n",
       "      <th>n_unknown</th>\n",
       "      <th>n_dockets</th>\n",
       "      <th>n_311_complaints</th>\n",
       "      <th>complaint_ratio</th>\n",
       "    </tr>\n",
       "  </thead>\n",
       "  <tbody>\n",
       "    <tr>\n",
       "      <th>0</th>\n",
       "      <td>1</td>\n",
       "      <td>0</td>\n",
       "      <td>0</td>\n",
       "      <td>1</td>\n",
       "      <td>61</td>\n",
       "      <td>0</td>\n",
       "      <td>62</td>\n",
       "      <td>1215</td>\n",
       "      <td>0.050206</td>\n",
       "    </tr>\n",
       "    <tr>\n",
       "      <th>1</th>\n",
       "      <td>10</td>\n",
       "      <td>0</td>\n",
       "      <td>0</td>\n",
       "      <td>0</td>\n",
       "      <td>9</td>\n",
       "      <td>0</td>\n",
       "      <td>9</td>\n",
       "      <td>126</td>\n",
       "      <td>0.071429</td>\n",
       "    </tr>\n",
       "    <tr>\n",
       "      <th>2</th>\n",
       "      <td>11</td>\n",
       "      <td>0</td>\n",
       "      <td>0</td>\n",
       "      <td>3</td>\n",
       "      <td>80</td>\n",
       "      <td>0</td>\n",
       "      <td>83</td>\n",
       "      <td>369</td>\n",
       "      <td>0.216802</td>\n",
       "    </tr>\n",
       "    <tr>\n",
       "      <th>3</th>\n",
       "      <td>12</td>\n",
       "      <td>0</td>\n",
       "      <td>0</td>\n",
       "      <td>3</td>\n",
       "      <td>22</td>\n",
       "      <td>0</td>\n",
       "      <td>25</td>\n",
       "      <td>207</td>\n",
       "      <td>0.106280</td>\n",
       "    </tr>\n",
       "    <tr>\n",
       "      <th>4</th>\n",
       "      <td>13</td>\n",
       "      <td>0</td>\n",
       "      <td>1</td>\n",
       "      <td>2</td>\n",
       "      <td>26</td>\n",
       "      <td>0</td>\n",
       "      <td>29</td>\n",
       "      <td>139</td>\n",
       "      <td>0.187050</td>\n",
       "    </tr>\n",
       "  </tbody>\n",
       "</table>\n",
       "</div>"
      ],
      "text/plain": [
       "  ward  n_BAFCONP  n_POLICE  n_STRTSAN  n_TRANPORT  n_unknown  n_dockets  \\\n",
       "0    1          0         0          1          61          0         62   \n",
       "1   10          0         0          0           9          0          9   \n",
       "2   11          0         0          3          80          0         83   \n",
       "3   12          0         0          3          22          0         25   \n",
       "4   13          0         1          2          26          0         29   \n",
       "\n",
       "   n_311_complaints  complaint_ratio  \n",
       "0              1215         0.050206  \n",
       "1               126         0.071429  \n",
       "2               369         0.216802  \n",
       "3               207         0.106280  \n",
       "4               139         0.187050  "
      ]
     },
     "execution_count": 14,
     "metadata": {},
     "output_type": "execute_result"
    }
   ],
   "source": [
    "df_ward['complaint_ratio'] = df_ward['n_TRANPORT']/df_ward['n_311_complaints']\n",
    "df_ward.head()"
   ]
  },
  {
   "cell_type": "markdown",
   "id": "ab1c3d4c",
   "metadata": {},
   "source": [
    "### confirm totals"
   ]
  },
  {
   "cell_type": "code",
   "execution_count": 15,
   "id": "1399e6b7",
   "metadata": {},
   "outputs": [
    {
     "data": {
      "text/plain": [
       "ward                1101112131415161718192202122232425262728293303...\n",
       "n_BAFCONP                                                           2\n",
       "n_POLICE                                                           25\n",
       "n_STRTSAN                                                         497\n",
       "n_TRANPORT                                                       1388\n",
       "n_unknown                                                           1\n",
       "n_dockets                                                        1913\n",
       "n_311_complaints                                                21079\n",
       "complaint_ratio                                              4.067015\n",
       "dtype: object"
      ]
     },
     "execution_count": 15,
     "metadata": {},
     "output_type": "execute_result"
    }
   ],
   "source": [
    "df_ward.sum()"
   ]
  },
  {
   "cell_type": "markdown",
   "id": "669a8f16",
   "metadata": {},
   "source": [
    "# Export"
   ]
  },
  {
   "cell_type": "code",
   "execution_count": 16,
   "id": "672d4178",
   "metadata": {},
   "outputs": [],
   "source": [
    "df_ward.to_csv(\"../../results/ssw02-fines/ward-summary.csv\", index= False)"
   ]
  },
  {
   "cell_type": "code",
   "execution_count": null,
   "id": "34888c7f",
   "metadata": {},
   "outputs": [],
   "source": []
  }
 ],
 "metadata": {
  "kernelspec": {
   "display_name": "Python 3 (ipykernel)",
   "language": "python",
   "name": "python3"
  },
  "language_info": {
   "codemirror_mode": {
    "name": "ipython",
    "version": 3
   },
   "file_extension": ".py",
   "mimetype": "text/x-python",
   "name": "python",
   "nbconvert_exporter": "python",
   "pygments_lexer": "ipython3",
   "version": "3.10.12"
  }
 },
 "nbformat": 4,
 "nbformat_minor": 5
}
