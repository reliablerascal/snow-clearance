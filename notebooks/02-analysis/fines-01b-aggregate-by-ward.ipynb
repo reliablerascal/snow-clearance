{
 "cells": [
  {
   "cell_type": "markdown",
   "id": "638444be",
   "metadata": {},
   "source": [
    "# Summarize by Ward\n",
    "last updated 3/5/24"
   ]
  },
  {
   "cell_type": "markdown",
   "id": "488cdc75",
   "metadata": {},
   "source": [
    "<a name=\"read\"></a>\n",
    "# 1. Read and Prepare Geocoded Fines and 311 Complaints Data"
   ]
  },
  {
   "cell_type": "code",
   "execution_count": 1,
   "id": "109b46e0",
   "metadata": {},
   "outputs": [],
   "source": [
    "import pandas as pd"
   ]
  },
  {
   "cell_type": "code",
   "execution_count": 2,
   "id": "9c1c3a47",
   "metadata": {},
   "outputs": [],
   "source": [
    "df_fines = pd.read_csv(\"../../data/05-finalized/dockets-summary.csv\")\n",
    "df_fines.head()"
   ]
  },
  {
   "cell_type": "code",
   "execution_count": 3,
   "id": "e44124bf",
   "metadata": {},
   "outputs": [],
   "source": [
    "df_311 = pd.read_csv(\"../../data/05-finalized/311-complaints-unshoveled.csv\")\n",
    "df_311.head()"
   ]
  },
  {
   "cell_type": "code",
   "execution_count": 4,
   "id": "767efaeb",
   "metadata": {},
   "outputs": [],
   "source": [
    "len(df_fines)"
   ]
  },
  {
   "cell_type": "code",
   "execution_count": 5,
   "id": "e9963ac1",
   "metadata": {},
   "outputs": [],
   "source": [
    "len(df_311)"
   ]
  },
  {
   "cell_type": "markdown",
   "id": "6b477dc1",
   "metadata": {},
   "source": [
    "<a name=\"community\"></a>\n",
    "# Aggregate Dockets by Ward"
   ]
  },
  {
   "cell_type": "code",
   "execution_count": 6,
   "id": "c4496c81",
   "metadata": {},
   "outputs": [],
   "source": [
    "# index_to_drop = df_wards[df_wards['ward'] == 'unknown'].index\n",
    "# df_wards = df_wards.drop(index=index_to_drop)\n",
    "#df_ward_fines= df_fines.drop(index=(df_wards[df_wards['ward']=='unknown'].index))\n",
    "df_ward_fines = df_fines.pivot_table(index='ward_1523',\n",
    "                             columns='dept',\n",
    "                             values='docket',\n",
    "                             aggfunc=['count'],\n",
    "                             fill_value=0).reset_index()\n",
    "# Flatten the MultiIndex in columns\n",
    "df_ward_fines.columns = ['_'.join(col).strip() for col in df_ward_fines.columns.values]\n",
    "\n",
    "df_ward_fines = df_ward_fines.rename(columns={'ward_1523_':'ward'})\n",
    "df_ward_fines.rename(columns=lambda x: x.replace('count_','n_'), inplace=True)\n",
    "\n",
    "# Reset the index to flatten it\n",
    "df_ward_fines.reset_index(drop=True, inplace=True)\n",
    "\n",
    "df_ward_fines['n_dockets'] = df_ward_fines.filter(like='n_').sum(axis=1)\n",
    "df_ward_fines['ward']=df_ward_fines['ward'].astype(str)\n",
    "\n",
    "df_ward_fines.head()"
   ]
  },
  {
   "cell_type": "code",
   "execution_count": 7,
   "id": "f920fb57",
   "metadata": {},
   "outputs": [],
   "source": [
    "# confirm totals\n",
    "df_ward_fines['n_dockets'].sum()"
   ]
  },
  {
   "cell_type": "code",
   "execution_count": 8,
   "id": "902ce5c6",
   "metadata": {},
   "outputs": [],
   "source": [
    "len(df_ward_fines)"
   ]
  },
  {
   "cell_type": "markdown",
   "id": "67593055",
   "metadata": {},
   "source": [
    "# Aggregate 311 Complaints by Ward"
   ]
  },
  {
   "cell_type": "code",
   "execution_count": 9,
   "id": "0623870a",
   "metadata": {},
   "outputs": [],
   "source": [
    "df_ward_311 = df_311.groupby('WARD').size().reset_index(name='n_311_complaints')\n",
    "df_ward_311.rename(columns={'WARD':'ward'}, inplace = True)\n",
    "df_ward_311['ward'].astype(int).astype(str)\n",
    "df_ward_311.head()"
   ]
  },
  {
   "cell_type": "code",
   "execution_count": 10,
   "id": "e45df467",
   "metadata": {},
   "outputs": [],
   "source": [
    "df_ward_311['n_311_complaints'].sum()\n",
    "df_ward_311['ward'] = df_ward_311['ward'].astype(int).astype(str)"
   ]
  },
  {
   "cell_type": "code",
   "execution_count": 11,
   "id": "c5f667d1",
   "metadata": {},
   "outputs": [],
   "source": [
    "len(df_ward_311)"
   ]
  },
  {
   "cell_type": "markdown",
   "id": "5a3783c5",
   "metadata": {},
   "source": [
    "# Merge Datasets"
   ]
  },
  {
   "cell_type": "markdown",
   "id": "0d479a20",
   "metadata": {},
   "source": [
    "### Merge Dockets and 311 complaints"
   ]
  },
  {
   "cell_type": "code",
   "execution_count": 12,
   "id": "fc372b79",
   "metadata": {},
   "outputs": [],
   "source": [
    "df_ward = pd.merge(df_ward_fines,df_ward_311, on = 'ward')\n",
    "df_ward.head()"
   ]
  },
  {
   "cell_type": "code",
   "execution_count": 13,
   "id": "0a14273d",
   "metadata": {},
   "outputs": [],
   "source": [
    "# confirm I have 50 wards\n",
    "len(df_ward)"
   ]
  },
  {
   "cell_type": "markdown",
   "id": "cea2bb50",
   "metadata": {},
   "source": [
    "# Calculations"
   ]
  },
  {
   "cell_type": "code",
   "execution_count": 14,
   "id": "fd5ae085",
   "metadata": {},
   "outputs": [],
   "source": [
    "df_ward.isnull().sum()"
   ]
  },
  {
   "cell_type": "code",
   "execution_count": 15,
   "id": "dc4be4e0",
   "metadata": {},
   "outputs": [],
   "source": [
    "df_ward['complaint_ratio_cdot'] = df_ward['n_TRANPORT']/df_ward['n_311_complaints']\n",
    "df_ward['complaint_ratio_streets'] = df_ward['n_STRTSAN']/df_ward['n_311_complaints']\n",
    "df_ward['complaint_ratio_all'] = df_ward['n_dockets']/df_ward['n_311_complaints']\n",
    "df_ward.head()"
   ]
  },
  {
   "cell_type": "code",
   "execution_count": 16,
   "id": "2035ae1b",
   "metadata": {},
   "outputs": [],
   "source": [
    "# create ward label to facilitate mapping\n",
    "df_ward['ward_label']=df_ward['ward']"
   ]
  },
  {
   "cell_type": "code",
   "execution_count": 17,
   "id": "0255c572",
   "metadata": {},
   "outputs": [],
   "source": [
    "df_ward.head()"
   ]
  },
  {
   "cell_type": "markdown",
   "id": "c9495172",
   "metadata": {},
   "source": [
    "### citywide averages"
   ]
  },
  {
   "cell_type": "markdown",
   "id": "ab1c3d4c",
   "metadata": {},
   "source": [
    "### confirm totals"
   ]
  },
  {
   "cell_type": "code",
   "execution_count": 18,
   "id": "6afce549",
   "metadata": {},
   "outputs": [],
   "source": [
    "df_ward[['n_POLICE','n_STRTSAN','n_TRANPORT','n_dockets']].median()"
   ]
  },
  {
   "cell_type": "code",
   "execution_count": 19,
   "id": "1399e6b7",
   "metadata": {},
   "outputs": [],
   "source": [
    "df_ward.sum()"
   ]
  },
  {
   "cell_type": "markdown",
   "id": "669a8f16",
   "metadata": {},
   "source": [
    "# Export"
   ]
  },
  {
   "cell_type": "code",
   "execution_count": 20,
   "id": "672d4178",
   "metadata": {},
   "outputs": [],
   "source": [
    "df_ward.to_csv(\"../../results/ssw02-fines/ward-summary.csv\", index= False)"
   ]
  },
  {
   "cell_type": "code",
   "execution_count": null,
   "id": "34888c7f",
   "metadata": {},
   "outputs": [],
   "source": []
  }
 ],
 "metadata": {
  "kernelspec": {
   "display_name": "Python 3 (ipykernel)",
   "language": "python",
   "name": "python3"
  },
  "language_info": {
   "codemirror_mode": {
    "name": "ipython",
    "version": 3
   },
   "file_extension": ".py",
   "mimetype": "text/x-python",
   "name": "python",
   "nbconvert_exporter": "python",
   "pygments_lexer": "ipython3",
   "version": "3.10.12"
  }
 },
 "nbformat": 4,
 "nbformat_minor": 5
}
