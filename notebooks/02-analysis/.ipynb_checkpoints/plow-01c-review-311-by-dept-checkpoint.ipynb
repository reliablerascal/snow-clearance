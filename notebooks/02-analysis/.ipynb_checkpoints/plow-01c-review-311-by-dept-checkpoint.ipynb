{
 "cells": [
  {
   "cell_type": "markdown",
   "id": "638444be",
   "metadata": {},
   "source": [
    "<h1>Review 311 Responsibility by Department</h1>\n",
    "4 March 2024\n",
    "\n",
    "I'm unclear on the division of responsibility between DSS and CDOT in handling snow-related 311 requests. This analysis attempts to resolve that."
   ]
  },
  {
   "cell_type": "markdown",
   "id": "2f8fa7b3",
   "metadata": {},
   "source": [
    "### Data Sources\n",
    "<a href=\"https://data.cityofchicago.org/Service-Requests/311-Service-Requests/v6vf-nfxy/about_data\"><strong>Snow violations data</strong> </a>\n",
    "<br>\n",
    "<a href=\"https://data.cityofchicago.org/resource/v6vf-nfxy.json\"><strong>Snow violations API</strong> </a><br>\n",
    "<!-- <strong>Community names:</strong>"
   ]
  },
  {
   "cell_type": "markdown",
   "id": "2add0dd1",
   "metadata": {},
   "source": [
    "<a name = \"get\"></a>\n",
    "    <h1>1. Get Data via API</h1>"
   ]
  },
  {
   "cell_type": "code",
   "execution_count": 2,
   "id": "109b46e0",
   "metadata": {},
   "outputs": [],
   "source": [
    "import pandas as pd\n",
    "import requests\n",
    "#import datetime as dt #would only need this if I manipulated dates post-API data retrieval"
   ]
  },
  {
   "cell_type": "code",
   "execution_count": 3,
   "id": "1087fac8",
   "metadata": {
    "scrolled": true
   },
   "outputs": [
    {
     "data": {
      "text/html": [
       "<div>\n",
       "<style scoped>\n",
       "    .dataframe tbody tr th:only-of-type {\n",
       "        vertical-align: middle;\n",
       "    }\n",
       "\n",
       "    .dataframe tbody tr th {\n",
       "        vertical-align: top;\n",
       "    }\n",
       "\n",
       "    .dataframe thead th {\n",
       "        text-align: right;\n",
       "    }\n",
       "</style>\n",
       "<table border=\"1\" class=\"dataframe\">\n",
       "  <thead>\n",
       "    <tr style=\"text-align: right;\">\n",
       "      <th></th>\n",
       "      <th>sr_number</th>\n",
       "      <th>sr_type</th>\n",
       "      <th>sr_short_code</th>\n",
       "      <th>owner_department</th>\n",
       "      <th>status</th>\n",
       "      <th>origin</th>\n",
       "      <th>created_date</th>\n",
       "      <th>last_modified_date</th>\n",
       "      <th>closed_date</th>\n",
       "      <th>street_address</th>\n",
       "      <th>...</th>\n",
       "      <th>created_month</th>\n",
       "      <th>x_coordinate</th>\n",
       "      <th>y_coordinate</th>\n",
       "      <th>latitude</th>\n",
       "      <th>longitude</th>\n",
       "      <th>location</th>\n",
       "      <th>parent_sr_number</th>\n",
       "      <th>created_department</th>\n",
       "      <th>electrical_district</th>\n",
       "      <th>sanitation_division_days</th>\n",
       "    </tr>\n",
       "  </thead>\n",
       "  <tbody>\n",
       "    <tr>\n",
       "      <th>0</th>\n",
       "      <td>SR21-00958560</td>\n",
       "      <td>Snow - Object/Dibs Removal Request</td>\n",
       "      <td>SDW</td>\n",
       "      <td>Streets and Sanitation</td>\n",
       "      <td>Completed</td>\n",
       "      <td>spot-open311-Chicago+Works</td>\n",
       "      <td>2021-06-06T16:27:11.000</td>\n",
       "      <td>2024-02-29T11:03:22.000</td>\n",
       "      <td>2024-02-29T11:03:22.000</td>\n",
       "      <td>5341 W ADDISON ST</td>\n",
       "      <td>...</td>\n",
       "      <td>6</td>\n",
       "      <td>1139942.280675</td>\n",
       "      <td>1923404.647804</td>\n",
       "      <td>41.94593272150076</td>\n",
       "      <td>-87.76103202071866</td>\n",
       "      <td>{'latitude': '41.94593272150076', 'longitude':...</td>\n",
       "      <td>NaN</td>\n",
       "      <td>NaN</td>\n",
       "      <td>NaN</td>\n",
       "      <td>NaN</td>\n",
       "    </tr>\n",
       "    <tr>\n",
       "      <th>1</th>\n",
       "      <td>SR21-00149474</td>\n",
       "      <td>Ice and Snow Removal Request</td>\n",
       "      <td>SDO</td>\n",
       "      <td>Streets and Sanitation</td>\n",
       "      <td>Completed</td>\n",
       "      <td>Mobile Device</td>\n",
       "      <td>2021-01-27T13:13:50.000</td>\n",
       "      <td>2023-09-08T00:02:32.000</td>\n",
       "      <td>2021-01-27T19:50:47.000</td>\n",
       "      <td>1700 W 15TH ST</td>\n",
       "      <td>...</td>\n",
       "      <td>1</td>\n",
       "      <td>1165249.779603</td>\n",
       "      <td>1892802.505368</td>\n",
       "      <td>41.86145694</td>\n",
       "      <td>-87.668881384</td>\n",
       "      <td>{'latitude': '41.8614569400972', 'longitude': ...</td>\n",
       "      <td>NaN</td>\n",
       "      <td>NaN</td>\n",
       "      <td>NaN</td>\n",
       "      <td>NaN</td>\n",
       "    </tr>\n",
       "    <tr>\n",
       "      <th>2</th>\n",
       "      <td>SR21-00177207</td>\n",
       "      <td>Ice and Snow Removal Request</td>\n",
       "      <td>SDO</td>\n",
       "      <td>Streets and Sanitation</td>\n",
       "      <td>Completed</td>\n",
       "      <td>Mobile Device</td>\n",
       "      <td>2021-02-01T10:19:34.000</td>\n",
       "      <td>2023-09-08T00:02:32.000</td>\n",
       "      <td>2021-02-01T15:12:41.000</td>\n",
       "      <td>1300 S HEATH AVE</td>\n",
       "      <td>...</td>\n",
       "      <td>2</td>\n",
       "      <td>1161012.736069</td>\n",
       "      <td>1893968.108188</td>\n",
       "      <td>41.864744399</td>\n",
       "      <td>-87.684402435</td>\n",
       "      <td>{'latitude': '41.86474439906268', 'longitude':...</td>\n",
       "      <td>NaN</td>\n",
       "      <td>NaN</td>\n",
       "      <td>NaN</td>\n",
       "      <td>NaN</td>\n",
       "    </tr>\n",
       "    <tr>\n",
       "      <th>3</th>\n",
       "      <td>SR21-00179217</td>\n",
       "      <td>Ice and Snow Removal Request</td>\n",
       "      <td>SDO</td>\n",
       "      <td>Streets and Sanitation</td>\n",
       "      <td>Completed</td>\n",
       "      <td>Mobile Device</td>\n",
       "      <td>2021-02-01T13:17:16.000</td>\n",
       "      <td>2023-09-08T00:02:32.000</td>\n",
       "      <td>2021-02-01T21:10:54.000</td>\n",
       "      <td>3242 W FULTON BLVD</td>\n",
       "      <td>...</td>\n",
       "      <td>2</td>\n",
       "      <td>1154530.878051</td>\n",
       "      <td>1901911.930544</td>\n",
       "      <td>41.886675065</td>\n",
       "      <td>-87.707984972</td>\n",
       "      <td>{'latitude': '41.88667506471757', 'longitude':...</td>\n",
       "      <td>NaN</td>\n",
       "      <td>NaN</td>\n",
       "      <td>NaN</td>\n",
       "      <td>NaN</td>\n",
       "    </tr>\n",
       "    <tr>\n",
       "      <th>4</th>\n",
       "      <td>SR21-00269268</td>\n",
       "      <td>Ice and Snow Removal Request</td>\n",
       "      <td>SDO</td>\n",
       "      <td>Streets and Sanitation</td>\n",
       "      <td>Completed</td>\n",
       "      <td>Mobile Device</td>\n",
       "      <td>2021-02-17T12:43:47.000</td>\n",
       "      <td>2023-09-08T00:02:32.000</td>\n",
       "      <td>2021-02-19T00:58:56.000</td>\n",
       "      <td>819 S BISHOP ST</td>\n",
       "      <td>...</td>\n",
       "      <td>2</td>\n",
       "      <td>1166926.969728</td>\n",
       "      <td>1896322.916862</td>\n",
       "      <td>41.871081463</td>\n",
       "      <td>-87.662623788</td>\n",
       "      <td>{'latitude': '41.8710814628718', 'longitude': ...</td>\n",
       "      <td>SR21-00261365</td>\n",
       "      <td>NaN</td>\n",
       "      <td>NaN</td>\n",
       "      <td>NaN</td>\n",
       "    </tr>\n",
       "  </tbody>\n",
       "</table>\n",
       "<p>5 rows × 38 columns</p>\n",
       "</div>"
      ],
      "text/plain": [
       "       sr_number                             sr_type sr_short_code  \\\n",
       "0  SR21-00958560  Snow - Object/Dibs Removal Request           SDW   \n",
       "1  SR21-00149474        Ice and Snow Removal Request           SDO   \n",
       "2  SR21-00177207        Ice and Snow Removal Request           SDO   \n",
       "3  SR21-00179217        Ice and Snow Removal Request           SDO   \n",
       "4  SR21-00269268        Ice and Snow Removal Request           SDO   \n",
       "\n",
       "         owner_department     status                      origin  \\\n",
       "0  Streets and Sanitation  Completed  spot-open311-Chicago+Works   \n",
       "1  Streets and Sanitation  Completed               Mobile Device   \n",
       "2  Streets and Sanitation  Completed               Mobile Device   \n",
       "3  Streets and Sanitation  Completed               Mobile Device   \n",
       "4  Streets and Sanitation  Completed               Mobile Device   \n",
       "\n",
       "              created_date       last_modified_date              closed_date  \\\n",
       "0  2021-06-06T16:27:11.000  2024-02-29T11:03:22.000  2024-02-29T11:03:22.000   \n",
       "1  2021-01-27T13:13:50.000  2023-09-08T00:02:32.000  2021-01-27T19:50:47.000   \n",
       "2  2021-02-01T10:19:34.000  2023-09-08T00:02:32.000  2021-02-01T15:12:41.000   \n",
       "3  2021-02-01T13:17:16.000  2023-09-08T00:02:32.000  2021-02-01T21:10:54.000   \n",
       "4  2021-02-17T12:43:47.000  2023-09-08T00:02:32.000  2021-02-19T00:58:56.000   \n",
       "\n",
       "       street_address  ... created_month    x_coordinate    y_coordinate  \\\n",
       "0   5341 W ADDISON ST  ...             6  1139942.280675  1923404.647804   \n",
       "1      1700 W 15TH ST  ...             1  1165249.779603  1892802.505368   \n",
       "2    1300 S HEATH AVE  ...             2  1161012.736069  1893968.108188   \n",
       "3  3242 W FULTON BLVD  ...             2  1154530.878051  1901911.930544   \n",
       "4     819 S BISHOP ST  ...             2  1166926.969728  1896322.916862   \n",
       "\n",
       "            latitude           longitude  \\\n",
       "0  41.94593272150076  -87.76103202071866   \n",
       "1        41.86145694       -87.668881384   \n",
       "2       41.864744399       -87.684402435   \n",
       "3       41.886675065       -87.707984972   \n",
       "4       41.871081463       -87.662623788   \n",
       "\n",
       "                                            location parent_sr_number  \\\n",
       "0  {'latitude': '41.94593272150076', 'longitude':...              NaN   \n",
       "1  {'latitude': '41.8614569400972', 'longitude': ...              NaN   \n",
       "2  {'latitude': '41.86474439906268', 'longitude':...              NaN   \n",
       "3  {'latitude': '41.88667506471757', 'longitude':...              NaN   \n",
       "4  {'latitude': '41.8710814628718', 'longitude': ...    SR21-00261365   \n",
       "\n",
       "   created_department  electrical_district sanitation_division_days  \n",
       "0                 NaN                  NaN                      NaN  \n",
       "1                 NaN                  NaN                      NaN  \n",
       "2                 NaN                  NaN                      NaN  \n",
       "3                 NaN                  NaN                      NaN  \n",
       "4                 NaN                  NaN                      NaN  \n",
       "\n",
       "[5 rows x 38 columns]"
      ]
     },
     "execution_count": 3,
     "metadata": {},
     "output_type": "execute_result"
    }
   ],
   "source": [
    "base_url = \"https://data.cityofchicago.org/resource/v6vf-nfxy.json\"\n",
    "where = \"SR_TYPE like '%25Snow%25'\"\n",
    "limit = 99999\n",
    "\n",
    "url = f\"{base_url}?$WHERE={where}&$LIMIT={limit}\"\n",
    "response = requests.get(url)\n",
    "data = response.json()\n",
    "df=pd.DataFrame(data)\n",
    "df.head()"
   ]
  },
  {
   "cell_type": "markdown",
   "id": "e6e5fcc3",
   "metadata": {},
   "source": [
    "### check for data validity"
   ]
  },
  {
   "cell_type": "code",
   "execution_count": 15,
   "id": "0f5e1ce1",
   "metadata": {},
   "outputs": [
    {
     "data": {
      "text/plain": [
       "'2018-12-30T15:05:52.000'"
      ]
     },
     "execution_count": 15,
     "metadata": {},
     "output_type": "execute_result"
    }
   ],
   "source": [
    "df['created_date'].min()"
   ]
  },
  {
   "cell_type": "code",
   "execution_count": 16,
   "id": "bd345359",
   "metadata": {},
   "outputs": [
    {
     "data": {
      "text/plain": [
       "'2024-03-04T16:45:10.000'"
      ]
     },
     "execution_count": 16,
     "metadata": {},
     "output_type": "execute_result"
    }
   ],
   "source": [
    "df['created_date'].max()"
   ]
  },
  {
   "cell_type": "code",
   "execution_count": 31,
   "id": "790eaad3",
   "metadata": {},
   "outputs": [
    {
     "data": {
      "text/plain": [
       "67633"
      ]
     },
     "execution_count": 31,
     "metadata": {},
     "output_type": "execute_result"
    }
   ],
   "source": [
    "len(df)"
   ]
  },
  {
   "cell_type": "code",
   "execution_count": 29,
   "id": "a375e7cb",
   "metadata": {},
   "outputs": [
    {
     "data": {
      "text/plain": [
       "0"
      ]
     },
     "execution_count": 29,
     "metadata": {},
     "output_type": "execute_result"
    }
   ],
   "source": [
    "df['owner_department'].isna().sum()"
   ]
  },
  {
   "cell_type": "code",
   "execution_count": 30,
   "id": "c8ba0822",
   "metadata": {},
   "outputs": [
    {
     "data": {
      "text/plain": [
       "34415"
      ]
     },
     "execution_count": 30,
     "metadata": {},
     "output_type": "execute_result"
    }
   ],
   "source": [
    "df['created_department'].isna().sum()"
   ]
  },
  {
   "cell_type": "markdown",
   "id": "9244de40",
   "metadata": {},
   "source": [
    "### filter by 7/1/19 to 6/30/23"
   ]
  },
  {
   "cell_type": "code",
   "execution_count": 17,
   "id": "a76084fa",
   "metadata": {},
   "outputs": [],
   "source": [
    "#df['created_date'] = pd.to_datetime(df['created_date'])\n",
    "df = df[(df['created_date']>='2019-07-01') & (df['created_date']<='2023-06-30')]"
   ]
  },
  {
   "cell_type": "code",
   "execution_count": 23,
   "id": "33e895fa",
   "metadata": {},
   "outputs": [
    {
     "data": {
      "text/html": [
       "<div>\n",
       "<style scoped>\n",
       "    .dataframe tbody tr th:only-of-type {\n",
       "        vertical-align: middle;\n",
       "    }\n",
       "\n",
       "    .dataframe tbody tr th {\n",
       "        vertical-align: top;\n",
       "    }\n",
       "\n",
       "    .dataframe thead th {\n",
       "        text-align: right;\n",
       "    }\n",
       "</style>\n",
       "<table border=\"1\" class=\"dataframe\">\n",
       "  <thead>\n",
       "    <tr style=\"text-align: right;\">\n",
       "      <th></th>\n",
       "      <th>owner_department</th>\n",
       "      <th>CDOT - Department of Transportation</th>\n",
       "      <th>Streets and Sanitation</th>\n",
       "    </tr>\n",
       "    <tr>\n",
       "      <th>sr_type</th>\n",
       "      <th>sr_short_code</th>\n",
       "      <th></th>\n",
       "      <th></th>\n",
       "    </tr>\n",
       "  </thead>\n",
       "  <tbody>\n",
       "    <tr>\n",
       "      <th>Ice and Snow Removal Request</th>\n",
       "      <th>SDO</th>\n",
       "      <td>NaN</td>\n",
       "      <td>34225.0</td>\n",
       "    </tr>\n",
       "    <tr>\n",
       "      <th>Snow - Object/Dibs Removal Request</th>\n",
       "      <th>SDW</th>\n",
       "      <td>NaN</td>\n",
       "      <td>11853.0</td>\n",
       "    </tr>\n",
       "    <tr>\n",
       "      <th>Snow Removal - Protected Bike Lane or Bridge Sidewalk</th>\n",
       "      <th>SNPBLBS</th>\n",
       "      <td>425.0</td>\n",
       "      <td>NaN</td>\n",
       "    </tr>\n",
       "    <tr>\n",
       "      <th>Snow – Uncleared Sidewalk Complaint</th>\n",
       "      <th>SWSNOREM</th>\n",
       "      <td>21130.0</td>\n",
       "      <td>NaN</td>\n",
       "    </tr>\n",
       "  </tbody>\n",
       "</table>\n",
       "</div>"
      ],
      "text/plain": [
       "owner_department                                                  CDOT - Department of Transportation  \\\n",
       "sr_type                                            sr_short_code                                        \n",
       "Ice and Snow Removal Request                       SDO                                            NaN   \n",
       "Snow - Object/Dibs Removal Request                 SDW                                            NaN   \n",
       "Snow Removal - Protected Bike Lane or Bridge Si... SNPBLBS                                      425.0   \n",
       "Snow – Uncleared Sidewalk Complaint                SWSNOREM                                   21130.0   \n",
       "\n",
       "owner_department                                                  Streets and Sanitation  \n",
       "sr_type                                            sr_short_code                          \n",
       "Ice and Snow Removal Request                       SDO                           34225.0  \n",
       "Snow - Object/Dibs Removal Request                 SDW                           11853.0  \n",
       "Snow Removal - Protected Bike Lane or Bridge Si... SNPBLBS                           NaN  \n",
       "Snow – Uncleared Sidewalk Complaint                SWSNOREM                          NaN  "
      ]
     },
     "execution_count": 23,
     "metadata": {},
     "output_type": "execute_result"
    }
   ],
   "source": [
    "df_owner = df.pivot_table(index=['sr_type','sr_short_code'],columns='owner_department',aggfunc='count',values='sr_number')\n",
    "df_owner"
   ]
  },
  {
   "cell_type": "code",
   "execution_count": 25,
   "id": "c27bf838",
   "metadata": {},
   "outputs": [
    {
     "data": {
      "text/html": [
       "<div>\n",
       "<style scoped>\n",
       "    .dataframe tbody tr th:only-of-type {\n",
       "        vertical-align: middle;\n",
       "    }\n",
       "\n",
       "    .dataframe tbody tr th {\n",
       "        vertical-align: top;\n",
       "    }\n",
       "\n",
       "    .dataframe thead th {\n",
       "        text-align: right;\n",
       "    }\n",
       "</style>\n",
       "<table border=\"1\" class=\"dataframe\">\n",
       "  <thead>\n",
       "    <tr style=\"text-align: right;\">\n",
       "      <th></th>\n",
       "      <th>created_department</th>\n",
       "      <th>311 City Services</th>\n",
       "      <th>Alderman</th>\n",
       "      <th>CDOT - Department of Transportation</th>\n",
       "      <th>Chicago Transit Authority - CTA</th>\n",
       "      <th>DFSS - Department of Family &amp; Support Services</th>\n",
       "      <th>DWM - Department of Water Management</th>\n",
       "      <th>Police</th>\n",
       "      <th>Requests for CSR Assistance</th>\n",
       "      <th>Streets and Sanitation</th>\n",
       "    </tr>\n",
       "    <tr>\n",
       "      <th>sr_type</th>\n",
       "      <th>sr_short_code</th>\n",
       "      <th></th>\n",
       "      <th></th>\n",
       "      <th></th>\n",
       "      <th></th>\n",
       "      <th></th>\n",
       "      <th></th>\n",
       "      <th></th>\n",
       "      <th></th>\n",
       "      <th></th>\n",
       "    </tr>\n",
       "  </thead>\n",
       "  <tbody>\n",
       "    <tr>\n",
       "      <th>Ice and Snow Removal Request</th>\n",
       "      <th>SDO</th>\n",
       "      <td>19201.0</td>\n",
       "      <td>1597.0</td>\n",
       "      <td>1.0</td>\n",
       "      <td>NaN</td>\n",
       "      <td>1.0</td>\n",
       "      <td>2.0</td>\n",
       "      <td>1.0</td>\n",
       "      <td>NaN</td>\n",
       "      <td>680.0</td>\n",
       "    </tr>\n",
       "    <tr>\n",
       "      <th>Snow - Object/Dibs Removal Request</th>\n",
       "      <th>SDW</th>\n",
       "      <td>5588.0</td>\n",
       "      <td>546.0</td>\n",
       "      <td>2.0</td>\n",
       "      <td>NaN</td>\n",
       "      <td>NaN</td>\n",
       "      <td>NaN</td>\n",
       "      <td>NaN</td>\n",
       "      <td>NaN</td>\n",
       "      <td>8.0</td>\n",
       "    </tr>\n",
       "    <tr>\n",
       "      <th>Snow Removal - Protected Bike Lane or Bridge Sidewalk</th>\n",
       "      <th>SNPBLBS</th>\n",
       "      <td>21.0</td>\n",
       "      <td>54.0</td>\n",
       "      <td>11.0</td>\n",
       "      <td>NaN</td>\n",
       "      <td>NaN</td>\n",
       "      <td>NaN</td>\n",
       "      <td>NaN</td>\n",
       "      <td>1.0</td>\n",
       "      <td>2.0</td>\n",
       "    </tr>\n",
       "    <tr>\n",
       "      <th>Snow – Uncleared Sidewalk Complaint</th>\n",
       "      <th>SWSNOREM</th>\n",
       "      <td>4709.0</td>\n",
       "      <td>738.0</td>\n",
       "      <td>20.0</td>\n",
       "      <td>1.0</td>\n",
       "      <td>NaN</td>\n",
       "      <td>NaN</td>\n",
       "      <td>1.0</td>\n",
       "      <td>NaN</td>\n",
       "      <td>33.0</td>\n",
       "    </tr>\n",
       "  </tbody>\n",
       "</table>\n",
       "</div>"
      ],
      "text/plain": [
       "created_department                                                311 City Services  \\\n",
       "sr_type                                            sr_short_code                      \n",
       "Ice and Snow Removal Request                       SDO                      19201.0   \n",
       "Snow - Object/Dibs Removal Request                 SDW                       5588.0   \n",
       "Snow Removal - Protected Bike Lane or Bridge Si... SNPBLBS                     21.0   \n",
       "Snow – Uncleared Sidewalk Complaint                SWSNOREM                  4709.0   \n",
       "\n",
       "created_department                                                Alderman  \\\n",
       "sr_type                                            sr_short_code             \n",
       "Ice and Snow Removal Request                       SDO              1597.0   \n",
       "Snow - Object/Dibs Removal Request                 SDW               546.0   \n",
       "Snow Removal - Protected Bike Lane or Bridge Si... SNPBLBS            54.0   \n",
       "Snow – Uncleared Sidewalk Complaint                SWSNOREM          738.0   \n",
       "\n",
       "created_department                                                CDOT - Department of Transportation  \\\n",
       "sr_type                                            sr_short_code                                        \n",
       "Ice and Snow Removal Request                       SDO                                            1.0   \n",
       "Snow - Object/Dibs Removal Request                 SDW                                            2.0   \n",
       "Snow Removal - Protected Bike Lane or Bridge Si... SNPBLBS                                       11.0   \n",
       "Snow – Uncleared Sidewalk Complaint                SWSNOREM                                      20.0   \n",
       "\n",
       "created_department                                                Chicago Transit Authority - CTA  \\\n",
       "sr_type                                            sr_short_code                                    \n",
       "Ice and Snow Removal Request                       SDO                                        NaN   \n",
       "Snow - Object/Dibs Removal Request                 SDW                                        NaN   \n",
       "Snow Removal - Protected Bike Lane or Bridge Si... SNPBLBS                                    NaN   \n",
       "Snow – Uncleared Sidewalk Complaint                SWSNOREM                                   1.0   \n",
       "\n",
       "created_department                                                DFSS - Department of Family & Support Services  \\\n",
       "sr_type                                            sr_short_code                                                   \n",
       "Ice and Snow Removal Request                       SDO                                                       1.0   \n",
       "Snow - Object/Dibs Removal Request                 SDW                                                       NaN   \n",
       "Snow Removal - Protected Bike Lane or Bridge Si... SNPBLBS                                                   NaN   \n",
       "Snow – Uncleared Sidewalk Complaint                SWSNOREM                                                  NaN   \n",
       "\n",
       "created_department                                                DWM - Department of Water Management  \\\n",
       "sr_type                                            sr_short_code                                         \n",
       "Ice and Snow Removal Request                       SDO                                             2.0   \n",
       "Snow - Object/Dibs Removal Request                 SDW                                             NaN   \n",
       "Snow Removal - Protected Bike Lane or Bridge Si... SNPBLBS                                         NaN   \n",
       "Snow – Uncleared Sidewalk Complaint                SWSNOREM                                        NaN   \n",
       "\n",
       "created_department                                                Police  \\\n",
       "sr_type                                            sr_short_code           \n",
       "Ice and Snow Removal Request                       SDO               1.0   \n",
       "Snow - Object/Dibs Removal Request                 SDW               NaN   \n",
       "Snow Removal - Protected Bike Lane or Bridge Si... SNPBLBS           NaN   \n",
       "Snow – Uncleared Sidewalk Complaint                SWSNOREM          1.0   \n",
       "\n",
       "created_department                                                Requests for CSR Assistance  \\\n",
       "sr_type                                            sr_short_code                                \n",
       "Ice and Snow Removal Request                       SDO                                    NaN   \n",
       "Snow - Object/Dibs Removal Request                 SDW                                    NaN   \n",
       "Snow Removal - Protected Bike Lane or Bridge Si... SNPBLBS                                1.0   \n",
       "Snow – Uncleared Sidewalk Complaint                SWSNOREM                               NaN   \n",
       "\n",
       "created_department                                                Streets and Sanitation  \n",
       "sr_type                                            sr_short_code                          \n",
       "Ice and Snow Removal Request                       SDO                             680.0  \n",
       "Snow - Object/Dibs Removal Request                 SDW                               8.0  \n",
       "Snow Removal - Protected Bike Lane or Bridge Si... SNPBLBS                           2.0  \n",
       "Snow – Uncleared Sidewalk Complaint                SWSNOREM                         33.0  "
      ]
     },
     "execution_count": 25,
     "metadata": {},
     "output_type": "execute_result"
    }
   ],
   "source": [
    "df_creator = df.pivot_table(index=['sr_type','sr_short_code'],columns='created_department',aggfunc='count',values='sr_number')\n",
    "df_creator"
   ]
  },
  {
   "cell_type": "code",
   "execution_count": null,
   "id": "bf9539a6",
   "metadata": {},
   "outputs": [],
   "source": [
    "df_creaor"
   ]
  }
 ],
 "metadata": {
  "kernelspec": {
   "display_name": "Python 3 (ipykernel)",
   "language": "python",
   "name": "python3"
  },
  "language_info": {
   "codemirror_mode": {
    "name": "ipython",
    "version": 3
   },
   "file_extension": ".py",
   "mimetype": "text/x-python",
   "name": "python",
   "nbconvert_exporter": "python",
   "pygments_lexer": "ipython3",
   "version": "3.10.12"
  }
 },
 "nbformat": 4,
 "nbformat_minor": 5
}
