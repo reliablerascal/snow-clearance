{
 "cells": [
  {
   "cell_type": "markdown",
   "id": "8f33706c",
   "metadata": {},
   "source": [
    "# Graphics for South Side Weekly article, \"Fines Don't Shovel Sidewalks\"\n",
    "3/3/24"
   ]
  },
  {
   "cell_type": "code",
   "execution_count": 1,
   "id": "57ce35f9",
   "metadata": {},
   "outputs": [],
   "source": [
    "import pandas as pd"
   ]
  },
  {
   "cell_type": "markdown",
   "id": "d17c6c16",
   "metadata": {},
   "source": [
    "### key findings\n",
    "* 73% of court dockets were issued by CDOT, 26% by Streets and Sanitation. The remaining 1% were issued by the police or Business Affairs and Consumer Protection\n",
    "* For dockets issued by CDOT, Garfield Ridge, Grand Boulevard, and Armour Square have the highest per capita rate\n",
    "* For dockets issued by Streets and Sanitation, Englewood, West Englewood, and Brighton Park have the highest per capita rate\n",
    "* Only 25 court dockets were issued by police\n",
    "    * West Englewood, Englewood, and Garfield Ridge have the highest rates and account for half the dockets citywide.\n",
    "    * 3 of 25 police dockets were churches in Greater Englewood"
   ]
  },
  {
   "cell_type": "markdown",
   "id": "0400bcf5",
   "metadata": {},
   "source": [
    "### table of contents\n",
    "1. [Read Data Files](#read)\n",
    "2. [Summarize Frequent Respondents](#summarize-respondents)\n",
    "    * [Dollar Stores](#dollar)\n",
    "    * [ComEd](#comed)\n",
    "    * [Churches](#churches)\n",
    "3. [Summarize by Department](#summarize-department)\n",
    "4. [Summarize by Community](#summarize-community)\n",
    "    * [Police](#police)\n",
    "5. [Summarize by Ward](#summarize-ward)\n",
    "6. [Export for Graphics](#export)"
   ]
  },
  {
   "cell_type": "markdown",
   "id": "0a878aba",
   "metadata": {},
   "source": [
    "<a name = \"read\"></a>\n",
    "# Read Data Files"
   ]
  },
  {
   "cell_type": "code",
   "execution_count": 2,
   "id": "85d67686",
   "metadata": {},
   "outputs": [],
   "source": [
    "df_dockets = pd.read_csv(\"../../data/05-finalized/dockets-to-details-gis.csv\")\n",
    "df_dockets_summary = pd.read_csv(\"../../data/05-finalized/dockets-summary.csv\")\n",
    "df_wards = pd.read_csv(\"../../results/ssw02-fines/ward-summary.csv\")\n",
    "df_communities = pd.read_csv(\"../../results/ssw02-fines/community-summary.csv\")"
   ]
  },
  {
   "cell_type": "code",
   "execution_count": 3,
   "id": "5fe0d2e0",
   "metadata": {},
   "outputs": [],
   "source": [
    "df_dockets.head()"
   ]
  },
  {
   "cell_type": "code",
   "execution_count": 4,
   "id": "141f5d39",
   "metadata": {},
   "outputs": [],
   "source": [
    "df_wards.head()"
   ]
  },
  {
   "cell_type": "code",
   "execution_count": 5,
   "id": "6a82fa36",
   "metadata": {},
   "outputs": [],
   "source": [
    "df_communities.head()"
   ]
  },
  {
   "cell_type": "markdown",
   "id": "7684d801",
   "metadata": {},
   "source": [
    "<a name = \"summarize-respondents\"></a>\n",
    "# Summarize Frequent Respondents"
   ]
  },
  {
   "cell_type": "markdown",
   "id": "f4bd2562",
   "metadata": {},
   "source": [
    "<a name = \"dollar\"></a>\n",
    "### Dollar Stores"
   ]
  },
  {
   "cell_type": "code",
   "execution_count": 6,
   "id": "c2c65d22",
   "metadata": {},
   "outputs": [],
   "source": [
    "df_resp_dollar = df_dockets[df_dockets['respondent'].str.contains('dollar',case=False,na=False)]\n",
    "df_resp_dollar = df_resp_dollar.drop_duplicates(subset=['docket','fine_amt'])\n",
    "df_resp_dollar.sort_values(['docket','hearing_date'])"
   ]
  },
  {
   "cell_type": "markdown",
   "id": "8df2b090",
   "metadata": {},
   "source": [
    "<a name = \"comed\"></a>\n",
    "### ComEd"
   ]
  },
  {
   "cell_type": "code",
   "execution_count": 7,
   "id": "a1f15912",
   "metadata": {},
   "outputs": [],
   "source": [
    "df_resp_comed = df_dockets[df_dockets['respondent'].str.contains('commonwealth',case=False,na=False)]\n",
    "df_resp_comed = df_resp_comed.drop_duplicates(subset=['docket','fine_amt'])\n",
    "df_resp_comed.sort_values(['docket','hearing_date'])"
   ]
  },
  {
   "cell_type": "markdown",
   "id": "a319617b",
   "metadata": {},
   "source": [
    "<a name = \"churches\"></a>\n",
    "### Churches\n",
    "note that 3 of 15 citations for churches citywide were issued by police to churches in Englewood"
   ]
  },
  {
   "cell_type": "code",
   "execution_count": 8,
   "id": "31da6255",
   "metadata": {},
   "outputs": [],
   "source": [
    "df_resp_church = df_dockets[df_dockets['respondent'].str.contains('church',case=False,na=False) &\n",
    "                           df_dockets['community'].str.contains('Englewood',case=False,na=False) &\n",
    "                           df_dockets['dept'].str.contains('POLICE',case=False,na=False)]\n",
    "df_resp_church.sort_values(['docket','hearing_date'])"
   ]
  },
  {
   "cell_type": "markdown",
   "id": "3843f6ec",
   "metadata": {},
   "source": [
    "<a name = \"summarize-department\"></a>\n",
    "# Summarize by Department"
   ]
  },
  {
   "cell_type": "code",
   "execution_count": 9,
   "id": "9814e7d0",
   "metadata": {},
   "outputs": [],
   "source": [
    "df_by_dept = df_dockets_summary['dept'].value_counts().reset_index()\n",
    "df_by_dept = df_by_dept[df_by_dept['dept']!='unknown']\n",
    "#total = df_by_dept['count'].sum()\n",
    "df_by_dept['pct']= df_by_dept['count']/df_by_dept['count'].sum()\n",
    "df_by_dept['label']= df_by_dept['count'].astype(str) + ' (' + (df_by_dept['pct'] * 100).round(2).astype(str) + '%)'"
   ]
  },
  {
   "cell_type": "code",
   "execution_count": 10,
   "id": "7be15426",
   "metadata": {},
   "outputs": [],
   "source": [
    "df_by_dept"
   ]
  },
  {
   "cell_type": "markdown",
   "id": "eac7ad45",
   "metadata": {},
   "source": [
    "<a name = \"summarize-community\"></a>\n",
    "# Summarize by Community"
   ]
  },
  {
   "cell_type": "code",
   "execution_count": 11,
   "id": "51f86b90",
   "metadata": {},
   "outputs": [],
   "source": [
    "# df_vacants..."
   ]
  },
  {
   "cell_type": "markdown",
   "id": "dc4b9ad4",
   "metadata": {},
   "source": [
    "<a name = \"police\"></a>\n",
    "### police"
   ]
  },
  {
   "cell_type": "code",
   "execution_count": 12,
   "id": "f0cb6ab5",
   "metadata": {},
   "outputs": [],
   "source": [
    "df_police = df_communities[df_communities['n_POLICE']>0]\n",
    "df_police['community_name'] = df_police['community_name'].replace(['Chicago Lawn',\n",
    "                                                                     'Clearing',\n",
    "                                                                     'Greater Grand Crossing',\n",
    "                                                                     'Morgan Park',\n",
    "                                                                     'West Pullman'], 'Other')\n",
    "df_police = df_police.groupby('community_name', as_index=False)['n_POLICE'].sum()\n",
    "df_police = df_police[['community_name','n_POLICE']].sort_values(by='n_POLICE',ascending=False)\n",
    "df_police"
   ]
  },
  {
   "cell_type": "markdown",
   "id": "862523c9",
   "metadata": {},
   "source": [
    "<a name = \"summarize-ward\"></a>\n",
    "# Summarize by Ward"
   ]
  },
  {
   "cell_type": "markdown",
   "id": "7a9a5242",
   "metadata": {},
   "source": [
    "### most dockets"
   ]
  },
  {
   "cell_type": "code",
   "execution_count": 13,
   "id": "887342b1",
   "metadata": {},
   "outputs": [],
   "source": [
    "df_dockets_by_ward_top5 = df_wards.sort_values('n_dockets', ascending=False).reset_index().head()\n",
    "df_dockets_by_ward_top5['rank'] =  df_dockets_by_ward_top5.index + 1\n",
    "df_dockets_by_ward_top5 = df_dockets_by_ward_top5[['rank','ward','n_dockets','n_TRANPORT','n_STRTSAN','n_POLICE']]\n",
    "df_dockets_by_ward_top5"
   ]
  },
  {
   "cell_type": "markdown",
   "id": "27c6c04f",
   "metadata": {},
   "source": [
    "### not sure i need this"
   ]
  },
  {
   "cell_type": "code",
   "execution_count": 14,
   "id": "d0725d74",
   "metadata": {},
   "outputs": [],
   "source": [
    "df_streets_by_ward_top5 = df_wards.sort_values('n_STRTSAN', ascending=False).head()\n",
    "df_streets_by_ward_top5 = df_streets_by_ward_top5[['ward','n_POLICE','n_STRTSAN','n_TRANPORT','n_dockets']]\n",
    "df_streets_by_ward_top5"
   ]
  },
  {
   "cell_type": "markdown",
   "id": "22bfe3c4",
   "metadata": {},
   "source": [
    "### complaint to citation ratio"
   ]
  },
  {
   "cell_type": "code",
   "execution_count": 15,
   "id": "997f1a2f",
   "metadata": {},
   "outputs": [],
   "source": [
    "df_citation_ratio_by_ward_top5 = df_wards.sort_values('complaint_ratio', ascending=False).head()\n",
    "df_citation_ratio_by_ward_top5 = df_citation_ratio_by_ward_top5 [['ward','n_TRANPORT','n_311_complaints','complaint_ratio']]\n",
    "df_citation_ratio_by_ward_top5"
   ]
  },
  {
   "cell_type": "code",
   "execution_count": 16,
   "id": "1b69800e",
   "metadata": {},
   "outputs": [],
   "source": [
    "# citywide citation ratio\n",
    "df_wards['n_TRANPORT'].sum()/df_wards['n_311_complaints'].sum()"
   ]
  },
  {
   "cell_type": "markdown",
   "id": "3979511b",
   "metadata": {},
   "source": [
    "<a name = \"export\"></a>\n",
    "# Export for Graphics"
   ]
  },
  {
   "cell_type": "code",
   "execution_count": 17,
   "id": "0ffe880e",
   "metadata": {},
   "outputs": [],
   "source": [
    "df_by_dept.to_csv(\"../../results/ssw02-fines/dockets-by-dept.csv\", index=False)\n",
    "df_police.to_csv(\"../../results/ssw02-fines/police-by-community.csv\", index=False)\n",
    "df_citation_ratio_by_ward_top5.to_csv(\"../../results/ssw02-fines/citation_ratio_top5.csv\", index=False)\n",
    "df_dockets_by_ward_top5.to_csv(\"../../results/ssw02-fines/dockets-by-ward-top5.csv\", index=False)\n",
    "df_streets_by_ward_top5.to_csv(\"../../results/ssw02-fines/streets-by-ward-top5.csv\", index=False)"
   ]
  },
  {
   "cell_type": "code",
   "execution_count": 18,
   "id": "c3008c64",
   "metadata": {},
   "outputs": [],
   "source": [
    "#df_vacants.to_csv(\"../../results/ssw02-fines/vacants-by-community.csv\")"
   ]
  }
 ],
 "metadata": {
  "kernelspec": {
   "display_name": "Python 3 (ipykernel)",
   "language": "python",
   "name": "python3"
  },
  "language_info": {
   "codemirror_mode": {
    "name": "ipython",
    "version": 3
   },
   "file_extension": ".py",
   "mimetype": "text/x-python",
   "name": "python",
   "nbconvert_exporter": "python",
   "pygments_lexer": "ipython3",
   "version": "3.10.12"
  }
 },
 "nbformat": 4,
 "nbformat_minor": 5
}
