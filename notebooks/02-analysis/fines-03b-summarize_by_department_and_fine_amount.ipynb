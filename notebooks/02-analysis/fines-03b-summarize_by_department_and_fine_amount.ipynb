{
 "cells": [
  {
   "cell_type": "markdown",
   "id": "638444be",
   "metadata": {},
   "source": [
    "<h1>Snow Clearance Fines, 2019-2023</h1>\n",
    "15 February 2024\n",
    "\n",
    "This analysis looks at fines levied for uncleared sidewalks, based on FOIA data requested from the Department of Administrative Hearings (H064920-011124.xlsx). This dataset contained 3058 records dating from 1/1/2001 to 9/12/2023; filtered for those between 7/1/2019 and 6/30/2023 has 2560 records. Four of these could not be geocoded due to \"unknown\" address.<br>"
   ]
  },
  {
   "cell_type": "markdown",
   "id": "d97eb957",
   "metadata": {},
   "source": [
    "### Record Count\n",
    "<ul>\n",
    "    <li>2556 valid fines records from July 1 2019 to June 30 2023\n",
    "        <li>1912 dockets. Some dockets contain multiple fines records, which are identical except for a different fine amount in each record.\n",
    "            <li>1735 addresses. some addresses have been fined by both CDOT and Streets & Sanitation, with a separate court docket for each.\n",
    "                <li>some addresses have been fined by multiple agencies\n",
    "    </ul>"
   ]
  },
  {
   "cell_type": "markdown",
   "id": "1a6cce54",
   "metadata": {},
   "source": [
    "### Preliminary Findings    \n",
    "<ul>\n",
    "    <li>73% of court dockets were issued by CDOT, 26% by Streets and Sanitation. The remaining 1% were issued by the police or Business Affairs and Consumer Protection\n",
    "    <li>Englewood, Garfield Ridge, and West Englewood are the three communities with the highest number of dockets per capita\n",
    "    <li>Only 25 court dockets were issued by police. West Englewood, Englewood, and Garfield Ridge have the highest rates and account for half the dockets citywide.\n",
    "        <li>For dockets issued by CDOT, Garfield Ridge, Grand Boulevard, and Armour Square have the highest per capita rate\n",
    "            <li>For dockets issued by Streets and Sanitation, Englewood, West Englewood, and Brighton Park have the highest per capita rate\n",
    "    </ul>"
   ]
  },
  {
   "cell_type": "markdown",
   "id": "488cdc75",
   "metadata": {},
   "source": [
    "<a name=\"read\"></a>\n",
    "# 1. Read and Prepare Geocoded Fines Data"
   ]
  },
  {
   "cell_type": "code",
   "execution_count": 1,
   "id": "109b46e0",
   "metadata": {},
   "outputs": [],
   "source": [
    "import pandas as pd\n",
    "import altair as alt\n",
    "import numpy as np"
   ]
  },
  {
   "cell_type": "markdown",
   "id": "d9898ed1",
   "metadata": {},
   "source": [
    "Note the following data preparation steps prior to this notebook\n",
    "<ol>\n",
    "<li>Prepared data by parsing dates and correcting data entry errors in addresses; see <a href=\"fines-01-prep-data.ipynb\">fines-01-prep-data.ipynb</a>.\n",
    "    <li>Geocoded addresses to identify lat and long coordinates, and spatially joined addresses to Community Areas shapefile. I did this offline in QGIS.\n",
    "        </ol>"
   ]
  },
  {
   "cell_type": "code",
   "execution_count": 2,
   "id": "38124df9",
   "metadata": {},
   "outputs": [
    {
     "data": {
      "text/html": [
       "<div>\n",
       "<style scoped>\n",
       "    .dataframe tbody tr th:only-of-type {\n",
       "        vertical-align: middle;\n",
       "    }\n",
       "\n",
       "    .dataframe tbody tr th {\n",
       "        vertical-align: top;\n",
       "    }\n",
       "\n",
       "    .dataframe thead th {\n",
       "        text-align: right;\n",
       "    }\n",
       "</style>\n",
       "<table border=\"1\" class=\"dataframe\">\n",
       "  <thead>\n",
       "    <tr style=\"text-align: right;\">\n",
       "      <th></th>\n",
       "      <th>docket</th>\n",
       "      <th>dept</th>\n",
       "      <th>address</th>\n",
       "      <th>lat</th>\n",
       "      <th>long</th>\n",
       "      <th>community</th>\n",
       "      <th>violation_date</th>\n",
       "      <th>season</th>\n",
       "      <th>n_records</th>\n",
       "      <th>total_fine</th>\n",
       "    </tr>\n",
       "  </thead>\n",
       "  <tbody>\n",
       "    <tr>\n",
       "      <th>0</th>\n",
       "      <td>19DS68300L</td>\n",
       "      <td>STRTSAN</td>\n",
       "      <td>4710 S WESTERN AVE</td>\n",
       "      <td>41.807859</td>\n",
       "      <td>-87.684797</td>\n",
       "      <td>BRIGHTON PARK</td>\n",
       "      <td>2019/11/13</td>\n",
       "      <td>2019-2020</td>\n",
       "      <td>1</td>\n",
       "      <td>150.0</td>\n",
       "    </tr>\n",
       "    <tr>\n",
       "      <th>1</th>\n",
       "      <td>19DS69216L</td>\n",
       "      <td>STRTSAN</td>\n",
       "      <td>1425 W MORSE AVE</td>\n",
       "      <td>42.007451</td>\n",
       "      <td>-87.666828</td>\n",
       "      <td>ROGERS PARK</td>\n",
       "      <td>2019/11/13</td>\n",
       "      <td>2019-2020</td>\n",
       "      <td>1</td>\n",
       "      <td>50.0</td>\n",
       "    </tr>\n",
       "    <tr>\n",
       "      <th>2</th>\n",
       "      <td>19DS70010L</td>\n",
       "      <td>STRTSAN</td>\n",
       "      <td>715 E 47TH ST</td>\n",
       "      <td>41.809338</td>\n",
       "      <td>-87.608013</td>\n",
       "      <td>GRAND BOULEVARD</td>\n",
       "      <td>2019/11/13</td>\n",
       "      <td>2019-2020</td>\n",
       "      <td>1</td>\n",
       "      <td>150.0</td>\n",
       "    </tr>\n",
       "    <tr>\n",
       "      <th>3</th>\n",
       "      <td>19DS72153L</td>\n",
       "      <td>STRTSAN</td>\n",
       "      <td>300 W WASHINGTON ST</td>\n",
       "      <td>41.882868</td>\n",
       "      <td>-88.210529</td>\n",
       "      <td>LOOP</td>\n",
       "      <td>2019/11/12</td>\n",
       "      <td>2019-2020</td>\n",
       "      <td>3</td>\n",
       "      <td>650.0</td>\n",
       "    </tr>\n",
       "    <tr>\n",
       "      <th>4</th>\n",
       "      <td>19DS72160L</td>\n",
       "      <td>STRTSAN</td>\n",
       "      <td>6929 N SHERIDAN RD</td>\n",
       "      <td>41.959813</td>\n",
       "      <td>-87.654693</td>\n",
       "      <td>UPTOWN</td>\n",
       "      <td>2019/11/14</td>\n",
       "      <td>2019-2020</td>\n",
       "      <td>1</td>\n",
       "      <td>500.0</td>\n",
       "    </tr>\n",
       "  </tbody>\n",
       "</table>\n",
       "</div>"
      ],
      "text/plain": [
       "       docket     dept              address        lat       long  \\\n",
       "0  19DS68300L  STRTSAN   4710 S WESTERN AVE  41.807859 -87.684797   \n",
       "1  19DS69216L  STRTSAN     1425 W MORSE AVE  42.007451 -87.666828   \n",
       "2  19DS70010L  STRTSAN        715 E 47TH ST  41.809338 -87.608013   \n",
       "3  19DS72153L  STRTSAN  300 W WASHINGTON ST  41.882868 -88.210529   \n",
       "4  19DS72160L  STRTSAN   6929 N SHERIDAN RD  41.959813 -87.654693   \n",
       "\n",
       "         community violation_date     season  n_records  total_fine  \n",
       "0    BRIGHTON PARK     2019/11/13  2019-2020          1       150.0  \n",
       "1      ROGERS PARK     2019/11/13  2019-2020          1        50.0  \n",
       "2  GRAND BOULEVARD     2019/11/13  2019-2020          1       150.0  \n",
       "3             LOOP     2019/11/12  2019-2020          3       650.0  \n",
       "4           UPTOWN     2019/11/14  2019-2020          1       500.0  "
      ]
     },
     "execution_count": 2,
     "metadata": {},
     "output_type": "execute_result"
    }
   ],
   "source": [
    "df_dockets = pd.read_csv(\"../data/04-standardized/fines-by-docket.csv\")\n",
    "df_dockets.head()"
   ]
  },
  {
   "cell_type": "code",
   "execution_count": 3,
   "id": "0d012c65",
   "metadata": {},
   "outputs": [
    {
     "data": {
      "text/plain": [
       "1912"
      ]
     },
     "execution_count": 3,
     "metadata": {},
     "output_type": "execute_result"
    }
   ],
   "source": [
    "len(df_dockets)"
   ]
  },
  {
   "cell_type": "markdown",
   "id": "f8be764b",
   "metadata": {},
   "source": [
    "# Summary by Department"
   ]
  },
  {
   "cell_type": "code",
   "execution_count": 4,
   "id": "493acf8d",
   "metadata": {},
   "outputs": [
    {
     "data": {
      "text/html": [
       "<div>\n",
       "<style scoped>\n",
       "    .dataframe tbody tr th:only-of-type {\n",
       "        vertical-align: middle;\n",
       "    }\n",
       "\n",
       "    .dataframe tbody tr th {\n",
       "        vertical-align: top;\n",
       "    }\n",
       "\n",
       "    .dataframe thead th {\n",
       "        text-align: right;\n",
       "    }\n",
       "</style>\n",
       "<table border=\"1\" class=\"dataframe\">\n",
       "  <thead>\n",
       "    <tr style=\"text-align: right;\">\n",
       "      <th></th>\n",
       "      <th>dept</th>\n",
       "      <th>total_fine</th>\n",
       "      <th>n_dockets</th>\n",
       "      <th>n_records</th>\n",
       "      <th>pct_dockets</th>\n",
       "    </tr>\n",
       "  </thead>\n",
       "  <tbody>\n",
       "    <tr>\n",
       "      <th>0</th>\n",
       "      <td>BAFCONP</td>\n",
       "      <td>0.0</td>\n",
       "      <td>2</td>\n",
       "      <td>2</td>\n",
       "      <td>0.001046</td>\n",
       "    </tr>\n",
       "    <tr>\n",
       "      <th>1</th>\n",
       "      <td>POLICE</td>\n",
       "      <td>1700.0</td>\n",
       "      <td>25</td>\n",
       "      <td>30</td>\n",
       "      <td>0.013075</td>\n",
       "    </tr>\n",
       "    <tr>\n",
       "      <th>2</th>\n",
       "      <td>STRTSAN</td>\n",
       "      <td>176610.0</td>\n",
       "      <td>497</td>\n",
       "      <td>659</td>\n",
       "      <td>0.259937</td>\n",
       "    </tr>\n",
       "    <tr>\n",
       "      <th>3</th>\n",
       "      <td>TRANPORT</td>\n",
       "      <td>406959.0</td>\n",
       "      <td>1388</td>\n",
       "      <td>1865</td>\n",
       "      <td>0.725941</td>\n",
       "    </tr>\n",
       "  </tbody>\n",
       "</table>\n",
       "</div>"
      ],
      "text/plain": [
       "       dept  total_fine  n_dockets  n_records  pct_dockets\n",
       "0   BAFCONP         0.0          2          2     0.001046\n",
       "1    POLICE      1700.0         25         30     0.013075\n",
       "2   STRTSAN    176610.0        497        659     0.259937\n",
       "3  TRANPORT    406959.0       1388       1865     0.725941"
      ]
     },
     "execution_count": 4,
     "metadata": {},
     "output_type": "execute_result"
    }
   ],
   "source": [
    "# by issuing department\n",
    "df_dockets_summary = df_dockets.groupby('dept').agg(\n",
    "    total_fine=('total_fine', 'sum'),\n",
    "    n_dockets=('docket','count'),\n",
    "    n_records=('n_records','sum')\n",
    ").reset_index()\n",
    "df_dockets_summary['pct_dockets']=df_dockets_summary['n_dockets']/df_dockets_summary['n_dockets'].sum()\n",
    "df_dockets_summary"
   ]
  },
  {
   "cell_type": "markdown",
   "id": "e379cd0c",
   "metadata": {},
   "source": [
    "# Summarize by total fine amount"
   ]
  },
  {
   "cell_type": "code",
   "execution_count": 5,
   "id": "50170a9a",
   "metadata": {},
   "outputs": [],
   "source": [
    "df_fines = df_dockets.groupby('total_fine').size().reset_index(name='n_dockets')"
   ]
  },
  {
   "cell_type": "code",
   "execution_count": 6,
   "id": "ec251fdb",
   "metadata": {},
   "outputs": [
    {
     "data": {
      "text/html": [
       "\n",
       "<style>\n",
       "  #altair-viz-de29e7903de84bb49891819f7a17ee06.vega-embed {\n",
       "    width: 100%;\n",
       "    display: flex;\n",
       "  }\n",
       "\n",
       "  #altair-viz-de29e7903de84bb49891819f7a17ee06.vega-embed details,\n",
       "  #altair-viz-de29e7903de84bb49891819f7a17ee06.vega-embed details summary {\n",
       "    position: relative;\n",
       "  }\n",
       "</style>\n",
       "<div id=\"altair-viz-de29e7903de84bb49891819f7a17ee06\"></div>\n",
       "<script type=\"text/javascript\">\n",
       "  var VEGA_DEBUG = (typeof VEGA_DEBUG == \"undefined\") ? {} : VEGA_DEBUG;\n",
       "  (function(spec, embedOpt){\n",
       "    let outputDiv = document.currentScript.previousElementSibling;\n",
       "    if (outputDiv.id !== \"altair-viz-de29e7903de84bb49891819f7a17ee06\") {\n",
       "      outputDiv = document.getElementById(\"altair-viz-de29e7903de84bb49891819f7a17ee06\");\n",
       "    }\n",
       "    const paths = {\n",
       "      \"vega\": \"https://cdn.jsdelivr.net/npm/vega@5?noext\",\n",
       "      \"vega-lib\": \"https://cdn.jsdelivr.net/npm/vega-lib?noext\",\n",
       "      \"vega-lite\": \"https://cdn.jsdelivr.net/npm/vega-lite@5.8.0?noext\",\n",
       "      \"vega-embed\": \"https://cdn.jsdelivr.net/npm/vega-embed@6?noext\",\n",
       "    };\n",
       "\n",
       "    function maybeLoadScript(lib, version) {\n",
       "      var key = `${lib.replace(\"-\", \"\")}_version`;\n",
       "      return (VEGA_DEBUG[key] == version) ?\n",
       "        Promise.resolve(paths[lib]) :\n",
       "        new Promise(function(resolve, reject) {\n",
       "          var s = document.createElement('script');\n",
       "          document.getElementsByTagName(\"head\")[0].appendChild(s);\n",
       "          s.async = true;\n",
       "          s.onload = () => {\n",
       "            VEGA_DEBUG[key] = version;\n",
       "            return resolve(paths[lib]);\n",
       "          };\n",
       "          s.onerror = () => reject(`Error loading script: ${paths[lib]}`);\n",
       "          s.src = paths[lib];\n",
       "        });\n",
       "    }\n",
       "\n",
       "    function showError(err) {\n",
       "      outputDiv.innerHTML = `<div class=\"error\" style=\"color:red;\">${err}</div>`;\n",
       "      throw err;\n",
       "    }\n",
       "\n",
       "    function displayChart(vegaEmbed) {\n",
       "      vegaEmbed(outputDiv, spec, embedOpt)\n",
       "        .catch(err => showError(`Javascript Error: ${err.message}<br>This usually means there's a typo in your chart specification. See the javascript console for the full traceback.`));\n",
       "    }\n",
       "\n",
       "    if(typeof define === \"function\" && define.amd) {\n",
       "      requirejs.config({paths});\n",
       "      require([\"vega-embed\"], displayChart, err => showError(`Error loading script: ${err.message}`));\n",
       "    } else {\n",
       "      maybeLoadScript(\"vega\", \"5\")\n",
       "        .then(() => maybeLoadScript(\"vega-lite\", \"5.8.0\"))\n",
       "        .then(() => maybeLoadScript(\"vega-embed\", \"6\"))\n",
       "        .catch(showError)\n",
       "        .then(() => displayChart(vegaEmbed));\n",
       "    }\n",
       "  })({\"config\": {\"view\": {\"continuousWidth\": 300, \"continuousHeight\": 300}}, \"data\": {\"name\": \"data-95836aeeb9ae4d0d79d900ac50158f3f\"}, \"mark\": {\"type\": \"bar\"}, \"encoding\": {\"x\": {\"field\": \"total_fine\", \"title\": \"Binned Fine\", \"type\": \"ordinal\"}, \"y\": {\"field\": \"n_dockets\", \"title\": \"Number of Dockets\", \"type\": \"quantitative\"}}, \"height\": 400, \"width\": 600, \"$schema\": \"https://vega.github.io/schema/vega-lite/v5.8.0.json\", \"datasets\": {\"data-95836aeeb9ae4d0d79d900ac50158f3f\": [{\"total_fine\": 0.0, \"n_dockets\": 187}, {\"total_fine\": 50.0, \"n_dockets\": 115}, {\"total_fine\": 55.0, \"n_dockets\": 1}, {\"total_fine\": 60.0, \"n_dockets\": 1}, {\"total_fine\": 80.0, \"n_dockets\": 6}, {\"total_fine\": 100.0, \"n_dockets\": 9}, {\"total_fine\": 110.0, \"n_dockets\": 64}, {\"total_fine\": 150.0, \"n_dockets\": 705}, {\"total_fine\": 160.0, \"n_dockets\": 1}, {\"total_fine\": 200.0, \"n_dockets\": 15}, {\"total_fine\": 230.0, \"n_dockets\": 1}, {\"total_fine\": 250.0, \"n_dockets\": 2}, {\"total_fine\": 260.0, \"n_dockets\": 19}, {\"total_fine\": 290.0, \"n_dockets\": 2}, {\"total_fine\": 300.0, \"n_dockets\": 9}, {\"total_fine\": 350.0, \"n_dockets\": 1}, {\"total_fine\": 360.0, \"n_dockets\": 1}, {\"total_fine\": 400.0, \"n_dockets\": 1}, {\"total_fine\": 450.0, \"n_dockets\": 15}, {\"total_fine\": 500.0, \"n_dockets\": 546}, {\"total_fine\": 550.0, \"n_dockets\": 30}, {\"total_fine\": 570.0, \"n_dockets\": 1}, {\"total_fine\": 590.0, \"n_dockets\": 1}, {\"total_fine\": 599.0, \"n_dockets\": 1}, {\"total_fine\": 600.0, \"n_dockets\": 29}, {\"total_fine\": 610.0, \"n_dockets\": 3}, {\"total_fine\": 650.0, \"n_dockets\": 95}, {\"total_fine\": 690.0, \"n_dockets\": 1}, {\"total_fine\": 700.0, \"n_dockets\": 4}, {\"total_fine\": 725.0, \"n_dockets\": 1}, {\"total_fine\": 750.0, \"n_dockets\": 3}, {\"total_fine\": 760.0, \"n_dockets\": 1}, {\"total_fine\": 800.0, \"n_dockets\": 1}, {\"total_fine\": 850.0, \"n_dockets\": 1}, {\"total_fine\": 900.0, \"n_dockets\": 3}, {\"total_fine\": 1000.0, \"n_dockets\": 2}, {\"total_fine\": 1050.0, \"n_dockets\": 1}, {\"total_fine\": 1100.0, \"n_dockets\": 21}, {\"total_fine\": 1400.0, \"n_dockets\": 2}, {\"total_fine\": 1500.0, \"n_dockets\": 1}, {\"total_fine\": 1550.0, \"n_dockets\": 1}, {\"total_fine\": 1750.0, \"n_dockets\": 1}, {\"total_fine\": 2100.0, \"n_dockets\": 1}, {\"total_fine\": 2300.0, \"n_dockets\": 2}, {\"total_fine\": 3000.0, \"n_dockets\": 1}, {\"total_fine\": 3200.0, \"n_dockets\": 1}, {\"total_fine\": 6500.0, \"n_dockets\": 1}, {\"total_fine\": 8300.0, \"n_dockets\": 1}]}}, {\"mode\": \"vega-lite\"});\n",
       "</script>"
      ],
      "text/plain": [
       "alt.Chart(...)"
      ]
     },
     "metadata": {},
     "output_type": "display_data"
    }
   ],
   "source": [
    "chart = alt.Chart(df_fines).mark_bar().encode(\n",
    "    x=alt.X('total_fine:O', title = 'Binned Fine'),\n",
    "    y=alt.Y('n_dockets:Q', title='Number of Dockets')\n",
    ").properties(\n",
    "    width=600,\n",
    "    height=400\n",
    ")\n",
    "\n",
    "chart.display()"
   ]
  },
  {
   "cell_type": "code",
   "execution_count": 7,
   "id": "ad9ee6ef",
   "metadata": {},
   "outputs": [
    {
     "name": "stderr",
     "output_type": "stream",
     "text": [
      "/tmp/ipykernel_1703/2177724273.py:6: FutureWarning: The default of observed=False is deprecated and will be changed to True in a future version of pandas. Pass observed=False to retain current behavior or observed=True to adopt the future default and silence this warning.\n",
      "  df_fines_binned = df_dockets.groupby('binned_fine')['docket'].count().reset_index(name='n_dockets')\n"
     ]
    },
    {
     "data": {
      "text/html": [
       "<div>\n",
       "<style scoped>\n",
       "    .dataframe tbody tr th:only-of-type {\n",
       "        vertical-align: middle;\n",
       "    }\n",
       "\n",
       "    .dataframe tbody tr th {\n",
       "        vertical-align: top;\n",
       "    }\n",
       "\n",
       "    .dataframe thead th {\n",
       "        text-align: right;\n",
       "    }\n",
       "</style>\n",
       "<table border=\"1\" class=\"dataframe\">\n",
       "  <thead>\n",
       "    <tr style=\"text-align: right;\">\n",
       "      <th></th>\n",
       "      <th>binned_fine</th>\n",
       "      <th>n_dockets</th>\n",
       "    </tr>\n",
       "  </thead>\n",
       "  <tbody>\n",
       "    <tr>\n",
       "      <th>0</th>\n",
       "      <td>0</td>\n",
       "      <td>187</td>\n",
       "    </tr>\n",
       "    <tr>\n",
       "      <th>1</th>\n",
       "      <td>1-149</td>\n",
       "      <td>196</td>\n",
       "    </tr>\n",
       "    <tr>\n",
       "      <th>2</th>\n",
       "      <td>150</td>\n",
       "      <td>705</td>\n",
       "    </tr>\n",
       "    <tr>\n",
       "      <th>3</th>\n",
       "      <td>151-499</td>\n",
       "      <td>67</td>\n",
       "    </tr>\n",
       "    <tr>\n",
       "      <th>4</th>\n",
       "      <td>500</td>\n",
       "      <td>546</td>\n",
       "    </tr>\n",
       "    <tr>\n",
       "      <th>5</th>\n",
       "      <td>501-8300</td>\n",
       "      <td>211</td>\n",
       "    </tr>\n",
       "  </tbody>\n",
       "</table>\n",
       "</div>"
      ],
      "text/plain": [
       "  binned_fine  n_dockets\n",
       "0           0        187\n",
       "1       1-149        196\n",
       "2         150        705\n",
       "3     151-499         67\n",
       "4         500        546\n",
       "5    501-8300        211"
      ]
     },
     "execution_count": 7,
     "metadata": {},
     "output_type": "execute_result"
    }
   ],
   "source": [
    "bins = [0, 1, 150, 151, 500, 501, 8301]\n",
    "labels = ['0', '1-149', '150', '151-499', '500', '501-8300']\n",
    "\n",
    "df_dockets['binned_fine'] = pd.cut(df_dockets['total_fine'], bins=bins, labels=labels, right=False, include_lowest=True)\n",
    "\n",
    "df_fines_binned = df_dockets.groupby('binned_fine')['docket'].count().reset_index(name='n_dockets')\n",
    "df_fines_binned"
   ]
  },
  {
   "cell_type": "code",
   "execution_count": 8,
   "id": "189223c0",
   "metadata": {},
   "outputs": [
    {
     "data": {
      "text/html": [
       "\n",
       "<style>\n",
       "  #altair-viz-3e65825621dc42558d2ebca90f5eb1f4.vega-embed {\n",
       "    width: 100%;\n",
       "    display: flex;\n",
       "  }\n",
       "\n",
       "  #altair-viz-3e65825621dc42558d2ebca90f5eb1f4.vega-embed details,\n",
       "  #altair-viz-3e65825621dc42558d2ebca90f5eb1f4.vega-embed details summary {\n",
       "    position: relative;\n",
       "  }\n",
       "</style>\n",
       "<div id=\"altair-viz-3e65825621dc42558d2ebca90f5eb1f4\"></div>\n",
       "<script type=\"text/javascript\">\n",
       "  var VEGA_DEBUG = (typeof VEGA_DEBUG == \"undefined\") ? {} : VEGA_DEBUG;\n",
       "  (function(spec, embedOpt){\n",
       "    let outputDiv = document.currentScript.previousElementSibling;\n",
       "    if (outputDiv.id !== \"altair-viz-3e65825621dc42558d2ebca90f5eb1f4\") {\n",
       "      outputDiv = document.getElementById(\"altair-viz-3e65825621dc42558d2ebca90f5eb1f4\");\n",
       "    }\n",
       "    const paths = {\n",
       "      \"vega\": \"https://cdn.jsdelivr.net/npm/vega@5?noext\",\n",
       "      \"vega-lib\": \"https://cdn.jsdelivr.net/npm/vega-lib?noext\",\n",
       "      \"vega-lite\": \"https://cdn.jsdelivr.net/npm/vega-lite@5.8.0?noext\",\n",
       "      \"vega-embed\": \"https://cdn.jsdelivr.net/npm/vega-embed@6?noext\",\n",
       "    };\n",
       "\n",
       "    function maybeLoadScript(lib, version) {\n",
       "      var key = `${lib.replace(\"-\", \"\")}_version`;\n",
       "      return (VEGA_DEBUG[key] == version) ?\n",
       "        Promise.resolve(paths[lib]) :\n",
       "        new Promise(function(resolve, reject) {\n",
       "          var s = document.createElement('script');\n",
       "          document.getElementsByTagName(\"head\")[0].appendChild(s);\n",
       "          s.async = true;\n",
       "          s.onload = () => {\n",
       "            VEGA_DEBUG[key] = version;\n",
       "            return resolve(paths[lib]);\n",
       "          };\n",
       "          s.onerror = () => reject(`Error loading script: ${paths[lib]}`);\n",
       "          s.src = paths[lib];\n",
       "        });\n",
       "    }\n",
       "\n",
       "    function showError(err) {\n",
       "      outputDiv.innerHTML = `<div class=\"error\" style=\"color:red;\">${err}</div>`;\n",
       "      throw err;\n",
       "    }\n",
       "\n",
       "    function displayChart(vegaEmbed) {\n",
       "      vegaEmbed(outputDiv, spec, embedOpt)\n",
       "        .catch(err => showError(`Javascript Error: ${err.message}<br>This usually means there's a typo in your chart specification. See the javascript console for the full traceback.`));\n",
       "    }\n",
       "\n",
       "    if(typeof define === \"function\" && define.amd) {\n",
       "      requirejs.config({paths});\n",
       "      require([\"vega-embed\"], displayChart, err => showError(`Error loading script: ${err.message}`));\n",
       "    } else {\n",
       "      maybeLoadScript(\"vega\", \"5\")\n",
       "        .then(() => maybeLoadScript(\"vega-lite\", \"5.8.0\"))\n",
       "        .then(() => maybeLoadScript(\"vega-embed\", \"6\"))\n",
       "        .catch(showError)\n",
       "        .then(() => displayChart(vegaEmbed));\n",
       "    }\n",
       "  })({\"config\": {\"view\": {\"continuousWidth\": 300, \"continuousHeight\": 300}}, \"data\": {\"name\": \"data-f35f504d0ddbd946c8ac4a5274941a14\"}, \"mark\": {\"type\": \"bar\"}, \"encoding\": {\"x\": {\"field\": \"binned_fine\", \"title\": \"Binned Fine\", \"type\": \"ordinal\"}, \"y\": {\"field\": \"n_dockets\", \"title\": \"Number of Dockets\", \"type\": \"quantitative\"}}, \"height\": 400, \"width\": 600, \"$schema\": \"https://vega.github.io/schema/vega-lite/v5.8.0.json\", \"datasets\": {\"data-f35f504d0ddbd946c8ac4a5274941a14\": [{\"binned_fine\": \"0\", \"n_dockets\": 187}, {\"binned_fine\": \"1-149\", \"n_dockets\": 196}, {\"binned_fine\": \"150\", \"n_dockets\": 705}, {\"binned_fine\": \"151-499\", \"n_dockets\": 67}, {\"binned_fine\": \"500\", \"n_dockets\": 546}, {\"binned_fine\": \"501-8300\", \"n_dockets\": 211}]}}, {\"mode\": \"vega-lite\"});\n",
       "</script>"
      ],
      "text/plain": [
       "alt.Chart(...)"
      ]
     },
     "metadata": {},
     "output_type": "display_data"
    }
   ],
   "source": [
    "chart = alt.Chart(df_fines_binned).mark_bar().encode(\n",
    "    x=alt.X('binned_fine:O', title = 'Binned Fine'),\n",
    "    y=alt.Y('n_dockets:Q', title='Number of Dockets')\n",
    ").properties(\n",
    "    width=600,\n",
    "    height=400\n",
    ")\n",
    "\n",
    "chart.display()"
   ]
  },
  {
   "cell_type": "code",
   "execution_count": null,
   "id": "c2e66993",
   "metadata": {},
   "outputs": [],
   "source": []
  }
 ],
 "metadata": {
  "kernelspec": {
   "display_name": "Python 3 (ipykernel)",
   "language": "python",
   "name": "python3"
  },
  "language_info": {
   "codemirror_mode": {
    "name": "ipython",
    "version": 3
   },
   "file_extension": ".py",
   "mimetype": "text/x-python",
   "name": "python",
   "nbconvert_exporter": "python",
   "pygments_lexer": "ipython3",
   "version": "3.10.12"
  }
 },
 "nbformat": 4,
 "nbformat_minor": 5
}
