{
 "cells": [
  {
   "cell_type": "markdown",
   "id": "a000f7e7",
   "metadata": {},
   "source": [
    "# Match Fines to Streets and Sans Citations\n",
    "2/24/24\n",
    "\n",
    "This notebook connects fines for unshoveled sidewalks to citations from the Streets and Sanitation department, based on data from two distinct FOIA responses:\n",
    "\n",
    "|Source|Description|Filename|\n",
    "|---|---|---|\n",
    "|Administrative Hearings|citations from January 1, 2019 to the present, related to uncleared sidewalks following snowfall|[FOIA-H064920-011124-snow-clearance-fines.csv](../data/01-raw/FOIA-H064920-011124-snow-clearance-fines.csv)|\n",
    "|Streets and Sanitation|citations from July 1, 2019 to the present, related to uncleared sidewalks following snowfall|[FOIA F067484-021424- streets and san snow clearance citations.csv](../data/01-raw/FOIA-F067484-021424-streets-and-san-snow-clearance-citations.csv)|"
   ]
  },
  {
   "cell_type": "markdown",
   "id": "526ce3c6",
   "metadata": {},
   "source": [
    "### questions this analysis raises\n",
    "what are incident types?\n",
    "* DSS_OTHER\n",
    "* VACANT_LOT\n",
    "* DSS_DUMPSTER\n",
    "* LOT_CLEANING\n",
    "* TRASH_JUNK\n",
    "* WEED_CUTTING\n",
    "\n",
    "what are the dispositions?\n",
    "\n",
    "DISPOSITION\n",
    "* Liable\n",
    "* Default\n",
    "* Non-Suit\n",
    "* Not Liable\n",
    "* Dismissed Without Prejudice"
   ]
  },
  {
   "cell_type": "markdown",
   "id": "4429f6f1",
   "metadata": {},
   "source": [
    "# 1. Assess Streets and Sans Citations Dataset"
   ]
  },
  {
   "cell_type": "markdown",
   "id": "7bb94309",
   "metadata": {},
   "source": [
    "### takeaways about the dataset\n",
    "<ul>\n",
    "    <li>649 citations provided in the Streets and Sans dataset; of these:\n",
    "            <ul>\n",
    "                <li>597 have a unique docket number\n",
    "                <li>52 have no docket assigned\n",
    "            </ul>\n",
    "    <li>Unique identifier is DOCKET NUMBER\n",
    "    <li>all 497 of Streets and Sans records from Admin Hearings fines dataset are matched\n",
    "        <li>this provides three potentially useful fields: VIOLATION CODE, INCIDENT TYPE, DISPOSITION\n",
    "    </ul>"
   ]
  },
  {
   "cell_type": "code",
   "execution_count": 1,
   "id": "e6091bde",
   "metadata": {},
   "outputs": [],
   "source": [
    "import pandas as pd"
   ]
  },
  {
   "cell_type": "markdown",
   "id": "c2552e28",
   "metadata": {},
   "source": [
    "### read citations dataset"
   ]
  },
  {
   "cell_type": "code",
   "execution_count": 2,
   "id": "61ae84a6",
   "metadata": {
    "scrolled": true
   },
   "outputs": [
    {
     "data": {
      "text/html": [
       "<div>\n",
       "<style scoped>\n",
       "    .dataframe tbody tr th:only-of-type {\n",
       "        vertical-align: middle;\n",
       "    }\n",
       "\n",
       "    .dataframe tbody tr th {\n",
       "        vertical-align: top;\n",
       "    }\n",
       "\n",
       "    .dataframe thead th {\n",
       "        text-align: right;\n",
       "    }\n",
       "</style>\n",
       "<table border=\"1\" class=\"dataframe\">\n",
       "  <thead>\n",
       "    <tr style=\"text-align: right;\">\n",
       "      <th></th>\n",
       "      <th>INSPECTOR NAME</th>\n",
       "      <th>INSPECTOR BADGE</th>\n",
       "      <th>VIOLATION CODE</th>\n",
       "      <th>INCIDENT TYPE</th>\n",
       "      <th>VIOLATION TYPE</th>\n",
       "      <th>DATE OF VIOLATION</th>\n",
       "      <th>INCIDENT NUMBER</th>\n",
       "      <th>DOCKET NUMBER</th>\n",
       "      <th>DEPARTMENT</th>\n",
       "      <th>DISPOSITION</th>\n",
       "      <th>WARD</th>\n",
       "      <th>DISTRICT</th>\n",
       "      <th>BEAT</th>\n",
       "      <th>PRECINCT</th>\n",
       "      <th>ADDRESS</th>\n",
       "      <th>CENTRAL BUSINESS DIST</th>\n",
       "    </tr>\n",
       "  </thead>\n",
       "  <tbody>\n",
       "    <tr>\n",
       "      <th>0</th>\n",
       "      <td>Hal Eason</td>\n",
       "      <td>1302</td>\n",
       "      <td>10-8-180; 7-28-450(a); 7-28-710</td>\n",
       "      <td>DSS_OTHER</td>\n",
       "      <td>PROPERTY</td>\n",
       "      <td>Jan-24-2024</td>\n",
       "      <td>551421</td>\n",
       "      <td>NaN</td>\n",
       "      <td>DSS</td>\n",
       "      <td>NaN</td>\n",
       "      <td>9</td>\n",
       "      <td>5.0</td>\n",
       "      <td>532.0</td>\n",
       "      <td>NaN</td>\n",
       "      <td>12411 S MICHIGAN AVE, Chicago, IL 60628</td>\n",
       "      <td>NaN</td>\n",
       "    </tr>\n",
       "    <tr>\n",
       "      <th>1</th>\n",
       "      <td>RANDY MOSBY</td>\n",
       "      <td>1517</td>\n",
       "      <td>10-8-180; 7-28-260(a); 7-28-261(b); 7-28-710</td>\n",
       "      <td>DSS_OTHER</td>\n",
       "      <td>PROPERTY</td>\n",
       "      <td>Jan-23-2024</td>\n",
       "      <td>551360</td>\n",
       "      <td>NaN</td>\n",
       "      <td>DSS</td>\n",
       "      <td>NaN</td>\n",
       "      <td>16</td>\n",
       "      <td>7.0</td>\n",
       "      <td>715.0</td>\n",
       "      <td>NaN</td>\n",
       "      <td>5757 S MARSHFIELD AVE, Chicago, IL 60636</td>\n",
       "      <td>NaN</td>\n",
       "    </tr>\n",
       "    <tr>\n",
       "      <th>2</th>\n",
       "      <td>DANIEL HUICOCHEA</td>\n",
       "      <td>1519</td>\n",
       "      <td>10-8-180</td>\n",
       "      <td>DSS_OTHER</td>\n",
       "      <td>PROPERTY</td>\n",
       "      <td>Jan-22-2024</td>\n",
       "      <td>551338</td>\n",
       "      <td>NaN</td>\n",
       "      <td>DSS</td>\n",
       "      <td>NaN</td>\n",
       "      <td>14</td>\n",
       "      <td>8.0</td>\n",
       "      <td>824.0</td>\n",
       "      <td>NaN</td>\n",
       "      <td>3101 W 59TH ST, Chicago, IL 60629</td>\n",
       "      <td>NaN</td>\n",
       "    </tr>\n",
       "    <tr>\n",
       "      <th>3</th>\n",
       "      <td>Marchelle Collins</td>\n",
       "      <td>1514</td>\n",
       "      <td>10-8-180; 7-28-060</td>\n",
       "      <td>DSS_OTHER</td>\n",
       "      <td>PROPERTY</td>\n",
       "      <td>Jan-22-2024</td>\n",
       "      <td>551336</td>\n",
       "      <td>NaN</td>\n",
       "      <td>DSS</td>\n",
       "      <td>NaN</td>\n",
       "      <td>3</td>\n",
       "      <td>1.0</td>\n",
       "      <td>133.0</td>\n",
       "      <td>NaN</td>\n",
       "      <td>2620 S DEARBORN ST, Chicago, IL 60616</td>\n",
       "      <td>NaN</td>\n",
       "    </tr>\n",
       "    <tr>\n",
       "      <th>4</th>\n",
       "      <td>Michael Caputo</td>\n",
       "      <td>1492</td>\n",
       "      <td>10-8-180</td>\n",
       "      <td>DSS_OTHER</td>\n",
       "      <td>PROPERTY</td>\n",
       "      <td>Jan-19-2024</td>\n",
       "      <td>551262</td>\n",
       "      <td>24DS01697M</td>\n",
       "      <td>DSS</td>\n",
       "      <td>Not Liable</td>\n",
       "      <td>38</td>\n",
       "      <td>16.0</td>\n",
       "      <td>1614.0</td>\n",
       "      <td>NaN</td>\n",
       "      <td>8354 W IRVING PARK RD, Chicago, IL 60634</td>\n",
       "      <td>NaN</td>\n",
       "    </tr>\n",
       "  </tbody>\n",
       "</table>\n",
       "</div>"
      ],
      "text/plain": [
       "      INSPECTOR NAME  INSPECTOR BADGE  \\\n",
       "0          Hal Eason             1302   \n",
       "1        RANDY MOSBY             1517   \n",
       "2   DANIEL HUICOCHEA             1519   \n",
       "3  Marchelle Collins             1514   \n",
       "4     Michael Caputo             1492   \n",
       "\n",
       "                                 VIOLATION CODE INCIDENT TYPE VIOLATION TYPE  \\\n",
       "0               10-8-180; 7-28-450(a); 7-28-710     DSS_OTHER       PROPERTY   \n",
       "1  10-8-180; 7-28-260(a); 7-28-261(b); 7-28-710     DSS_OTHER       PROPERTY   \n",
       "2                                      10-8-180     DSS_OTHER       PROPERTY   \n",
       "3                            10-8-180; 7-28-060     DSS_OTHER       PROPERTY   \n",
       "4                                      10-8-180     DSS_OTHER       PROPERTY   \n",
       "\n",
       "  DATE OF VIOLATION  INCIDENT NUMBER DOCKET NUMBER DEPARTMENT DISPOSITION  \\\n",
       "0       Jan-24-2024           551421           NaN        DSS         NaN   \n",
       "1       Jan-23-2024           551360           NaN        DSS         NaN   \n",
       "2       Jan-22-2024           551338           NaN        DSS         NaN   \n",
       "3       Jan-22-2024           551336           NaN        DSS         NaN   \n",
       "4       Jan-19-2024           551262    24DS01697M        DSS  Not Liable   \n",
       "\n",
       "   WARD  DISTRICT    BEAT  PRECINCT                                   ADDRESS  \\\n",
       "0     9       5.0   532.0       NaN   12411 S MICHIGAN AVE, Chicago, IL 60628   \n",
       "1    16       7.0   715.0       NaN  5757 S MARSHFIELD AVE, Chicago, IL 60636   \n",
       "2    14       8.0   824.0       NaN         3101 W 59TH ST, Chicago, IL 60629   \n",
       "3     3       1.0   133.0       NaN     2620 S DEARBORN ST, Chicago, IL 60616   \n",
       "4    38      16.0  1614.0       NaN  8354 W IRVING PARK RD, Chicago, IL 60634   \n",
       "\n",
       "   CENTRAL BUSINESS DIST  \n",
       "0                    NaN  \n",
       "1                    NaN  \n",
       "2                    NaN  \n",
       "3                    NaN  \n",
       "4                    NaN  "
      ]
     },
     "execution_count": 2,
     "metadata": {},
     "output_type": "execute_result"
    }
   ],
   "source": [
    "df_streets_citations = pd.read_csv(\"../data/01-raw/FOIA-F067484-021424-snow-citations-streets-and-san.csv\")\n",
    "df_streets_citations.head()"
   ]
  },
  {
   "cell_type": "code",
   "execution_count": 3,
   "id": "a1dcddc6",
   "metadata": {},
   "outputs": [
    {
     "data": {
      "text/plain": [
       "649"
      ]
     },
     "execution_count": 3,
     "metadata": {},
     "output_type": "execute_result"
    }
   ],
   "source": [
    "len(df_streets_citations)"
   ]
  },
  {
   "cell_type": "code",
   "execution_count": 4,
   "id": "988a80ad",
   "metadata": {},
   "outputs": [
    {
     "data": {
      "text/plain": [
       "52"
      ]
     },
     "execution_count": 4,
     "metadata": {},
     "output_type": "execute_result"
    }
   ],
   "source": [
    "len(df_streets_citations[df_streets_citations['DOCKET NUMBER'].isna()])"
   ]
  },
  {
   "cell_type": "code",
   "execution_count": 5,
   "id": "e50d5639",
   "metadata": {},
   "outputs": [
    {
     "data": {
      "text/plain": [
       "597"
      ]
     },
     "execution_count": 5,
     "metadata": {},
     "output_type": "execute_result"
    }
   ],
   "source": [
    "df_streets_citations['DOCKET NUMBER'].nunique()"
   ]
  },
  {
   "cell_type": "code",
   "execution_count": 6,
   "id": "3f28baf6",
   "metadata": {},
   "outputs": [
    {
     "data": {
      "text/html": [
       "<div>\n",
       "<style scoped>\n",
       "    .dataframe tbody tr th:only-of-type {\n",
       "        vertical-align: middle;\n",
       "    }\n",
       "\n",
       "    .dataframe tbody tr th {\n",
       "        vertical-align: top;\n",
       "    }\n",
       "\n",
       "    .dataframe thead th {\n",
       "        text-align: right;\n",
       "    }\n",
       "</style>\n",
       "<table border=\"1\" class=\"dataframe\">\n",
       "  <thead>\n",
       "    <tr style=\"text-align: right;\">\n",
       "      <th></th>\n",
       "      <th>INSPECTOR NAME</th>\n",
       "      <th>n</th>\n",
       "    </tr>\n",
       "  </thead>\n",
       "  <tbody>\n",
       "    <tr>\n",
       "      <th>14</th>\n",
       "      <td>Francisco Arroyo</td>\n",
       "      <td>217</td>\n",
       "    </tr>\n",
       "    <tr>\n",
       "      <th>11</th>\n",
       "      <td>Donte Winston</td>\n",
       "      <td>103</td>\n",
       "    </tr>\n",
       "    <tr>\n",
       "      <th>31</th>\n",
       "      <td>Nathan Wilson</td>\n",
       "      <td>58</td>\n",
       "    </tr>\n",
       "    <tr>\n",
       "      <th>9</th>\n",
       "      <td>Danny Murphy</td>\n",
       "      <td>42</td>\n",
       "    </tr>\n",
       "    <tr>\n",
       "      <th>39</th>\n",
       "      <td>Reginald Garrett</td>\n",
       "      <td>34</td>\n",
       "    </tr>\n",
       "    <tr>\n",
       "      <th>49</th>\n",
       "      <td>William Hohenadel</td>\n",
       "      <td>27</td>\n",
       "    </tr>\n",
       "    <tr>\n",
       "      <th>15</th>\n",
       "      <td>Gary Thomas</td>\n",
       "      <td>24</td>\n",
       "    </tr>\n",
       "    <tr>\n",
       "      <th>0</th>\n",
       "      <td>Adam Corona</td>\n",
       "      <td>21</td>\n",
       "    </tr>\n",
       "    <tr>\n",
       "      <th>44</th>\n",
       "      <td>Shawn Bradley</td>\n",
       "      <td>16</td>\n",
       "    </tr>\n",
       "    <tr>\n",
       "      <th>38</th>\n",
       "      <td>Rafael Coreas</td>\n",
       "      <td>15</td>\n",
       "    </tr>\n",
       "    <tr>\n",
       "      <th>32</th>\n",
       "      <td>Nathaniel Boston</td>\n",
       "      <td>11</td>\n",
       "    </tr>\n",
       "    <tr>\n",
       "      <th>24</th>\n",
       "      <td>Marcello Siggers</td>\n",
       "      <td>8</td>\n",
       "    </tr>\n",
       "    <tr>\n",
       "      <th>4</th>\n",
       "      <td>CHARLES SIKANICH</td>\n",
       "      <td>8</td>\n",
       "    </tr>\n",
       "    <tr>\n",
       "      <th>41</th>\n",
       "      <td>Sandra Jones</td>\n",
       "      <td>5</td>\n",
       "    </tr>\n",
       "    <tr>\n",
       "      <th>26</th>\n",
       "      <td>Martin Casey</td>\n",
       "      <td>5</td>\n",
       "    </tr>\n",
       "    <tr>\n",
       "      <th>3</th>\n",
       "      <td>Antonio Reynolds</td>\n",
       "      <td>4</td>\n",
       "    </tr>\n",
       "    <tr>\n",
       "      <th>1</th>\n",
       "      <td>Alejandro Monzon</td>\n",
       "      <td>4</td>\n",
       "    </tr>\n",
       "    <tr>\n",
       "      <th>29</th>\n",
       "      <td>Mike Restivo</td>\n",
       "      <td>3</td>\n",
       "    </tr>\n",
       "    <tr>\n",
       "      <th>46</th>\n",
       "      <td>Thomas Kostrzeski</td>\n",
       "      <td>3</td>\n",
       "    </tr>\n",
       "    <tr>\n",
       "      <th>30</th>\n",
       "      <td>Moeen Zahdan</td>\n",
       "      <td>2</td>\n",
       "    </tr>\n",
       "    <tr>\n",
       "      <th>2</th>\n",
       "      <td>Anthony Coppolillo</td>\n",
       "      <td>2</td>\n",
       "    </tr>\n",
       "    <tr>\n",
       "      <th>28</th>\n",
       "      <td>Michael Hehn</td>\n",
       "      <td>2</td>\n",
       "    </tr>\n",
       "    <tr>\n",
       "      <th>27</th>\n",
       "      <td>Michael Caputo</td>\n",
       "      <td>2</td>\n",
       "    </tr>\n",
       "    <tr>\n",
       "      <th>21</th>\n",
       "      <td>Luis Pena</td>\n",
       "      <td>2</td>\n",
       "    </tr>\n",
       "    <tr>\n",
       "      <th>23</th>\n",
       "      <td>Manuel Heredia</td>\n",
       "      <td>2</td>\n",
       "    </tr>\n",
       "    <tr>\n",
       "      <th>22</th>\n",
       "      <td>MAC ZURAWSKI</td>\n",
       "      <td>2</td>\n",
       "    </tr>\n",
       "    <tr>\n",
       "      <th>18</th>\n",
       "      <td>Ibrahim Okoe</td>\n",
       "      <td>2</td>\n",
       "    </tr>\n",
       "    <tr>\n",
       "      <th>42</th>\n",
       "      <td>Scott Jaburek</td>\n",
       "      <td>2</td>\n",
       "    </tr>\n",
       "    <tr>\n",
       "      <th>43</th>\n",
       "      <td>Sean Bradley</td>\n",
       "      <td>2</td>\n",
       "    </tr>\n",
       "    <tr>\n",
       "      <th>36</th>\n",
       "      <td>Pete Tortorice</td>\n",
       "      <td>1</td>\n",
       "    </tr>\n",
       "    <tr>\n",
       "      <th>40</th>\n",
       "      <td>Rocco Markese</td>\n",
       "      <td>1</td>\n",
       "    </tr>\n",
       "    <tr>\n",
       "      <th>45</th>\n",
       "      <td>Shawn Smith</td>\n",
       "      <td>1</td>\n",
       "    </tr>\n",
       "    <tr>\n",
       "      <th>47</th>\n",
       "      <td>Thomas Stovall</td>\n",
       "      <td>1</td>\n",
       "    </tr>\n",
       "    <tr>\n",
       "      <th>48</th>\n",
       "      <td>Timothy Hall</td>\n",
       "      <td>1</td>\n",
       "    </tr>\n",
       "    <tr>\n",
       "      <th>37</th>\n",
       "      <td>RANDY MOSBY</td>\n",
       "      <td>1</td>\n",
       "    </tr>\n",
       "    <tr>\n",
       "      <th>8</th>\n",
       "      <td>DANIEL HUICOCHEA</td>\n",
       "      <td>1</td>\n",
       "    </tr>\n",
       "    <tr>\n",
       "      <th>35</th>\n",
       "      <td>Patrick Heffernan</td>\n",
       "      <td>1</td>\n",
       "    </tr>\n",
       "    <tr>\n",
       "      <th>34</th>\n",
       "      <td>PHILIP MICHALIK</td>\n",
       "      <td>1</td>\n",
       "    </tr>\n",
       "    <tr>\n",
       "      <th>33</th>\n",
       "      <td>Orven  Rivera</td>\n",
       "      <td>1</td>\n",
       "    </tr>\n",
       "    <tr>\n",
       "      <th>7</th>\n",
       "      <td>Cynthia Brown</td>\n",
       "      <td>1</td>\n",
       "    </tr>\n",
       "    <tr>\n",
       "      <th>20</th>\n",
       "      <td>Kenneth Austin</td>\n",
       "      <td>1</td>\n",
       "    </tr>\n",
       "    <tr>\n",
       "      <th>19</th>\n",
       "      <td>Josalyn Drain</td>\n",
       "      <td>1</td>\n",
       "    </tr>\n",
       "    <tr>\n",
       "      <th>17</th>\n",
       "      <td>Hal Eason</td>\n",
       "      <td>1</td>\n",
       "    </tr>\n",
       "    <tr>\n",
       "      <th>16</th>\n",
       "      <td>George Lawson</td>\n",
       "      <td>1</td>\n",
       "    </tr>\n",
       "    <tr>\n",
       "      <th>5</th>\n",
       "      <td>Carolyn Crump</td>\n",
       "      <td>1</td>\n",
       "    </tr>\n",
       "    <tr>\n",
       "      <th>13</th>\n",
       "      <td>Erick Norton</td>\n",
       "      <td>1</td>\n",
       "    </tr>\n",
       "    <tr>\n",
       "      <th>12</th>\n",
       "      <td>Edward Fernandez</td>\n",
       "      <td>1</td>\n",
       "    </tr>\n",
       "    <tr>\n",
       "      <th>6</th>\n",
       "      <td>Curtis McDaniel</td>\n",
       "      <td>1</td>\n",
       "    </tr>\n",
       "    <tr>\n",
       "      <th>10</th>\n",
       "      <td>David  Krating</td>\n",
       "      <td>1</td>\n",
       "    </tr>\n",
       "    <tr>\n",
       "      <th>25</th>\n",
       "      <td>Marchelle Collins</td>\n",
       "      <td>1</td>\n",
       "    </tr>\n",
       "  </tbody>\n",
       "</table>\n",
       "</div>"
      ],
      "text/plain": [
       "        INSPECTOR NAME    n\n",
       "14    Francisco Arroyo  217\n",
       "11       Donte Winston  103\n",
       "31       Nathan Wilson   58\n",
       "9         Danny Murphy   42\n",
       "39    Reginald Garrett   34\n",
       "49   William Hohenadel   27\n",
       "15         Gary Thomas   24\n",
       "0          Adam Corona   21\n",
       "44       Shawn Bradley   16\n",
       "38       Rafael Coreas   15\n",
       "32    Nathaniel Boston   11\n",
       "24    Marcello Siggers    8\n",
       "4     CHARLES SIKANICH    8\n",
       "41        Sandra Jones    5\n",
       "26        Martin Casey    5\n",
       "3     Antonio Reynolds    4\n",
       "1     Alejandro Monzon    4\n",
       "29        Mike Restivo    3\n",
       "46   Thomas Kostrzeski    3\n",
       "30        Moeen Zahdan    2\n",
       "2   Anthony Coppolillo    2\n",
       "28        Michael Hehn    2\n",
       "27      Michael Caputo    2\n",
       "21           Luis Pena    2\n",
       "23      Manuel Heredia    2\n",
       "22        MAC ZURAWSKI    2\n",
       "18        Ibrahim Okoe    2\n",
       "42       Scott Jaburek    2\n",
       "43        Sean Bradley    2\n",
       "36      Pete Tortorice    1\n",
       "40       Rocco Markese    1\n",
       "45         Shawn Smith    1\n",
       "47      Thomas Stovall    1\n",
       "48        Timothy Hall    1\n",
       "37         RANDY MOSBY    1\n",
       "8     DANIEL HUICOCHEA    1\n",
       "35   Patrick Heffernan    1\n",
       "34     PHILIP MICHALIK    1\n",
       "33       Orven  Rivera    1\n",
       "7        Cynthia Brown    1\n",
       "20      Kenneth Austin    1\n",
       "19       Josalyn Drain    1\n",
       "17           Hal Eason    1\n",
       "16       George Lawson    1\n",
       "5        Carolyn Crump    1\n",
       "13        Erick Norton    1\n",
       "12    Edward Fernandez    1\n",
       "6      Curtis McDaniel    1\n",
       "10      David  Krating    1\n",
       "25   Marchelle Collins    1"
      ]
     },
     "execution_count": 6,
     "metadata": {},
     "output_type": "execute_result"
    }
   ],
   "source": [
    "# inspectors. Note that Francisco Arroyo is the inspector for the 15th ward, Donte Wilson is mostly 16th\n",
    "df_streets_citations.groupby('INSPECTOR NAME').size().reset_index(name=\"n\").sort_values('n', ascending=False)"
   ]
  },
  {
   "cell_type": "code",
   "execution_count": 7,
   "id": "a5b51cc2",
   "metadata": {},
   "outputs": [
    {
     "data": {
      "text/html": [
       "<div>\n",
       "<style scoped>\n",
       "    .dataframe tbody tr th:only-of-type {\n",
       "        vertical-align: middle;\n",
       "    }\n",
       "\n",
       "    .dataframe tbody tr th {\n",
       "        vertical-align: top;\n",
       "    }\n",
       "\n",
       "    .dataframe thead th {\n",
       "        text-align: right;\n",
       "    }\n",
       "</style>\n",
       "<table border=\"1\" class=\"dataframe\">\n",
       "  <thead>\n",
       "    <tr style=\"text-align: right;\">\n",
       "      <th></th>\n",
       "      <th>VIOLATION CODE</th>\n",
       "      <th>n</th>\n",
       "    </tr>\n",
       "  </thead>\n",
       "  <tbody>\n",
       "    <tr>\n",
       "      <th>2</th>\n",
       "      <td>10-8-180</td>\n",
       "      <td>550</td>\n",
       "    </tr>\n",
       "    <tr>\n",
       "      <th>44</th>\n",
       "      <td>10-8-180; 7-28-750(b)</td>\n",
       "      <td>11</td>\n",
       "    </tr>\n",
       "    <tr>\n",
       "      <th>41</th>\n",
       "      <td>10-8-180; 7-28-750(B)</td>\n",
       "      <td>11</td>\n",
       "    </tr>\n",
       "    <tr>\n",
       "      <th>33</th>\n",
       "      <td>10-8-180; 7-28-710</td>\n",
       "      <td>10</td>\n",
       "    </tr>\n",
       "    <tr>\n",
       "      <th>40</th>\n",
       "      <td>10-8-180; 7-28-750(A); 7-28-750(B)</td>\n",
       "      <td>5</td>\n",
       "    </tr>\n",
       "  </tbody>\n",
       "</table>\n",
       "</div>"
      ],
      "text/plain": [
       "                        VIOLATION CODE    n\n",
       "2                             10-8-180  550\n",
       "44               10-8-180; 7-28-750(b)   11\n",
       "41               10-8-180; 7-28-750(B)   11\n",
       "33                  10-8-180; 7-28-710   10\n",
       "40  10-8-180; 7-28-750(A); 7-28-750(B)    5"
      ]
     },
     "execution_count": 7,
     "metadata": {},
     "output_type": "execute_result"
    }
   ],
   "source": [
    "# violation code\n",
    "df_streets_citations.groupby('VIOLATION CODE').size().reset_index(name=\"n\").sort_values('n', ascending=False).head()"
   ]
  },
  {
   "cell_type": "code",
   "execution_count": 8,
   "id": "62b3da89",
   "metadata": {},
   "outputs": [
    {
     "data": {
      "text/html": [
       "<div>\n",
       "<style scoped>\n",
       "    .dataframe tbody tr th:only-of-type {\n",
       "        vertical-align: middle;\n",
       "    }\n",
       "\n",
       "    .dataframe tbody tr th {\n",
       "        vertical-align: top;\n",
       "    }\n",
       "\n",
       "    .dataframe thead th {\n",
       "        text-align: right;\n",
       "    }\n",
       "</style>\n",
       "<table border=\"1\" class=\"dataframe\">\n",
       "  <thead>\n",
       "    <tr style=\"text-align: right;\">\n",
       "      <th></th>\n",
       "      <th>INCIDENT TYPE</th>\n",
       "      <th>n</th>\n",
       "    </tr>\n",
       "  </thead>\n",
       "  <tbody>\n",
       "    <tr>\n",
       "      <th>1</th>\n",
       "      <td>DSS_OTHER</td>\n",
       "      <td>621</td>\n",
       "    </tr>\n",
       "    <tr>\n",
       "      <th>4</th>\n",
       "      <td>VACANT_LOT</td>\n",
       "      <td>9</td>\n",
       "    </tr>\n",
       "    <tr>\n",
       "      <th>0</th>\n",
       "      <td>DSS_DUMPSTER</td>\n",
       "      <td>6</td>\n",
       "    </tr>\n",
       "    <tr>\n",
       "      <th>2</th>\n",
       "      <td>LOT_CLEANING</td>\n",
       "      <td>6</td>\n",
       "    </tr>\n",
       "    <tr>\n",
       "      <th>3</th>\n",
       "      <td>TRASH_JUNK</td>\n",
       "      <td>5</td>\n",
       "    </tr>\n",
       "    <tr>\n",
       "      <th>5</th>\n",
       "      <td>WEED_CUTTING</td>\n",
       "      <td>2</td>\n",
       "    </tr>\n",
       "  </tbody>\n",
       "</table>\n",
       "</div>"
      ],
      "text/plain": [
       "  INCIDENT TYPE    n\n",
       "1     DSS_OTHER  621\n",
       "4    VACANT_LOT    9\n",
       "0  DSS_DUMPSTER    6\n",
       "2  LOT_CLEANING    6\n",
       "3    TRASH_JUNK    5\n",
       "5  WEED_CUTTING    2"
      ]
     },
     "execution_count": 8,
     "metadata": {},
     "output_type": "execute_result"
    }
   ],
   "source": [
    "# incident type\n",
    "df_streets_citations.groupby('INCIDENT TYPE').size().reset_index(name=\"n\").sort_values('n', ascending=False)"
   ]
  },
  {
   "cell_type": "code",
   "execution_count": 9,
   "id": "cddf719f",
   "metadata": {},
   "outputs": [
    {
     "data": {
      "text/html": [
       "<div>\n",
       "<style scoped>\n",
       "    .dataframe tbody tr th:only-of-type {\n",
       "        vertical-align: middle;\n",
       "    }\n",
       "\n",
       "    .dataframe tbody tr th {\n",
       "        vertical-align: top;\n",
       "    }\n",
       "\n",
       "    .dataframe thead th {\n",
       "        text-align: right;\n",
       "    }\n",
       "</style>\n",
       "<table border=\"1\" class=\"dataframe\">\n",
       "  <thead>\n",
       "    <tr style=\"text-align: right;\">\n",
       "      <th></th>\n",
       "      <th>VIOLATION TYPE</th>\n",
       "      <th>n</th>\n",
       "    </tr>\n",
       "  </thead>\n",
       "  <tbody>\n",
       "    <tr>\n",
       "      <th>0</th>\n",
       "      <td>PROPERTY</td>\n",
       "      <td>649</td>\n",
       "    </tr>\n",
       "  </tbody>\n",
       "</table>\n",
       "</div>"
      ],
      "text/plain": [
       "  VIOLATION TYPE    n\n",
       "0       PROPERTY  649"
      ]
     },
     "execution_count": 9,
     "metadata": {},
     "output_type": "execute_result"
    }
   ],
   "source": [
    "# violation type\n",
    "df_streets_citations.groupby('VIOLATION TYPE').size().reset_index(name=\"n\").sort_values('n', ascending=False).head()"
   ]
  },
  {
   "cell_type": "code",
   "execution_count": 10,
   "id": "97a506af",
   "metadata": {},
   "outputs": [
    {
     "data": {
      "text/html": [
       "<div>\n",
       "<style scoped>\n",
       "    .dataframe tbody tr th:only-of-type {\n",
       "        vertical-align: middle;\n",
       "    }\n",
       "\n",
       "    .dataframe tbody tr th {\n",
       "        vertical-align: top;\n",
       "    }\n",
       "\n",
       "    .dataframe thead th {\n",
       "        text-align: right;\n",
       "    }\n",
       "</style>\n",
       "<table border=\"1\" class=\"dataframe\">\n",
       "  <thead>\n",
       "    <tr style=\"text-align: right;\">\n",
       "      <th></th>\n",
       "      <th>DEPARTMENT</th>\n",
       "      <th>n</th>\n",
       "    </tr>\n",
       "  </thead>\n",
       "  <tbody>\n",
       "    <tr>\n",
       "      <th>0</th>\n",
       "      <td>DSS</td>\n",
       "      <td>649</td>\n",
       "    </tr>\n",
       "  </tbody>\n",
       "</table>\n",
       "</div>"
      ],
      "text/plain": [
       "  DEPARTMENT    n\n",
       "0        DSS  649"
      ]
     },
     "execution_count": 10,
     "metadata": {},
     "output_type": "execute_result"
    }
   ],
   "source": [
    "# department\n",
    "df_streets_citations.groupby('DEPARTMENT').size().reset_index(name=\"n\").sort_values('n', ascending=False).head()"
   ]
  },
  {
   "cell_type": "code",
   "execution_count": 11,
   "id": "e3c438d2",
   "metadata": {},
   "outputs": [
    {
     "data": {
      "text/html": [
       "<div>\n",
       "<style scoped>\n",
       "    .dataframe tbody tr th:only-of-type {\n",
       "        vertical-align: middle;\n",
       "    }\n",
       "\n",
       "    .dataframe tbody tr th {\n",
       "        vertical-align: top;\n",
       "    }\n",
       "\n",
       "    .dataframe thead th {\n",
       "        text-align: right;\n",
       "    }\n",
       "</style>\n",
       "<table border=\"1\" class=\"dataframe\">\n",
       "  <thead>\n",
       "    <tr style=\"text-align: right;\">\n",
       "      <th></th>\n",
       "      <th>DISPOSITION</th>\n",
       "      <th>n</th>\n",
       "    </tr>\n",
       "  </thead>\n",
       "  <tbody>\n",
       "    <tr>\n",
       "      <th>3</th>\n",
       "      <td>Liable</td>\n",
       "      <td>332</td>\n",
       "    </tr>\n",
       "    <tr>\n",
       "      <th>1</th>\n",
       "      <td>Default</td>\n",
       "      <td>189</td>\n",
       "    </tr>\n",
       "    <tr>\n",
       "      <th>4</th>\n",
       "      <td>Non-Suit</td>\n",
       "      <td>58</td>\n",
       "    </tr>\n",
       "    <tr>\n",
       "      <th>5</th>\n",
       "      <td>Not Liable</td>\n",
       "      <td>15</td>\n",
       "    </tr>\n",
       "    <tr>\n",
       "      <th>2</th>\n",
       "      <td>Dismissed Without Prejudice</td>\n",
       "      <td>2</td>\n",
       "    </tr>\n",
       "  </tbody>\n",
       "</table>\n",
       "</div>"
      ],
      "text/plain": [
       "                   DISPOSITION    n\n",
       "3                       Liable  332\n",
       "1                      Default  189\n",
       "4                     Non-Suit   58\n",
       "5                   Not Liable   15\n",
       "2  Dismissed Without Prejudice    2"
      ]
     },
     "execution_count": 11,
     "metadata": {},
     "output_type": "execute_result"
    }
   ],
   "source": [
    "# disposition\n",
    "df_streets_citations.groupby('DISPOSITION').size().reset_index(name=\"n\").sort_values('n', ascending=False).head()"
   ]
  },
  {
   "cell_type": "markdown",
   "id": "eed3419e",
   "metadata": {},
   "source": [
    "# 2. Merge With Fines Dockets"
   ]
  },
  {
   "cell_type": "markdown",
   "id": "c5e75167",
   "metadata": {},
   "source": [
    "### read dockets\n",
    "this dataset was created in fines-03-summarize_ssw_part2"
   ]
  },
  {
   "cell_type": "code",
   "execution_count": 12,
   "id": "2f23a4c2",
   "metadata": {
    "scrolled": true
   },
   "outputs": [
    {
     "ename": "FileNotFoundError",
     "evalue": "[Errno 2] No such file or directory: '../data/04-standardized/fines_by_docket.csv'",
     "output_type": "error",
     "traceback": [
      "\u001b[0;31m---------------------------------------------------------------------------\u001b[0m",
      "\u001b[0;31mFileNotFoundError\u001b[0m                         Traceback (most recent call last)",
      "\u001b[0;32m/tmp/ipykernel_1429/74149757.py\u001b[0m in \u001b[0;36m<module>\u001b[0;34m\u001b[0m\n\u001b[0;32m----> 1\u001b[0;31m \u001b[0mdf_dockets\u001b[0m \u001b[0;34m=\u001b[0m \u001b[0mpd\u001b[0m\u001b[0;34m.\u001b[0m\u001b[0mread_csv\u001b[0m\u001b[0;34m(\u001b[0m\u001b[0;34m\"../data/04-standardized/fines_by_docket.csv\"\u001b[0m\u001b[0;34m)\u001b[0m\u001b[0;34m\u001b[0m\u001b[0;34m\u001b[0m\u001b[0m\n\u001b[0m\u001b[1;32m      2\u001b[0m \u001b[0mdf_dockets\u001b[0m\u001b[0;34m.\u001b[0m\u001b[0mhead\u001b[0m\u001b[0;34m(\u001b[0m\u001b[0;34m)\u001b[0m\u001b[0;34m\u001b[0m\u001b[0;34m\u001b[0m\u001b[0m\n",
      "\u001b[0;32m~/.local/lib/python3.10/site-packages/pandas/io/parsers/readers.py\u001b[0m in \u001b[0;36mread_csv\u001b[0;34m(filepath_or_buffer, sep, delimiter, header, names, index_col, usecols, dtype, engine, converters, true_values, false_values, skipinitialspace, skiprows, skipfooter, nrows, na_values, keep_default_na, na_filter, verbose, skip_blank_lines, parse_dates, infer_datetime_format, keep_date_col, date_parser, date_format, dayfirst, cache_dates, iterator, chunksize, compression, thousands, decimal, lineterminator, quotechar, quoting, doublequote, escapechar, comment, encoding, encoding_errors, dialect, on_bad_lines, delim_whitespace, low_memory, memory_map, float_precision, storage_options, dtype_backend)\u001b[0m\n\u001b[1;32m   1022\u001b[0m     \u001b[0mkwds\u001b[0m\u001b[0;34m.\u001b[0m\u001b[0mupdate\u001b[0m\u001b[0;34m(\u001b[0m\u001b[0mkwds_defaults\u001b[0m\u001b[0;34m)\u001b[0m\u001b[0;34m\u001b[0m\u001b[0;34m\u001b[0m\u001b[0m\n\u001b[1;32m   1023\u001b[0m \u001b[0;34m\u001b[0m\u001b[0m\n\u001b[0;32m-> 1024\u001b[0;31m     \u001b[0;32mreturn\u001b[0m \u001b[0m_read\u001b[0m\u001b[0;34m(\u001b[0m\u001b[0mfilepath_or_buffer\u001b[0m\u001b[0;34m,\u001b[0m \u001b[0mkwds\u001b[0m\u001b[0;34m)\u001b[0m\u001b[0;34m\u001b[0m\u001b[0;34m\u001b[0m\u001b[0m\n\u001b[0m\u001b[1;32m   1025\u001b[0m \u001b[0;34m\u001b[0m\u001b[0m\n\u001b[1;32m   1026\u001b[0m \u001b[0;34m\u001b[0m\u001b[0m\n",
      "\u001b[0;32m~/.local/lib/python3.10/site-packages/pandas/io/parsers/readers.py\u001b[0m in \u001b[0;36m_read\u001b[0;34m(filepath_or_buffer, kwds)\u001b[0m\n\u001b[1;32m    616\u001b[0m \u001b[0;34m\u001b[0m\u001b[0m\n\u001b[1;32m    617\u001b[0m     \u001b[0;31m# Create the parser.\u001b[0m\u001b[0;34m\u001b[0m\u001b[0;34m\u001b[0m\u001b[0m\n\u001b[0;32m--> 618\u001b[0;31m     \u001b[0mparser\u001b[0m \u001b[0;34m=\u001b[0m \u001b[0mTextFileReader\u001b[0m\u001b[0;34m(\u001b[0m\u001b[0mfilepath_or_buffer\u001b[0m\u001b[0;34m,\u001b[0m \u001b[0;34m**\u001b[0m\u001b[0mkwds\u001b[0m\u001b[0;34m)\u001b[0m\u001b[0;34m\u001b[0m\u001b[0;34m\u001b[0m\u001b[0m\n\u001b[0m\u001b[1;32m    619\u001b[0m \u001b[0;34m\u001b[0m\u001b[0m\n\u001b[1;32m    620\u001b[0m     \u001b[0;32mif\u001b[0m \u001b[0mchunksize\u001b[0m \u001b[0;32mor\u001b[0m \u001b[0miterator\u001b[0m\u001b[0;34m:\u001b[0m\u001b[0;34m\u001b[0m\u001b[0;34m\u001b[0m\u001b[0m\n",
      "\u001b[0;32m~/.local/lib/python3.10/site-packages/pandas/io/parsers/readers.py\u001b[0m in \u001b[0;36m__init__\u001b[0;34m(self, f, engine, **kwds)\u001b[0m\n\u001b[1;32m   1616\u001b[0m \u001b[0;34m\u001b[0m\u001b[0m\n\u001b[1;32m   1617\u001b[0m         \u001b[0mself\u001b[0m\u001b[0;34m.\u001b[0m\u001b[0mhandles\u001b[0m\u001b[0;34m:\u001b[0m \u001b[0mIOHandles\u001b[0m \u001b[0;34m|\u001b[0m \u001b[0;32mNone\u001b[0m \u001b[0;34m=\u001b[0m \u001b[0;32mNone\u001b[0m\u001b[0;34m\u001b[0m\u001b[0;34m\u001b[0m\u001b[0m\n\u001b[0;32m-> 1618\u001b[0;31m         \u001b[0mself\u001b[0m\u001b[0;34m.\u001b[0m\u001b[0m_engine\u001b[0m \u001b[0;34m=\u001b[0m \u001b[0mself\u001b[0m\u001b[0;34m.\u001b[0m\u001b[0m_make_engine\u001b[0m\u001b[0;34m(\u001b[0m\u001b[0mf\u001b[0m\u001b[0;34m,\u001b[0m \u001b[0mself\u001b[0m\u001b[0;34m.\u001b[0m\u001b[0mengine\u001b[0m\u001b[0;34m)\u001b[0m\u001b[0;34m\u001b[0m\u001b[0;34m\u001b[0m\u001b[0m\n\u001b[0m\u001b[1;32m   1619\u001b[0m \u001b[0;34m\u001b[0m\u001b[0m\n\u001b[1;32m   1620\u001b[0m     \u001b[0;32mdef\u001b[0m \u001b[0mclose\u001b[0m\u001b[0;34m(\u001b[0m\u001b[0mself\u001b[0m\u001b[0;34m)\u001b[0m \u001b[0;34m->\u001b[0m \u001b[0;32mNone\u001b[0m\u001b[0;34m:\u001b[0m\u001b[0;34m\u001b[0m\u001b[0;34m\u001b[0m\u001b[0m\n",
      "\u001b[0;32m~/.local/lib/python3.10/site-packages/pandas/io/parsers/readers.py\u001b[0m in \u001b[0;36m_make_engine\u001b[0;34m(self, f, engine)\u001b[0m\n\u001b[1;32m   1876\u001b[0m                 \u001b[0;32mif\u001b[0m \u001b[0;34m\"b\"\u001b[0m \u001b[0;32mnot\u001b[0m \u001b[0;32min\u001b[0m \u001b[0mmode\u001b[0m\u001b[0;34m:\u001b[0m\u001b[0;34m\u001b[0m\u001b[0;34m\u001b[0m\u001b[0m\n\u001b[1;32m   1877\u001b[0m                     \u001b[0mmode\u001b[0m \u001b[0;34m+=\u001b[0m \u001b[0;34m\"b\"\u001b[0m\u001b[0;34m\u001b[0m\u001b[0;34m\u001b[0m\u001b[0m\n\u001b[0;32m-> 1878\u001b[0;31m             self.handles = get_handle(\n\u001b[0m\u001b[1;32m   1879\u001b[0m                 \u001b[0mf\u001b[0m\u001b[0;34m,\u001b[0m\u001b[0;34m\u001b[0m\u001b[0;34m\u001b[0m\u001b[0m\n\u001b[1;32m   1880\u001b[0m                 \u001b[0mmode\u001b[0m\u001b[0;34m,\u001b[0m\u001b[0;34m\u001b[0m\u001b[0;34m\u001b[0m\u001b[0m\n",
      "\u001b[0;32m~/.local/lib/python3.10/site-packages/pandas/io/common.py\u001b[0m in \u001b[0;36mget_handle\u001b[0;34m(path_or_buf, mode, encoding, compression, memory_map, is_text, errors, storage_options)\u001b[0m\n\u001b[1;32m    871\u001b[0m         \u001b[0;32mif\u001b[0m \u001b[0mioargs\u001b[0m\u001b[0;34m.\u001b[0m\u001b[0mencoding\u001b[0m \u001b[0;32mand\u001b[0m \u001b[0;34m\"b\"\u001b[0m \u001b[0;32mnot\u001b[0m \u001b[0;32min\u001b[0m \u001b[0mioargs\u001b[0m\u001b[0;34m.\u001b[0m\u001b[0mmode\u001b[0m\u001b[0;34m:\u001b[0m\u001b[0;34m\u001b[0m\u001b[0;34m\u001b[0m\u001b[0m\n\u001b[1;32m    872\u001b[0m             \u001b[0;31m# Encoding\u001b[0m\u001b[0;34m\u001b[0m\u001b[0;34m\u001b[0m\u001b[0m\n\u001b[0;32m--> 873\u001b[0;31m             handle = open(\n\u001b[0m\u001b[1;32m    874\u001b[0m                 \u001b[0mhandle\u001b[0m\u001b[0;34m,\u001b[0m\u001b[0;34m\u001b[0m\u001b[0;34m\u001b[0m\u001b[0m\n\u001b[1;32m    875\u001b[0m                 \u001b[0mioargs\u001b[0m\u001b[0;34m.\u001b[0m\u001b[0mmode\u001b[0m\u001b[0;34m,\u001b[0m\u001b[0;34m\u001b[0m\u001b[0;34m\u001b[0m\u001b[0m\n",
      "\u001b[0;31mFileNotFoundError\u001b[0m: [Errno 2] No such file or directory: '../data/04-standardized/fines_by_docket.csv'"
     ]
    }
   ],
   "source": [
    "df_dockets = pd.read_csv(\"../data/04-standardized/fines_by_docket.csv\")\n",
    "df_dockets.head()"
   ]
  },
  {
   "cell_type": "code",
   "execution_count": null,
   "id": "ee06a77c",
   "metadata": {},
   "outputs": [],
   "source": [
    "# review # of dockets by department\n",
    "df_dockets.groupby('dept').size()"
   ]
  },
  {
   "cell_type": "markdown",
   "id": "15e94be6",
   "metadata": {},
   "source": [
    "### merge datasets"
   ]
  },
  {
   "cell_type": "code",
   "execution_count": null,
   "id": "4614e000",
   "metadata": {},
   "outputs": [],
   "source": [
    "df_merged=pd.merge(df_dockets,df_streets_citations,left_on=\"docket\",right_on=\"DOCKET NUMBER\")"
   ]
  },
  {
   "cell_type": "code",
   "execution_count": null,
   "id": "9952a62f",
   "metadata": {},
   "outputs": [],
   "source": [
    "df_merged.head()"
   ]
  },
  {
   "cell_type": "code",
   "execution_count": null,
   "id": "6528d30e",
   "metadata": {},
   "outputs": [],
   "source": [
    "df_merged = df_merged[['docket','dept','address','lat','long','community',\n",
    "                       'violation_date','total_fine','VIOLATION CODE', 'INCIDENT TYPE', 'DISPOSITION']]"
   ]
  },
  {
   "cell_type": "code",
   "execution_count": null,
   "id": "905e724d",
   "metadata": {},
   "outputs": [],
   "source": [
    "df_merged = df_merged.rename(columns={'VIOLATION CODE':'violation_code','INCIDENT TYPE':'incident_type','DISPOSITION':'disposition'})"
   ]
  },
  {
   "cell_type": "code",
   "execution_count": null,
   "id": "798097ab",
   "metadata": {},
   "outputs": [],
   "source": [
    "df_merged.head()"
   ]
  },
  {
   "cell_type": "code",
   "execution_count": null,
   "id": "b7db6d38",
   "metadata": {},
   "outputs": [],
   "source": [
    "len(df_merged)"
   ]
  },
  {
   "cell_type": "code",
   "execution_count": null,
   "id": "26456582",
   "metadata": {},
   "outputs": [],
   "source": [
    "# whoa! all 497 streets and san records match!!!\n",
    "df_merged['docket'].nunique()"
   ]
  },
  {
   "cell_type": "code",
   "execution_count": null,
   "id": "22ff319a",
   "metadata": {},
   "outputs": [],
   "source": [
    "# by department\n",
    "df_merged.groupby('dept').size().reset_index(name='n').sort_values(by='n',ascending=False)"
   ]
  },
  {
   "cell_type": "code",
   "execution_count": null,
   "id": "3ff38373",
   "metadata": {},
   "outputs": [],
   "source": [
    "df_merged.dtypes"
   ]
  },
  {
   "cell_type": "markdown",
   "id": "1315da66",
   "metadata": {},
   "source": [
    "# 3. Summarize Merged Dataset"
   ]
  },
  {
   "cell_type": "code",
   "execution_count": null,
   "id": "2185dd27",
   "metadata": {},
   "outputs": [],
   "source": [
    "# by community\n",
    "df_merged.groupby('community').size().reset_index(name='n').sort_values(by='n',ascending=False).head()"
   ]
  },
  {
   "cell_type": "markdown",
   "id": "e63ad281",
   "metadata": {},
   "source": [
    "# 4. Closer Assesment of Englewood"
   ]
  },
  {
   "cell_type": "code",
   "execution_count": null,
   "id": "e6bd80b0",
   "metadata": {},
   "outputs": [],
   "source": [
    "df_englewood = df_merged[df_merged['community']=='ENGLEWOOD']"
   ]
  },
  {
   "cell_type": "code",
   "execution_count": null,
   "id": "096752be",
   "metadata": {},
   "outputs": [],
   "source": [
    "df_englewood"
   ]
  },
  {
   "cell_type": "code",
   "execution_count": null,
   "id": "147af86c",
   "metadata": {},
   "outputs": [],
   "source": [
    "# incident type\n",
    "df_englewood.groupby('incident_type').size().reset_index(name=\"n\").sort_values('n', ascending=False).head()"
   ]
  },
  {
   "cell_type": "code",
   "execution_count": null,
   "id": "f8e677d1",
   "metadata": {},
   "outputs": [],
   "source": [
    "# violation code\n",
    "df_englewood.groupby('violation_code').size().reset_index(name=\"n\").sort_values('n', ascending=False).head()"
   ]
  },
  {
   "cell_type": "code",
   "execution_count": null,
   "id": "c5531122",
   "metadata": {},
   "outputs": [],
   "source": [
    "# disposition\n",
    "df_englewood.groupby('disposition').size().reset_index(name=\"n\").sort_values('n', ascending=False).head()"
   ]
  },
  {
   "cell_type": "markdown",
   "id": "3463cb28",
   "metadata": {},
   "source": [
    "# 5. Export for Analysis"
   ]
  },
  {
   "cell_type": "code",
   "execution_count": null,
   "id": "8a3c0c4f",
   "metadata": {},
   "outputs": [],
   "source": [
    "df_merged.to_csv(\"../data/04-standardized/fines_by_docket_streets.csv\")"
   ]
  },
  {
   "cell_type": "code",
   "execution_count": null,
   "id": "39123529",
   "metadata": {},
   "outputs": [],
   "source": [
    "df_merged.to_csv(\"../data/04-standardized/fines_by_docket_streets_englewood.csv\")"
   ]
  }
 ],
 "metadata": {
  "kernelspec": {
   "display_name": "Python 3 (ipykernel)",
   "language": "python",
   "name": "python3"
  },
  "language_info": {
   "codemirror_mode": {
    "name": "ipython",
    "version": 3
   },
   "file_extension": ".py",
   "mimetype": "text/x-python",
   "name": "python",
   "nbconvert_exporter": "python",
   "pygments_lexer": "ipython3",
   "version": "3.10.12"
  }
 },
 "nbformat": 4,
 "nbformat_minor": 5
}
