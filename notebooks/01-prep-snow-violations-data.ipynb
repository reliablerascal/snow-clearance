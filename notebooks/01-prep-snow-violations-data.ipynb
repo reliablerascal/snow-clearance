{
 "cells": [
  {
   "cell_type": "markdown",
   "id": "638444be",
   "metadata": {},
   "source": [
    "<h1>Get Snow Violations Data</h1>\n",
    "10 January 2024\n",
    "\n",
    "This analysis looks at 311 complaints filed as \"Snow – Uncleared Sidewalk Complaint,\" or SWSNOREM.<br>\n",
    "<br>\n",
    "My analysis steps:\n",
    "<ol>\n",
    "<li><a href=\"#configure\">Import Libraries</a>\n",
    "<li><a href=\"#get\">Get Data</a>\n",
    "    <li><a href=\"#prepare\">Prepare Data</a>\n",
    "        <li><a href=\"#save\">Save Data</a>\n",
    "</ol>"
   ]
  },
  {
   "cell_type": "markdown",
   "id": "2f8fa7b3",
   "metadata": {},
   "source": [
    "### Data Sources\n",
    "<strong>Snow violations:</strong> <a href=\"https://data.cityofchicago.org/resource/v6vf-nfxy.json\">311 Service Requests</a><br>\n",
    "<!-- <strong>Community names:</strong> <a href=\"https://data.cityofchicago.org/Facilities-Geographic-Boundaries/Boundaries-Community-Areas-current-/cauq-8yn6\">Boundaries- Community Areas</a><br> -->\n",
    "<strong>Community names and population:</strong> <a href=\"https://datahub.cmap.illinois.gov/datasets/CMAPGIS::community-data-snapshots-raw-data-2014-2022/explore?layer=21\">Chicago Community Areas 2022</a> (CMAP)<br>"
   ]
  },
  {
   "cell_type": "markdown",
   "id": "3e8fc57e",
   "metadata": {},
   "source": [
    "<a name = \"configure\"></a>\n",
    "<h1>1. Import Libraries</h1>"
   ]
  },
  {
   "cell_type": "code",
   "execution_count": 1,
   "id": "109b46e0",
   "metadata": {},
   "outputs": [],
   "source": [
    "import pandas as pd\n",
    "import requests\n",
    "#import datetime as dt #would only need this if I manipulated dates post-API data retrieval"
   ]
  },
  {
   "cell_type": "markdown",
   "id": "2add0dd1",
   "metadata": {},
   "source": [
    "<a name = \"get\"></a>\n",
    "    <h1>2. Get Data</h1>"
   ]
  },
  {
   "cell_type": "code",
   "execution_count": 2,
   "id": "1087fac8",
   "metadata": {},
   "outputs": [
    {
     "name": "stdout",
     "output_type": "stream",
     "text": [
      "https://data.cityofchicago.org/resource/v6vf-nfxy.json?$SELECT=SR_NUMBER, SR_SHORT_CODE, CREATED_DATE, STREET_ADDRESS, COMMUNITY_AREA, WARD, STATUS, ORIGIN, CLOSED_DATE, LATITUDE, LONGITUDE, SR_TYPE&$WHERE=SR_TYPE like '%25Snow%25'&$LIMIT=99999\n"
     ]
    }
   ],
   "source": [
    "base_url = \"https://data.cityofchicago.org/resource/v6vf-nfxy.json\"\n",
    "select = \"SR_NUMBER, SR_SHORT_CODE, CREATED_DATE, STREET_ADDRESS, COMMUNITY_AREA, WARD, STATUS, ORIGIN, CLOSED_DATE, LATITUDE, LONGITUDE, SR_TYPE\"\n",
    "where = \"SR_TYPE like '%25Snow%25'\"\n",
    "limit = 99999\n",
    "\n",
    "url = f\"{base_url}?$SELECT={select}&$WHERE={where}&$LIMIT={limit}\"\n",
    "print (url)"
   ]
  },
  {
   "cell_type": "code",
   "execution_count": 3,
   "id": "3e0e0cc4",
   "metadata": {},
   "outputs": [
    {
     "name": "stdout",
     "output_type": "stream",
     "text": [
      "<Response [200]>\n"
     ]
    }
   ],
   "source": [
    "response = requests.get(url)\n",
    "data = response.json()\n",
    "print (response)"
   ]
  },
  {
   "cell_type": "markdown",
   "id": "1da32343",
   "metadata": {},
   "source": [
    "### verify dataset looks okay. should see about 68.5k records across 4x snow types as of early January 2024"
   ]
  },
  {
   "cell_type": "code",
   "execution_count": 4,
   "id": "67d95ad4",
   "metadata": {},
   "outputs": [
    {
     "data": {
      "text/html": [
       "<div>\n",
       "<style scoped>\n",
       "    .dataframe tbody tr th:only-of-type {\n",
       "        vertical-align: middle;\n",
       "    }\n",
       "\n",
       "    .dataframe tbody tr th {\n",
       "        vertical-align: top;\n",
       "    }\n",
       "\n",
       "    .dataframe thead th {\n",
       "        text-align: right;\n",
       "    }\n",
       "</style>\n",
       "<table border=\"1\" class=\"dataframe\">\n",
       "  <thead>\n",
       "    <tr style=\"text-align: right;\">\n",
       "      <th></th>\n",
       "      <th>SR_NUMBER</th>\n",
       "      <th>SR_SHORT_CODE</th>\n",
       "      <th>CREATED_DATE</th>\n",
       "      <th>STREET_ADDRESS</th>\n",
       "      <th>COMMUNITY_AREA</th>\n",
       "      <th>WARD</th>\n",
       "      <th>STATUS</th>\n",
       "      <th>ORIGIN</th>\n",
       "      <th>CLOSED_DATE</th>\n",
       "      <th>LATITUDE</th>\n",
       "      <th>LONGITUDE</th>\n",
       "      <th>SR_TYPE</th>\n",
       "    </tr>\n",
       "  </thead>\n",
       "  <tbody>\n",
       "    <tr>\n",
       "      <th>0</th>\n",
       "      <td>SR21-00149474</td>\n",
       "      <td>SDO</td>\n",
       "      <td>2021-01-27T13:13:50.000</td>\n",
       "      <td>1700 W 15TH ST</td>\n",
       "      <td>28</td>\n",
       "      <td>28</td>\n",
       "      <td>Completed</td>\n",
       "      <td>Mobile Device</td>\n",
       "      <td>2021-01-27T19:50:47.000</td>\n",
       "      <td>41.86145694</td>\n",
       "      <td>-87.668881384</td>\n",
       "      <td>Ice and Snow Removal Request</td>\n",
       "    </tr>\n",
       "    <tr>\n",
       "      <th>1</th>\n",
       "      <td>SR21-00177207</td>\n",
       "      <td>SDO</td>\n",
       "      <td>2021-02-01T10:19:34.000</td>\n",
       "      <td>1300 S HEATH AVE</td>\n",
       "      <td>28</td>\n",
       "      <td>28</td>\n",
       "      <td>Completed</td>\n",
       "      <td>Mobile Device</td>\n",
       "      <td>2021-02-01T15:12:41.000</td>\n",
       "      <td>41.864744399</td>\n",
       "      <td>-87.684402435</td>\n",
       "      <td>Ice and Snow Removal Request</td>\n",
       "    </tr>\n",
       "    <tr>\n",
       "      <th>2</th>\n",
       "      <td>SR21-00179217</td>\n",
       "      <td>SDO</td>\n",
       "      <td>2021-02-01T13:17:16.000</td>\n",
       "      <td>3242 W FULTON BLVD</td>\n",
       "      <td>27</td>\n",
       "      <td>28</td>\n",
       "      <td>Completed</td>\n",
       "      <td>Mobile Device</td>\n",
       "      <td>2021-02-01T21:10:54.000</td>\n",
       "      <td>41.886675065</td>\n",
       "      <td>-87.707984972</td>\n",
       "      <td>Ice and Snow Removal Request</td>\n",
       "    </tr>\n",
       "    <tr>\n",
       "      <th>3</th>\n",
       "      <td>SR21-00269268</td>\n",
       "      <td>SDO</td>\n",
       "      <td>2021-02-17T12:43:47.000</td>\n",
       "      <td>819 S BISHOP ST</td>\n",
       "      <td>28</td>\n",
       "      <td>28</td>\n",
       "      <td>Completed</td>\n",
       "      <td>Mobile Device</td>\n",
       "      <td>2021-02-19T00:58:56.000</td>\n",
       "      <td>41.871081463</td>\n",
       "      <td>-87.662623788</td>\n",
       "      <td>Ice and Snow Removal Request</td>\n",
       "    </tr>\n",
       "    <tr>\n",
       "      <th>4</th>\n",
       "      <td>SR20-05442947</td>\n",
       "      <td>SDW</td>\n",
       "      <td>2020-11-11T19:40:31.000</td>\n",
       "      <td>3401 W 53RD ST</td>\n",
       "      <td>63</td>\n",
       "      <td>14</td>\n",
       "      <td>Completed</td>\n",
       "      <td>Mobile Device</td>\n",
       "      <td>2020-11-16T06:50:26.000</td>\n",
       "      <td>41.79690071</td>\n",
       "      <td>-87.708733081</td>\n",
       "      <td>Snow - Object/Dibs Removal Request</td>\n",
       "    </tr>\n",
       "  </tbody>\n",
       "</table>\n",
       "</div>"
      ],
      "text/plain": [
       "       SR_NUMBER SR_SHORT_CODE             CREATED_DATE      STREET_ADDRESS  \\\n",
       "0  SR21-00149474           SDO  2021-01-27T13:13:50.000      1700 W 15TH ST   \n",
       "1  SR21-00177207           SDO  2021-02-01T10:19:34.000    1300 S HEATH AVE   \n",
       "2  SR21-00179217           SDO  2021-02-01T13:17:16.000  3242 W FULTON BLVD   \n",
       "3  SR21-00269268           SDO  2021-02-17T12:43:47.000     819 S BISHOP ST   \n",
       "4  SR20-05442947           SDW  2020-11-11T19:40:31.000      3401 W 53RD ST   \n",
       "\n",
       "  COMMUNITY_AREA WARD     STATUS         ORIGIN              CLOSED_DATE  \\\n",
       "0             28   28  Completed  Mobile Device  2021-01-27T19:50:47.000   \n",
       "1             28   28  Completed  Mobile Device  2021-02-01T15:12:41.000   \n",
       "2             27   28  Completed  Mobile Device  2021-02-01T21:10:54.000   \n",
       "3             28   28  Completed  Mobile Device  2021-02-19T00:58:56.000   \n",
       "4             63   14  Completed  Mobile Device  2020-11-16T06:50:26.000   \n",
       "\n",
       "       LATITUDE      LONGITUDE                             SR_TYPE  \n",
       "0   41.86145694  -87.668881384        Ice and Snow Removal Request  \n",
       "1  41.864744399  -87.684402435        Ice and Snow Removal Request  \n",
       "2  41.886675065  -87.707984972        Ice and Snow Removal Request  \n",
       "3  41.871081463  -87.662623788        Ice and Snow Removal Request  \n",
       "4   41.79690071  -87.708733081  Snow - Object/Dibs Removal Request  "
      ]
     },
     "execution_count": 4,
     "metadata": {},
     "output_type": "execute_result"
    }
   ],
   "source": [
    "df=pd.DataFrame(data)\n",
    "df.head()"
   ]
  },
  {
   "cell_type": "code",
   "execution_count": 5,
   "id": "d78adc8a",
   "metadata": {},
   "outputs": [
    {
     "data": {
      "text/plain": [
       "71909"
      ]
     },
     "execution_count": 5,
     "metadata": {},
     "output_type": "execute_result"
    }
   ],
   "source": [
    "len(df)"
   ]
  },
  {
   "cell_type": "markdown",
   "id": "897359dd",
   "metadata": {},
   "source": [
    "### read community names"
   ]
  },
  {
   "cell_type": "code",
   "execution_count": 6,
   "id": "95df29fc",
   "metadata": {},
   "outputs": [],
   "source": [
    "# retrieved on 1/11/24, but 2020 Census Population figures should be static\n",
    "\n",
    "df_population = pd.read_csv(\"../data/population_cmap_2022.csv\")"
   ]
  },
  {
   "cell_type": "code",
   "execution_count": 7,
   "id": "e51c902f",
   "metadata": {},
   "outputs": [
    {
     "data": {
      "text/html": [
       "<div>\n",
       "<style scoped>\n",
       "    .dataframe tbody tr th:only-of-type {\n",
       "        vertical-align: middle;\n",
       "    }\n",
       "\n",
       "    .dataframe tbody tr th {\n",
       "        vertical-align: top;\n",
       "    }\n",
       "\n",
       "    .dataframe thead th {\n",
       "        text-align: right;\n",
       "    }\n",
       "</style>\n",
       "<table border=\"1\" class=\"dataframe\">\n",
       "  <thead>\n",
       "    <tr style=\"text-align: right;\">\n",
       "      <th></th>\n",
       "      <th>GEOID</th>\n",
       "      <th>COMMUNITY_NAME</th>\n",
       "    </tr>\n",
       "  </thead>\n",
       "  <tbody>\n",
       "    <tr>\n",
       "      <th>0</th>\n",
       "      <td>14</td>\n",
       "      <td>Albany Park</td>\n",
       "    </tr>\n",
       "    <tr>\n",
       "      <th>1</th>\n",
       "      <td>57</td>\n",
       "      <td>Archer Heights</td>\n",
       "    </tr>\n",
       "    <tr>\n",
       "      <th>2</th>\n",
       "      <td>34</td>\n",
       "      <td>Armour Square</td>\n",
       "    </tr>\n",
       "    <tr>\n",
       "      <th>3</th>\n",
       "      <td>70</td>\n",
       "      <td>Ashburn</td>\n",
       "    </tr>\n",
       "    <tr>\n",
       "      <th>4</th>\n",
       "      <td>71</td>\n",
       "      <td>Auburn Gresham</td>\n",
       "    </tr>\n",
       "  </tbody>\n",
       "</table>\n",
       "</div>"
      ],
      "text/plain": [
       "   GEOID  COMMUNITY_NAME\n",
       "0     14     Albany Park\n",
       "1     57  Archer Heights\n",
       "2     34   Armour Square\n",
       "3     70         Ashburn\n",
       "4     71  Auburn Gresham"
      ]
     },
     "execution_count": 7,
     "metadata": {},
     "output_type": "execute_result"
    }
   ],
   "source": [
    "# simplify dataframe to get only essentials\n",
    "df_population = df_population[['GEOID','GEOG']]\n",
    "df_population = df_population.rename(columns={'GEOG':'COMMUNITY_NAME'})\n",
    "df_population.head()"
   ]
  },
  {
   "cell_type": "markdown",
   "id": "8fb6720f",
   "metadata": {},
   "source": [
    "<a name = \"prepare\"></a>\n",
    "# 3. Prepare Data"
   ]
  },
  {
   "cell_type": "markdown",
   "id": "ac2423c0",
   "metadata": {},
   "source": [
    "### parse dates"
   ]
  },
  {
   "cell_type": "code",
   "execution_count": 8,
   "id": "5dd56f66",
   "metadata": {},
   "outputs": [],
   "source": [
    "def get_season(month, year):\n",
    "# Input:\n",
    "#   month: numeric month of the year (1-12)\n",
    "#   year (int): 4 digit year\n",
    "# Returns:\n",
    "#   season in yyyy-yyyy format. E.g. 2022-2023 means winter 2022-2023, or July 2022 to June 2023.\n",
    "\n",
    "    if month >= 7:\n",
    "        return f\"{str(year)[-4:]}-{str(year + 1)[-4:]}\"\n",
    "    else:\n",
    "        return f\"{str(year - 1)[-4:]}-{str(year)[-4:]}\""
   ]
  },
  {
   "cell_type": "code",
   "execution_count": 9,
   "id": "1d15bccd",
   "metadata": {},
   "outputs": [
    {
     "data": {
      "text/html": [
       "<div>\n",
       "<style scoped>\n",
       "    .dataframe tbody tr th:only-of-type {\n",
       "        vertical-align: middle;\n",
       "    }\n",
       "\n",
       "    .dataframe tbody tr th {\n",
       "        vertical-align: top;\n",
       "    }\n",
       "\n",
       "    .dataframe thead th {\n",
       "        text-align: right;\n",
       "    }\n",
       "</style>\n",
       "<table border=\"1\" class=\"dataframe\">\n",
       "  <thead>\n",
       "    <tr style=\"text-align: right;\">\n",
       "      <th></th>\n",
       "      <th>SR_NUMBER</th>\n",
       "      <th>SR_SHORT_CODE</th>\n",
       "      <th>CREATED_DATE</th>\n",
       "      <th>STREET_ADDRESS</th>\n",
       "      <th>COMMUNITY_AREA</th>\n",
       "      <th>WARD</th>\n",
       "      <th>STATUS</th>\n",
       "      <th>ORIGIN</th>\n",
       "      <th>CLOSED_DATE</th>\n",
       "      <th>LATITUDE</th>\n",
       "      <th>LONGITUDE</th>\n",
       "      <th>SR_TYPE</th>\n",
       "      <th>year</th>\n",
       "      <th>month</th>\n",
       "      <th>date</th>\n",
       "      <th>season</th>\n",
       "    </tr>\n",
       "  </thead>\n",
       "  <tbody>\n",
       "    <tr>\n",
       "      <th>0</th>\n",
       "      <td>SR21-00149474</td>\n",
       "      <td>SDO</td>\n",
       "      <td>2021-01-27 13:13:50</td>\n",
       "      <td>1700 W 15TH ST</td>\n",
       "      <td>28</td>\n",
       "      <td>28</td>\n",
       "      <td>Completed</td>\n",
       "      <td>Mobile Device</td>\n",
       "      <td>2021-01-27 19:50:47</td>\n",
       "      <td>41.86145694</td>\n",
       "      <td>-87.668881384</td>\n",
       "      <td>Ice and Snow Removal Request</td>\n",
       "      <td>2021</td>\n",
       "      <td>1</td>\n",
       "      <td>2021-01-27</td>\n",
       "      <td>2020-2021</td>\n",
       "    </tr>\n",
       "    <tr>\n",
       "      <th>1</th>\n",
       "      <td>SR21-00177207</td>\n",
       "      <td>SDO</td>\n",
       "      <td>2021-02-01 10:19:34</td>\n",
       "      <td>1300 S HEATH AVE</td>\n",
       "      <td>28</td>\n",
       "      <td>28</td>\n",
       "      <td>Completed</td>\n",
       "      <td>Mobile Device</td>\n",
       "      <td>2021-02-01 15:12:41</td>\n",
       "      <td>41.864744399</td>\n",
       "      <td>-87.684402435</td>\n",
       "      <td>Ice and Snow Removal Request</td>\n",
       "      <td>2021</td>\n",
       "      <td>2</td>\n",
       "      <td>2021-02-01</td>\n",
       "      <td>2020-2021</td>\n",
       "    </tr>\n",
       "    <tr>\n",
       "      <th>2</th>\n",
       "      <td>SR21-00179217</td>\n",
       "      <td>SDO</td>\n",
       "      <td>2021-02-01 13:17:16</td>\n",
       "      <td>3242 W FULTON BLVD</td>\n",
       "      <td>27</td>\n",
       "      <td>28</td>\n",
       "      <td>Completed</td>\n",
       "      <td>Mobile Device</td>\n",
       "      <td>2021-02-01 21:10:54</td>\n",
       "      <td>41.886675065</td>\n",
       "      <td>-87.707984972</td>\n",
       "      <td>Ice and Snow Removal Request</td>\n",
       "      <td>2021</td>\n",
       "      <td>2</td>\n",
       "      <td>2021-02-01</td>\n",
       "      <td>2020-2021</td>\n",
       "    </tr>\n",
       "    <tr>\n",
       "      <th>3</th>\n",
       "      <td>SR21-00269268</td>\n",
       "      <td>SDO</td>\n",
       "      <td>2021-02-17 12:43:47</td>\n",
       "      <td>819 S BISHOP ST</td>\n",
       "      <td>28</td>\n",
       "      <td>28</td>\n",
       "      <td>Completed</td>\n",
       "      <td>Mobile Device</td>\n",
       "      <td>2021-02-19 00:58:56</td>\n",
       "      <td>41.871081463</td>\n",
       "      <td>-87.662623788</td>\n",
       "      <td>Ice and Snow Removal Request</td>\n",
       "      <td>2021</td>\n",
       "      <td>2</td>\n",
       "      <td>2021-02-17</td>\n",
       "      <td>2020-2021</td>\n",
       "    </tr>\n",
       "    <tr>\n",
       "      <th>4</th>\n",
       "      <td>SR20-05442947</td>\n",
       "      <td>SDW</td>\n",
       "      <td>2020-11-11 19:40:31</td>\n",
       "      <td>3401 W 53RD ST</td>\n",
       "      <td>63</td>\n",
       "      <td>14</td>\n",
       "      <td>Completed</td>\n",
       "      <td>Mobile Device</td>\n",
       "      <td>2020-11-16 06:50:26</td>\n",
       "      <td>41.79690071</td>\n",
       "      <td>-87.708733081</td>\n",
       "      <td>Snow - Object/Dibs Removal Request</td>\n",
       "      <td>2020</td>\n",
       "      <td>11</td>\n",
       "      <td>2020-11-11</td>\n",
       "      <td>2020-2021</td>\n",
       "    </tr>\n",
       "  </tbody>\n",
       "</table>\n",
       "</div>"
      ],
      "text/plain": [
       "       SR_NUMBER SR_SHORT_CODE        CREATED_DATE      STREET_ADDRESS  \\\n",
       "0  SR21-00149474           SDO 2021-01-27 13:13:50      1700 W 15TH ST   \n",
       "1  SR21-00177207           SDO 2021-02-01 10:19:34    1300 S HEATH AVE   \n",
       "2  SR21-00179217           SDO 2021-02-01 13:17:16  3242 W FULTON BLVD   \n",
       "3  SR21-00269268           SDO 2021-02-17 12:43:47     819 S BISHOP ST   \n",
       "4  SR20-05442947           SDW 2020-11-11 19:40:31      3401 W 53RD ST   \n",
       "\n",
       "  COMMUNITY_AREA WARD     STATUS         ORIGIN         CLOSED_DATE  \\\n",
       "0             28   28  Completed  Mobile Device 2021-01-27 19:50:47   \n",
       "1             28   28  Completed  Mobile Device 2021-02-01 15:12:41   \n",
       "2             27   28  Completed  Mobile Device 2021-02-01 21:10:54   \n",
       "3             28   28  Completed  Mobile Device 2021-02-19 00:58:56   \n",
       "4             63   14  Completed  Mobile Device 2020-11-16 06:50:26   \n",
       "\n",
       "       LATITUDE      LONGITUDE                             SR_TYPE  year  \\\n",
       "0   41.86145694  -87.668881384        Ice and Snow Removal Request  2021   \n",
       "1  41.864744399  -87.684402435        Ice and Snow Removal Request  2021   \n",
       "2  41.886675065  -87.707984972        Ice and Snow Removal Request  2021   \n",
       "3  41.871081463  -87.662623788        Ice and Snow Removal Request  2021   \n",
       "4   41.79690071  -87.708733081  Snow - Object/Dibs Removal Request  2020   \n",
       "\n",
       "   month        date     season  \n",
       "0      1  2021-01-27  2020-2021  \n",
       "1      2  2021-02-01  2020-2021  \n",
       "2      2  2021-02-01  2020-2021  \n",
       "3      2  2021-02-17  2020-2021  \n",
       "4     11  2020-11-11  2020-2021  "
      ]
     },
     "execution_count": 9,
     "metadata": {},
     "output_type": "execute_result"
    }
   ],
   "source": [
    "# format and parse dates\n",
    "df['CREATED_DATE'] = pd.to_datetime(df['CREATED_DATE'])\n",
    "df['CLOSED_DATE'] = pd.to_datetime(df['CLOSED_DATE'])\n",
    "df['year'] = df['CREATED_DATE'].dt.year\n",
    "df['month'] = df['CREATED_DATE'].dt.month\n",
    "df['date'] = df['CREATED_DATE'].dt.date\n",
    "df['season'] = df.apply(lambda row: get_season(row['month'], row['year']), axis=1)\n",
    "df.head()"
   ]
  },
  {
   "cell_type": "code",
   "execution_count": 10,
   "id": "2676fda9",
   "metadata": {},
   "outputs": [
    {
     "data": {
      "text/plain": [
       "season\n",
       "2018-2019      635\n",
       "2019-2020    10113\n",
       "2020-2021    30967\n",
       "2021-2022    22396\n",
       "2022-2023     4157\n",
       "2023-2024     3641\n",
       "dtype: int64"
      ]
     },
     "execution_count": 10,
     "metadata": {},
     "output_type": "execute_result"
    }
   ],
   "source": [
    "# review season assignment\n",
    "df.groupby('season').size()"
   ]
  },
  {
   "cell_type": "markdown",
   "id": "f908bc96",
   "metadata": {},
   "source": [
    "### identify records with missing or suburban address"
   ]
  },
  {
   "cell_type": "code",
   "execution_count": 11,
   "id": "2fd8230a",
   "metadata": {},
   "outputs": [
    {
     "data": {
      "text/plain": [
       "202"
      ]
     },
     "execution_count": 11,
     "metadata": {},
     "output_type": "execute_result"
    }
   ],
   "source": [
    "# find records with missing address\n",
    "len(df[df['STREET_ADDRESS'].isna()==True])"
   ]
  },
  {
   "cell_type": "code",
   "execution_count": 12,
   "id": "97203f30",
   "metadata": {},
   "outputs": [
    {
     "data": {
      "text/plain": [
       "178"
      ]
     },
     "execution_count": 12,
     "metadata": {},
     "output_type": "execute_result"
    }
   ],
   "source": [
    "len(df[df['COMMUNITY_AREA'].isna()==True])"
   ]
  },
  {
   "cell_type": "code",
   "execution_count": 13,
   "id": "a1626d2e",
   "metadata": {},
   "outputs": [
    {
     "data": {
      "text/plain": [
       "172"
      ]
     },
     "execution_count": 13,
     "metadata": {},
     "output_type": "execute_result"
    }
   ],
   "source": [
    "len(df[df['WARD'].isna()==True])"
   ]
  },
  {
   "cell_type": "markdown",
   "id": "ff51468c",
   "metadata": {},
   "source": [
    "### remove invalid addresses"
   ]
  },
  {
   "cell_type": "code",
   "execution_count": 14,
   "id": "c7f3128b",
   "metadata": {},
   "outputs": [
    {
     "data": {
      "text/plain": [
       "71615"
      ]
     },
     "execution_count": 14,
     "metadata": {},
     "output_type": "execute_result"
    }
   ],
   "source": [
    "df_valid_address = df[(df['STREET_ADDRESS'].isna()==False)\n",
    "                     & (df['WARD'].isna()==False)\n",
    "                     & (df['COMMUNITY_AREA'].isna()==False)]\n",
    "len(df_valid_address)"
   ]
  },
  {
   "cell_type": "code",
   "execution_count": 15,
   "id": "c332fb90",
   "metadata": {},
   "outputs": [
    {
     "name": "stderr",
     "output_type": "stream",
     "text": [
      "/tmp/ipykernel_1051/1714811663.py:2: SettingWithCopyWarning: \n",
      "A value is trying to be set on a copy of a slice from a DataFrame.\n",
      "Try using .loc[row_indexer,col_indexer] = value instead\n",
      "\n",
      "See the caveats in the documentation: https://pandas.pydata.org/pandas-docs/stable/user_guide/indexing.html#returning-a-view-versus-a-copy\n",
      "  df_valid_address['COMMUNITY_AREA'] = df_valid_address['COMMUNITY_AREA'].astype(int)\n",
      "/tmp/ipykernel_1051/1714811663.py:3: SettingWithCopyWarning: \n",
      "A value is trying to be set on a copy of a slice from a DataFrame.\n",
      "Try using .loc[row_indexer,col_indexer] = value instead\n",
      "\n",
      "See the caveats in the documentation: https://pandas.pydata.org/pandas-docs/stable/user_guide/indexing.html#returning-a-view-versus-a-copy\n",
      "  df_valid_address['WARD'] = df_valid_address['WARD'].astype(int)\n"
     ]
    }
   ],
   "source": [
    "# then correct object types to integer\n",
    "df_valid_address['COMMUNITY_AREA'] = df_valid_address['COMMUNITY_AREA'].astype(int)\n",
    "df_valid_address['WARD'] = df_valid_address['WARD'].astype(int)"
   ]
  },
  {
   "cell_type": "markdown",
   "id": "da2c48c6",
   "metadata": {},
   "source": [
    "### merge in community names"
   ]
  },
  {
   "cell_type": "code",
   "execution_count": 16,
   "id": "bf4716c3",
   "metadata": {},
   "outputs": [
    {
     "data": {
      "text/html": [
       "<div>\n",
       "<style scoped>\n",
       "    .dataframe tbody tr th:only-of-type {\n",
       "        vertical-align: middle;\n",
       "    }\n",
       "\n",
       "    .dataframe tbody tr th {\n",
       "        vertical-align: top;\n",
       "    }\n",
       "\n",
       "    .dataframe thead th {\n",
       "        text-align: right;\n",
       "    }\n",
       "</style>\n",
       "<table border=\"1\" class=\"dataframe\">\n",
       "  <thead>\n",
       "    <tr style=\"text-align: right;\">\n",
       "      <th></th>\n",
       "      <th>SR_NUMBER</th>\n",
       "      <th>SR_SHORT_CODE</th>\n",
       "      <th>CREATED_DATE</th>\n",
       "      <th>STREET_ADDRESS</th>\n",
       "      <th>COMMUNITY_AREA</th>\n",
       "      <th>WARD</th>\n",
       "      <th>STATUS</th>\n",
       "      <th>ORIGIN</th>\n",
       "      <th>CLOSED_DATE</th>\n",
       "      <th>LATITUDE</th>\n",
       "      <th>LONGITUDE</th>\n",
       "      <th>SR_TYPE</th>\n",
       "      <th>year</th>\n",
       "      <th>month</th>\n",
       "      <th>date</th>\n",
       "      <th>season</th>\n",
       "      <th>GEOID</th>\n",
       "      <th>COMMUNITY_NAME</th>\n",
       "    </tr>\n",
       "  </thead>\n",
       "  <tbody>\n",
       "    <tr>\n",
       "      <th>0</th>\n",
       "      <td>SR21-00149474</td>\n",
       "      <td>SDO</td>\n",
       "      <td>2021-01-27 13:13:50</td>\n",
       "      <td>1700 W 15TH ST</td>\n",
       "      <td>28</td>\n",
       "      <td>28</td>\n",
       "      <td>Completed</td>\n",
       "      <td>Mobile Device</td>\n",
       "      <td>2021-01-27 19:50:47</td>\n",
       "      <td>41.86145694</td>\n",
       "      <td>-87.668881384</td>\n",
       "      <td>Ice and Snow Removal Request</td>\n",
       "      <td>2021</td>\n",
       "      <td>1</td>\n",
       "      <td>2021-01-27</td>\n",
       "      <td>2020-2021</td>\n",
       "      <td>28</td>\n",
       "      <td>Near West Side</td>\n",
       "    </tr>\n",
       "    <tr>\n",
       "      <th>1</th>\n",
       "      <td>SR21-00177207</td>\n",
       "      <td>SDO</td>\n",
       "      <td>2021-02-01 10:19:34</td>\n",
       "      <td>1300 S HEATH AVE</td>\n",
       "      <td>28</td>\n",
       "      <td>28</td>\n",
       "      <td>Completed</td>\n",
       "      <td>Mobile Device</td>\n",
       "      <td>2021-02-01 15:12:41</td>\n",
       "      <td>41.864744399</td>\n",
       "      <td>-87.684402435</td>\n",
       "      <td>Ice and Snow Removal Request</td>\n",
       "      <td>2021</td>\n",
       "      <td>2</td>\n",
       "      <td>2021-02-01</td>\n",
       "      <td>2020-2021</td>\n",
       "      <td>28</td>\n",
       "      <td>Near West Side</td>\n",
       "    </tr>\n",
       "    <tr>\n",
       "      <th>2</th>\n",
       "      <td>SR21-00179217</td>\n",
       "      <td>SDO</td>\n",
       "      <td>2021-02-01 13:17:16</td>\n",
       "      <td>3242 W FULTON BLVD</td>\n",
       "      <td>27</td>\n",
       "      <td>28</td>\n",
       "      <td>Completed</td>\n",
       "      <td>Mobile Device</td>\n",
       "      <td>2021-02-01 21:10:54</td>\n",
       "      <td>41.886675065</td>\n",
       "      <td>-87.707984972</td>\n",
       "      <td>Ice and Snow Removal Request</td>\n",
       "      <td>2021</td>\n",
       "      <td>2</td>\n",
       "      <td>2021-02-01</td>\n",
       "      <td>2020-2021</td>\n",
       "      <td>27</td>\n",
       "      <td>East Garfield Park</td>\n",
       "    </tr>\n",
       "    <tr>\n",
       "      <th>3</th>\n",
       "      <td>SR21-00269268</td>\n",
       "      <td>SDO</td>\n",
       "      <td>2021-02-17 12:43:47</td>\n",
       "      <td>819 S BISHOP ST</td>\n",
       "      <td>28</td>\n",
       "      <td>28</td>\n",
       "      <td>Completed</td>\n",
       "      <td>Mobile Device</td>\n",
       "      <td>2021-02-19 00:58:56</td>\n",
       "      <td>41.871081463</td>\n",
       "      <td>-87.662623788</td>\n",
       "      <td>Ice and Snow Removal Request</td>\n",
       "      <td>2021</td>\n",
       "      <td>2</td>\n",
       "      <td>2021-02-17</td>\n",
       "      <td>2020-2021</td>\n",
       "      <td>28</td>\n",
       "      <td>Near West Side</td>\n",
       "    </tr>\n",
       "    <tr>\n",
       "      <th>4</th>\n",
       "      <td>SR20-05442947</td>\n",
       "      <td>SDW</td>\n",
       "      <td>2020-11-11 19:40:31</td>\n",
       "      <td>3401 W 53RD ST</td>\n",
       "      <td>63</td>\n",
       "      <td>14</td>\n",
       "      <td>Completed</td>\n",
       "      <td>Mobile Device</td>\n",
       "      <td>2020-11-16 06:50:26</td>\n",
       "      <td>41.79690071</td>\n",
       "      <td>-87.708733081</td>\n",
       "      <td>Snow - Object/Dibs Removal Request</td>\n",
       "      <td>2020</td>\n",
       "      <td>11</td>\n",
       "      <td>2020-11-11</td>\n",
       "      <td>2020-2021</td>\n",
       "      <td>63</td>\n",
       "      <td>Gage Park</td>\n",
       "    </tr>\n",
       "  </tbody>\n",
       "</table>\n",
       "</div>"
      ],
      "text/plain": [
       "       SR_NUMBER SR_SHORT_CODE        CREATED_DATE      STREET_ADDRESS  \\\n",
       "0  SR21-00149474           SDO 2021-01-27 13:13:50      1700 W 15TH ST   \n",
       "1  SR21-00177207           SDO 2021-02-01 10:19:34    1300 S HEATH AVE   \n",
       "2  SR21-00179217           SDO 2021-02-01 13:17:16  3242 W FULTON BLVD   \n",
       "3  SR21-00269268           SDO 2021-02-17 12:43:47     819 S BISHOP ST   \n",
       "4  SR20-05442947           SDW 2020-11-11 19:40:31      3401 W 53RD ST   \n",
       "\n",
       "   COMMUNITY_AREA  WARD     STATUS         ORIGIN         CLOSED_DATE  \\\n",
       "0              28    28  Completed  Mobile Device 2021-01-27 19:50:47   \n",
       "1              28    28  Completed  Mobile Device 2021-02-01 15:12:41   \n",
       "2              27    28  Completed  Mobile Device 2021-02-01 21:10:54   \n",
       "3              28    28  Completed  Mobile Device 2021-02-19 00:58:56   \n",
       "4              63    14  Completed  Mobile Device 2020-11-16 06:50:26   \n",
       "\n",
       "       LATITUDE      LONGITUDE                             SR_TYPE  year  \\\n",
       "0   41.86145694  -87.668881384        Ice and Snow Removal Request  2021   \n",
       "1  41.864744399  -87.684402435        Ice and Snow Removal Request  2021   \n",
       "2  41.886675065  -87.707984972        Ice and Snow Removal Request  2021   \n",
       "3  41.871081463  -87.662623788        Ice and Snow Removal Request  2021   \n",
       "4   41.79690071  -87.708733081  Snow - Object/Dibs Removal Request  2020   \n",
       "\n",
       "   month        date     season  GEOID      COMMUNITY_NAME  \n",
       "0      1  2021-01-27  2020-2021     28      Near West Side  \n",
       "1      2  2021-02-01  2020-2021     28      Near West Side  \n",
       "2      2  2021-02-01  2020-2021     27  East Garfield Park  \n",
       "3      2  2021-02-17  2020-2021     28      Near West Side  \n",
       "4     11  2020-11-11  2020-2021     63           Gage Park  "
      ]
     },
     "execution_count": 16,
     "metadata": {},
     "output_type": "execute_result"
    }
   ],
   "source": [
    "df_clean = pd.merge(left=df_valid_address,right=df_population,left_on='COMMUNITY_AREA',right_on='GEOID')\n",
    "df_clean.head()"
   ]
  },
  {
   "cell_type": "markdown",
   "id": "9d751c48",
   "metadata": {},
   "source": [
    "<a name = \"save\"></a>\n",
    "# 4. Save Data"
   ]
  },
  {
   "cell_type": "code",
   "execution_count": 19,
   "id": "d927d06f",
   "metadata": {},
   "outputs": [],
   "source": [
    "df_clean.to_csv(\"../data/02-prepped/311-complaints-snow.csv\", index=False)"
   ]
  }
 ],
 "metadata": {
  "kernelspec": {
   "display_name": "Python 3 (ipykernel)",
   "language": "python",
   "name": "python3"
  },
  "language_info": {
   "codemirror_mode": {
    "name": "ipython",
    "version": 3
   },
   "file_extension": ".py",
   "mimetype": "text/x-python",
   "name": "python",
   "nbconvert_exporter": "python",
   "pygments_lexer": "ipython3",
   "version": "3.10.12"
  }
 },
 "nbformat": 4,
 "nbformat_minor": 5
}
